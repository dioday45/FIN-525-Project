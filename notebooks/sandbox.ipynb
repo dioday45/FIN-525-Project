{
 "cells": [
  {
   "cell_type": "code",
   "execution_count": 826,
   "id": "initial_id",
   "metadata": {
    "ExecuteTime": {
     "end_time": "2023-12-30T20:55:00.737020Z",
     "start_time": "2023-12-30T20:55:00.695877Z"
    },
    "collapsed": true
   },
   "outputs": [],
   "source": [
    "import numpy as np\n",
    "import pandas as pd\n",
    "from numpy import linalg as LA\n",
    "import networkx as nx\n",
    "#!pip install python-louvain\n",
    "import community\n",
    "from sklearn.preprocessing import StandardScaler\n",
    "import json\n",
    "import plotly.express as px\n",
    "import matplotlib.pyplot as plt\n",
    "from matplotlib.colors import Normalize\n",
    "from matplotlib.cm import ScalarMappable\n",
    "import seaborn as sns"
   ]
  },
  {
   "cell_type": "markdown",
   "id": "26ebc8b9d04dc43c",
   "metadata": {
    "collapsed": false
   },
   "source": [
    "### Loading the data"
   ]
  },
  {
   "cell_type": "code",
   "execution_count": 827,
   "id": "bc598690abe1b7e8",
   "metadata": {
    "ExecuteTime": {
     "end_time": "2023-12-30T20:55:02.070064Z",
     "start_time": "2023-12-30T20:55:02.030200Z"
    },
    "collapsed": false
   },
   "outputs": [
    {
     "name": "stdout",
     "output_type": "stream",
     "text": [
      "[{'id': 'bitcoin', 'symbol': 'btc', 'name': 'Bitcoin', 'image': 'https://assets.coingecko.com/coins/images/1/large/bitcoin.png?1696501400', 'current_price': 38766, 'market_cap': 757756869958, 'market_cap_rank': 1, 'fully_diluted_valuation': 813589986427, 'total_volume': 15536504879, 'high_24h': 38899, 'low_24h': 38247, 'price_change_24h': 161.83, 'price_change_percentage_24h': 0.4192, 'market_cap_change_24h': 1478655500, 'market_cap_change_percentage_24h': 0.19552, 'circulating_supply': 19558862, 'total_supply': 21000000, 'max_supply': 21000000, 'ath': 69045, 'ath_change_percentage': -43.8945, 'ath_date': '2021-11-10T14:24:11.849Z', 'atl': 67.81, 'atl_change_percentage': 57027.97702, 'atl_date': '2013-07-06T00:00:00.000Z', 'roi': None, 'last_updated': '2023-12-02T11:49:05.549Z', 'price_change_percentage_24h_in_currency': 0.41920133852781244}, {'id': 'ethereum', 'symbol': 'eth', 'name': 'Ethereum', 'image': 'https://assets.coingecko.com/coins/images/279/large/ethereum.png?1696501628', 'current_price': 2101.45, 'market_cap': 252392748406, 'market_cap_rank': 2, 'fully_diluted_valuation': 252392748406, 'total_volume': 11350921970, 'high_24h': 2109.61, 'low_24h': 2073.64, 'price_change_24h': 9.75, 'price_change_percentage_24h': 0.46606, 'market_cap_change_24h': 549429399, 'market_cap_change_percentage_24h': 0.21816, 'circulating_supply': 120235469.110628, 'total_supply': 120235469.110628, 'max_supply': None, 'ath': 4878.26, 'ath_change_percentage': -56.96987, 'ath_date': '2021-11-10T14:24:19.604Z', 'atl': 0.432979, 'atl_change_percentage': 484709.32347, 'atl_date': '2015-10-20T00:00:00.000Z', 'roi': {'times': 71.48593870330915, 'currency': 'btc', 'percentage': 7148.593870330914}, 'last_updated': '2023-12-02T11:49:01.704Z', 'price_change_percentage_24h_in_currency': 0.46605943744209255}, {'id': 'tether', 'symbol': 'usdt', 'name': 'Tether', 'image': 'https://assets.coingecko.com/coins/images/325/large/Tether.png?1696501661', 'current_price': 1.001, 'market_cap': 89557615009, 'market_cap_rank': 3, 'fully_diluted_valuation': 89557615009, 'total_volume': 22828756196, 'high_24h': 1.002, 'low_24h': 0.998742, 'price_change_24h': 0.00059279, 'price_change_percentage_24h': 0.05928, 'market_cap_change_24h': 149301613, 'market_cap_change_percentage_24h': 0.16699, 'circulating_supply': 89527049298.1742, 'total_supply': 89527049298.1742, 'max_supply': None, 'ath': 1.32, 'ath_change_percentage': -24.39385, 'ath_date': '2018-07-24T00:00:00.000Z', 'atl': 0.572521, 'atl_change_percentage': 74.72572, 'atl_date': '2015-03-02T00:00:00.000Z', 'roi': None, 'last_updated': '2023-12-02T11:45:00.407Z', 'price_change_percentage_24h_in_currency': 0.05928008633246361}, {'id': 'binancecoin', 'symbol': 'bnb', 'name': 'BNB', 'image': 'https://assets.coingecko.com/coins/images/825/large/bnb-icon2_2x.png?1696501970', 'current_price': 227.42, 'market_cap': 35011745924, 'market_cap_rank': 4, 'fully_diluted_valuation': 35011745924, 'total_volume': 424125556, 'high_24h': 229.73, 'low_24h': 227.44, 'price_change_24h': -1.4426225992946229, 'price_change_percentage_24h': -0.63033, 'market_cap_change_24h': -220655386.14128876, 'market_cap_change_percentage_24h': -0.62629, 'circulating_supply': 153856150, 'total_supply': 153856150, 'max_supply': 200000000, 'ath': 686.31, 'ath_change_percentage': -66.8424, 'ath_date': '2021-05-10T07:24:17.097Z', 'atl': 0.0398177, 'atl_change_percentage': 571411.7766, 'atl_date': '2017-10-19T00:00:00.000Z', 'roi': None, 'last_updated': '2023-12-02T11:48:59.721Z', 'price_change_percentage_24h_in_currency': -0.6303344657294421}, {'id': 'ripple', 'symbol': 'xrp', 'name': 'XRP', 'image': 'https://assets.coingecko.com/coins/images/44/large/xrp-symbol-white-128.png?1696501442', 'current_price': 0.613799, 'market_cap': 33061390356, 'market_cap_rank': 5, 'fully_diluted_valuation': 61344148464, 'total_volume': 612363344, 'high_24h': 0.615885, 'low_24h': 0.605602, 'price_change_24h': 0.00316772, 'price_change_percentage_24h': 0.51876, 'market_cap_change_24h': 146135937, 'market_cap_change_percentage_24h': 0.44398, 'circulating_supply': 53888571585, 'total_supply': 99988188647, 'max_supply': 100000000000, 'ath': 3.4, 'ath_change_percentage': -81.94828, 'ath_date': '2018-01-07T00:00:00.000Z', 'atl': 0.00268621, 'atl_change_percentage': 22738.10239, 'atl_date': '2014-05-22T00:00:00.000Z', 'roi': None, 'last_updated': '2023-12-02T11:49:01.642Z', 'price_change_percentage_24h_in_currency': 0.5187614968723915}, {'id': 'solana', 'symbol': 'sol', 'name': 'Solana', 'image': 'https://assets.coingecko.com/coins/images/4128/large/solana.png?1696504756', 'current_price': 62.15, 'market_cap': 26283449841, 'market_cap_rank': 6, 'fully_diluted_valuation': 34934803780, 'total_volume': 1356642036, 'high_24h': 62.49, 'low_24h': 59.74, 'price_change_24h': 1.19, 'price_change_percentage_24h': 1.94405, 'market_cap_change_24h': 352124268, 'market_cap_change_percentage_24h': 1.35791, 'circulating_supply': 424212584.623505, 'total_supply': 563844681.525787, 'max_supply': None, 'ath': 259.96, 'ath_change_percentage': -76.16181, 'ath_date': '2021-11-06T21:54:35.825Z', 'atl': 0.500801, 'atl_change_percentage': 12274.0869, 'atl_date': '2020-05-11T19:35:23.449Z', 'roi': None, 'last_updated': '2023-12-02T11:49:01.166Z', 'price_change_percentage_24h_in_currency': 1.9440489344825624}, {'id': 'usd-coin', 'symbol': 'usdc', 'name': 'USDC', 'image': 'https://assets.coingecko.com/coins/images/6319/large/usdc.png?1696506694', 'current_price': 1, 'market_cap': 24553053684, 'market_cap_rank': 7, 'fully_diluted_valuation': 24553054134, 'total_volume': 6343291961, 'high_24h': 1.002, 'low_24h': 0.998267, 'price_change_24h': 0.00136337, 'price_change_percentage_24h': 0.1365, 'market_cap_change_24h': -27124123.631889343, 'market_cap_change_percentage_24h': -0.11035, 'circulating_supply': 24546568770.3652, 'total_supply': 24546569220.1751, 'max_supply': None, 'ath': 1.17, 'ath_change_percentage': -14.70504, 'ath_date': '2019-05-08T00:40:28.300Z', 'atl': 0.877647, 'atl_change_percentage': 13.97061, 'atl_date': '2023-03-11T08:02:13.981Z', 'roi': None, 'last_updated': '2023-12-02T11:48:55.872Z', 'price_change_percentage_24h_in_currency': 0.13650041960132814}, {'id': 'staked-ether', 'symbol': 'steth', 'name': 'Lido Staked Ether', 'image': 'https://assets.coingecko.com/coins/images/13442/large/steth_logo.png?1696513206', 'current_price': 2098.42, 'market_cap': 19481807676, 'market_cap_rank': 8, 'fully_diluted_valuation': 19481807676, 'total_volume': 7445598, 'high_24h': 2108.36, 'low_24h': 2074.9, 'price_change_24h': 8.17, 'price_change_percentage_24h': 0.39079, 'market_cap_change_24h': 73646459, 'market_cap_change_percentage_24h': 0.37946, 'circulating_supply': 9286256.64403356, 'total_supply': 9286256.64403356, 'max_supply': 9286256.64403356, 'ath': 4829.57, 'ath_change_percentage': -56.55821, 'ath_date': '2021-11-10T14:40:47.256Z', 'atl': 482.9, 'atl_change_percentage': 334.47262, 'atl_date': '2020-12-22T04:08:21.854Z', 'roi': None, 'last_updated': '2023-12-02T11:49:03.522Z', 'price_change_percentage_24h_in_currency': 0.39079189021252597}, {'id': 'cardano', 'symbol': 'ada', 'name': 'Cardano', 'image': 'https://assets.coingecko.com/coins/images/975/large/cardano.png?1696502090', 'current_price': 0.389213, 'market_cap': 13623378004, 'market_cap_rank': 9, 'fully_diluted_valuation': 17518664669, 'total_volume': 220227275, 'high_24h': 0.390968, 'low_24h': 0.378942, 'price_change_24h': 0.00734658, 'price_change_percentage_24h': 1.92386, 'market_cap_change_24h': 269363995, 'market_cap_change_percentage_24h': 2.0171, 'circulating_supply': 34994220267.1944, 'total_supply': 45000000000, 'max_supply': 45000000000, 'ath': 3.09, 'ath_change_percentage': -87.38946, 'ath_date': '2021-09-02T06:00:10.474Z', 'atl': 0.01925275, 'atl_change_percentage': 1921.92454, 'atl_date': '2020-03-13T02:22:55.044Z', 'roi': None, 'last_updated': '2023-12-02T11:49:01.740Z', 'price_change_percentage_24h_in_currency': 1.923863097276988}, {'id': 'dogecoin', 'symbol': 'doge', 'name': 'Dogecoin', 'image': 'https://assets.coingecko.com/coins/images/5/large/dogecoin.png?1696501409', 'current_price': 0.083818, 'market_cap': 11893042672, 'market_cap_rank': 10, 'fully_diluted_valuation': 11893048532, 'total_volume': 458810099, 'high_24h': 0.084443, 'low_24h': 0.082665, 'price_change_24h': -6.8940722152952e-05, 'price_change_percentage_24h': -0.08218, 'market_cap_change_24h': -32702393.144119263, 'market_cap_change_percentage_24h': -0.27422, 'circulating_supply': 142067976383.705, 'total_supply': 142068046383.705, 'max_supply': None, 'ath': 0.731578, 'ath_change_percentage': -88.55456, 'ath_date': '2021-05-08T05:08:23.458Z', 'atl': 8.69e-05, 'atl_change_percentage': 96250.63412, 'atl_date': '2015-05-06T00:00:00.000Z', 'roi': None, 'last_updated': '2023-12-02T11:49:04.990Z', 'price_change_percentage_24h_in_currency': -0.08218257191824224}, {'id': 'tron', 'symbol': 'trx', 'name': 'TRON', 'image': 'https://assets.coingecko.com/coins/images/1094/large/tron-logo.png?1696502193', 'current_price': 0.102991, 'market_cap': 9101193619, 'market_cap_rank': 11, 'fully_diluted_valuation': 9101195204, 'total_volume': 280977949, 'high_24h': 0.104137, 'low_24h': 0.102807, 'price_change_24h': -0.001087445470199733, 'price_change_percentage_24h': -1.04483, 'market_cap_change_24h': -113358508.17910194, 'market_cap_change_percentage_24h': -1.23021, 'circulating_supply': 88526590294.9989, 'total_supply': 88526605711.2142, 'max_supply': None, 'ath': 0.231673, 'ath_change_percentage': -55.6241, 'ath_date': '2018-01-05T00:00:00.000Z', 'atl': 0.00180434, 'atl_change_percentage': 5597.7492, 'atl_date': '2017-11-12T00:00:00.000Z', 'roi': {'times': 53.20599519054016, 'currency': 'usd', 'percentage': 5320.599519054016}, 'last_updated': '2023-12-02T11:49:00.807Z', 'price_change_percentage_24h_in_currency': -1.0448286208048487}, {'id': 'chainlink', 'symbol': 'link', 'name': 'Chainlink', 'image': 'https://assets.coingecko.com/coins/images/877/large/chainlink-new-logo.png?1696502009', 'current_price': 15.65, 'market_cap': 8702270704, 'market_cap_rank': 12, 'fully_diluted_valuation': 15627675592, 'total_volume': 614619468, 'high_24h': 15.85, 'low_24h': 14.71, 'price_change_24h': 0.8358, 'price_change_percentage_24h': 5.64206, 'market_cap_change_24h': 448842273, 'market_cap_change_percentage_24h': 5.43825, 'circulating_supply': 556849971.2305644, 'total_supply': 1000000000, 'max_supply': 1000000000, 'ath': 52.7, 'ath_change_percentage': -70.34496, 'ath_date': '2021-05-10T00:13:57.214Z', 'atl': 0.148183, 'atl_change_percentage': 10445.86545, 'atl_date': '2017-11-29T00:00:00.000Z', 'roi': None, 'last_updated': '2023-12-02T11:49:05.579Z', 'price_change_percentage_24h_in_currency': 5.642059424461803}, {'id': 'the-open-network', 'symbol': 'ton', 'name': 'Toncoin', 'image': 'https://assets.coingecko.com/coins/images/17980/large/ton_symbol.png?1696517498', 'current_price': 2.43, 'market_cap': 8392150375, 'market_cap_rank': 13, 'fully_diluted_valuation': 12388799862, 'total_volume': 9175046, 'high_24h': 2.43, 'low_24h': 2.38, 'price_change_24h': 0.0286418, 'price_change_percentage_24h': 1.19242, 'market_cap_change_24h': 98567878, 'market_cap_change_percentage_24h': 1.18848, 'circulating_supply': 3454062165.62476, 'total_supply': 5099013121.82858, 'max_supply': None, 'ath': 5.29, 'ath_change_percentage': -54.06402, 'ath_date': '2021-11-12T06:50:02.476Z', 'atl': 0.519364, 'atl_change_percentage': 367.95307, 'atl_date': '2021-09-21T00:33:11.092Z', 'roi': None, 'last_updated': '2023-12-02T11:48:59.546Z', 'price_change_percentage_24h_in_currency': 1.1924202936904231}, {'id': 'avalanche-2', 'symbol': 'avax', 'name': 'Avalanche', 'image': 'https://assets.coingecko.com/coins/images/12559/large/Avalanche_Circle_RedWhite_Trans.png?1696512369', 'current_price': 22.04, 'market_cap': 8041707210, 'market_cap_rank': 14, 'fully_diluted_valuation': 9539895414, 'total_volume': 381607996, 'high_24h': 22.42, 'low_24h': 21.78, 'price_change_24h': -0.2923303393472878, 'price_change_percentage_24h': -1.30909, 'market_cap_change_24h': -120613113.33713627, 'market_cap_change_percentage_24h': -1.47768, 'circulating_supply': 365174904.706129, 'total_supply': 433207813.662375, 'max_supply': 720000000, 'ath': 144.96, 'ath_change_percentage': -84.80878, 'ath_date': '2021-11-21T14:18:56.538Z', 'atl': 2.8, 'atl_change_percentage': 686.17899, 'atl_date': '2020-12-31T13:15:21.540Z', 'roi': None, 'last_updated': '2023-12-02T11:49:05.667Z', 'price_change_percentage_24h_in_currency': -1.3090891807001899}, {'id': 'matic-network', 'symbol': 'matic', 'name': 'Polygon', 'image': 'https://assets.coingecko.com/coins/images/4713/large/polygon.png?1698233745', 'current_price': 0.810221, 'market_cap': 7503811078, 'market_cap_rank': 15, 'fully_diluted_valuation': 8090185060, 'total_volume': 462868858, 'high_24h': 0.818166, 'low_24h': 0.776623, 'price_change_24h': 0.02934247, 'price_change_percentage_24h': 3.75762, 'market_cap_change_24h': 254467116, 'market_cap_change_percentage_24h': 3.51021, 'circulating_supply': 9275203252.204464, 'total_supply': 10000000000, 'max_supply': 10000000000, 'ath': 2.92, 'ath_change_percentage': -72.25551, 'ath_date': '2021-12-27T02:08:34.307Z', 'atl': 0.00314376, 'atl_change_percentage': 25636.76968, 'atl_date': '2019-05-10T00:00:00.000Z', 'roi': {'times': 307.0687223172923, 'currency': 'usd', 'percentage': 30706.87223172923}, 'last_updated': '2023-12-02T11:49:02.503Z', 'price_change_percentage_24h_in_currency': 3.757623534975357}, {'id': 'polkadot', 'symbol': 'dot', 'name': 'Polkadot', 'image': 'https://assets.coingecko.com/coins/images/12171/large/polkadot.png?1696512008', 'current_price': 5.53, 'market_cap': 7195266645, 'market_cap_rank': 16, 'fully_diluted_valuation': 7642340840, 'total_volume': 103870787, 'high_24h': 5.54, 'low_24h': 5.38, 'price_change_24h': 0.079455, 'price_change_percentage_24h': 1.45688, 'market_cap_change_24h': 89999872, 'market_cap_change_percentage_24h': 1.26666, 'circulating_supply': 1302805221.34429, 'total_supply': 1383754354.24429, 'max_supply': None, 'ath': 54.98, 'ath_change_percentage': -89.94824, 'ath_date': '2021-11-04T14:10:09.301Z', 'atl': 2.7, 'atl_change_percentage': 104.88015, 'atl_date': '2020-08-20T05:48:11.359Z', 'roi': None, 'last_updated': '2023-12-02T11:49:03.903Z', 'price_change_percentage_24h_in_currency': 1.4568815600216043}, {'id': 'wrapped-bitcoin', 'symbol': 'wbtc', 'name': 'Wrapped Bitcoin', 'image': 'https://assets.coingecko.com/coins/images/7598/large/wrapped_bitcoin_wbtc.png?1696507857', 'current_price': 38703, 'market_cap': 6202216703, 'market_cap_rank': 17, 'fully_diluted_valuation': 6202216703, 'total_volume': 76926498, 'high_24h': 38851, 'low_24h': 38163, 'price_change_24h': 188.8, 'price_change_percentage_24h': 0.49021, 'market_cap_change_24h': 19192419, 'market_cap_change_percentage_24h': 0.31041, 'circulating_supply': 160286.36989025, 'total_supply': 160286.36989025, 'max_supply': 160286.36989025, 'ath': 70643, 'ath_change_percentage': -45.22546, 'ath_date': '2021-11-10T14:40:19.650Z', 'atl': 3139.17, 'atl_change_percentage': 1132.63659, 'atl_date': '2019-04-02T00:00:00.000Z', 'roi': None, 'last_updated': '2023-12-02T11:48:57.696Z', 'price_change_percentage_24h_in_currency': 0.49020993456969986}, {'id': 'dai', 'symbol': 'dai', 'name': 'Dai', 'image': 'https://assets.coingecko.com/coins/images/9956/large/Badge_Dai.png?1696509996', 'current_price': 0.998447, 'market_cap': 5332489138, 'market_cap_rank': 18, 'fully_diluted_valuation': 5330180570, 'total_volume': 312528240, 'high_24h': 1.001, 'low_24h': 0.997675, 'price_change_24h': 0.00041833, 'price_change_percentage_24h': 0.04192, 'market_cap_change_24h': -4986438.963283539, 'market_cap_change_percentage_24h': -0.09342, 'circulating_supply': 5341465972.73363, 'total_supply': 5339153518.38323, 'max_supply': None, 'ath': 1.22, 'ath_change_percentage': -18.09874, 'ath_date': '2020-03-13T03:02:50.373Z', 'atl': 0.88196, 'atl_change_percentage': 13.1933, 'atl_date': '2023-03-11T07:50:50.514Z', 'roi': None, 'last_updated': '2023-12-02T11:45:00.366Z', 'price_change_percentage_24h_in_currency': 0.04191538128920702}, {'id': 'litecoin', 'symbol': 'ltc', 'name': 'Litecoin', 'image': 'https://assets.coingecko.com/coins/images/2/large/litecoin.png?1696501400', 'current_price': 71.67, 'market_cap': 5296158538, 'market_cap_rank': 19, 'fully_diluted_valuation': 6016980074, 'total_volume': 342797221, 'high_24h': 72.22, 'low_24h': 70.82, 'price_change_24h': 0.662084, 'price_change_percentage_24h': 0.93236, 'market_cap_change_24h': 40914735, 'market_cap_change_percentage_24h': 0.77855, 'circulating_supply': 73936976.9834713, 'total_supply': 84000000, 'max_supply': 84000000, 'ath': 410.26, 'ath_change_percentage': -82.54038, 'ath_date': '2021-05-10T03:13:07.904Z', 'atl': 1.15, 'atl_change_percentage': 6134.95471, 'atl_date': '2015-01-14T00:00:00.000Z', 'roi': None, 'last_updated': '2023-12-02T11:49:01.133Z', 'price_change_percentage_24h_in_currency': 0.9323582239058055}, {'id': 'shiba-inu', 'symbol': 'shib', 'name': 'Shiba Inu', 'image': 'https://assets.coingecko.com/coins/images/11939/large/shiba.png?1696511800', 'current_price': 8.39e-06, 'market_cap': 4938270898, 'market_cap_rank': 20, 'fully_diluted_valuation': 8379374527, 'total_volume': 87152410, 'high_24h': 8.41e-06, 'low_24h': 8.28e-06, 'price_change_24h': 5.5152e-08, 'price_change_percentage_24h': 0.66181, 'market_cap_change_24h': 23792138, 'market_cap_change_percentage_24h': 0.48412, 'circulating_supply': 589326110755507.1, 'total_supply': 999982443620165, 'max_supply': None, 'ath': 8.616e-05, 'ath_change_percentage': -90.27341, 'ath_date': '2021-10-28T03:54:55.568Z', 'atl': 5.6366e-11, 'atl_change_percentage': 14867471.38211, 'atl_date': '2020-11-28T11:26:25.838Z', 'roi': None, 'last_updated': '2023-12-02T11:49:05.472Z', 'price_change_percentage_24h_in_currency': 0.6618133505011483}, {'id': 'uniswap', 'symbol': 'uni', 'name': 'Uniswap', 'image': 'https://assets.coingecko.com/coins/images/12504/large/uni.jpg?1696512319', 'current_price': 6.14, 'market_cap': 4611461340, 'market_cap_rank': 21, 'fully_diluted_valuation': 6117889715, 'total_volume': 202712410, 'high_24h': 6.13, 'low_24h': 5.99, 'price_change_24h': 0.052389, 'price_change_percentage_24h': 0.86064, 'market_cap_change_24h': 15680996, 'market_cap_change_percentage_24h': 0.3412, 'circulating_supply': 753766667, 'total_supply': 1000000000, 'max_supply': 1000000000, 'ath': 44.92, 'ath_change_percentage': -86.36253, 'ath_date': '2021-05-03T05:25:04.822Z', 'atl': 1.03, 'atl_change_percentage': 494.62809, 'atl_date': '2020-09-17T01:20:38.214Z', 'roi': None, 'last_updated': '2023-12-02T11:49:01.635Z', 'price_change_percentage_24h_in_currency': 0.8606434965140592}, {'id': 'bitcoin-cash', 'symbol': 'bch', 'name': 'Bitcoin Cash', 'image': 'https://assets.coingecko.com/coins/images/780/large/bitcoin-cash-circle.png?1696501932', 'current_price': 226.61, 'market_cap': 4433108312, 'market_cap_rank': 22, 'fully_diluted_valuation': 4755861478, 'total_volume': 66944049, 'high_24h': 227.39, 'low_24h': 223.04, 'price_change_24h': 1.47, 'price_change_percentage_24h': 0.65228, 'market_cap_change_24h': 24901525, 'market_cap_change_percentage_24h': 0.56489, 'circulating_supply': 19574849.8966508, 'total_supply': 21000000, 'max_supply': 21000000, 'ath': 3785.82, 'ath_change_percentage': -94.01806, 'ath_date': '2017-12-20T00:00:00.000Z', 'atl': 76.93, 'atl_change_percentage': 194.36029, 'atl_date': '2018-12-16T00:00:00.000Z', 'roi': None, 'last_updated': '2023-12-02T11:48:56.039Z', 'price_change_percentage_24h_in_currency': 0.6522829747280741}, {'id': 'leo-token', 'symbol': 'leo', 'name': 'LEO Token', 'image': 'https://assets.coingecko.com/coins/images/8418/large/leo-token.png?1696508607', 'current_price': 3.98, 'market_cap': 3694460178, 'market_cap_rank': 23, 'fully_diluted_valuation': 3920800812, 'total_volume': 802062, 'high_24h': 4.01, 'low_24h': 3.97, 'price_change_24h': -0.014511810460084984, 'price_change_percentage_24h': -0.36337, 'market_cap_change_24h': -14180282.849959373, 'market_cap_change_percentage_24h': -0.38236, 'circulating_supply': 928363435.9, 'total_supply': 985239504, 'max_supply': None, 'ath': 8.14, 'ath_change_percentage': -51.08331, 'ath_date': '2022-02-08T17:40:10.285Z', 'atl': 0.799859, 'atl_change_percentage': 397.53018, 'atl_date': '2019-12-24T15:14:35.376Z', 'roi': None, 'last_updated': '2023-12-02T11:48:27.052Z', 'price_change_percentage_24h_in_currency': -0.3633731169936844}, {'id': 'okb', 'symbol': 'okb', 'name': 'OKB', 'image': 'https://assets.coingecko.com/coins/images/4463/large/WeChat_Image_20220118095654.png?1696505053', 'current_price': 58.29, 'market_cap': 3494451975, 'market_cap_rank': 24, 'fully_diluted_valuation': 13742379989, 'total_volume': 7649530, 'high_24h': 58.37, 'low_24h': 57.5, 'price_change_24h': 0.270947, 'price_change_percentage_24h': 0.46698, 'market_cap_change_24h': 1182166, 'market_cap_change_percentage_24h': 0.03384, 'circulating_supply': 60000000, 'total_supply': 235957685.3, 'max_supply': 300000000, 'ath': 64.92, 'ath_change_percentage': -10.29081, 'ath_date': '2023-11-14T16:15:10.918Z', 'atl': 0.580608, 'atl_change_percentage': 9931.01346, 'atl_date': '2019-01-14T00:00:00.000Z', 'roi': None, 'last_updated': '2023-12-02T11:48:57.881Z', 'price_change_percentage_24h_in_currency': 0.466980514100908}, {'id': 'stellar', 'symbol': 'xlm', 'name': 'Stellar', 'image': 'https://assets.coingecko.com/coins/images/100/large/Stellar_symbol_black_RGB.png?1696501482', 'current_price': 0.11982, 'market_cap': 3356582493, 'market_cap_rank': 25, 'fully_diluted_valuation': 5985584267, 'total_volume': 38315002, 'high_24h': 0.120702, 'low_24h': 0.11866, 'price_change_24h': 0.00028996, 'price_change_percentage_24h': 0.24258, 'market_cap_change_24h': 6065122, 'market_cap_change_percentage_24h': 0.18102, 'circulating_supply': 28039889792.1695, 'total_supply': 50001787094.2451, 'max_supply': 50001787094.2451, 'ath': 0.875563, 'ath_change_percentage': -86.327, 'ath_date': '2018-01-03T00:00:00.000Z', 'atl': 0.00047612, 'atl_change_percentage': 25043.83769, 'atl_date': '2015-03-05T00:00:00.000Z', 'roi': None, 'last_updated': '2023-12-02T11:48:57.721Z', 'price_change_percentage_24h_in_currency': 0.2425844832412966}, {'id': 'monero', 'symbol': 'xmr', 'name': 'Monero', 'image': 'https://assets.coingecko.com/coins/images/69/large/monero_logo.png?1696501460', 'current_price': 172.13, 'market_cap': 3123037608, 'market_cap_rank': 26, 'fully_diluted_valuation': None, 'total_volume': 64436823, 'high_24h': 173.02, 'low_24h': 169.36, 'price_change_24h': 1.3, 'price_change_percentage_24h': 0.75826, 'market_cap_change_24h': 19564557, 'market_cap_change_percentage_24h': 0.63041, 'circulating_supply': 18147820.3764146, 'total_supply': None, 'max_supply': None, 'ath': 542.33, 'ath_change_percentage': -68.33261, 'ath_date': '2018-01-09T00:00:00.000Z', 'atl': 0.216177, 'atl_change_percentage': 79344.43488, 'atl_date': '2015-01-14T00:00:00.000Z', 'roi': None, 'last_updated': '2023-12-02T11:48:59.378Z', 'price_change_percentage_24h_in_currency': 0.7582618729874603}, {'id': 'kaspa', 'symbol': 'kas', 'name': 'Kaspa', 'image': 'https://assets.coingecko.com/coins/images/25751/large/kaspa-icon-exchanges.png?1696524837', 'current_price': 0.137939, 'market_cap': 3002777884, 'market_cap_rank': 27, 'fully_diluted_valuation': 3002790205, 'total_volume': 47384456, 'high_24h': 0.141657, 'low_24h': 0.133358, 'price_change_24h': 0.00142366, 'price_change_percentage_24h': 1.04286, 'market_cap_change_24h': 53942465, 'market_cap_change_percentage_24h': 1.82928, 'circulating_supply': 21761470551.4436, 'total_supply': 21761559844.8892, 'max_supply': 28704026601, 'ath': 0.152699, 'ath_change_percentage': -9.61711, 'ath_date': '2023-11-19T21:34:58.238Z', 'atl': 0.00017105, 'atl_change_percentage': 80586.63603, 'atl_date': '2022-05-26T14:42:59.316Z', 'roi': None, 'last_updated': '2023-12-02T11:49:04.539Z', 'price_change_percentage_24h_in_currency': 1.0428587408803927}, {'id': 'true-usd', 'symbol': 'tusd', 'name': 'TrueUSD', 'image': 'https://assets.coingecko.com/coins/images/3449/large/tusd.png?1696504140', 'current_price': 0.999928, 'market_cap': 2954393947, 'market_cap_rank': 28, 'fully_diluted_valuation': 2954393947, 'total_volume': 108227145, 'high_24h': 1.005, 'low_24h': 0.995824, 'price_change_24h': 0.00113692, 'price_change_percentage_24h': 0.11383, 'market_cap_change_24h': -1548134.9764881134, 'market_cap_change_percentage_24h': -0.05237, 'circulating_supply': 2955878966.94, 'total_supply': 2955878966.94, 'max_supply': None, 'ath': 1.62, 'ath_change_percentage': -38.25104, 'ath_date': '2018-08-26T20:41:09.375Z', 'atl': 0.88355, 'atl_change_percentage': 13.11357, 'atl_date': '2020-03-12T10:47:51.380Z', 'roi': None, 'last_updated': '2023-12-02T11:49:04.311Z', 'price_change_percentage_24h_in_currency': 0.11382952853164555}, {'id': 'cosmos', 'symbol': 'atom', 'name': 'Cosmos Hub', 'image': 'https://assets.coingecko.com/coins/images/1481/large/cosmos_hub.png?1696502525', 'current_price': 9.52, 'market_cap': 2781645233, 'market_cap_rank': 29, 'fully_diluted_valuation': None, 'total_volume': 108587959, 'high_24h': 9.53, 'low_24h': 9.31, 'price_change_24h': 0.098809, 'price_change_percentage_24h': 1.04893, 'market_cap_change_24h': 24244445, 'market_cap_change_percentage_24h': 0.87925, 'circulating_supply': 292586163.827428, 'total_supply': None, 'max_supply': None, 'ath': 44.45, 'ath_change_percentage': -78.61268, 'ath_date': '2022-01-17T00:34:41.497Z', 'atl': 1.16, 'atl_change_percentage': 719.46187, 'atl_date': '2020-03-13T02:27:44.591Z', 'roi': {'times': 94.18823458183064, 'currency': 'usd', 'percentage': 9418.823458183064}, 'last_updated': '2023-12-02T11:49:02.487Z', 'price_change_percentage_24h_in_currency': 1.0489260100996745}, {'id': 'ethereum-classic', 'symbol': 'etc', 'name': 'Ethereum Classic', 'image': 'https://assets.coingecko.com/coins/images/453/large/ethereum-classic-logo.png?1696501717', 'current_price': 19.18, 'market_cap': 2743307928, 'market_cap_rank': 30, 'fully_diluted_valuation': 4036357712, 'total_volume': 76882013, 'high_24h': 19.24, 'low_24h': 18.82, 'price_change_24h': 0.204607, 'price_change_percentage_24h': 1.07805, 'market_cap_change_24h': 23017633, 'market_cap_change_percentage_24h': 0.84615, 'circulating_supply': 143202119.751449, 'total_supply': 210700000, 'max_supply': 210700000, 'ath': 167.09, 'ath_change_percentage': -88.53225, 'ath_date': '2021-05-06T18:34:22.133Z', 'atl': 0.615038, 'atl_change_percentage': 3015.40748, 'atl_date': '2016-07-25T00:00:00.000Z', 'roi': {'times': 41.630806430754646, 'currency': 'usd', 'percentage': 4163.080643075465}, 'last_updated': '2023-12-02T11:49:00.491Z', 'price_change_percentage_24h_in_currency': 1.0780542084386606}, {'id': 'crypto-com-chain', 'symbol': 'cro', 'name': 'Cronos', 'image': 'https://assets.coingecko.com/coins/images/7310/large/cro_token_logo.png?1696507599', 'current_price': 0.090712, 'market_cap': 2390152696, 'market_cap_rank': 31, 'fully_diluted_valuation': 2715795709, 'total_volume': 11596533, 'high_24h': 0.093844, 'low_24h': 0.090356, 'price_change_24h': -0.001179880658302129, 'price_change_percentage_24h': -1.28399, 'market_cap_change_24h': -23921726.318784237, 'market_cap_change_percentage_24h': -0.99093, 'circulating_supply': 26402788930.1482, 'total_supply': 30000000000, 'max_supply': None, 'ath': 0.965407, 'ath_change_percentage': -90.62991, 'ath_date': '2021-11-24T15:53:54.855Z', 'atl': 0.0121196, 'atl_change_percentage': 646.39066, 'atl_date': '2019-02-08T00:00:00.000Z', 'roi': None, 'last_updated': '2023-12-02T11:49:03.770Z', 'price_change_percentage_24h_in_currency': -1.2839875942410566}, {'id': 'filecoin', 'symbol': 'fil', 'name': 'Filecoin', 'image': 'https://assets.coingecko.com/coins/images/12817/large/filecoin.png?1696512609', 'current_price': 4.54, 'market_cap': 2152717070, 'market_cap_rank': 32, 'fully_diluted_valuation': 8889607051, 'total_volume': 91053326, 'high_24h': 4.57, 'low_24h': 4.47, 'price_change_24h': 0.050679, 'price_change_percentage_24h': 1.12877, 'market_cap_change_24h': 20675384, 'market_cap_change_percentage_24h': 0.96975, 'circulating_supply': 474889966, 'total_supply': 1961049712, 'max_supply': 1961049712, 'ath': 236.84, 'ath_change_percentage': -98.08604, 'ath_date': '2021-04-01T13:29:41.564Z', 'atl': 2.64, 'atl_change_percentage': 71.64303, 'atl_date': '2022-12-16T22:45:28.552Z', 'roi': None, 'last_updated': '2023-12-02T11:49:02.044Z', 'price_change_percentage_24h_in_currency': 1.1287682737078142}, {'id': 'internet-computer', 'symbol': 'icp', 'name': 'Internet Computer', 'image': 'https://assets.coingecko.com/coins/images/14495/large/Internet_Computer_logo.png?1696514180', 'current_price': 4.74, 'market_cap': 2132986147, 'market_cap_rank': 33, 'fully_diluted_valuation': 2419338897, 'total_volume': 31605067, 'high_24h': 4.82, 'low_24h': 4.67, 'price_change_24h': -0.025412235283718054, 'price_change_percentage_24h': -0.53293, 'market_cap_change_24h': -11753487.698263168, 'market_cap_change_percentage_24h': -0.54801, 'circulating_supply': 449801439.091759, 'total_supply': 510187147.302634, 'max_supply': None, 'ath': 700.65, 'ath_change_percentage': -99.32351, 'ath_date': '2021-05-10T16:05:53.653Z', 'atl': 2.87, 'atl_change_percentage': 65.43619, 'atl_date': '2023-09-22T00:29:57.369Z', 'roi': None, 'last_updated': '2023-12-02T11:49:05.983Z', 'price_change_percentage_24h_in_currency': -0.5329265284019231}, {'id': 'lido-dao', 'symbol': 'ldo', 'name': 'Lido DAO', 'image': 'https://assets.coingecko.com/coins/images/13573/large/Lido_DAO.png?1696513326', 'current_price': 2.39, 'market_cap': 2122958040, 'market_cap_rank': 34, 'fully_diluted_valuation': 2385215257, 'total_volume': 45994123, 'high_24h': 2.43, 'low_24h': 2.37, 'price_change_24h': 0.00384798, 'price_change_percentage_24h': 0.16143, 'market_cap_change_24h': -1024617.7475571632, 'market_cap_change_percentage_24h': -0.04824, 'circulating_supply': 890048826.486349, 'total_supply': 1000000000, 'max_supply': 1000000000, 'ath': 7.3, 'ath_change_percentage': -67.33104, 'ath_date': '2021-08-20T08:35:20.158Z', 'atl': 0.40615, 'atl_change_percentage': 487.41195, 'atl_date': '2022-06-18T20:55:12.035Z', 'roi': None, 'last_updated': '2023-12-02T11:49:04.475Z', 'price_change_percentage_24h_in_currency': 0.16142908185006857}, {'id': 'thorchain', 'symbol': 'rune', 'name': 'THORChain', 'image': 'https://assets.coingecko.com/coins/images/6595/large/Rune200x200.png?1696506946', 'current_price': 7.02, 'market_cap': 2107780598, 'market_cap_rank': 35, 'fully_diluted_valuation': 3504783282, 'total_volume': 513124609, 'high_24h': 7.06, 'low_24h': 6.3, 'price_change_24h': 0.476239, 'price_change_percentage_24h': 7.2783, 'market_cap_change_24h': 138287931, 'market_cap_change_percentage_24h': 7.0215, 'circulating_supply': 300700561, 'total_supply': 500000000, 'max_supply': 500000000, 'ath': 20.87, 'ath_change_percentage': -66.40136, 'ath_date': '2021-05-19T00:30:09.436Z', 'atl': 0.00851264, 'atl_change_percentage': 82262.45477, 'atl_date': '2019-09-28T00:00:00.000Z', 'roi': {'times': 183.723841656866, 'currency': 'usd', 'percentage': 18372.3841656866}, 'last_updated': '2023-12-02T11:48:58.629Z', 'price_change_percentage_24h_in_currency': 7.278298101591864}, {'id': 'hedera-hashgraph', 'symbol': 'hbar', 'name': 'Hedera', 'image': 'https://assets.coingecko.com/coins/images/3688/large/hbar.png?1696504364', 'current_price': 0.061675, 'market_cap': 2069564188, 'market_cap_rank': 36, 'fully_diluted_valuation': 3082968499, 'total_volume': 38426319, 'high_24h': 0.062119, 'low_24h': 0.060212, 'price_change_24h': 0.00109318, 'price_change_percentage_24h': 1.80446, 'market_cap_change_24h': 34014626, 'market_cap_change_percentage_24h': 1.67103, 'circulating_supply': 33564471854.7128, 'total_supply': 50000000000, 'max_supply': 50000000000, 'ath': 0.569229, 'ath_change_percentage': -89.16855, 'ath_date': '2021-09-15T10:40:28.318Z', 'atl': 0.00986111, 'atl_change_percentage': 525.24118, 'atl_date': '2020-01-02T17:30:24.852Z', 'roi': None, 'last_updated': '2023-12-02T11:49:01.241Z', 'price_change_percentage_24h_in_currency': 1.8044589669747306}, {'id': 'aptos', 'symbol': 'apt', 'name': 'Aptos', 'image': 'https://assets.coingecko.com/coins/images/26455/large/aptos_round.png?1696525528', 'current_price': 7.22, 'market_cap': 2003947566, 'market_cap_rank': 37, 'fully_diluted_valuation': 7709908540, 'total_volume': 59395605, 'high_24h': 7.28, 'low_24h': 6.98, 'price_change_24h': 0.17348, 'price_change_percentage_24h': 2.46029, 'market_cap_change_24h': 44132964, 'market_cap_change_percentage_24h': 2.25189, 'circulating_supply': 277673267.057799, 'total_supply': 1068309135.9747, 'max_supply': None, 'ath': 19.92, 'ath_change_percentage': -63.7244, 'ath_date': '2023-01-26T14:25:17.390Z', 'atl': 3.08, 'atl_change_percentage': 134.63389, 'atl_date': '2022-12-29T21:35:14.796Z', 'roi': None, 'last_updated': '2023-12-02T11:48:56.202Z', 'price_change_percentage_24h_in_currency': 2.4602851651859035}, {'id': 'near', 'symbol': 'near', 'name': 'NEAR Protocol', 'image': 'https://assets.coingecko.com/coins/images/10365/large/near.jpg?1696510367', 'current_price': 1.98, 'market_cap': 1990287732, 'market_cap_rank': 38, 'fully_diluted_valuation': 1983596224, 'total_volume': 111427555, 'high_24h': 1.99, 'low_24h': 1.86, 'price_change_24h': 0.103246, 'price_change_percentage_24h': 5.49878, 'market_cap_change_24h': 101385686, 'market_cap_change_percentage_24h': 5.36744, 'circulating_supply': 1003373422.40982, 'total_supply': 1000000000, 'max_supply': None, 'ath': 20.44, 'ath_change_percentage': -90.29907, 'ath_date': '2022-01-16T22:09:45.873Z', 'atl': 0.526762, 'atl_change_percentage': 276.39141, 'atl_date': '2020-11-04T16:09:15.137Z', 'roi': None, 'last_updated': '2023-12-02T11:49:03.182Z', 'price_change_percentage_24h_in_currency': 5.498784411710756}, {'id': 'immutable-x', 'symbol': 'imx', 'name': 'Immutable', 'image': 'https://assets.coingecko.com/coins/images/17233/large/immutableX-symbol-BLK-RGB.png?1696516787', 'current_price': 1.4, 'market_cap': 1797351089, 'market_cap_rank': 39, 'fully_diluted_valuation': 2796358054, 'total_volume': 82503031, 'high_24h': 1.47, 'low_24h': 1.35, 'price_change_24h': 0.04735357, 'price_change_percentage_24h': 3.50194, 'market_cap_change_24h': 59378729, 'market_cap_change_percentage_24h': 3.41655, 'circulating_supply': 1285494242.490024, 'total_supply': 2000000000, 'max_supply': 2000000000, 'ath': 9.52, 'ath_change_percentage': -85.29713, 'ath_date': '2021-11-26T01:03:01.536Z', 'atl': 0.378055, 'atl_change_percentage': 270.23843, 'atl_date': '2022-12-31T07:36:37.649Z', 'roi': None, 'last_updated': '2023-12-02T11:49:05.475Z', 'price_change_percentage_24h_in_currency': 3.5019433333885166}, {'id': 'mantle', 'symbol': 'mnt', 'name': 'Mantle', 'image': 'https://assets.coingecko.com/coins/images/30980/large/token-logo.png?1696529819', 'current_price': 0.547504, 'market_cap': 1710732906, 'market_cap_rank': 40, 'fully_diluted_valuation': 3402845988, 'total_volume': 7926629, 'high_24h': 0.549879, 'low_24h': 0.54271, 'price_change_24h': 0.00045681, 'price_change_percentage_24h': 0.0835, 'market_cap_change_24h': -880047.3310241699, 'market_cap_change_percentage_24h': -0.05142, 'circulating_supply': 3126673946.01314, 'total_supply': 6219316794.99, 'max_supply': 6219316794.99, 'ath': 0.600075, 'ath_change_percentage': -8.76101, 'ath_date': '2023-07-20T22:39:30.228Z', 'atl': 0.307978, 'atl_change_percentage': 77.77343, 'atl_date': '2023-10-18T02:50:46.942Z', 'roi': None, 'last_updated': '2023-12-02T11:49:02.973Z', 'price_change_percentage_24h_in_currency': 0.08350497551789206}, {'id': 'binance-usd', 'symbol': 'busd', 'name': 'BUSD', 'image': 'https://assets.coingecko.com/coins/images/9576/large/BUSDLOGO.jpg?1696509654', 'current_price': 1.001, 'market_cap': 1658466321, 'market_cap_rank': 41, 'fully_diluted_valuation': 1658466321, 'total_volume': 2492237881, 'high_24h': 1.003, 'low_24h': 0.995738, 'price_change_24h': 0.0017412, 'price_change_percentage_24h': 0.17432, 'market_cap_change_24h': -2358005.948916197, 'market_cap_change_percentage_24h': -0.14198, 'circulating_supply': 1657939552.24, 'total_supply': 1657939552.24, 'max_supply': None, 'ath': 1.15, 'ath_change_percentage': -13.35331, 'ath_date': '2020-03-13T02:35:42.953Z', 'atl': 0.901127, 'atl_change_percentage': 10.98095, 'atl_date': '2021-05-19T13:04:37.445Z', 'roi': None, 'last_updated': '2023-12-02T11:49:05.638Z', 'price_change_percentage_24h_in_currency': 0.17432444038129932}, {'id': 'bittensor', 'symbol': 'tao', 'name': 'Bittensor', 'image': 'https://assets.coingecko.com/coins/images/28452/large/ARUsPeNQ_400x400.jpeg?1696527447', 'current_price': 285.22, 'market_cap': 1641286799, 'market_cap_rank': 42, 'fully_diluted_valuation': 1641378287, 'total_volume': 6911345, 'high_24h': 300.38, 'low_24h': 283.65, 'price_change_24h': -7.730064524089755, 'price_change_percentage_24h': -2.63866, 'market_cap_change_24h': -65322725.134436846, 'market_cap_change_percentage_24h': -3.82763, 'circulating_supply': 5758687, 'total_supply': 5759008, 'max_supply': 21000000, 'ath': 309.61, 'ath_change_percentage': -7.65625, 'ath_date': '2023-12-01T08:55:06.103Z', 'atl': 30.83, 'atl_change_percentage': 827.35708, 'atl_date': '2023-05-14T08:57:53.732Z', 'roi': None, 'last_updated': '2023-12-02T11:48:17.674Z', 'price_change_percentage_24h_in_currency': -2.6386575373272123}, {'id': 'vechain', 'symbol': 'vet', 'name': 'VeChain', 'image': 'https://assets.coingecko.com/coins/images/1167/large/VET_Token_Icon.png?1696502256', 'current_price': 0.02254532, 'market_cap': 1637341745, 'market_cap_rank': 43, 'fully_diluted_valuation': 1936159429, 'total_volume': 37380514, 'high_24h': 0.02289036, 'low_24h': 0.0217379, 'price_change_24h': 0.00064428, 'price_change_percentage_24h': 2.9418, 'market_cap_change_24h': 41517564, 'market_cap_change_percentage_24h': 2.60164, 'circulating_supply': 72714516834, 'total_supply': 85985041177, 'max_supply': 86712634466, 'ath': 0.280991, 'ath_change_percentage': -91.98629, 'ath_date': '2021-04-19T01:08:21.675Z', 'atl': 0.00191713, 'atl_change_percentage': 1074.55628, 'atl_date': '2020-03-13T02:29:59.652Z', 'roi': {'times': 2.7549569898148785, 'currency': 'eth', 'percentage': 275.4956989814878}, 'last_updated': '2023-12-02T11:49:02.846Z', 'price_change_percentage_24h_in_currency': 2.94179524958687}, {'id': 'optimism', 'symbol': 'op', 'name': 'Optimism', 'image': 'https://assets.coingecko.com/coins/images/25244/large/Optimism.png?1696524385', 'current_price': 1.69, 'market_cap': 1534757202, 'market_cap_rank': 44, 'fully_diluted_valuation': 7233368301, 'total_volume': 95899469, 'high_24h': 1.71, 'low_24h': 1.64, 'price_change_24h': -0.01946017575760317, 'price_change_percentage_24h': -1.14082, 'market_cap_change_24h': 28963921, 'market_cap_change_percentage_24h': 1.9235, 'circulating_supply': 911294948, 'total_supply': 4294967296, 'max_supply': 4294967296, 'ath': 3.22, 'ath_change_percentage': -47.68303, 'ath_date': '2023-02-24T20:20:00.509Z', 'atl': 0.402159, 'atl_change_percentage': 319.30527, 'atl_date': '2022-06-18T20:54:52.178Z', 'roi': None, 'last_updated': '2023-12-02T11:49:02.556Z', 'price_change_percentage_24h_in_currency': -1.140819229553303}, {'id': 'injective-protocol', 'symbol': 'inj', 'name': 'Injective', 'image': 'https://assets.coingecko.com/coins/images/12882/large/Secondary_Symbol.png?1696512670', 'current_price': 18.12, 'market_cap': 1525410212, 'market_cap_rank': 45, 'fully_diluted_valuation': 1810456533, 'total_volume': 75055038, 'high_24h': 18.54, 'low_24h': 17.84, 'price_change_24h': -0.3883941636043211, 'price_change_percentage_24h': -2.09851, 'market_cap_change_24h': -38146917.27609992, 'market_cap_change_percentage_24h': -2.43975, 'circulating_supply': 84255555.66, 'total_supply': 100000000, 'max_supply': 100000000, 'ath': 24.89, 'ath_change_percentage': -27.22997, 'ath_date': '2021-04-30T00:33:02.969Z', 'atl': 0.657401, 'atl_change_percentage': 2655.14829, 'atl_date': '2020-11-03T16:19:30.576Z', 'roi': None, 'last_updated': '2023-12-02T11:49:05.405Z', 'price_change_percentage_24h_in_currency': -2.098513563970056}, {'id': 'aave', 'symbol': 'aave', 'name': 'Aave', 'image': 'https://assets.coingecko.com/coins/images/12645/large/AAVE.png?1696512452', 'current_price': 102.58, 'market_cap': 1502445947, 'market_cap_rank': 46, 'fully_diluted_valuation': 1639530172, 'total_volume': 93011855, 'high_24h': 103.02, 'low_24h': 99.61, 'price_change_24h': 2.53, 'price_change_percentage_24h': 2.53275, 'market_cap_change_24h': 34765282, 'market_cap_change_percentage_24h': 2.36872, 'circulating_supply': 14662209.678484216, 'total_supply': 16000000, 'max_supply': 16000000, 'ath': 661.69, 'ath_change_percentage': -84.50819, 'ath_date': '2021-05-18T21:19:59.514Z', 'atl': 26.02, 'atl_change_percentage': 293.91, 'atl_date': '2020-11-05T09:20:11.928Z', 'roi': None, 'last_updated': '2023-12-02T11:49:05.812Z', 'price_change_percentage_24h_in_currency': 2.5327528343397194}, {'id': 'quant-network', 'symbol': 'qnt', 'name': 'Quant', 'image': 'https://assets.coingecko.com/coins/images/3370/large/5ZOu7brX_400x400.jpg?1696504070', 'current_price': 100.66, 'market_cap': 1463051001, 'market_cap_rank': 47, 'fully_diluted_valuation': 1469923238, 'total_volume': 19020507, 'high_24h': 101.46, 'low_24h': 99.94, 'price_change_24h': 0.238833, 'price_change_percentage_24h': 0.23782, 'market_cap_change_24h': -130500.43107032776, 'market_cap_change_percentage_24h': -0.00892, 'circulating_supply': 14544176.164091088, 'total_supply': 14612493, 'max_supply': 14612493, 'ath': 427.42, 'ath_change_percentage': -76.46634, 'ath_date': '2021-09-11T09:15:00.668Z', 'atl': 0.215773, 'atl_change_percentage': 46517.50621, 'atl_date': '2018-08-23T00:00:00.000Z', 'roi': {'times': 19.597678074533828, 'currency': 'eth', 'percentage': 1959.767807453383}, 'last_updated': '2023-12-02T11:49:04.144Z', 'price_change_percentage_24h_in_currency': 0.2378245468161054}, {'id': 'maker', 'symbol': 'mkr', 'name': 'Maker', 'image': 'https://assets.coingecko.com/coins/images/1364/large/Mark_Maker.png?1696502423', 'current_price': 1528.84, 'market_cap': 1403079792, 'market_cap_rank': 48, 'fully_diluted_valuation': 1493454589, 'total_volume': 54919178, 'high_24h': 1547.91, 'low_24h': 1527.17, 'price_change_24h': -15.288411673121118, 'price_change_percentage_24h': -0.9901, 'market_cap_change_24h': -16575919.681655407, 'market_cap_change_percentage_24h': -1.1676, 'circulating_supply': 918470.747171123, 'total_supply': 977631.036950888, 'max_supply': 1005577, 'ath': 6292.31, 'ath_change_percentage': -75.72358, 'ath_date': '2021-05-03T21:54:29.333Z', 'atl': 168.36, 'atl_change_percentage': 807.324, 'atl_date': '2020-03-16T20:52:36.527Z', 'roi': None, 'last_updated': '2023-12-02T11:49:02.317Z', 'price_change_percentage_24h_in_currency': -0.9900975232147909}, {'id': 'the-graph', 'symbol': 'grt', 'name': 'The Graph', 'image': 'https://assets.coingecko.com/coins/images/13397/large/Graph_Token.png?1696513159', 'current_price': 0.150636, 'market_cap': 1401669439, 'market_cap_rank': 49, 'fully_diluted_valuation': 1504004965, 'total_volume': 42306769, 'high_24h': 0.152246, 'low_24h': 0.147188, 'price_change_24h': 0.00266906, 'price_change_percentage_24h': 1.80382, 'market_cap_change_24h': 21280250, 'market_cap_change_percentage_24h': 1.54161, 'circulating_supply': 9319579863.85098, 'total_supply': 10000000000, 'max_supply': None, 'ath': 2.84, 'ath_change_percentage': -94.70493, 'ath_date': '2021-02-12T07:28:45.775Z', 'atl': 0.052051, 'atl_change_percentage': 189.06189, 'atl_date': '2022-11-22T10:05:03.503Z', 'roi': None, 'last_updated': '2023-12-02T11:48:58.380Z', 'price_change_percentage_24h_in_currency': 1.8038170029065124}, {'id': 'arbitrum', 'symbol': 'arb', 'name': 'Arbitrum', 'image': 'https://assets.coingecko.com/coins/images/16547/large/photo_2023-03-29_21.47.00.jpeg?1696516109', 'current_price': 1.055, 'market_cap': 1340589339, 'market_cap_rank': 50, 'fully_diluted_valuation': 10514426184, 'total_volume': 180376319, 'high_24h': 1.056, 'low_24h': 1.026, 'price_change_24h': 0.0195882, 'price_change_percentage_24h': 1.8919, 'market_cap_change_24h': 17658906, 'market_cap_change_percentage_24h': 1.33483, 'circulating_supply': 1275000000, 'total_supply': 10000000000, 'max_supply': 10000000000, 'ath': 8.67, 'ath_change_percentage': -87.86731, 'ath_date': '2023-03-23T13:10:03.106Z', 'atl': 0.744925, 'atl_change_percentage': 41.26248, 'atl_date': '2023-09-11T19:40:49.196Z', 'roi': None, 'last_updated': '2023-12-02T11:49:04.142Z', 'price_change_percentage_24h_in_currency': 1.8918961491966955}, {'id': 'render-token', 'symbol': 'rndr', 'name': 'Render', 'image': 'https://assets.coingecko.com/coins/images/11636/large/rndr.png?1696511529', 'current_price': 3.54, 'market_cap': 1323945431, 'market_cap_rank': 51, 'fully_diluted_valuation': 1878588487, 'total_volume': 57343907, 'high_24h': 3.62, 'low_24h': 3.5, 'price_change_24h': -0.015310460443606733, 'price_change_percentage_24h': -0.4307, 'market_cap_change_24h': -9754834.87676692, 'market_cap_change_percentage_24h': -0.73141, 'circulating_supply': 374243312.823796, 'total_supply': 531025798.103796, 'max_supply': 531025798.103796, 'ath': 8.78, 'ath_change_percentage': -59.72835, 'ath_date': '2021-11-21T10:03:19.097Z', 'atl': 0.03665669, 'atl_change_percentage': 9549.15822, 'atl_date': '2020-06-16T13:22:25.900Z', 'roi': None, 'last_updated': '2023-12-02T11:49:04.282Z', 'price_change_percentage_24h_in_currency': -0.4306956962681327}, {'id': 'rocket-pool-eth', 'symbol': 'reth', 'name': 'Rocket Pool ETH', 'image': 'https://assets.coingecko.com/coins/images/20764/large/reth.png?1696520159', 'current_price': 2298.97, 'market_cap': 1251923425, 'market_cap_rank': 52, 'fully_diluted_valuation': 1251867080, 'total_volume': 9394459, 'high_24h': 2307.33, 'low_24h': 2271, 'price_change_24h': 9.84, 'price_change_percentage_24h': 0.42995, 'market_cap_change_24h': 3023483, 'market_cap_change_percentage_24h': 0.24209, 'circulating_supply': 544684.913263075, 'total_supply': 544660.398744332, 'max_supply': None, 'ath': 4814.31, 'ath_change_percentage': -52.24486, 'ath_date': '2021-12-01T08:03:50.749Z', 'atl': 887.26, 'atl_change_percentage': 159.12037, 'atl_date': '2022-06-18T20:55:45.957Z', 'roi': None, 'last_updated': '2023-12-02T11:49:00.832Z', 'price_change_percentage_24h_in_currency': 0.4299547148226264}, {'id': 'celestia', 'symbol': 'tia', 'name': 'Celestia', 'image': 'https://assets.coingecko.com/coins/images/31967/large/tia.jpg?1696530772', 'current_price': 8.25, 'market_cap': 1203324582, 'market_cap_rank': 53, 'fully_diluted_valuation': 8289330691, 'total_volume': 190868716, 'high_24h': 8.26, 'low_24h': 6.93, 'price_change_24h': 1.28, 'price_change_percentage_24h': 18.27553, 'market_cap_change_24h': 183531042, 'market_cap_change_percentage_24h': 17.99688, 'circulating_supply': 145865445.558202, 'total_supply': 1004821917.8082, 'max_supply': None, 'ath': 8.26, 'ath_change_percentage': 0.0085, 'ath_date': '2023-12-02T11:45:40.082Z', 'atl': 2.08, 'atl_change_percentage': 296.52476, 'atl_date': '2023-10-31T15:14:31.951Z', 'roi': None, 'last_updated': '2023-12-02T11:48:54.811Z', 'price_change_percentage_24h_in_currency': 18.275530158315657}, {'id': 'elrond-erd-2', 'symbol': 'egld', 'name': 'MultiversX', 'image': 'https://assets.coingecko.com/coins/images/12335/large/egld-token-logo.png?1696512162', 'current_price': 45.77, 'market_cap': 1202165577, 'market_cap_rank': 54, 'fully_diluted_valuation': 1202401300, 'total_volume': 20870607, 'high_24h': 45.99, 'low_24h': 44.09, 'price_change_24h': 0.912683, 'price_change_percentage_24h': 2.03472, 'market_cap_change_24h': 24570498, 'market_cap_change_percentage_24h': 2.0865, 'circulating_supply': 26274731, 'total_supply': 26279883, 'max_supply': 31415926, 'ath': 545.64, 'ath_change_percentage': -91.61457, 'ath_date': '2021-11-23T10:33:26.737Z', 'atl': 6.51, 'atl_change_percentage': 603.19044, 'atl_date': '2020-10-07T01:44:53.554Z', 'roi': None, 'last_updated': '2023-12-02T11:48:57.833Z', 'price_change_percentage_24h_in_currency': 2.034720121080379}, {'id': 'havven', 'symbol': 'snx', 'name': 'Synthetix Network', 'image': 'https://assets.coingecko.com/coins/images/3406/large/SNX.png?1696504103', 'current_price': 3.55, 'market_cap': 1162180261, 'market_cap_rank': 55, 'fully_diluted_valuation': 1164751949, 'total_volume': 61682708, 'high_24h': 3.6, 'low_24h': 3.32, 'price_change_24h': 0.14698, 'price_change_percentage_24h': 4.31344, 'market_cap_change_24h': 44480525, 'market_cap_change_percentage_24h': 3.97965, 'circulating_supply': 327143751.13952357, 'total_supply': 327867659.088774, 'max_supply': 327867659.088774, 'ath': 28.53, 'ath_change_percentage': -87.54987, 'ath_date': '2021-02-14T01:12:38.505Z', 'atl': 0.0347864, 'atl_change_percentage': 10111.76581, 'atl_date': '2019-01-06T00:00:00.000Z', 'roi': {'times': 6.108939533236112, 'currency': 'usd', 'percentage': 610.8939533236112}, 'last_updated': '2023-12-02T11:49:04.659Z', 'price_change_percentage_24h_in_currency': 4.313442118382928}, {'id': 'algorand', 'symbol': 'algo', 'name': 'Algorand', 'image': 'https://assets.coingecko.com/coins/images/4380/large/download.png?1696504978', 'current_price': 0.144352, 'market_cap': 1153457547, 'market_cap_rank': 56, 'fully_diluted_valuation': 1153457546, 'total_volume': 41966487, 'high_24h': 0.145259, 'low_24h': 0.133808, 'price_change_24h': 0.01046156, 'price_change_percentage_24h': 7.81354, 'market_cap_change_24h': 81463710, 'market_cap_change_percentage_24h': 7.59927, 'circulating_supply': 8006100584.41641, 'total_supply': 8006100578.27741, 'max_supply': 10000000000, 'ath': 3.56, 'ath_change_percentage': -95.95441, 'ath_date': '2019-06-20T14:51:19.480Z', 'atl': 0.087513, 'atl_change_percentage': 64.62585, 'atl_date': '2023-09-11T19:42:08.247Z', 'roi': {'times': -0.9398534630596447, 'currency': 'usd', 'percentage': -93.98534630596447}, 'last_updated': '2023-12-02T11:49:05.131Z', 'price_change_percentage_24h_in_currency': 7.813537036302545}, {'id': 'blockstack', 'symbol': 'stx', 'name': 'Stacks', 'image': 'https://assets.coingecko.com/coins/images/2069/large/Stacks_logo_full.png?1696503035', 'current_price': 0.762131, 'market_cap': 1082067491, 'market_cap_rank': 57, 'fully_diluted_valuation': 1382240756, 'total_volume': 89067170, 'high_24h': 0.8136, 'low_24h': 0.697753, 'price_change_24h': 0.055356, 'price_change_percentage_24h': 7.83215, 'market_cap_change_24h': 72622121, 'market_cap_change_percentage_24h': 7.19426, 'circulating_supply': 1423195409.10044, 'total_supply': 1818000000, 'max_supply': 1818000000, 'ath': 3.39, 'ath_change_percentage': -77.57261, 'ath_date': '2021-12-01T01:32:34.725Z', 'atl': 0.04559639, 'atl_change_percentage': 1567.25262, 'atl_date': '2020-03-13T02:29:26.415Z', 'roi': {'times': 5.351095674275869, 'currency': 'usd', 'percentage': 535.109567427587}, 'last_updated': '2023-12-02T11:49:02.022Z', 'price_change_percentage_24h_in_currency': 7.832150335964803}, {'id': 'theta-token', 'symbol': 'theta', 'name': 'Theta Network', 'image': 'https://assets.coingecko.com/coins/images/2538/large/theta-token-logo.png?1696503349', 'current_price': 1.078, 'market_cap': 1077030744, 'market_cap_rank': 58, 'fully_diluted_valuation': 1077030744, 'total_volume': 17096113, 'high_24h': 1.079, 'low_24h': 0.986069, 'price_change_24h': 0.090778, 'price_change_percentage_24h': 9.19161, 'market_cap_change_24h': 89217655, 'market_cap_change_percentage_24h': 9.03184, 'circulating_supply': 1000000000, 'total_supply': 1000000000, 'max_supply': 1000000000, 'ath': 15.72, 'ath_change_percentage': -93.15233, 'ath_date': '2021-04-16T13:15:11.190Z', 'atl': 0.04039979, 'atl_change_percentage': 2564.45712, 'atl_date': '2020-03-13T02:24:16.483Z', 'roi': {'times': 6.189287836527673, 'currency': 'usd', 'percentage': 618.9287836527674}, 'last_updated': '2023-12-02T11:48:56.096Z', 'price_change_percentage_24h_in_currency': 9.19161020390939}, {'id': 'flow', 'symbol': 'flow', 'name': 'Flow', 'image': 'https://assets.coingecko.com/coins/images/13446/large/5f6294c0c7a8cda55cb1c936_Flow_Wordmark.png?1696513210', 'current_price': 0.680284, 'market_cap': 1001625109, 'market_cap_rank': 59, 'fully_diluted_valuation': 1001625109, 'total_volume': 21402528, 'high_24h': 0.687776, 'low_24h': 0.663595, 'price_change_24h': 0.01219596, 'price_change_percentage_24h': 1.8255, 'market_cap_change_24h': 17417210, 'market_cap_change_percentage_24h': 1.76967, 'circulating_supply': 1473964291, 'total_supply': 1473964291.43268, 'max_supply': 1473964291.43268, 'ath': 42.4, 'ath_change_percentage': -98.39698, 'ath_date': '2021-04-05T13:49:10.098Z', 'atl': 0.391969, 'atl_change_percentage': 73.38957, 'atl_date': '2023-09-11T19:41:06.528Z', 'roi': None, 'last_updated': '2023-12-02T11:48:57.849Z', 'price_change_percentage_24h_in_currency': 1.825501434644467}, {'id': 'first-digital-usd', 'symbol': 'fdusd', 'name': 'First Digital USD', 'image': 'https://assets.coingecko.com/coins/images/31079/large/firstfigital.jpeg?1696529912', 'current_price': 1, 'market_cap': 966449746, 'market_cap_rank': 60, 'fully_diluted_valuation': 966449746, 'total_volume': 172780186, 'high_24h': 1.003, 'low_24h': 0.997011, 'price_change_24h': 0.00016617, 'price_change_percentage_24h': 0.01662, 'market_cap_change_24h': -1125551.7863624096, 'market_cap_change_percentage_24h': -0.11633, 'circulating_supply': 966652971.77, 'total_supply': 966652971.77, 'max_supply': None, 'ath': 1.041, 'ath_change_percentage': -3.96744, 'ath_date': '2023-10-23T22:55:15.103Z', 'atl': 0.942129, 'atl_change_percentage': 6.14577, 'atl_date': '2023-08-17T21:55:41.478Z', 'roi': None, 'last_updated': '2023-12-02T11:48:40.073Z', 'price_change_percentage_24h_in_currency': 0.016616363272301544}, {'id': 'bitcoin-cash-sv', 'symbol': 'bsv', 'name': 'Bitcoin SV', 'image': 'https://assets.coingecko.com/coins/images/6799/large/BSV.png?1696507128', 'current_price': 47.62, 'market_cap': 931237432, 'market_cap_rank': 61, 'fully_diluted_valuation': 999395299, 'total_volume': 27697504, 'high_24h': 47.94, 'low_24h': 46.77, 'price_change_24h': 0.64453, 'price_change_percentage_24h': 1.37212, 'market_cap_change_24h': 9924246, 'market_cap_change_percentage_24h': 1.07718, 'circulating_supply': 19567818.75, 'total_supply': 21000000, 'max_supply': 21000000, 'ath': 489.75, 'ath_change_percentage': -90.28354, 'ath_date': '2021-04-16T17:09:04.630Z', 'atl': 21.43, 'atl_change_percentage': 122.00506, 'atl_date': '2023-06-10T04:32:12.266Z', 'roi': None, 'last_updated': '2023-12-02T11:49:04.890Z', 'price_change_percentage_24h_in_currency': 1.3721235181209426}, {'id': 'fantom', 'symbol': 'ftm', 'name': 'Fantom', 'image': 'https://assets.coingecko.com/coins/images/4001/large/Fantom_round.png?1696504642', 'current_price': 0.322839, 'market_cap': 904342948, 'market_cap_rank': 62, 'fully_diluted_valuation': 1024130826, 'total_volume': 63986900, 'high_24h': 0.328895, 'low_24h': 0.31125, 'price_change_24h': 0.00613413, 'price_change_percentage_24h': 1.93686, 'market_cap_change_24h': 14282053, 'market_cap_change_percentage_24h': 1.60462, 'circulating_supply': 2803634835.52659, 'total_supply': 3175000000, 'max_supply': 3175000000, 'ath': 3.46, 'ath_change_percentage': -90.67483, 'ath_date': '2021-10-28T05:19:39.845Z', 'atl': 0.00190227, 'atl_change_percentage': 16854.37821, 'atl_date': '2020-03-13T02:25:38.280Z', 'roi': {'times': 9.76129786682009, 'currency': 'usd', 'percentage': 976.129786682009}, 'last_updated': '2023-12-02T11:48:57.082Z', 'price_change_percentage_24h_in_currency': 1.9368611587358864}, {'id': 'the-sandbox', 'symbol': 'sand', 'name': 'The Sandbox', 'image': 'https://assets.coingecko.com/coins/images/12129/large/sandbox_logo.jpg?1696511971', 'current_price': 0.419286, 'market_cap': 881140740, 'market_cap_rank': 63, 'fully_diluted_valuation': 1257735198, 'total_volume': 56681699, 'high_24h': 0.421119, 'low_24h': 0.411884, 'price_change_24h': 0.00314942, 'price_change_percentage_24h': 0.75682, 'market_cap_change_24h': 9335758, 'market_cap_change_percentage_24h': 1.07085, 'circulating_supply': 2101731926.2233226, 'total_supply': 3000000000, 'max_supply': 3000000000, 'ath': 8.4, 'ath_change_percentage': -95.00958, 'ath_date': '2021-11-25T06:04:40.957Z', 'atl': 0.02897764, 'atl_change_percentage': 1346.06583, 'atl_date': '2020-11-04T15:59:14.441Z', 'roi': None, 'last_updated': '2023-12-02T11:48:56.931Z', 'price_change_percentage_24h_in_currency': 0.756823825094855}, {'id': 'axie-infinity', 'symbol': 'axs', 'name': 'Axie Infinity', 'image': 'https://assets.coingecko.com/coins/images/13029/large/axie_infinity_logo.png?1696512817', 'current_price': 6.56, 'market_cap': 867297372, 'market_cap_rank': 64, 'fully_diluted_valuation': 1768271581, 'total_volume': 48857581, 'high_24h': 6.58, 'low_24h': 6.42, 'price_change_24h': 0.104991, 'price_change_percentage_24h': 1.6254, 'market_cap_change_24h': 11337575, 'market_cap_change_percentage_24h': 1.32455, 'circulating_supply': 132428916.907103, 'total_supply': 270000000, 'max_supply': 270000000, 'ath': 164.9, 'ath_change_percentage': -96.01927, 'ath_date': '2021-11-06T19:29:29.482Z', 'atl': 0.123718, 'atl_change_percentage': 5205.71141, 'atl_date': '2020-11-06T08:05:43.662Z', 'roi': None, 'last_updated': '2023-12-02T11:48:59.582Z', 'price_change_percentage_24h_in_currency': 1.6254048626801176}, {'id': 'iota', 'symbol': 'iota', 'name': 'IOTA', 'image': 'https://assets.coingecko.com/coins/images/692/large/IOTA_Swirl.png?1696501881', 'current_price': 0.270806, 'market_cap': 817680981, 'market_cap_rank': 65, 'fully_diluted_valuation': 1238042752, 'total_volume': 86933008, 'high_24h': 0.282478, 'low_24h': 0.224061, 'price_change_24h': 0.04352742, 'price_change_percentage_24h': 19.15161, 'market_cap_change_24h': 129350682, 'market_cap_change_percentage_24h': 18.79195, 'circulating_supply': 3038128133, 'total_supply': 4600000000, 'max_supply': 4600000000, 'ath': 5.25, 'ath_change_percentage': -94.87225, 'ath_date': '2017-12-19T00:00:00.000Z', 'atl': 0.081637, 'atl_change_percentage': 229.68247, 'atl_date': '2020-03-13T02:22:41.168Z', 'roi': {'times': 4.213868492000631, 'currency': 'btc', 'percentage': 421.3868492000631}, 'last_updated': '2023-12-02T11:48:58.487Z', 'price_change_percentage_24h_in_currency': 19.15161147542957}, {'id': 'decentraland', 'symbol': 'mana', 'name': 'Decentraland', 'image': 'https://assets.coingecko.com/coins/images/878/large/decentraland-mana.png?1696502010', 'current_price': 0.443274, 'market_cap': 817187845, 'market_cap_rank': 66, 'fully_diluted_valuation': 970363824, 'total_volume': 41272123, 'high_24h': 0.443848, 'low_24h': 0.434169, 'price_change_24h': 0.00489593, 'price_change_percentage_24h': 1.11683, 'market_cap_change_24h': 6838531, 'market_cap_change_percentage_24h': 0.8439, 'circulating_supply': 1846976819.7537756, 'total_supply': 2193179327.32015, 'max_supply': 2193179327.32015, 'ath': 5.85, 'ath_change_percentage': -92.43862, 'ath_date': '2021-11-25T10:04:18.534Z', 'atl': 0.00923681, 'atl_change_percentage': 4689.56178, 'atl_date': '2017-10-31T00:00:00.000Z', 'roi': {'times': 21.16369277710455, 'currency': 'usd', 'percentage': 2116.369277710455}, 'last_updated': '2023-12-02T11:48:55.781Z', 'price_change_percentage_24h_in_currency': 1.1168282003991388}, {'id': 'wemix-token', 'symbol': 'wemix', 'name': 'WEMIX', 'image': 'https://assets.coingecko.com/coins/images/12998/large/wemixcoin_color_200.png?1696512788', 'current_price': 2.48, 'market_cap': 816347351, 'market_cap_rank': 67, 'fully_diluted_valuation': 2426694203, 'total_volume': 5472301, 'high_24h': 2.49, 'low_24h': 2.26, 'price_change_24h': 0.19598, 'price_change_percentage_24h': 8.592, 'market_cap_change_24h': 64998265, 'market_cap_change_percentage_24h': 8.65087, 'circulating_supply': 329408127.988856, 'total_supply': 979206698.578194, 'max_supply': None, 'ath': 24.71, 'ath_change_percentage': -89.97238, 'ath_date': '2021-11-21T17:33:44.178Z', 'atl': 0.128398, 'atl_change_percentage': 1829.93856, 'atl_date': '2021-06-22T12:52:49.089Z', 'roi': None, 'last_updated': '2023-12-02T11:49:02.740Z', 'price_change_percentage_24h_in_currency': 8.591998059739089}, {'id': 'terra-luna', 'symbol': 'lunc', 'name': 'Terra Luna Classic', 'image': 'https://assets.coingecko.com/coins/images/8284/large/01_LunaClassic_color.png?1696508486', 'current_price': 0.0001403, 'market_cap': 815217129, 'market_cap_rank': 68, 'fully_diluted_valuation': 959079258, 'total_volume': 380756574, 'high_24h': 0.00014502, 'low_24h': 0.00011479, 'price_change_24h': 2.471e-05, 'price_change_percentage_24h': 21.3772, 'market_cap_change_24h': 145053100, 'market_cap_change_percentage_24h': 21.64442, 'circulating_supply': 5800596023572.15, 'total_supply': 6824232628711.38, 'max_supply': None, 'ath': 119.18, 'ath_change_percentage': -99.99988, 'ath_date': '2022-04-05T12:24:58.854Z', 'atl': 9.99967e-07, 'atl_change_percentage': 13959.95153, 'atl_date': '2022-05-13T02:34:40.340Z', 'roi': None, 'last_updated': '2023-12-02T11:49:04.196Z', 'price_change_percentage_24h_in_currency': 21.377204964028408}, {'id': 'neo', 'symbol': 'neo', 'name': 'NEO', 'image': 'https://assets.coingecko.com/coins/images/480/large/NEO_512_512.png?1696501735', 'current_price': 11.32, 'market_cap': 797091100, 'market_cap_rank': 69, 'fully_diluted_valuation': 1130144761, 'total_volume': 28519709, 'high_24h': 11.36, 'low_24h': 11.03, 'price_change_24h': 0.245344, 'price_change_percentage_24h': 2.21573, 'market_cap_change_24h': 15154289, 'market_cap_change_percentage_24h': 1.93805, 'circulating_supply': 70530000, 'total_supply': 100000000, 'max_supply': None, 'ath': 198.38, 'ath_change_percentage': -94.29956, 'ath_date': '2018-01-15T00:00:00.000Z', 'atl': 0.078349, 'atl_change_percentage': 14333.56695, 'atl_date': '2016-10-21T00:00:00.000Z', 'roi': {'times': 313.39414282205723, 'currency': 'usd', 'percentage': 31339.414282205722}, 'last_updated': '2023-12-02T11:49:01.233Z', 'price_change_percentage_24h_in_currency': 2.215725039263924}, {'id': 'whitebit', 'symbol': 'wbt', 'name': 'WhiteBIT Coin', 'image': 'https://assets.coingecko.com/coins/images/27045/large/wbt_token.png?1696526096', 'current_price': 5.44, 'market_cap': 784140917, 'market_cap_rank': 70, 'fully_diluted_valuation': 1979017031, 'total_volume': 5144300, 'high_24h': 5.46, 'low_24h': 5.43, 'price_change_24h': 0.00388893, 'price_change_percentage_24h': 0.07151, 'market_cap_change_24h': -79499.49307739735, 'market_cap_change_percentage_24h': -0.01014, 'circulating_supply': 144118517.10815412, 'total_supply': 363726715, 'max_supply': 400000000, 'ath': 14.64, 'ath_change_percentage': -62.85503, 'ath_date': '2022-10-28T12:32:18.119Z', 'atl': 3.06, 'atl_change_percentage': 77.6696, 'atl_date': '2023-02-13T19:01:21.899Z', 'roi': None, 'last_updated': '2023-12-02T11:48:18.396Z', 'price_change_percentage_24h_in_currency': 0.071514738820517}, {'id': 'eos', 'symbol': 'eos', 'name': 'EOS', 'image': 'https://assets.coingecko.com/coins/images/738/large/eos-eos-logo.png?1696501893', 'current_price': 0.694393, 'market_cap': 784096637, 'market_cap_rank': 71, 'fully_diluted_valuation': None, 'total_volume': 56045348, 'high_24h': 0.695114, 'low_24h': 0.678846, 'price_change_24h': 0.01218945, 'price_change_percentage_24h': 1.78678, 'market_cap_change_24h': 12942712, 'market_cap_change_percentage_24h': 1.67836, 'circulating_supply': 1130023418.4461, 'total_supply': None, 'max_supply': None, 'ath': 22.71, 'ath_change_percentage': -96.94717, 'ath_date': '2018-04-29T07:50:33.540Z', 'atl': 0.5024, 'atl_change_percentage': 38.00484, 'atl_date': '2017-10-23T00:00:00.000Z', 'roi': {'times': -0.2985928727370501, 'currency': 'usd', 'percentage': -29.85928727370501}, 'last_updated': '2023-12-02T11:49:03.660Z', 'price_change_percentage_24h_in_currency': 1.786776633276531}, {'id': 'kucoin-shares', 'symbol': 'kcs', 'name': 'KuCoin', 'image': 'https://assets.coingecko.com/coins/images/1047/large/sa9z79.png?1696502152', 'current_price': 8.04, 'market_cap': 778446700, 'market_cap_rank': 72, 'fully_diluted_valuation': 1160697054, 'total_volume': 147800, 'high_24h': 8.08, 'low_24h': 7.69, 'price_change_24h': -0.016461742264111123, 'price_change_percentage_24h': -0.20432, 'market_cap_change_24h': -1638735.165315628, 'market_cap_change_percentage_24h': -0.21007, 'circulating_supply': 96732986.3190288, 'total_supply': 144232986.318945, 'max_supply': None, 'ath': 28.83, 'ath_change_percentage': -72.08669, 'ath_date': '2021-12-01T15:09:35.541Z', 'atl': 0.342863, 'atl_change_percentage': 2247.11066, 'atl_date': '2019-02-07T00:00:00.000Z', 'roi': None, 'last_updated': '2023-12-02T11:48:58.196Z', 'price_change_percentage_24h_in_currency': -0.2043166567236672}, {'id': 'kava', 'symbol': 'kava', 'name': 'Kava', 'image': 'https://assets.coingecko.com/coins/images/9761/large/kava.png?1696509822', 'current_price': 0.789918, 'market_cap': 776217588, 'market_cap_rank': 73, 'fully_diluted_valuation': 776233887, 'total_volume': 10335201, 'high_24h': 0.797035, 'low_24h': 0.775399, 'price_change_24h': 0.01288247, 'price_change_percentage_24h': 1.6579, 'market_cap_change_24h': 12804457, 'market_cap_change_percentage_24h': 1.67726, 'circulating_supply': 985516034, 'total_supply': 985536728, 'max_supply': None, 'ath': 9.12, 'ath_change_percentage': -91.36478, 'ath_date': '2021-08-30T11:10:02.948Z', 'atl': 0.287137, 'atl_change_percentage': 174.27767, 'atl_date': '2020-03-13T02:24:16.835Z', 'roi': None, 'last_updated': '2023-12-02T11:49:05.192Z', 'price_change_percentage_24h_in_currency': 1.6579008181279924}, {'id': 'tezos', 'symbol': 'xtz', 'name': 'Tezos', 'image': 'https://assets.coingecko.com/coins/images/976/large/Tezos-logo.png?1696502091', 'current_price': 0.854375, 'market_cap': 762502179, 'market_cap_rank': 74, 'fully_diluted_valuation': 839597140, 'total_volume': 16128858, 'high_24h': 0.857061, 'low_24h': 0.833516, 'price_change_24h': 0.01602318, 'price_change_percentage_24h': 1.91127, 'market_cap_change_24h': 14166405, 'market_cap_change_percentage_24h': 1.89305, 'circulating_supply': 892831251.971159, 'total_supply': 983103506.474338, 'max_supply': None, 'ath': 9.12, 'ath_change_percentage': -90.63162, 'ath_date': '2021-10-04T00:41:18.025Z', 'atl': 0.350476, 'atl_change_percentage': 143.67638, 'atl_date': '2018-12-07T00:00:00.000Z', 'roi': {'times': 0.8178199964043692, 'currency': 'usd', 'percentage': 81.78199964043691}, 'last_updated': '2023-12-02T11:49:00.309Z', 'price_change_percentage_24h_in_currency': 1.9112706583281818}, {'id': 'mina-protocol', 'symbol': 'mina', 'name': 'Mina Protocol', 'image': 'https://assets.coingecko.com/coins/images/15628/large/JM4_vQ34_400x400.png?1696515261', 'current_price': 0.750408, 'market_cap': 758007933, 'market_cap_rank': 75, 'fully_diluted_valuation': 824995387, 'total_volume': 21751207, 'high_24h': 0.78617, 'low_24h': 0.73104, 'price_change_24h': 0.0034958, 'price_change_percentage_24h': 0.46803, 'market_cap_change_24h': 5486397, 'market_cap_change_percentage_24h': 0.72907, 'circulating_supply': 1011232277.84004, 'total_supply': 1100597932.84004, 'max_supply': None, 'ath': 9.09, 'ath_change_percentage': -91.75262, 'ath_date': '2021-06-01T01:42:37.064Z', 'atl': 0.351341, 'atl_change_percentage': 113.38665, 'atl_date': '2023-10-11T04:00:22.740Z', 'roi': None, 'last_updated': '2023-12-02T11:49:01.088Z', 'price_change_percentage_24h_in_currency': 0.46803396588801055}, {'id': 'gala', 'symbol': 'gala', 'name': 'GALA', 'image': 'https://assets.coingecko.com/coins/images/12493/large/GALA-COINGECKO.png?1696512310', 'current_price': 0.02615541, 'market_cap': 752262671, 'market_cap_rank': 76, 'fully_diluted_valuation': 752264797, 'total_volume': 602864023, 'high_24h': 0.02633124, 'low_24h': 0.02575241, 'price_change_24h': 0.00024201, 'price_change_percentage_24h': 0.9339, 'market_cap_change_24h': 6620048, 'market_cap_change_percentage_24h': 0.88783, 'circulating_supply': 28820246396.3283, 'total_supply': 28820327872.3103, 'max_supply': 50000000000, 'ath': 0.824837, 'ath_change_percentage': -96.83507, 'ath_date': '2021-11-26T01:03:48.731Z', 'atl': 0.00013475, 'atl_change_percentage': 19273.38027, 'atl_date': '2020-12-28T08:46:48.367Z', 'roi': None, 'last_updated': '2023-12-02T11:49:04.223Z', 'price_change_percentage_24h_in_currency': 0.9339039816145327}, {'id': 'bitget-token', 'symbol': 'bgb', 'name': 'Bitget Token', 'image': 'https://assets.coingecko.com/coins/images/11610/large/icon_colour.png?1696511504', 'current_price': 0.534874, 'market_cap': 748940572, 'market_cap_rank': 77, 'fully_diluted_valuation': 1069914339, 'total_volume': 15903834, 'high_24h': 0.53746, 'low_24h': 0.532, 'price_change_24h': 0.0022172, 'price_change_percentage_24h': 0.41625, 'market_cap_change_24h': 3368281, 'market_cap_change_percentage_24h': 0.45177, 'circulating_supply': 1400001000, 'total_supply': 2000000000, 'max_supply': 2000000000, 'ath': 0.583922, 'ath_change_percentage': -8.38545, 'ath_date': '2023-11-13T23:30:28.560Z', 'atl': 0.0142795, 'atl_change_percentage': 3646.32886, 'atl_date': '2020-06-25T04:17:05.895Z', 'roi': None, 'last_updated': '2023-12-02T11:48:59.640Z', 'price_change_percentage_24h_in_currency': 0.41625218467513014}, {'id': 'usdd', 'symbol': 'usdd', 'name': 'USDD', 'image': 'https://assets.coingecko.com/coins/images/25380/large/UUSD.jpg?1696524513', 'current_price': 0.993756, 'market_cap': 721101736, 'market_cap_rank': 78, 'fully_diluted_valuation': None, 'total_volume': 10747243, 'high_24h': 0.999112, 'low_24h': 0.990947, 'price_change_24h': -0.002427265958604208, 'price_change_percentage_24h': -0.24366, 'market_cap_change_24h': -2410920.7976078987, 'market_cap_change_percentage_24h': -0.33322, 'circulating_supply': 725332025.942248, 'total_supply': None, 'max_supply': None, 'ath': 1.052, 'ath_change_percentage': -5.50994, 'ath_date': '2023-10-23T22:45:25.398Z', 'atl': 0.928067, 'atl_change_percentage': 7.08974, 'atl_date': '2022-06-19T16:15:11.558Z', 'roi': None, 'last_updated': '2023-12-02T11:49:03.688Z', 'price_change_percentage_24h_in_currency': -0.24365650659588797}, {'id': 'illuvium', 'symbol': 'ilv', 'name': 'Illuvium', 'image': 'https://assets.coingecko.com/coins/images/14468/large/logo-200x200.png?1696514154', 'current_price': 110.55, 'market_cap': 671688168, 'market_cap_rank': 79, 'fully_diluted_valuation': 1061522916, 'total_volume': 27655399, 'high_24h': 112.28, 'low_24h': 106.91, 'price_change_24h': 1.094, 'price_change_percentage_24h': 0.99975, 'market_cap_change_24h': 5078957, 'market_cap_change_percentage_24h': 0.76191, 'circulating_supply': 6081865.6644904, 'total_supply': 9611662.19570628, 'max_supply': None, 'ath': 1911.26, 'ath_change_percentage': -94.2267, 'ath_date': '2021-11-30T15:18:57.382Z', 'atl': 29.23, 'atl_change_percentage': 277.54796, 'atl_date': '2021-06-22T14:11:59.151Z', 'roi': None, 'last_updated': '2023-12-02T11:48:58.331Z', 'price_change_percentage_24h_in_currency': 0.9997491585572029}, {'id': 'xdce-crowd-sale', 'symbol': 'xdc', 'name': 'XDC Network', 'image': 'https://assets.coingecko.com/coins/images/2912/large/xdc-icon.png?1696503661', 'current_price': 0.0483857, 'market_cap': 671056588, 'market_cap_rank': 80, 'fully_diluted_valuation': 1831229990, 'total_volume': 13527664, 'high_24h': 0.04861743, 'low_24h': 0.04775121, 'price_change_24h': 1.589e-05, 'price_change_percentage_24h': 0.03286, 'market_cap_change_24h': -11715.938017010689, 'market_cap_change_percentage_24h': -0.00175, 'circulating_supply': 13881294851.25, 'total_supply': 37880327674.95, 'max_supply': None, 'ath': 0.192754, 'ath_change_percentage': -74.92161, 'ath_date': '2021-08-21T04:39:48.324Z', 'atl': 0.00039532, 'atl_change_percentage': 12128.03591, 'atl_date': '2019-07-22T00:00:00.000Z', 'roi': {'times': 2.0618200125224653, 'currency': 'eth', 'percentage': 206.18200125224655}, 'last_updated': '2023-12-02T11:49:05.850Z', 'price_change_percentage_24h_in_currency': 0.032855087083450925}, {'id': 'frax', 'symbol': 'frax', 'name': 'Frax', 'image': 'https://assets.coingecko.com/coins/images/13422/large/FRAX_icon.png?1696513182', 'current_price': 1, 'market_cap': 669578578, 'market_cap_rank': 81, 'fully_diluted_valuation': 669578578, 'total_volume': 6824905, 'high_24h': 1.001, 'low_24h': 0.996896, 'price_change_24h': 0.00204776, 'price_change_percentage_24h': 0.20514, 'market_cap_change_24h': 931505, 'market_cap_change_percentage_24h': 0.13931, 'circulating_supply': 669655735.510511, 'total_supply': 669655735.510511, 'max_supply': None, 'ath': 1.14, 'ath_change_percentage': -12.31935, 'ath_date': '2021-02-07T12:55:35.766Z', 'atl': 0.874536, 'atl_change_percentage': 14.34116, 'atl_date': '2023-03-11T07:50:39.316Z', 'roi': None, 'last_updated': '2023-12-02T11:49:01.054Z', 'price_change_percentage_24h_in_currency': 0.2051357445028598}, {'id': 'pyth-network', 'symbol': 'pyth', 'name': 'Pyth Network', 'image': 'https://assets.coingecko.com/coins/images/31924/large/pyth.png?1701245725', 'current_price': 0.43591, 'market_cap': 654796688, 'market_cap_rank': 82, 'fully_diluted_valuation': 4365311253, 'total_volume': 57302549, 'high_24h': 0.436506, 'low_24h': 0.387321, 'price_change_24h': 0.0383866, 'price_change_percentage_24h': 9.65643, 'market_cap_change_24h': 57525906, 'market_cap_change_percentage_24h': 9.63146, 'circulating_supply': 1500000000, 'total_supply': 10000000000, 'max_supply': 10000000000, 'ath': 0.548655, 'ath_change_percentage': -20.47833, 'ath_date': '2023-11-24T11:35:22.240Z', 'atl': 0.280365, 'atl_change_percentage': 55.61864, 'atl_date': '2023-11-21T00:54:54.460Z', 'roi': None, 'last_updated': '2023-12-02T11:48:55.372Z', 'price_change_percentage_24h_in_currency': 9.656429413991425}, {'id': 'sui', 'symbol': 'sui', 'name': 'Sui', 'image': 'https://assets.coingecko.com/coins/images/26375/large/sui_asset.jpeg?1696525453', 'current_price': 0.617361, 'market_cap': 637666855, 'market_cap_rank': 83, 'fully_diluted_valuation': 6171392825, 'total_volume': 56649033, 'high_24h': 0.626506, 'low_24h': 0.605504, 'price_change_24h': 0.00665166, 'price_change_percentage_24h': 1.08917, 'market_cap_change_24h': 6231179, 'market_cap_change_percentage_24h': 0.98683, 'circulating_supply': 1033262462.93308, 'total_supply': 10000000000, 'max_supply': 10000000000, 'ath': 2.16, 'ath_change_percentage': -71.44913, 'ath_date': '2023-05-03T12:00:26.430Z', 'atl': 0.364846, 'atl_change_percentage': 69.22663, 'atl_date': '2023-10-19T10:40:30.078Z', 'roi': None, 'last_updated': '2023-12-02T11:49:03.808Z', 'price_change_percentage_24h_in_currency': 1.0891698322006962}, {'id': 'frax-ether', 'symbol': 'frxeth', 'name': 'Frax Ether', 'image': 'https://assets.coingecko.com/coins/images/28284/large/frxETH_icon.png?1696527284', 'current_price': 2098.27, 'market_cap': 625162391, 'market_cap_rank': 84, 'fully_diluted_valuation': 625162391, 'total_volume': 1031627, 'high_24h': 2105.67, 'low_24h': 2072.62, 'price_change_24h': 19.96, 'price_change_percentage_24h': 0.96039, 'market_cap_change_24h': 2050356, 'market_cap_change_percentage_24h': 0.32905, 'circulating_supply': 298015.793386122, 'total_supply': 298015.793386122, 'max_supply': None, 'ath': 2134.61, 'ath_change_percentage': -1.69375, 'ath_date': '2023-04-16T19:24:52.171Z', 'atl': 1137.25, 'atl_change_percentage': 84.52064, 'atl_date': '2022-11-23T02:25:33.267Z', 'roi': None, 'last_updated': '2023-12-02T11:49:03.891Z', 'price_change_percentage_24h_in_currency': 0.9603924483248846}, {'id': 'klay-token', 'symbol': 'klay', 'name': 'Klaytn', 'image': 'https://assets.coingecko.com/coins/images/9672/large/klaytn.png?1696509742', 'current_price': 0.190226, 'market_cap': 622747135, 'market_cap_rank': 85, 'fully_diluted_valuation': 1114267538, 'total_volume': 12858676, 'high_24h': 0.193527, 'low_24h': 0.188074, 'price_change_24h': 0.00101551, 'price_change_percentage_24h': 0.53671, 'market_cap_change_24h': 3528494, 'market_cap_change_percentage_24h': 0.56983, 'circulating_supply': 3273703756.22599, 'total_supply': 5857565003.0304, 'max_supply': None, 'ath': 4.34, 'ath_change_percentage': -95.61531, 'ath_date': '2021-03-30T03:44:28.828Z', 'atl': 0.06044, 'atl_change_percentage': 214.77386, 'atl_date': '2020-04-29T08:19:34.574Z', 'roi': None, 'last_updated': '2023-12-02T11:49:01.640Z', 'price_change_percentage_24h_in_currency': 0.5367097939140498}, {'id': 'tokenize-xchange', 'symbol': 'tkx', 'name': 'Tokenize Xchange', 'image': 'https://assets.coingecko.com/coins/images/4984/large/TKX_-_Logo_-_RGB-15.png?1696505519', 'current_price': 7.77, 'market_cap': 621780614, 'market_cap_rank': 86, 'fully_diluted_valuation': 777264632, 'total_volume': 11462900, 'high_24h': 7.79, 'low_24h': 7.62, 'price_change_24h': 0.02033136, 'price_change_percentage_24h': 0.26236, 'market_cap_change_24h': 2649764, 'market_cap_change_percentage_24h': 0.42798, 'circulating_supply': 79995999.94518414, 'total_supply': 100000000, 'max_supply': 100000000, 'ath': 22.3, 'ath_change_percentage': -65.13713, 'ath_date': '2022-10-31T10:23:59.455Z', 'atl': 0.111255, 'atl_change_percentage': 6886.76791, 'atl_date': '2019-04-28T00:00:00.000Z', 'roi': {'times': 25.745758682368425, 'currency': 'usd', 'percentage': 2574.575868236843}, 'last_updated': '2023-12-02T11:48:33.217Z', 'price_change_percentage_24h_in_currency': 0.26236349392986097}, {'id': 'cheelee', 'symbol': 'cheel', 'name': 'Cheelee', 'image': 'https://assets.coingecko.com/coins/images/28573/large/CHEEL_%D1%82%D0%BE%D0%BD%D0%BA%D0%B0%D1%8F_%D0%BE%D0%B1%D0%B2%D0%BE%D0%B4%D0%BA%D0%B0_%283%29.png?1696527561', 'current_price': 11.27, 'market_cap': 607871527, 'market_cap_rank': 87, 'fully_diluted_valuation': 11290684703, 'total_volume': 4192040, 'high_24h': 11.34, 'low_24h': 11.09, 'price_change_24h': 0.17693, 'price_change_percentage_24h': 1.59483, 'market_cap_change_24h': 10253395, 'market_cap_change_percentage_24h': 1.71571, 'circulating_supply': 53838322.7052605, 'total_supply': 1000000000, 'max_supply': 1000000000, 'ath': 17.32, 'ath_change_percentage': -35.01349, 'ath_date': '2023-07-16T21:40:08.888Z', 'atl': 3.44, 'atl_change_percentage': 227.23007, 'atl_date': '2023-02-13T02:53:08.933Z', 'roi': None, 'last_updated': '2023-12-02T11:48:57.375Z', 'price_change_percentage_24h_in_currency': 1.5948322814500488}, {'id': 'dydx', 'symbol': 'ethdydx', 'name': 'dYdX', 'image': 'https://assets.coingecko.com/coins/images/17500/large/hjnIm9bV.jpg?1696517040', 'current_price': 3.32, 'market_cap': 595988179, 'market_cap_rank': 88, 'fully_diluted_valuation': 3306211335, 'total_volume': 125348622, 'high_24h': 3.32, 'low_24h': 3.06, 'price_change_24h': 0.145488, 'price_change_percentage_24h': 4.57786, 'market_cap_change_24h': 23299091, 'market_cap_change_percentage_24h': 4.06837, 'circulating_supply': 180263182.87829316, 'total_supply': 1000000000, 'max_supply': 1000000000, 'ath': 27.86, 'ath_change_percentage': -88.10285, 'ath_date': '2021-09-30T01:23:43.570Z', 'atl': 1.011, 'atl_change_percentage': 227.98241, 'atl_date': '2022-06-18T20:55:50.603Z', 'roi': None, 'last_updated': '2023-12-02T11:49:05.696Z', 'price_change_percentage_24h_in_currency': 4.577862988456885}, {'id': 'apecoin', 'symbol': 'ape', 'name': 'ApeCoin', 'image': 'https://assets.coingecko.com/coins/images/24383/large/apecoin.jpg?1696523566', 'current_price': 1.62, 'market_cap': 595235170, 'market_cap_rank': 89, 'fully_diluted_valuation': 1614881344, 'total_volume': 41841321, 'high_24h': 1.63, 'low_24h': 1.59, 'price_change_24h': 0.00843056, 'price_change_percentage_24h': 0.5245, 'market_cap_change_24h': 2340186, 'market_cap_change_percentage_24h': 0.3947, 'circulating_supply': 368593750, 'total_supply': 1000000000, 'max_supply': 1000000000, 'ath': 26.7, 'ath_change_percentage': -93.947, 'ath_date': '2022-04-28T21:44:21.164Z', 'atl': 1.008, 'atl_change_percentage': 60.37883, 'atl_date': '2023-10-10T20:51:07.411Z', 'roi': None, 'last_updated': '2023-12-02T11:48:59.804Z', 'price_change_percentage_24h_in_currency': 0.5244958483840955}, {'id': 'frax-share', 'symbol': 'fxs', 'name': 'Frax Share', 'image': 'https://assets.coingecko.com/coins/images/13423/large/Frax_Shares_icon.png?1696513183', 'current_price': 7.87, 'market_cap': 590767227, 'market_cap_rank': 90, 'fully_diluted_valuation': 781504148, 'total_volume': 31303861, 'high_24h': 7.93, 'low_24h': 7.62, 'price_change_24h': 0.115226, 'price_change_percentage_24h': 1.48538, 'market_cap_change_24h': 11013771, 'market_cap_change_percentage_24h': 1.89973, 'circulating_supply': 75352844.7704768, 'total_supply': 99681495.5911336, 'max_supply': 99681495.5911336, 'ath': 42.8, 'ath_change_percentage': -81.62994, 'ath_date': '2022-01-12T15:22:27.465Z', 'atl': 1.5, 'atl_change_percentage': 423.05423, 'atl_date': '2021-06-25T16:50:51.447Z', 'roi': None, 'last_updated': '2023-12-02T11:49:05.579Z', 'price_change_percentage_24h_in_currency': 1.4853815502223482}, {'id': 'gatechain-token', 'symbol': 'gt', 'name': 'Gate', 'image': 'https://assets.coingecko.com/coins/images/8183/large/gate.png?1696508395', 'current_price': 4.29, 'market_cap': 584683401, 'market_cap_rank': 91, 'fully_diluted_valuation': 1287543588, 'total_volume': 844331, 'high_24h': 4.3, 'low_24h': 4.28, 'price_change_24h': 0.01408465, 'price_change_percentage_24h': 0.32923, 'market_cap_change_24h': 1405047, 'market_cap_change_percentage_24h': 0.24089, 'circulating_supply': 136232296.7235079, 'total_supply': 300000000, 'max_supply': None, 'ath': 12.94, 'ath_change_percentage': -66.83964, 'ath_date': '2021-05-12T11:39:16.531Z', 'atl': 0.25754, 'atl_change_percentage': 1566.36804, 'atl_date': '2020-03-13T02:18:02.481Z', 'roi': None, 'last_updated': '2023-12-02T11:48:43.033Z', 'price_change_percentage_24h_in_currency': 0.329229504837638}, {'id': 'ecash', 'symbol': 'xec', 'name': 'eCash', 'image': 'https://assets.coingecko.com/coins/images/16646/large/Logo_final-22.png?1696516207', 'current_price': 2.988e-05, 'market_cap': 584238261, 'market_cap_rank': 92, 'fully_diluted_valuation': 626989674, 'total_volume': 8425539, 'high_24h': 3.175e-05, 'low_24h': 2.891e-05, 'price_change_24h': 8.79909e-07, 'price_change_percentage_24h': 3.03412, 'market_cap_change_24h': 15165404, 'market_cap_change_percentage_24h': 2.66493, 'circulating_supply': 19568110923093, 'total_supply': 21000000000000, 'max_supply': 21000000000000, 'ath': 0.00038001, 'ath_change_percentage': -92.14139, 'ath_date': '2021-09-04T17:09:31.137Z', 'atl': 1.847e-05, 'atl_change_percentage': 61.68865, 'atl_date': '2021-07-20T20:49:46.212Z', 'roi': None, 'last_updated': '2023-12-02T11:48:59.552Z', 'price_change_percentage_24h_in_currency': 3.0341160133503875}, {'id': 'blur', 'symbol': 'blur', 'name': 'Blur', 'image': 'https://assets.coingecko.com/coins/images/28453/large/blur.png?1696527448', 'current_price': 0.51458, 'market_cap': 576637819, 'market_cap_rank': 93, 'fully_diluted_valuation': 1540767341, 'total_volume': 91102957, 'high_24h': 0.521341, 'low_24h': 0.493207, 'price_change_24h': 0.00222758, 'price_change_percentage_24h': 0.43478, 'market_cap_change_24h': 230028, 'market_cap_change_percentage_24h': 0.03991, 'circulating_supply': 1122760984.58904, 'total_supply': 3000000000, 'max_supply': 3000000000, 'ath': 5.02, 'ath_change_percentage': -89.74133, 'ath_date': '2023-02-14T17:33:55.928Z', 'atl': 0.153143, 'atl_change_percentage': 236.02512, 'atl_date': '2023-10-12T17:10:39.401Z', 'roi': None, 'last_updated': '2023-12-02T11:49:00.104Z', 'price_change_percentage_24h_in_currency': 0.434776082514783}, {'id': 'fetch-ai', 'symbol': 'fet', 'name': 'Fetch.ai', 'image': 'https://assets.coingecko.com/coins/images/5681/large/Fetch.jpg?1696506140', 'current_price': 0.552189, 'market_cap': 573335268, 'market_cap_rank': 94, 'fully_diluted_valuation': 633519633, 'total_volume': 119317124, 'high_24h': 0.5781, 'low_24h': 0.525485, 'price_change_24h': 0.00403164, 'price_change_percentage_24h': 0.73549, 'market_cap_change_24h': 1025739, 'market_cap_change_percentage_24h': 0.17923, 'circulating_supply': 1043462805, 'total_supply': 1152997575, 'max_supply': 1152997575, 'ath': 1.17, 'ath_change_percentage': -53.11805, 'ath_date': '2021-09-08T02:24:24.858Z', 'atl': 0.00816959, 'atl_change_percentage': 6625.60329, 'atl_date': '2020-03-13T02:24:18.347Z', 'roi': {'times': 5.368967427132265, 'currency': 'usd', 'percentage': 536.8967427132266}, 'last_updated': '2023-12-02T11:49:04.417Z', 'price_change_percentage_24h_in_currency': 0.7354882913118063}, {'id': 'radix', 'symbol': 'xrd', 'name': 'Radix', 'image': 'https://assets.coingecko.com/coins/images/4374/large/Radix.png?1696504973', 'current_price': 0.055485, 'market_cap': 571093723, 'market_cap_rank': 95, 'fully_diluted_valuation': 703991703, 'total_volume': 2704363, 'high_24h': 0.055832, 'low_24h': 0.052082, 'price_change_24h': 0.00161123, 'price_change_percentage_24h': 2.99073, 'market_cap_change_24h': 17683069, 'market_cap_change_percentage_24h': 3.19529, 'circulating_supply': 10313361672.3109, 'total_supply': 12713361672.4109, 'max_supply': 24000000000, 'ath': 0.651264, 'ath_change_percentage': -91.49793, 'ath_date': '2021-11-14T16:09:27.130Z', 'atl': 0.03145312, 'atl_change_percentage': 76.04255, 'atl_date': '2022-11-29T23:20:09.754Z', 'roi': None, 'last_updated': '2023-12-02T11:48:57.261Z', 'price_change_percentage_24h_in_currency': 2.9907308704943127}, {'id': 'arweave', 'symbol': 'ar', 'name': 'Arweave', 'image': 'https://assets.coingecko.com/coins/images/4343/large/oRt6SiEN_400x400.jpg?1696504946', 'current_price': 8.4, 'market_cap': 549014344, 'market_cap_rank': 96, 'fully_diluted_valuation': 549014344, 'total_volume': 13826405, 'high_24h': 8.63, 'low_24h': 8.28, 'price_change_24h': 0.01361948, 'price_change_percentage_24h': 0.16245, 'market_cap_change_24h': 883414, 'market_cap_change_percentage_24h': 0.16117, 'circulating_supply': 65454185.5381511, 'total_supply': 65454185.5381511, 'max_supply': 66000000, 'ath': 89.24, 'ath_change_percentage': -90.60037, 'ath_date': '2021-11-05T04:14:42.689Z', 'atl': 0.298788, 'atl_change_percentage': 2707.26763, 'atl_date': '2020-01-31T06:47:36.543Z', 'roi': {'times': 10.347906040193294, 'currency': 'usd', 'percentage': 1034.7906040193293}, 'last_updated': '2023-12-02T11:48:59.133Z', 'price_change_percentage_24h_in_currency': 0.16244931220213932}, {'id': 'conflux-token', 'symbol': 'cfx', 'name': 'Conflux', 'image': 'https://assets.coingecko.com/coins/images/13079/large/3vuYMbjN.png?1696512867', 'current_price': 0.158269, 'market_cap': 546702588, 'market_cap_rank': 97, 'fully_diluted_valuation': 860210610, 'total_volume': 21842177, 'high_24h': 0.159712, 'low_24h': 0.151232, 'price_change_24h': 0.00529043, 'price_change_percentage_24h': 3.45829, 'market_cap_change_24h': 17487464, 'market_cap_change_percentage_24h': 3.30441, 'circulating_supply': 3460557696.81398, 'total_supply': 5445023517.79913, 'max_supply': None, 'ath': 1.7, 'ath_change_percentage': -90.71164, 'ath_date': '2021-03-27T03:43:35.178Z', 'atl': 0.02199898, 'atl_change_percentage': 618.12729, 'atl_date': '2022-12-30T08:16:30.345Z', 'roi': None, 'last_updated': '2023-12-02T11:48:59.055Z', 'price_change_percentage_24h_in_currency': 3.4582888483701986}, {'id': 'rocket-pool', 'symbol': 'rpl', 'name': 'Rocket Pool', 'image': 'https://assets.coingecko.com/coins/images/2090/large/rocket_pool_%28RPL%29.png?1696503058', 'current_price': 27.38, 'market_cap': 545530045, 'market_cap_rank': 98, 'fully_diluted_valuation': 545530045, 'total_volume': 3601217, 'high_24h': 27.4, 'low_24h': 27.01, 'price_change_24h': 0.08455, 'price_change_percentage_24h': 0.30974, 'market_cap_change_24h': 1738489, 'market_cap_change_percentage_24h': 0.3197, 'circulating_supply': 19916752.6973577, 'total_supply': 19916752.6973577, 'max_supply': None, 'ath': 61.9, 'ath_change_percentage': -55.75466, 'ath_date': '2023-04-16T19:20:19.534Z', 'atl': 0.00884718, 'atl_change_percentage': 309455.76753, 'atl_date': '2018-08-28T00:00:00.000Z', 'roi': None, 'last_updated': '2023-12-02T11:49:01.533Z', 'price_change_percentage_24h_in_currency': 0.3097430938906511}, {'id': 'pancakeswap-token', 'symbol': 'cake', 'name': 'PancakeSwap', 'image': 'https://assets.coingecko.com/coins/images/12632/large/pancakeswap-cake-logo_%281%29.png?1696512440', 'current_price': 2.31, 'market_cap': 542502099, 'market_cap_rank': 99, 'fully_diluted_valuation': 894975551, 'total_volume': 41208308, 'high_24h': 2.35, 'low_24h': 2.3, 'price_change_24h': -0.00892147659225273, 'price_change_percentage_24h': -0.38416, 'market_cap_change_24h': -1980743.4516830444, 'market_cap_change_percentage_24h': -0.36378, 'circulating_supply': 234427857.301341, 'total_supply': 386739887.786955, 'max_supply': 750000000, 'ath': 43.96, 'ath_change_percentage': -94.73897, 'ath_date': '2021-04-30T10:08:22.934Z', 'atl': 0.194441, 'atl_change_percentage': 1089.56155, 'atl_date': '2020-11-03T14:29:34.165Z', 'roi': None, 'last_updated': '2023-12-02T11:49:05.659Z', 'price_change_percentage_24h_in_currency': -0.38415859934128965}, {'id': 'rollbit-coin', 'symbol': 'rlb', 'name': 'Rollbit Coin', 'image': 'https://assets.coingecko.com/coins/images/24552/large/unziL6wO_400x400.jpg?1696523729', 'current_price': 0.175718, 'market_cap': 541459453, 'market_cap_rank': 100, 'fully_diluted_valuation': 541459453, 'total_volume': 4250348, 'high_24h': 0.182516, 'low_24h': 0.174759, 'price_change_24h': -0.003026863427398385, 'price_change_percentage_24h': -1.6934, 'market_cap_change_24h': -7611803.527536035, 'market_cap_change_percentage_24h': -1.38631, 'circulating_supply': 3067427933.62342, 'total_supply': 3067427933.62342, 'max_supply': 5000000000, 'ath': 0.264358, 'ath_change_percentage': -33.50937, 'ath_date': '2023-11-11T17:10:05.473Z', 'atl': 0.00093506, 'atl_change_percentage': 18698.07412, 'atl_date': '2022-07-02T02:46:34.730Z', 'roi': None, 'last_updated': '2023-12-02T11:48:48.565Z', 'price_change_percentage_24h_in_currency': -1.6933988339704937}, {'id': 'curve-dao-token', 'symbol': 'crv', 'name': 'Curve DAO', 'image': 'https://assets.coingecko.com/coins/images/12124/large/Curve.png?1696511967', 'current_price': 0.581131, 'market_cap': 536845364, 'market_cap_rank': 101, 'fully_diluted_valuation': 1184297556, 'total_volume': 52666648, 'high_24h': 0.583167, 'low_24h': 0.562736, 'price_change_24h': 0.01134845, 'price_change_percentage_24h': 1.99172, 'market_cap_change_24h': 8594495, 'market_cap_change_percentage_24h': 1.62697, 'circulating_supply': 926938213, 'total_supply': 2044854504.85547, 'max_supply': 3303030299, 'ath': 15.37, 'ath_change_percentage': -96.22664, 'ath_date': '2020-08-14T00:00:00.000Z', 'atl': 0.331577, 'atl_change_percentage': 74.93517, 'atl_date': '2020-11-05T13:09:50.181Z', 'roi': None, 'last_updated': '2023-12-02T11:48:56.126Z', 'price_change_percentage_24h_in_currency': 1.9917168428127}, {'id': 'gas', 'symbol': 'gas', 'name': 'Gas', 'image': 'https://assets.coingecko.com/coins/images/858/large/GAS_512_512.png?1696501992', 'current_price': 8.14, 'market_cap': 529154111, 'market_cap_rank': 102, 'fully_diluted_valuation': 529154111, 'total_volume': 18991915, 'high_24h': 8.16, 'low_24h': 7.89, 'price_change_24h': 0.209284, 'price_change_percentage_24h': 2.64003, 'market_cap_change_24h': 12056359, 'market_cap_change_percentage_24h': 2.33154, 'circulating_supply': 65093580.54427269, 'total_supply': 65093580.54427269, 'max_supply': None, 'ath': 91.94, 'ath_change_percentage': -91.15828, 'ath_date': '2018-01-15T00:00:00.000Z', 'atl': 0.621309, 'atl_change_percentage': 1208.38253, 'atl_date': '2020-03-13T02:24:16.507Z', 'roi': None, 'last_updated': '2023-12-02T11:48:54.561Z', 'price_change_percentage_24h_in_currency': 2.640029142933632}, {'id': 'beam-2', 'symbol': 'beam', 'name': 'Beam', 'image': 'https://assets.coingecko.com/coins/images/32417/large/chain-logo.png?1698114384', 'current_price': 0.01164122, 'market_cap': 526240075, 'market_cap_rank': 103, 'fully_diluted_valuation': 729340486, 'total_volume': 63162976, 'high_24h': 0.01203406, 'low_24h': 0.00956468, 'price_change_24h': 0.00191472, 'price_change_percentage_24h': 19.68562, 'market_cap_change_24h': 86222148, 'market_cap_change_percentage_24h': 19.59514, 'circulating_supply': 45178558616.5809, 'total_supply': 62615056183.5095, 'max_supply': 62615056183.5095, 'ath': 0.01203406, 'ath_change_percentage': -3.2262, 'ath_date': '2023-12-02T07:55:03.581Z', 'atl': 0.0043383, 'atl_change_percentage': 168.44178, 'atl_date': '2023-10-29T08:20:14.064Z', 'roi': None, 'last_updated': '2023-12-02T11:48:56.571Z', 'price_change_percentage_24h_in_currency': 19.685618996496473}, {'id': 'gnosis', 'symbol': 'gno', 'name': 'Gnosis', 'image': 'https://assets.coingecko.com/coins/images/662/large/logo_square_simple_300px.png?1696501854', 'current_price': 203.41, 'market_cap': 526007590, 'market_cap_rank': 104, 'fully_diluted_valuation': 609371900, 'total_volume': 2208693, 'high_24h': 203.57, 'low_24h': 195.65, 'price_change_24h': 6.61, 'price_change_percentage_24h': 3.3569, 'market_cap_change_24h': 16036801, 'market_cap_change_percentage_24h': 3.14465, 'circulating_supply': 2589589, 'total_supply': 3000000, 'max_supply': 3000000, 'ath': 644.2, 'ath_change_percentage': -68.45954, 'ath_date': '2021-11-08T17:33:29.302Z', 'atl': 6.88, 'atl_change_percentage': 2851.50285, 'atl_date': '2020-03-13T02:24:11.825Z', 'roi': None, 'last_updated': '2023-12-02T11:49:04.336Z', 'price_change_percentage_24h_in_currency': 3.3569044529048258}, {'id': 'chiliz', 'symbol': 'chz', 'name': 'Chiliz', 'image': 'https://assets.coingecko.com/coins/images/8834/large/CHZ_Token_updated.png?1696508986', 'current_price': 0.07532, 'market_cap': 524873533, 'market_cap_rank': 105, 'fully_diluted_valuation': 668832929, 'total_volume': 38510858, 'high_24h': 0.076006, 'low_24h': 0.073172, 'price_change_24h': 0.00172154, 'price_change_percentage_24h': 2.33909, 'market_cap_change_24h': 11417443, 'market_cap_change_percentage_24h': 2.22365, 'circulating_supply': 6975647158.46, 'total_supply': 8888888888, 'max_supply': 8888888888, 'ath': 0.878633, 'ath_change_percentage': -91.43393, 'ath_date': '2021-03-13T08:04:21.200Z', 'atl': 0.00410887, 'atl_change_percentage': 1731.75117, 'atl_date': '2019-09-28T00:00:00.000Z', 'roi': {'times': 2.4236454730109624, 'currency': 'usd', 'percentage': 242.36454730109622}, 'last_updated': '2023-12-02T11:49:01.794Z', 'price_change_percentage_24h_in_currency': 2.339086025044199}, {'id': 'tether-gold', 'symbol': 'xaut', 'name': 'Tether Gold', 'image': 'https://assets.coingecko.com/coins/images/10481/large/Tether_Gold.png?1696510471', 'current_price': 2068.92, 'market_cap': 510066840, 'market_cap_rank': 106, 'fully_diluted_valuation': 510066840, 'total_volume': 3007131, 'high_24h': 2072.15, 'low_24h': 2032.03, 'price_change_24h': 31.16, 'price_change_percentage_24h': 1.52921, 'market_cap_change_24h': 7308100, 'market_cap_change_percentage_24h': 1.4536, 'circulating_supply': 246524.33, 'total_supply': 246524.33, 'max_supply': None, 'ath': 2169.74, 'ath_change_percentage': -4.63936, 'ath_date': '2023-03-15T20:36:21.941Z', 'atl': 1447.84, 'atl_change_percentage': 42.90783, 'atl_date': '2020-03-19T13:45:41.821Z', 'roi': None, 'last_updated': '2023-12-02T11:48:57.479Z', 'price_change_percentage_24h_in_currency': 1.5292130127092791}, {'id': 'ordinals', 'symbol': 'ordi', 'name': 'ORDI', 'image': 'https://assets.coingecko.com/coins/images/30162/large/ordi.png?1696529082', 'current_price': 24.16, 'market_cap': 504545750, 'market_cap_rank': 107, 'fully_diluted_valuation': 504545750, 'total_volume': 128194480, 'high_24h': 24.34, 'low_24h': 21.03, 'price_change_24h': 2.6, 'price_change_percentage_24h': 12.07943, 'market_cap_change_24h': 50666205, 'market_cap_change_percentage_24h': 11.16292, 'circulating_supply': 21000000, 'total_supply': 21000000, 'max_supply': None, 'ath': 28.52, 'ath_change_percentage': -15.19476, 'ath_date': '2023-05-08T10:00:30.880Z', 'atl': 2.86, 'atl_change_percentage': 745.26608, 'atl_date': '2023-09-11T15:22:32.140Z', 'roi': None, 'last_updated': '2023-12-02T11:49:00.769Z', 'price_change_percentage_24h_in_currency': 12.079431145141719}, {'id': 'trust-wallet-token', 'symbol': 'twt', 'name': 'Trust Wallet', 'image': 'https://assets.coingecko.com/coins/images/11085/large/Trust.png?1696511026', 'current_price': 1.2, 'market_cap': 499199455, 'market_cap_rank': 108, 'fully_diluted_valuation': 1198126905, 'total_volume': 28273207, 'high_24h': 1.21, 'low_24h': 1.11, 'price_change_24h': 0.075344, 'price_change_percentage_24h': 6.70525, 'market_cap_change_24h': 30495246, 'market_cap_change_percentage_24h': 6.50629, 'circulating_supply': 416649900, 'total_supply': 1000000000, 'max_supply': None, 'ath': 2.72, 'ath_change_percentage': -55.99153, 'ath_date': '2022-12-11T23:25:46.205Z', 'atl': 0.00277641, 'atl_change_percentage': 43028.7035, 'atl_date': '2020-06-09T09:15:06.983Z', 'roi': None, 'last_updated': '2023-12-02T11:49:04.464Z', 'price_change_percentage_24h_in_currency': 6.705249070788359}, {'id': 'compound-ether', 'symbol': 'ceth', 'name': 'cETH', 'image': 'https://assets.coingecko.com/coins/images/10643/large/ceth.png?1696510617', 'current_price': 42.17, 'market_cap': 493382350, 'market_cap_rank': 109, 'fully_diluted_valuation': 493382352, 'total_volume': 17, 'high_24h': 42.39, 'low_24h': 41.63, 'price_change_24h': 0.15136, 'price_change_percentage_24h': 0.3602, 'market_cap_change_24h': 1223081, 'market_cap_change_percentage_24h': 0.24851, 'circulating_supply': 11699296.9350032, 'total_supply': 11699296.9972219, 'max_supply': None, 'ath': 97.75, 'ath_change_percentage': -56.85757, 'ath_date': '2021-11-21T12:39:57.508Z', 'atl': 1.89, 'atl_change_percentage': 2135.71174, 'atl_date': '2020-03-13T02:22:33.711Z', 'roi': None, 'last_updated': '2023-12-02T11:40:01.382Z', 'price_change_percentage_24h_in_currency': 0.360204622635001}, {'id': 'pepe', 'symbol': 'pepe', 'name': 'Pepe', 'image': 'https://assets.coingecko.com/coins/images/29850/large/pepe-token.jpeg?1696528776', 'current_price': 1.15e-06, 'market_cap': 481290215, 'market_cap_rank': 110, 'fully_diluted_valuation': 481290215, 'total_volume': 41875460, 'high_24h': 1.15e-06, 'low_24h': 1.08e-06, 'price_change_24h': 4.9985e-08, 'price_change_percentage_24h': 4.5341, 'market_cap_change_24h': 16886599, 'market_cap_change_percentage_24h': 3.63619, 'circulating_supply': 420690000000000, 'total_supply': 420690000000000, 'max_supply': 420690000000000, 'ath': 4.31e-06, 'ath_change_percentage': -73.31387, 'ath_date': '2023-05-05T16:50:45.302Z', 'atl': 5.5142e-08, 'atl_change_percentage': 1984.41466, 'atl_date': '2023-04-18T02:14:41.591Z', 'roi': None, 'last_updated': '2023-12-02T11:49:03.229Z', 'price_change_percentage_24h_in_currency': 4.5340981992424245}, {'id': 'terrausd', 'symbol': 'ustc', 'name': 'TerraClassicUSD', 'image': 'https://assets.coingecko.com/coins/images/12681/large/UST.png?1696512486', 'current_price': 0.053287, 'market_cap': 478645397, 'market_cap_rank': 111, 'fully_diluted_valuation': 521760663, 'total_volume': 176557703, 'high_24h': 0.054492, 'low_24h': 0.050741, 'price_change_24h': 0.00231178, 'price_change_percentage_24h': 4.5351, 'market_cap_change_24h': 11980303, 'market_cap_change_percentage_24h': 2.56722, 'circulating_supply': 8975798392.55928, 'total_supply': 9784317475.47775, 'max_supply': None, 'ath': 1.092, 'ath_change_percentage': -95.12679, 'ath_date': '2021-01-11T22:30:57.984Z', 'atl': 0.00601921, 'atl_change_percentage': 784.01891, 'atl_date': '2022-06-18T20:35:39.169Z', 'roi': None, 'last_updated': '2023-12-02T11:48:58.166Z', 'price_change_percentage_24h_in_currency': 4.535096388943947}, {'id': 'terra-luna-2', 'symbol': 'luna', 'name': 'Terra', 'image': 'https://assets.coingecko.com/coins/images/25767/large/01_Luna_color.png?1696524851', 'current_price': 0.802732, 'market_cap': 477136016, 'market_cap_rank': 112, 'fully_diluted_valuation': 866836996, 'total_volume': 144925308, 'high_24h': 0.820897, 'low_24h': 0.738124, 'price_change_24h': 0.056033, 'price_change_percentage_24h': 7.50408, 'market_cap_change_24h': 34179985, 'market_cap_change_percentage_24h': 7.71634, 'circulating_supply': 593652556.82162, 'total_supply': 1078518456.25778, 'max_supply': None, 'ath': 18.87, 'ath_change_percentage': -95.7399, 'ath_date': '2022-05-28T09:18:14.847Z', 'atl': 0.377574, 'atl_change_percentage': 112.91225, 'atl_date': '2023-09-21T11:01:04.794Z', 'roi': None, 'last_updated': '2023-12-02T11:48:57.136Z', 'price_change_percentage_24h_in_currency': 7.504084427497956}, {'id': 'gmx', 'symbol': 'gmx', 'name': 'GMX', 'image': 'https://assets.coingecko.com/coins/images/18323/large/arbit.png?1696517814', 'current_price': 51.27, 'market_cap': 473548857, 'market_cap_rank': 113, 'fully_diluted_valuation': 473550627, 'total_volume': 15761239, 'high_24h': 51.42, 'low_24h': 50.49, 'price_change_24h': 0.355416, 'price_change_percentage_24h': 0.69808, 'market_cap_change_24h': 2479282, 'market_cap_change_percentage_24h': 0.52631, 'circulating_supply': 9249580.29569831, 'total_supply': 9249614.87866996, 'max_supply': 13250000, 'ath': 91.07, 'ath_change_percentage': -43.74204, 'ath_date': '2023-04-18T10:00:25.680Z', 'atl': 11.53, 'atl_change_percentage': 344.21334, 'atl_date': '2022-06-15T09:30:22.146Z', 'roi': None, 'last_updated': '2023-12-02T11:48:55.818Z', 'price_change_percentage_24h_in_currency': 0.6980759465957252}, {'id': 'pax-gold', 'symbol': 'paxg', 'name': 'PAX Gold', 'image': 'https://assets.coingecko.com/coins/images/9519/large/paxgold.png?1696509604', 'current_price': 2045.63, 'market_cap': 473449193, 'market_cap_rank': 114, 'fully_diluted_valuation': 473449193, 'total_volume': 14154138, 'high_24h': 2056.48, 'low_24h': 2019.25, 'price_change_24h': 21.77, 'price_change_percentage_24h': 1.07581, 'market_cap_change_24h': 5041259, 'market_cap_change_percentage_24h': 1.07625, 'circulating_supply': 231428.391, 'total_supply': 231428.391, 'max_supply': None, 'ath': 2241.37, 'ath_change_percentage': -8.7268, 'ath_date': '2021-05-17T19:02:29.657Z', 'atl': 1399.64, 'atl_change_percentage': 46.16383, 'atl_date': '2019-11-18T03:09:35.959Z', 'roi': None, 'last_updated': '2023-12-02T11:48:58.214Z', 'price_change_percentage_24h_in_currency': 1.0758058605188854}, {'id': 'staked-frax-ether', 'symbol': 'sfrxeth', 'name': 'Staked Frax Ether', 'image': 'https://assets.coingecko.com/coins/images/28285/large/sfrxETH_icon.png?1696527285', 'current_price': 2237.21, 'market_cap': 473111130, 'market_cap_rank': 115, 'fully_diluted_valuation': 473111130, 'total_volume': 69982, 'high_24h': 2240.78, 'low_24h': 2213.79, 'price_change_24h': 6.03, 'price_change_percentage_24h': 0.27018, 'market_cap_change_24h': 942709, 'market_cap_change_percentage_24h': 0.19966, 'circulating_supply': 211532.470857651, 'total_supply': 211532.470857651, 'max_supply': None, 'ath': 7545.09, 'ath_change_percentage': -70.34902, 'ath_date': '2023-02-16T07:51:36.849Z', 'atl': 1147.58, 'atl_change_percentage': 94.94813, 'atl_date': '2022-12-23T11:50:57.675Z', 'roi': None, 'last_updated': '2023-12-02T11:48:53.225Z', 'price_change_percentage_24h_in_currency': 0.27018292327262156}, {'id': 'compound-wrapped-btc', 'symbol': 'cwbtc', 'name': 'cWBTC', 'image': 'https://assets.coingecko.com/coins/images/10823/large/cwbtc.png?1696510780', 'current_price': 778.03, 'market_cap': 458638603, 'market_cap_rank': 116, 'fully_diluted_valuation': 458638603, 'total_volume': 0, 'high_24h': 780.78, 'low_24h': 768.33, 'price_change_24h': 2.19, 'price_change_percentage_24h': 0.28251, 'market_cap_change_24h': 750436, 'market_cap_change_percentage_24h': 0.16389, 'circulating_supply': 589688.61125866, 'total_supply': 589688.61125866, 'max_supply': None, 'ath': 1380.82, 'ath_change_percentage': -43.67372, 'ath_date': '2021-11-10T14:26:27.129Z', 'atl': 91.15, 'atl_change_percentage': 753.2697, 'atl_date': '2020-03-16T11:09:17.436Z', 'roi': None, 'last_updated': '2023-12-02T11:45:01.604Z', 'price_change_percentage_24h_in_currency': 0.2825089171358444}, {'id': 'sei-network', 'symbol': 'sei', 'name': 'Sei', 'image': 'https://assets.coingecko.com/coins/images/28205/large/Sei_Logo_-_Transparent.png?1696527207', 'current_price': 0.251714, 'market_cap': 451821097, 'market_cap_rank': 117, 'fully_diluted_valuation': 2510117205, 'total_volume': 75014976, 'high_24h': 0.252701, 'low_24h': 0.238387, 'price_change_24h': 0.00611473, 'price_change_percentage_24h': 2.48972, 'market_cap_change_24h': 8288087, 'market_cap_change_percentage_24h': 1.86865, 'circulating_supply': 1800000000, 'total_supply': 10000000000, 'max_supply': None, 'ath': 0.296983, 'ath_change_percentage': -15.22284, 'ath_date': '2023-11-29T06:55:08.925Z', 'atl': 0.095364, 'atl_change_percentage': 164.01423, 'atl_date': '2023-10-19T08:05:30.655Z', 'roi': None, 'last_updated': '2023-12-02T11:49:04.721Z', 'price_change_percentage_24h_in_currency': 2.489715434197839}, {'id': 'bittorrent', 'symbol': 'btt', 'name': 'BitTorrent', 'image': 'https://assets.coingecko.com/coins/images/22457/large/btt_logo.png?1696521780', 'current_price': 4.74297e-07, 'market_cap': 450764537, 'market_cap_rank': 118, 'fully_diluted_valuation': 469042156, 'total_volume': 9177560, 'high_24h': 4.74814e-07, 'low_24h': 4.61228e-07, 'price_change_24h': 8.291e-09, 'price_change_percentage_24h': 1.77925, 'market_cap_change_24h': 5352751, 'market_cap_change_percentage_24h': 1.20175, 'circulating_supply': 951421714286000, 'total_supply': 990000000000000, 'max_supply': 990000000000000, 'ath': 3.43e-06, 'ath_change_percentage': -86.17462, 'ath_date': '2022-01-21T04:00:31.909Z', 'atl': 3.65368e-07, 'atl_change_percentage': 29.84059, 'atl_date': '2023-10-13T05:10:41.241Z', 'roi': None, 'last_updated': '2023-12-02T11:49:04.599Z', 'price_change_percentage_24h_in_currency': 1.7792521367677683}, {'id': 'huobi-token', 'symbol': 'ht', 'name': 'Huobi', 'image': 'https://assets.coingecko.com/coins/images/2822/large/huobi-token-logo.png?1696503584', 'current_price': 2.81, 'market_cap': 447707920, 'market_cap_rank': 119, 'fully_diluted_valuation': 564669045, 'total_volume': 5229085, 'high_24h': 2.83, 'low_24h': 2.79, 'price_change_24h': -0.0209018539320045, 'price_change_percentage_24h': -0.73854, 'market_cap_change_24h': -4909671.810449243, 'market_cap_change_percentage_24h': -1.08473, 'circulating_supply': 159406077, 'total_supply': 201050000, 'max_supply': 201050000, 'ath': 39.66, 'ath_change_percentage': -92.91892, 'ath_date': '2021-05-12T14:42:21.586Z', 'atl': 0.3138, 'atl_change_percentage': 794.96852, 'atl_date': '2023-03-10T05:05:00+08:00', 'roi': {'times': 1.8376409415462809, 'currency': 'usd', 'percentage': 183.76409415462808}, 'last_updated': '2023-12-02T11:48:55.154Z', 'price_change_percentage_24h_in_currency': -0.7385379896721215}, {'id': 'paxos-standard', 'symbol': 'usdp', 'name': 'Pax Dollar', 'image': 'https://assets.coingecko.com/coins/images/6013/large/Pax_Dollar.png?1696506427', 'current_price': 1.001, 'market_cap': 446837987, 'market_cap_rank': 120, 'fully_diluted_valuation': 446837987, 'total_volume': 2300035, 'high_24h': 1.005, 'low_24h': 0.998281, 'price_change_24h': 0.00062133, 'price_change_percentage_24h': 0.06213, 'market_cap_change_24h': -20781.430868327618, 'market_cap_change_percentage_24h': -0.00465, 'circulating_supply': 446640156.510683, 'total_supply': 446640156.510683, 'max_supply': None, 'ath': 1.13, 'ath_change_percentage': -11.28267, 'ath_date': '2018-10-15T07:09:12.459Z', 'atl': 0.863529, 'atl_change_percentage': 15.85517, 'atl_date': '2021-05-19T13:14:42.046Z', 'roi': {'times': 0.000631735064762, 'currency': 'usd', 'percentage': 0.0631735064762}, 'last_updated': '2023-12-02T11:49:00.393Z', 'price_change_percentage_24h_in_currency': 0.06213199062869223}, {'id': 'zcash', 'symbol': 'zec', 'name': 'Zcash', 'image': 'https://assets.coingecko.com/coins/images/486/large/circle-zcash-color.png?1696501740', 'current_price': 30.4, 'market_cap': 440877098, 'market_cap_rank': 121, 'fully_diluted_valuation': 639795793, 'total_volume': 45592736, 'high_24h': 30.57, 'low_24h': 29.31, 'price_change_24h': 0.853556, 'price_change_percentage_24h': 2.8889, 'market_cap_change_24h': 12303822, 'market_cap_change_percentage_24h': 2.87088, 'circulating_supply': 14470897.0405448, 'total_supply': 21000000, 'max_supply': 21000000, 'ath': 3191.93, 'ath_change_percentage': -99.04552, 'ath_date': '2016-10-29T00:00:00.000Z', 'atl': 19.75, 'atl_change_percentage': 54.23204, 'atl_date': '2020-03-13T02:20:55.002Z', 'roi': None, 'last_updated': '2023-12-02T11:48:55.780Z', 'price_change_percentage_24h_in_currency': 2.88889508224878}, {'id': 'osmosis', 'symbol': 'osmo', 'name': 'Osmosis', 'image': 'https://assets.coingecko.com/coins/images/16724/large/osmo.png?1696516298', 'current_price': 0.700689, 'market_cap': 439561750, 'market_cap_rank': 122, 'fully_diluted_valuation': 697188533, 'total_volume': 7301213, 'high_24h': 0.700439, 'low_24h': 0.68629, 'price_change_24h': 0.00159595, 'price_change_percentage_24h': 0.22829, 'market_cap_change_24h': -872147.5152392387, 'market_cap_change_percentage_24h': -0.19802, 'circulating_supply': 630464543, 'total_supply': 999979298, 'max_supply': 1000000000, 'ath': 11.25, 'ath_change_percentage': -93.7934, 'ath_date': '2022-03-04T05:12:18.707Z', 'atl': 0.224523, 'atl_change_percentage': 210.96353, 'atl_date': '2023-10-19T17:45:36.695Z', 'roi': None, 'last_updated': '2023-12-02T11:48:59.002Z', 'price_change_percentage_24h_in_currency': 0.2282883350279504}, {'id': 'coinbase-wrapped-staked-eth', 'symbol': 'cbeth', 'name': 'Coinbase Wrapped Staked ETH', 'image': 'https://assets.coingecko.com/coins/images/27008/large/cbeth.png?1696526061', 'current_price': 2216.58, 'market_cap': 434501748, 'market_cap_rank': 123, 'fully_diluted_valuation': 2992549492, 'total_volume': 9982858, 'high_24h': 2221.48, 'low_24h': 2188.18, 'price_change_24h': 7.29, 'price_change_percentage_24h': 0.32974, 'market_cap_change_24h': -257943.1790485978, 'market_cap_change_percentage_24h': -0.05933, 'circulating_supply': 196076.60116151, 'total_supply': 1350440.90306893, 'max_supply': None, 'ath': 2248.88, 'ath_change_percentage': -1.44103, 'ath_date': '2023-11-10T05:45:50.439Z', 'atl': 1036.96, 'atl_change_percentage': 113.74732, 'atl_date': '2022-11-09T23:45:43.665Z', 'roi': None, 'last_updated': '2023-12-02T11:48:53.056Z', 'price_change_percentage_24h_in_currency': 0.32974354227880154}, {'id': 'nexo', 'symbol': 'nexo', 'name': 'NEXO', 'image': 'https://assets.coingecko.com/coins/images/3695/large/nexo.png?1696504370', 'current_price': 0.772903, 'market_cap': 432434818, 'market_cap_rank': 124, 'fully_diluted_valuation': 772205019, 'total_volume': 2770875, 'high_24h': 0.784376, 'low_24h': 0.764872, 'price_change_24h': 4.763e-05, 'price_change_percentage_24h': 0.00616, 'market_cap_change_24h': -777565.1758067012, 'market_cap_change_percentage_24h': -0.17949, 'circulating_supply': 560000008.5746847, 'total_supply': 1000000000, 'max_supply': 1000000000, 'ath': 4.07, 'ath_change_percentage': -81.01744, 'ath_date': '2021-05-12T14:37:47.535Z', 'atl': 0.04515276, 'atl_change_percentage': 1610.2055, 'atl_date': '2018-09-13T00:00:00.000Z', 'roi': {'times': 6.729027653016028, 'currency': 'usd', 'percentage': 672.9027653016028}, 'last_updated': '2023-12-02T11:48:59.657Z', 'price_change_percentage_24h_in_currency': 0.006162966568057366}, {'id': 'helium', 'symbol': 'hnt', 'name': 'Helium', 'image': 'https://assets.coingecko.com/coins/images/4284/large/Helium_HNT.png?1696504894', 'current_price': 2.97, 'market_cap': 426746601, 'market_cap_rank': 125, 'fully_diluted_valuation': 661163792, 'total_volume': 2381945, 'high_24h': 3.1, 'low_24h': 2.9, 'price_change_24h': -0.1329770165806785, 'price_change_percentage_24h': -4.28729, 'market_cap_change_24h': -20569189.481965482, 'market_cap_change_percentage_24h': -4.59836, 'circulating_supply': 143934820.830308, 'total_supply': 223000000, 'max_supply': 223000000, 'ath': 54.88, 'ath_change_percentage': -94.59727, 'ath_date': '2021-11-12T23:08:25.301Z', 'atl': 0.113248, 'atl_change_percentage': 2518.03217, 'atl_date': '2020-04-18T00:19:10.902Z', 'roi': None, 'last_updated': '2023-12-02T11:49:01.865Z', 'price_change_percentage_24h_in_currency': -4.287286663729066}, {'id': 'oasis-network', 'symbol': 'rose', 'name': 'Oasis Network', 'image': 'https://assets.coingecko.com/coins/images/13162/large/rose.png?1696512946', 'current_price': 0.084322, 'market_cap': 422808870, 'market_cap_rank': 126, 'fully_diluted_valuation': 840681730, 'total_volume': 26872038, 'high_24h': 0.086288, 'low_24h': 0.082044, 'price_change_24h': -0.001966366142934287, 'price_change_percentage_24h': -2.27883, 'market_cap_change_24h': -11717831.218605816, 'market_cap_change_percentage_24h': -2.69669, 'circulating_supply': 5029357184, 'total_supply': 10000000000, 'max_supply': 10000000000, 'ath': 0.597347, 'ath_change_percentage': -85.9157, 'ath_date': '2022-01-15T03:31:11.062Z', 'atl': 0.03200566, 'atl_change_percentage': 162.86619, 'atl_date': '2020-11-26T17:09:12.182Z', 'roi': None, 'last_updated': '2023-12-02T11:48:55.097Z', 'price_change_percentage_24h_in_currency': -2.2788339501456227}, {'id': 'kujira', 'symbol': 'kuji', 'name': 'Kujira', 'image': 'https://assets.coingecko.com/coins/images/20685/large/kuji-200x200.png?1696520085', 'current_price': 3.37, 'market_cap': 412356750, 'market_cap_rank': 127, 'fully_diluted_valuation': 412439997, 'total_volume': 1568000, 'high_24h': 3.45, 'low_24h': 3.24, 'price_change_24h': -0.011356411345858852, 'price_change_percentage_24h': -0.33616, 'market_cap_change_24h': -2653273.4502308965, 'market_cap_change_percentage_24h': -0.63933, 'circulating_supply': 122349781.772296, 'total_supply': 122374481.990696, 'max_supply': 122398170, 'ath': 4.87, 'ath_change_percentage': -30.79757, 'ath_date': '2021-11-29T04:52:34.711Z', 'atl': 0.00178701, 'atl_change_percentage': 188391.0851, 'atl_date': '2022-05-20T01:46:32.095Z', 'roi': None, 'last_updated': '2023-12-02T11:49:02.960Z', 'price_change_percentage_24h_in_currency': -0.33616477823453794}, {'id': 'flare-networks', 'symbol': 'flr', 'name': 'Flare', 'image': 'https://assets.coingecko.com/coins/images/28624/large/FLR-icon200x200.png?1696527609', 'current_price': 0.01438698, 'market_cap': 411737002, 'market_cap_rank': 128, 'fully_diluted_valuation': 1451916391, 'total_volume': 55969300, 'high_24h': 0.0155838, 'low_24h': 0.01228309, 'price_change_24h': 0.00196467, 'price_change_percentage_24h': 15.81568, 'market_cap_change_24h': 54238412, 'market_cap_change_percentage_24h': 15.17164, 'circulating_supply': 28753713025.4409, 'total_supply': 101394791006.349, 'max_supply': None, 'ath': 0.150073, 'ath_change_percentage': -90.42739, 'ath_date': '2023-01-10T03:14:05.921Z', 'atl': 0.00827405, 'atl_change_percentage': 73.62589, 'atl_date': '2023-10-19T03:35:41.663Z', 'roi': None, 'last_updated': '2023-12-02T11:49:00.024Z', 'price_change_percentage_24h_in_currency': 15.815678597456722}, {'id': 'woo-network', 'symbol': 'woo', 'name': 'WOO Network', 'image': 'https://assets.coingecko.com/coins/images/12921/large/WOO_Logos_2023_Profile_Pic_WOO.png?1696512709', 'current_price': 0.23072, 'market_cap': 408384942, 'market_cap_rank': 129, 'fully_diluted_valuation': 513421352, 'total_volume': 15445701, 'high_24h': 0.23083, 'low_24h': 0.220115, 'price_change_24h': 0.00890171, 'price_change_percentage_24h': 4.01305, 'market_cap_change_24h': 14212055, 'market_cap_change_percentage_24h': 3.60554, 'circulating_supply': 1774129434.02291, 'total_supply': 2230434666.90186, 'max_supply': 2230434666.90186, 'ath': 1.78, 'ath_change_percentage': -87.05727, 'ath_date': '2021-11-15T13:44:18.437Z', 'atl': 0.02211546, 'atl_change_percentage': 940.71826, 'atl_date': '2021-01-04T10:19:13.803Z', 'roi': None, 'last_updated': '2023-12-02T11:49:04.327Z', 'price_change_percentage_24h_in_currency': 4.013054446241233}, {'id': 'casper-network', 'symbol': 'cspr', 'name': 'Casper Network', 'image': 'https://assets.coingecko.com/coins/images/15279/large/CSPR_Token_Logo_V.png?1700873346', 'current_price': 0.03419648, 'market_cap': 394063120, 'market_cap_rank': 130, 'fully_diluted_valuation': 416371677, 'total_volume': 6231960, 'high_24h': 0.03466788, 'low_24h': 0.03379646, 'price_change_24h': -8.9701642511035e-05, 'price_change_percentage_24h': -0.26163, 'market_cap_change_24h': -2507736.2558099627, 'market_cap_change_percentage_24h': -0.63236, 'circulating_supply': 11546424622, 'total_supply': 12200086587, 'max_supply': None, 'ath': 1.33, 'ath_change_percentage': -97.42509, 'ath_date': '2021-05-12T00:00:00.000Z', 'atl': 0.02241297, 'atl_change_percentage': 52.27345, 'atl_date': '2022-06-18T20:14:44.694Z', 'roi': None, 'last_updated': '2023-12-02T11:49:04.914Z', 'price_change_percentage_24h_in_currency': -0.26162621127831426}, {'id': 'singularitynet', 'symbol': 'agix', 'name': 'SingularityNET', 'image': 'https://assets.coingecko.com/coins/images/2138/large/singularitynet.png?1696503103', 'current_price': 0.312732, 'market_cap': 387927952, 'market_cap_rank': 131, 'fully_diluted_valuation': 422913706, 'total_volume': 47564094, 'high_24h': 0.320393, 'low_24h': 0.301589, 'price_change_24h': 0.00383913, 'price_change_percentage_24h': 1.24287, 'market_cap_change_24h': 4581373, 'market_cap_change_percentage_24h': 1.1951, 'circulating_supply': 1242760470.10873, 'total_supply': 1354840334.23791, 'max_supply': 2000000000, 'ath': 0.95023, 'ath_change_percentage': -67.14572, 'ath_date': '2018-01-28T00:00:00.000Z', 'atl': 0.00747159, 'atl_change_percentage': 4078.3771, 'atl_date': '2020-03-13T02:24:16.528Z', 'roi': {'times': 2.127321300508503, 'currency': 'usd', 'percentage': 212.7321300508503}, 'last_updated': '2023-12-02T11:48:56.267Z', 'price_change_percentage_24h_in_currency': 1.2428672600520863}, {'id': 'akash-network', 'symbol': 'akt', 'name': 'Akash Network', 'image': 'https://assets.coingecko.com/coins/images/12785/large/akash-logo.png?1696512580', 'current_price': 1.72, 'market_cap': 385011370, 'market_cap_rank': 132, 'fully_diluted_valuation': 385012214, 'total_volume': 4020874, 'high_24h': 1.76, 'low_24h': 1.61, 'price_change_24h': 0.050452, 'price_change_percentage_24h': 3.02239, 'market_cap_change_24h': 13641308, 'market_cap_change_percentage_24h': 3.67324, 'circulating_supply': 222407216.467911, 'total_supply': 222407703.539625, 'max_supply': 388539008, 'ath': 8.07, 'ath_change_percentage': -78.56095, 'ath_date': '2021-04-06T18:59:48.484Z', 'atl': 0.164994, 'atl_change_percentage': 949.24912, 'atl_date': '2022-11-21T20:30:53.727Z', 'roi': None, 'last_updated': '2023-12-02T11:49:03.016Z', 'price_change_percentage_24h_in_currency': 3.02239061396328}, {'id': 'msol', 'symbol': 'msol', 'name': 'Marinade staked SOL', 'image': 'https://assets.coingecko.com/coins/images/17752/large/mSOL.png?1696517278', 'current_price': 71.58, 'market_cap': 384861169, 'market_cap_rank': 133, 'fully_diluted_valuation': 384861739, 'total_volume': 6619816, 'high_24h': 72.01, 'low_24h': 68.73, 'price_change_24h': 1.39, 'price_change_percentage_24h': 1.98541, 'market_cap_change_24h': 6359584, 'market_cap_change_percentage_24h': 1.6802, 'circulating_supply': 5398981, 'total_supply': 5398989, 'max_supply': 5398989, 'ath': 3541.84, 'ath_change_percentage': -97.98467, 'ath_date': '2021-08-23T22:16:35.076Z', 'atl': 8.93, 'atl_change_percentage': 699.31423, 'atl_date': '2022-12-29T20:45:33.039Z', 'roi': None, 'last_updated': '2023-12-02T11:48:45.117Z', 'price_change_percentage_24h_in_currency': 1.985407731327006}, {'id': 'zilliqa', 'symbol': 'zil', 'name': 'Zilliqa', 'image': 'https://assets.coingecko.com/coins/images/2687/large/Zilliqa-logo.png?1696503475', 'current_price': 0.02190707, 'market_cap': 379950779, 'market_cap_rank': 134, 'fully_diluted_valuation': 402901791, 'total_volume': 23922427, 'high_24h': 0.02230966, 'low_24h': 0.02179986, 'price_change_24h': -0.000139468151390789, 'price_change_percentage_24h': -0.63261, 'market_cap_change_24h': -2899074.916487634, 'market_cap_change_percentage_24h': -0.75724, 'circulating_supply': 17369041993.0799, 'total_supply': 18418222908.8412, 'max_supply': 21000000000, 'ath': 0.255376, 'ath_change_percentage': -91.43679, 'ath_date': '2021-05-06T17:33:45.940Z', 'atl': 0.00239616, 'atl_change_percentage': 812.64298, 'atl_date': '2020-03-13T02:22:55.161Z', 'roi': {'times': 0.23078248360309092, 'currency': 'eth', 'percentage': 23.07824836030909}, 'last_updated': '2023-12-02T11:49:01.824Z', 'price_change_percentage_24h_in_currency': -0.6326080504386332}, {'id': 'astar', 'symbol': 'astr', 'name': 'Astar', 'image': 'https://assets.coingecko.com/coins/images/22617/large/astr.png?1696521933', 'current_price': 0.069816, 'market_cap': 375309737, 'market_cap_rank': 135, 'fully_diluted_valuation': 578161097, 'total_volume': 11547457, 'high_24h': 0.070864, 'low_24h': 0.066746, 'price_change_24h': 0.00244524, 'price_change_percentage_24h': 3.62955, 'market_cap_change_24h': 12312240, 'market_cap_change_percentage_24h': 3.39182, 'circulating_supply': 5379190727, 'total_supply': 8286592383, 'max_supply': None, 'ath': 0.421574, 'ath_change_percentage': -83.44114, 'ath_date': '2022-01-17T13:34:36.289Z', 'atl': 0.03269521, 'atl_change_percentage': 113.51073, 'atl_date': '2022-10-13T13:05:41.982Z', 'roi': None, 'last_updated': '2023-12-02T11:49:02.105Z', 'price_change_percentage_24h_in_currency': 3.6295516997468025}, {'id': 'stepn', 'symbol': 'gmt', 'name': 'STEPN', 'image': 'https://assets.coingecko.com/coins/images/23597/large/gmt.png?1696522804', 'current_price': 0.270247, 'market_cap': 374109200, 'market_cap_rank': 136, 'fully_diluted_valuation': 1446476410, 'total_volume': 65985209, 'high_24h': 0.272724, 'low_24h': 0.259988, 'price_change_24h': 0.00934958, 'price_change_percentage_24h': 3.58362, 'market_cap_change_24h': 11708599, 'market_cap_change_percentage_24h': 3.23084, 'circulating_supply': 1387672215.29525, 'total_supply': 5365372263.26901, 'max_supply': 6000000000, 'ath': 4.11, 'ath_change_percentage': -93.43048, 'ath_date': '2022-04-28T03:29:53.820Z', 'atl': 0.100826, 'atl_change_percentage': 167.62266, 'atl_date': '2022-03-11T06:04:31.100Z', 'roi': None, 'last_updated': '2023-12-02T11:48:59.238Z', 'price_change_percentage_24h_in_currency': 3.583619538798145}, {'id': 'huobi-btc', 'symbol': 'hbtc', 'name': 'Huobi BTC', 'image': 'https://assets.coingecko.com/coins/images/12407/large/hbtc.png?1696512229', 'current_price': 41659, 'market_cap': 373429711, 'market_cap_rank': 137, 'fully_diluted_valuation': 373429711, 'total_volume': 10526.75, 'high_24h': 41675, 'low_24h': 36391, 'price_change_24h': 476.17, 'price_change_percentage_24h': 1.15624, 'market_cap_change_24h': 4884654, 'market_cap_change_percentage_24h': 1.32539, 'circulating_supply': 8969.497004742, 'total_supply': 8969.497004742, 'max_supply': 8969.497004742, 'ath': 166135, 'ath_change_percentage': -74.94344, 'ath_date': '2022-04-21T18:59:43.859Z', 'atl': 10704.55, 'atl_change_percentage': 288.87825, 'atl_date': '2023-03-10T01:30:46.660Z', 'roi': None, 'last_updated': '2023-12-02T11:48:53.353Z', 'price_change_percentage_24h_in_currency': 1.1562406646371077}, {'id': '1inch', 'symbol': '1inch', 'name': '1inch', 'image': 'https://assets.coingecko.com/coins/images/13469/large/1inch-token.png?1696513230', 'current_price': 0.354005, 'market_cap': 369400973, 'market_cap_rank': 138, 'fully_diluted_valuation': 530109144, 'total_volume': 23710040, 'high_24h': 0.354025, 'low_24h': 0.342377, 'price_change_24h': 0.00965025, 'price_change_percentage_24h': 2.80242, 'market_cap_change_24h': 10486171, 'market_cap_change_percentage_24h': 2.92163, 'circulating_supply': 1045259199.43294, 'total_supply': 1500000000, 'max_supply': 1500000000, 'ath': 8.65, 'ath_change_percentage': -95.91326, 'ath_date': '2021-10-27T08:24:54.808Z', 'atl': 0.220469, 'atl_change_percentage': 60.37119, 'atl_date': '2023-09-11T19:42:01.201Z', 'roi': None, 'last_updated': '2023-12-02T11:49:05.210Z', 'price_change_percentage_24h_in_currency': 2.8024183067792023}, {'id': 'aelf', 'symbol': 'elf', 'name': 'aelf', 'image': 'https://assets.coingecko.com/coins/images/1371/large/aelf-logo.png?1696502429', 'current_price': 0.528817, 'market_cap': 368559025, 'market_cap_rank': 139, 'fully_diluted_valuation': 522840907, 'total_volume': 12516737, 'high_24h': 0.549846, 'low_24h': 0.517369, 'price_change_24h': -0.01093982485435785, 'price_change_percentage_24h': -2.02681, 'market_cap_change_24h': 1945040, 'market_cap_change_percentage_24h': 0.53054, 'circulating_supply': 702215555.65919, 'total_supply': 996168843.802287, 'max_supply': 1000000000, 'ath': 2.6, 'ath_change_percentage': -79.94413, 'ath_date': '2018-01-09T00:00:00.000Z', 'atl': 0.03545756, 'atl_change_percentage': 1372.96496, 'atl_date': '2020-03-13T02:22:35.431Z', 'roi': None, 'last_updated': '2023-12-02T11:49:03.294Z', 'price_change_percentage_24h_in_currency': -2.026805515647424}, {'id': 'dash', 'symbol': 'dash', 'name': 'Dash', 'image': 'https://assets.coingecko.com/coins/images/19/large/dash-logo.png?1696501423', 'current_price': 31.25, 'market_cap': 361800979, 'market_cap_rank': 140, 'fully_diluted_valuation': 591910265, 'total_volume': 51756078, 'high_24h': 31.43, 'low_24h': 30.22, 'price_change_24h': 0.845054, 'price_change_percentage_24h': 2.77953, 'market_cap_change_24h': 8924241, 'market_cap_change_percentage_24h': 2.529, 'circulating_supply': 11564716.7004823, 'total_supply': 18920000, 'max_supply': None, 'ath': 1493.59, 'ath_change_percentage': -97.90497, 'ath_date': '2017-12-20T00:00:00.000Z', 'atl': 0.213899, 'atl_change_percentage': 14528.92356, 'atl_date': '2014-02-14T00:00:00.000Z', 'roi': None, 'last_updated': '2023-12-02T11:48:56.099Z', 'price_change_percentage_24h_in_currency': 2.779527553263906}, {'id': 'axelar', 'symbol': 'axl', 'name': 'Axelar', 'image': 'https://assets.coingecko.com/coins/images/27277/large/V-65_xQ1_400x400.jpeg?1696526329', 'current_price': 0.728469, 'market_cap': 356651466, 'market_cap_rank': 141, 'fully_diluted_valuation': 815548030, 'total_volume': 17086616, 'high_24h': 0.748062, 'low_24h': 0.712582, 'price_change_24h': -0.018922487211913808, 'price_change_percentage_24h': -2.5318, 'market_cap_change_24h': -8375432.600230694, 'market_cap_change_percentage_24h': -2.29447, 'circulating_supply': 489751620.312969, 'total_supply': 1119905587.0451, 'max_supply': None, 'ath': 1.15, 'ath_change_percentage': -36.88657, 'ath_date': '2022-09-27T22:19:02.643Z', 'atl': 0.312911, 'atl_change_percentage': 132.95102, 'atl_date': '2023-10-26T16:35:19.041Z', 'roi': None, 'last_updated': '2023-12-02T11:49:05.056Z', 'price_change_percentage_24h_in_currency': -2.5318040114871447}, {'id': 'compound-governance-token', 'symbol': 'comp', 'name': 'Compound', 'image': 'https://assets.coingecko.com/coins/images/10775/large/COMP.png?1696510737', 'current_price': 51.8, 'market_cap': 354808062, 'market_cap_rank': 142, 'fully_diluted_valuation': 517508202, 'total_volume': 43692506, 'high_24h': 52.03, 'low_24h': 50.51, 'price_change_24h': 0.344495, 'price_change_percentage_24h': 0.66952, 'market_cap_change_24h': 1567586, 'market_cap_change_percentage_24h': 0.44377, 'circulating_supply': 6856085.76329154, 'total_supply': 10000000, 'max_supply': 10000000, 'ath': 910.54, 'ath_change_percentage': -94.31574, 'ath_date': '2021-05-12T02:29:08.794Z', 'atl': 25.74, 'atl_change_percentage': 101.0758, 'atl_date': '2023-06-10T16:15:05.289Z', 'roi': None, 'last_updated': '2023-12-02T11:49:03.591Z', 'price_change_percentage_24h_in_currency': 0.6695181356561892}, {'id': '0x', 'symbol': 'zrx', 'name': '0x Protocol', 'image': 'https://assets.coingecko.com/coins/images/863/large/0x.png?1696501996', 'current_price': 0.406624, 'market_cap': 342722205, 'market_cap_rank': 143, 'fully_diluted_valuation': 404393864, 'total_volume': 25648006, 'high_24h': 0.407695, 'low_24h': 0.392441, 'price_change_24h': 0.01190159, 'price_change_percentage_24h': 3.01518, 'market_cap_change_24h': 7335743, 'market_cap_change_percentage_24h': 2.18725, 'circulating_supply': 847496054.8122635, 'total_supply': 1000000000, 'max_supply': 1000000000, 'ath': 2.5, 'ath_change_percentage': -83.80366, 'ath_date': '2018-01-13T00:00:00.000Z', 'atl': 0.120667, 'atl_change_percentage': 235.14913, 'atl_date': '2020-03-13T02:27:49.563Z', 'roi': {'times': 7.471333608771873, 'currency': 'usd', 'percentage': 747.1333608771873}, 'last_updated': '2023-12-02T11:49:01.033Z', 'price_change_percentage_24h_in_currency': 3.0151801351910086}, {'id': 'basic-attention-token', 'symbol': 'bat', 'name': 'Basic Attention', 'image': 'https://assets.coingecko.com/coins/images/677/large/basic-attention-token.png?1696501867', 'current_price': 0.226025, 'market_cap': 336623241, 'market_cap_rank': 144, 'fully_diluted_valuation': 338788392, 'total_volume': 53370198, 'high_24h': 0.228883, 'low_24h': 0.219221, 'price_change_24h': 0.00623129, 'price_change_percentage_24h': 2.83506, 'market_cap_change_24h': 8879068, 'market_cap_change_percentage_24h': 2.70915, 'circulating_supply': 1490413700.9526057, 'total_supply': 1500000000, 'max_supply': 1500000000, 'ath': 1.9, 'ath_change_percentage': -88.11579, 'ath_date': '2021-11-28T00:23:51.354Z', 'atl': 0.072394, 'atl_change_percentage': 211.99651, 'atl_date': '2017-07-16T00:00:00.000Z', 'roi': {'times': -0.3115940753800198, 'currency': 'eth', 'percentage': -31.159407538001982}, 'last_updated': '2023-12-02T11:48:55.997Z', 'price_change_percentage_24h_in_currency': 2.835059476934243}, {'id': 'floki', 'symbol': 'floki', 'name': 'FLOKI', 'image': 'https://assets.coingecko.com/coins/images/16746/large/PNG_image.png?1696516318', 'current_price': 3.346e-05, 'market_cap': 330948737, 'market_cap_rank': 145, 'fully_diluted_valuation': 332989659, 'total_volume': 16751549, 'high_24h': 3.35e-05, 'low_24h': 3.226e-05, 'price_change_24h': 9.69221e-07, 'price_change_percentage_24h': 2.98284, 'market_cap_change_24h': 7722857, 'market_cap_change_percentage_24h': 2.38931, 'circulating_supply': 9938709152070, 'total_supply': 10000000000000, 'max_supply': 10000000000000, 'ath': 0.00033651, 'ath_change_percentage': -90.09335, 'ath_date': '2021-11-04T06:58:35.285Z', 'atl': 8.428e-08, 'atl_change_percentage': 39454.57006, 'atl_date': '2021-07-06T01:11:20.438Z', 'roi': None, 'last_updated': '2023-12-02T11:48:58.503Z', 'price_change_percentage_24h_in_currency': 2.982844262379242}, {'id': 'nem', 'symbol': 'xem', 'name': 'NEM', 'image': 'https://assets.coingecko.com/coins/images/242/large/NEM_WC_Logo_200px.png?1696501595', 'current_price': 0.036672, 'market_cap': 330520465, 'market_cap_rank': 146, 'fully_diluted_valuation': 330520465, 'total_volume': 2781515, 'high_24h': 0.03693705, 'low_24h': 0.03621826, 'price_change_24h': 0.00038333, 'price_change_percentage_24h': 1.05634, 'market_cap_change_24h': 3665991, 'market_cap_change_percentage_24h': 1.1216, 'circulating_supply': 8999999999, 'total_supply': 8999999999, 'max_supply': None, 'ath': 1.87, 'ath_change_percentage': -98.03365, 'ath_date': '2018-01-07T00:00:00.000Z', 'atl': 8.482e-05, 'atl_change_percentage': 43219.34819, 'atl_date': '2015-09-05T00:00:00.000Z', 'roi': None, 'last_updated': '2023-12-02T11:48:56.273Z', 'price_change_percentage_24h_in_currency': 1.0563420210532612}, {'id': 'qtum', 'symbol': 'qtum', 'name': 'Qtum', 'image': 'https://assets.coingecko.com/coins/images/684/large/Qtum_Logo_blue_CG.png?1696501874', 'current_price': 3.08, 'market_cap': 322543641, 'market_cap_rank': 147, 'fully_diluted_valuation': 331439696, 'total_volume': 17373600, 'high_24h': 3.09, 'low_24h': 3.02, 'price_change_24h': 0.03237993, 'price_change_percentage_24h': 1.063, 'market_cap_change_24h': 3346459, 'market_cap_change_percentage_24h': 1.0484, 'circulating_supply': 104928383, 'total_supply': 107822406, 'max_supply': None, 'ath': 100.22, 'ath_change_percentage': -96.93038, 'ath_date': '2018-01-06T00:00:00.000Z', 'atl': 0.783142, 'atl_change_percentage': 292.84006, 'atl_date': '2020-03-13T02:22:57.149Z', 'roi': {'times': 9.26156922004637, 'currency': 'usd', 'percentage': 926.156922004637}, 'last_updated': '2023-12-02T11:49:04.893Z', 'price_change_percentage_24h_in_currency': 1.0629993479998194}, {'id': 'apenft', 'symbol': 'nft', 'name': 'APENFT', 'image': 'https://assets.coingecko.com/coins/images/15687/large/apenft.jpg?1696515316', 'current_price': 3.24768e-07, 'market_cap': 321224948, 'market_cap_rank': 148, 'fully_diluted_valuation': 324431766, 'total_volume': 19498643, 'high_24h': 3.26903e-07, 'low_24h': 3.22904e-07, 'price_change_24h': -7.65636313e-10, 'price_change_percentage_24h': -0.23519, 'market_cap_change_24h': -1025599.9241412878, 'market_cap_change_percentage_24h': -0.31826, 'circulating_supply': 990105682877398, 'total_supply': 999990000000000, 'max_supply': 999990000000000, 'ath': 7.53e-06, 'ath_change_percentage': -95.69015, 'ath_date': '2021-09-05T00:10:47.823Z', 'atl': 2.98737e-07, 'atl_change_percentage': 8.63506, 'atl_date': '2023-06-10T04:30:05.717Z', 'roi': None, 'last_updated': '2023-12-02T11:48:56.385Z', 'price_change_percentage_24h_in_currency': -0.2351942410636055}, {'id': 'aleph-zero', 'symbol': 'azero', 'name': 'Aleph Zero', 'image': 'https://assets.coingecko.com/coins/images/17212/large/azero-logo_coingecko.png?1698147162', 'current_price': 1.28, 'market_cap': 320254367, 'market_cap_rank': 149, 'fully_diluted_valuation': 445862028, 'total_volume': 2013685, 'high_24h': 1.35, 'low_24h': 1.27, 'price_change_24h': -0.030179855586028866, 'price_change_percentage_24h': -2.2974, 'market_cap_change_24h': -6534048.697035253, 'market_cap_change_percentage_24h': -1.99947, 'circulating_supply': 249905922.00021, 'total_supply': 347922066.86802, 'max_supply': None, 'ath': 3.09, 'ath_change_percentage': -58.53628, 'ath_date': '2022-04-15T00:09:30.642Z', 'atl': 0.592052, 'atl_change_percentage': 116.73118, 'atl_date': '2022-06-18T20:17:51.413Z', 'roi': None, 'last_updated': '2023-12-02T11:49:04.596Z', 'price_change_percentage_24h_in_currency': -2.2974027283343528}, {'id': 'ronin', 'symbol': 'ron', 'name': 'Ronin', 'image': 'https://assets.coingecko.com/coins/images/20009/large/Ronin_Mark_Blue.png?1696519431', 'current_price': 1.15, 'market_cap': 314745703, 'market_cap_rank': 150, 'fully_diluted_valuation': 1146379867, 'total_volume': 4797263, 'high_24h': 1.15, 'low_24h': 1.076, 'price_change_24h': 0.067259, 'price_change_percentage_24h': 6.20632, 'market_cap_change_24h': 17309863, 'market_cap_change_percentage_24h': 5.8197, 'circulating_supply': 274556202.327686, 'total_supply': 1000000000, 'max_supply': 1000000000, 'ath': 4.29, 'ath_change_percentage': -73.2927, 'ath_date': '2022-01-27T13:14:36.500Z', 'atl': 0.196601, 'atl_change_percentage': 483.36965, 'atl_date': '2022-11-21T19:36:31.487Z', 'roi': None, 'last_updated': '2023-12-02T11:49:05.443Z', 'price_change_percentage_24h_in_currency': 6.206322273431882}, {'id': 'theta-fuel', 'symbol': 'tfuel', 'name': 'Theta Fuel', 'image': 'https://assets.coingecko.com/coins/images/8029/large/1_0YusgngOrriVg4ZYx4wOFQ.png?1696508251', 'current_price': 0.04903512, 'market_cap': 311790125, 'market_cap_rank': 151, 'fully_diluted_valuation': 311790545, 'total_volume': 8072533, 'high_24h': 0.050459, 'low_24h': 0.04738879, 'price_change_24h': 0.00087031, 'price_change_percentage_24h': 1.80695, 'market_cap_change_24h': 5211255, 'market_cap_change_percentage_24h': 1.69981, 'circulating_supply': 6367189657, 'total_supply': 6367198248, 'max_supply': None, 'ath': 0.68159, 'ath_change_percentage': -92.81549, 'ath_date': '2021-06-09T06:50:55.818Z', 'atl': 0.00090804, 'atl_change_percentage': 5292.82032, 'atl_date': '2020-03-13T02:30:37.972Z', 'roi': None, 'last_updated': '2023-12-02T11:49:02.834Z', 'price_change_percentage_24h_in_currency': 1.8069471265083563}, {'id': 'convex-finance', 'symbol': 'cvx', 'name': 'Convex Finance', 'image': 'https://assets.coingecko.com/coins/images/15585/large/convex.png?1696515221', 'current_price': 3.74, 'market_cap': 306750088, 'market_cap_rank': 152, 'fully_diluted_valuation': 371088287, 'total_volume': 4390187, 'high_24h': 3.74, 'low_24h': 3.64, 'price_change_24h': 0.077586, 'price_change_percentage_24h': 2.11729, 'market_cap_change_24h': 6002746, 'market_cap_change_percentage_24h': 1.99594, 'circulating_supply': 81990703.72425415, 'total_supply': 99187550.2740537, 'max_supply': 100000000, 'ath': 60.09, 'ath_change_percentage': -93.77332, 'ath_date': '2022-01-01T18:04:03.030Z', 'atl': 1.9, 'atl_change_percentage': 96.62156, 'atl_date': '2021-07-20T13:17:29.183Z', 'roi': None, 'last_updated': '2023-12-02T11:49:01.279Z', 'price_change_percentage_24h_in_currency': 2.11728570550063}, {'id': 'mx-token', 'symbol': 'mx', 'name': 'MX', 'image': 'https://assets.coingecko.com/coins/images/8545/large/MEXC_GLOBAL_LOGO.jpeg?1696508719', 'current_price': 2.97, 'market_cap': 298902150, 'market_cap_rank': 153, 'fully_diluted_valuation': 1282801845, 'total_volume': 1446336, 'high_24h': 3, 'low_24h': 2.95, 'price_change_24h': -0.018143506344843185, 'price_change_percentage_24h': -0.60636, 'market_cap_change_24h': -2626217.4567112923, 'market_cap_change_percentage_24h': -0.87097, 'circulating_supply': 100631535.5, 'total_supply': 431881535.5, 'max_supply': None, 'ath': 3.7, 'ath_change_percentage': -19.69785, 'ath_date': '2021-12-02T00:59:40.216Z', 'atl': 0.04218457, 'atl_change_percentage': 6941.38608, 'atl_date': '2019-11-25T05:59:45.392Z', 'roi': None, 'last_updated': '2023-12-02T11:48:43.294Z', 'price_change_percentage_24h_in_currency': -0.6063606979381042}, {'id': 'enjincoin', 'symbol': 'enj', 'name': 'Enjin Coin', 'image': 'https://assets.coingecko.com/coins/images/1102/large/enjin-coin-logo.png?1696502200', 'current_price': 0.298113, 'market_cap': 297222257, 'market_cap_rank': 154, 'fully_diluted_valuation': 297222257, 'total_volume': 18724153, 'high_24h': 0.299716, 'low_24h': 0.284519, 'price_change_24h': 0.01270651, 'price_change_percentage_24h': 4.45207, 'market_cap_change_24h': 12197037, 'market_cap_change_percentage_24h': 4.27928, 'circulating_supply': 1000000000, 'total_supply': 1000000000, 'max_supply': 1000000000, 'ath': 4.82, 'ath_change_percentage': -93.83317, 'ath_date': '2021-11-25T09:53:41.955Z', 'atl': 0.01865964, 'atl_change_percentage': 1492.74376, 'atl_date': '2017-11-12T00:00:00.000Z', 'roi': None, 'last_updated': '2023-12-02T11:49:01.602Z', 'price_change_percentage_24h_in_currency': 4.452074749542337}, {'id': 'siacoin', 'symbol': 'sc', 'name': 'Siacoin', 'image': 'https://assets.coingecko.com/coins/images/289/large/siacoin.png?1696501638', 'current_price': 0.00571285, 'market_cap': 293727577, 'market_cap_rank': 155, 'fully_diluted_valuation': None, 'total_volume': 37708601, 'high_24h': 0.00608088, 'low_24h': 0.00540023, 'price_change_24h': -0.000294351766626031, 'price_change_percentage_24h': -4.89998, 'market_cap_change_24h': -17090112.992464066, 'market_cap_change_percentage_24h': -5.49844, 'circulating_supply': 51477015000, 'total_supply': None, 'max_supply': None, 'ath': 0.092868, 'ath_change_percentage': -93.85663, 'ath_date': '2018-01-06T00:00:00.000Z', 'atl': 1.262e-05, 'atl_change_percentage': 45103.24751, 'atl_date': '2015-12-28T00:00:00.000Z', 'roi': {'times': -0.2981550373958957, 'currency': 'btc', 'percentage': -29.81550373958957}, 'last_updated': '2023-12-02T11:48:56.778Z', 'price_change_percentage_24h_in_currency': -4.89997748048539}, {'id': 'ethereum-pow-iou', 'symbol': 'ethw', 'name': 'EthereumPoW', 'image': 'https://assets.coingecko.com/coins/images/26997/large/logo-clear.png?1696526049', 'current_price': 2.72, 'market_cap': 293144970, 'market_cap_rank': 156, 'fully_diluted_valuation': 293144355, 'total_volume': 11772717, 'high_24h': 2.72, 'low_24h': 2.62, 'price_change_24h': 0.0439123, 'price_change_percentage_24h': 1.64325, 'market_cap_change_24h': 4193204, 'market_cap_change_percentage_24h': 1.45118, 'circulating_supply': 107818943.04993, 'total_supply': 107818717.04993, 'max_supply': None, 'ath': 58.54, 'ath_change_percentage': -95.35271, 'ath_date': '2022-09-03T00:10:33.722Z', 'atl': 1.17, 'atl_change_percentage': 132.69645, 'atl_date': '2023-10-11T18:16:44.520Z', 'roi': None, 'last_updated': '2023-12-02T11:49:00.480Z', 'price_change_percentage_24h_in_currency': 1.6432474656771567}, {'id': 'celo', 'symbol': 'celo', 'name': 'Celo', 'image': 'https://assets.coingecko.com/coins/images/11090/large/InjXBNx9_400x400.jpg?1696511031', 'current_price': 0.558826, 'market_cap': 290496233, 'market_cap_rank': 157, 'fully_diluted_valuation': 556974032, 'total_volume': 7789274, 'high_24h': 0.557545, 'low_24h': 0.539368, 'price_change_24h': 0.01436981, 'price_change_percentage_24h': 2.63929, 'market_cap_change_24h': 6265280, 'market_cap_change_percentage_24h': 2.20429, 'circulating_supply': 521561538, 'total_supply': 1000000000, 'max_supply': 1000000000, 'ath': 9.82, 'ath_change_percentage': -94.32508, 'ath_date': '2021-08-30T14:25:09.929Z', 'atl': 0.376843, 'atl_change_percentage': 47.90008, 'atl_date': '2023-06-10T04:31:15.287Z', 'roi': None, 'last_updated': '2023-12-02T11:49:05.727Z', 'price_change_percentage_24h_in_currency': 2.639294978518399}, {'id': 'yearn-finance', 'symbol': 'yfi', 'name': 'yearn.finance', 'image': 'https://assets.coingecko.com/coins/images/11849/large/yearn.jpg?1696511720', 'current_price': 8703.11, 'market_cap': 288801355, 'market_cap_rank': 158, 'fully_diluted_valuation': 318678611, 'total_volume': 122361942, 'high_24h': 8829.68, 'low_24h': 8255.27, 'price_change_24h': 398.24, 'price_change_percentage_24h': 4.79525, 'market_cap_change_24h': 13212295, 'market_cap_change_percentage_24h': 4.7942, 'circulating_supply': 33228.43183458649, 'total_supply': 36666, 'max_supply': 36666, 'ath': 90787, 'ath_change_percentage': -90.43856, 'ath_date': '2021-05-12T00:29:37.713Z', 'atl': 31.65, 'atl_change_percentage': 27330.84759, 'atl_date': '2020-07-18T12:26:27.150Z', 'roi': None, 'last_updated': '2023-12-02T11:49:04.825Z', 'price_change_percentage_24h_in_currency': 4.795254767816389}, {'id': 'mask-network', 'symbol': 'mask', 'name': 'Mask Network', 'image': 'https://assets.coingecko.com/coins/images/14051/large/Mask_Network.jpg?1696513776', 'current_price': 3.52, 'market_cap': 288393712, 'market_cap_rank': 159, 'fully_diluted_valuation': 351217795, 'total_volume': 42756226, 'high_24h': 3.54, 'low_24h': 3.41, 'price_change_24h': 0.074724, 'price_change_percentage_24h': 2.17151, 'market_cap_change_24h': 5664397, 'market_cap_change_percentage_24h': 2.00347, 'circulating_supply': 82112500, 'total_supply': 100000000, 'max_supply': 100000000, 'ath': 41.45, 'ath_change_percentage': -91.52049, 'ath_date': '2021-02-24T17:42:44.637Z', 'atl': 0.976528, 'atl_change_percentage': 259.88465, 'atl_date': '2022-10-13T10:36:10.009Z', 'roi': None, 'last_updated': '2023-12-02T11:49:05.127Z', 'price_change_percentage_24h_in_currency': 2.171505817043223}, {'id': 'safepal', 'symbol': 'sfp', 'name': 'SafePal', 'image': 'https://assets.coingecko.com/coins/images/13905/large/sfp.png?1696513647', 'current_price': 0.684725, 'market_cap': 287782130, 'market_cap_rank': 160, 'fully_diluted_valuation': 341919362, 'total_volume': 5440141, 'high_24h': 0.700066, 'low_24h': 0.664807, 'price_change_24h': 0.01483999, 'price_change_percentage_24h': 2.2153, 'market_cap_change_24h': 5167888, 'market_cap_change_percentage_24h': 1.8286, 'circulating_supply': 420833333, 'total_supply': 500000000, 'max_supply': 500000000, 'ath': 4.19, 'ath_change_percentage': -83.66431, 'ath_date': '2021-02-09T18:30:34.250Z', 'atl': 0.269235, 'atl_change_percentage': 154.07377, 'atl_date': '2022-06-14T02:06:50.102Z', 'roi': None, 'last_updated': '2023-12-02T11:49:00.159Z', 'price_change_percentage_24h_in_currency': 2.2153034978310564}, {'id': 'worldcoin-wld', 'symbol': 'wld', 'name': 'Worldcoin', 'image': 'https://assets.coingecko.com/coins/images/31069/large/worldcoin.jpeg?1696529903', 'current_price': 2.44, 'market_cap': 286980095, 'market_cap_rank': 161, 'fully_diluted_valuation': 24312921073, 'total_volume': 43794810, 'high_24h': 2.45, 'low_24h': 2.37, 'price_change_24h': -0.009469762705411, 'price_change_percentage_24h': -0.38696, 'market_cap_change_24h': -1477226.9367305636, 'market_cap_change_percentage_24h': -0.51211, 'circulating_supply': 118036041.088434, 'total_supply': 10000000000, 'max_supply': 10000000000, 'ath': 3.3, 'ath_change_percentage': -26.1412, 'ath_date': '2023-07-24T09:20:13.301Z', 'atl': 0.973104, 'atl_change_percentage': 150.39264, 'atl_date': '2023-09-13T07:36:44.064Z', 'roi': None, 'last_updated': '2023-12-02T11:49:00.299Z', 'price_change_percentage_24h_in_currency': -0.38696487574384747}, {'id': 'bitcoin-gold', 'symbol': 'btg', 'name': 'Bitcoin Gold', 'image': 'https://assets.coingecko.com/coins/images/1043/large/bitcoin-gold-logo.png?1696502150', 'current_price': 16.2, 'market_cap': 283816948, 'market_cap_rank': 162, 'fully_diluted_valuation': 340309568, 'total_volume': 2552473, 'high_24h': 16.43, 'low_24h': 15.87, 'price_change_24h': 0.108926, 'price_change_percentage_24h': 0.67678, 'market_cap_change_24h': 2678777, 'market_cap_change_percentage_24h': 0.95283, 'circulating_supply': 17513924, 'total_supply': 21000000, 'max_supply': None, 'ath': 456.25, 'ath_change_percentage': -96.44528, 'ath_date': '2017-12-20T00:00:00.000Z', 'atl': 4.25, 'atl_change_percentage': 281.20791, 'atl_date': '2020-03-13T02:22:52.902Z', 'roi': None, 'last_updated': '2023-12-02T11:48:50.633Z', 'price_change_percentage_24h_in_currency': 0.6767776648396712}, {'id': 'holotoken', 'symbol': 'hot', 'name': 'Holo', 'image': 'https://assets.coingecko.com/coins/images/3348/large/Holologo_Profile.png?1696504052', 'current_price': 0.0015838, 'market_cap': 280939459, 'market_cap_rank': 163, 'fully_diluted_valuation': 280939459, 'total_volume': 7099640, 'high_24h': 0.0015922, 'low_24h': 0.00154703, 'price_change_24h': 2.014e-05, 'price_change_percentage_24h': 1.2877, 'market_cap_change_24h': 2886203, 'market_cap_change_percentage_24h': 1.038, 'circulating_supply': 177619433541.141, 'total_supply': 177619433541.141, 'max_supply': None, 'ath': 0.03126682, 'ath_change_percentage': -94.94174, 'ath_date': '2021-04-05T16:04:52.608Z', 'atl': 0.0002202, 'atl_change_percentage': 618.23995, 'atl_date': '2020-03-13T02:23:01.612Z', 'roi': {'times': 2.324248797505713, 'currency': 'eth', 'percentage': 232.42487975057128}, 'last_updated': '2023-12-02T11:49:03.906Z', 'price_change_percentage_24h_in_currency': 1.287698261718933}, {'id': 'just', 'symbol': 'jst', 'name': 'JUST', 'image': 'https://assets.coingecko.com/coins/images/11095/large/JUST.jpg?1696511035', 'current_price': 0.03158052, 'market_cap': 280795977, 'market_cap_rank': 164, 'fully_diluted_valuation': 312273106, 'total_volume': 36358713, 'high_24h': 0.03165247, 'low_24h': 0.03120669, 'price_change_24h': 0.00010529, 'price_change_percentage_24h': 0.33451, 'market_cap_change_24h': 97291, 'market_cap_change_percentage_24h': 0.03466, 'circulating_supply': 8902080000, 'total_supply': 9900000000, 'max_supply': 9900000000, 'ath': 0.193254, 'ath_change_percentage': -83.67886, 'ath_date': '2021-04-05T04:34:23.454Z', 'atl': 0.00476275, 'atl_change_percentage': 562.24988, 'atl_date': '2020-05-09T06:08:54.872Z', 'roi': None, 'last_updated': '2023-12-02T11:49:05.857Z', 'price_change_percentage_24h_in_currency': 0.3345089420625872}, {'id': 'ocean-protocol', 'symbol': 'ocean', 'name': 'Ocean Protocol', 'image': 'https://assets.coingecko.com/coins/images/3687/large/ocean-protocol-logo.jpg?1696504363', 'current_price': 0.476703, 'market_cap': 280453809, 'market_cap_rank': 165, 'fully_diluted_valuation': 670208394, 'total_volume': 33561742, 'high_24h': 0.487121, 'low_24h': 0.469409, 'price_change_24h': -0.002616378699326572, 'price_change_percentage_24h': -0.54585, 'market_cap_change_24h': -1688233.325432837, 'market_cap_change_percentage_24h': -0.59836, 'circulating_supply': 589564998.9615499, 'total_supply': 1408900141.1674242, 'max_supply': 1410000000, 'ath': 1.93, 'ath_change_percentage': -75.35213, 'ath_date': '2021-04-10T09:24:58.915Z', 'atl': 0.01284832, 'atl_change_percentage': 3602.39994, 'atl_date': '2019-08-11T00:00:00.000Z', 'roi': {'times': 2.9725213719155357, 'currency': 'usd', 'percentage': 297.2521371915536}, 'last_updated': '2023-12-02T11:49:00.147Z', 'price_change_percentage_24h_in_currency': -0.5458533896353168}, {'id': 'loopring', 'symbol': 'lrc', 'name': 'Loopring', 'image': 'https://assets.coingecko.com/coins/images/913/large/LRC.png?1696502034', 'current_price': 0.222994, 'market_cap': 277536419, 'market_cap_rank': 166, 'fully_diluted_valuation': 306021279, 'total_volume': 19088994, 'high_24h': 0.226592, 'low_24h': 0.220065, 'price_change_24h': 0.00150376, 'price_change_percentage_24h': 0.67893, 'market_cap_change_24h': 813289, 'market_cap_change_percentage_24h': 0.2939, 'circulating_supply': 1245991468.94246, 'total_supply': 1373873397.44246, 'max_supply': 1374513896, 'ath': 3.75, 'ath_change_percentage': -94.06099, 'ath_date': '2021-11-10T14:59:53.164Z', 'atl': 0.01963893, 'atl_change_percentage': 1033.99003, 'atl_date': '2019-12-18T13:14:41.553Z', 'roi': {'times': 2.7165630462499033, 'currency': 'usd', 'percentage': 271.65630462499036}, 'last_updated': '2023-12-02T11:49:04.724Z', 'price_change_percentage_24h_in_currency': 0.6789307799429491}, {'id': 'lido-staked-sol', 'symbol': 'stsol', 'name': 'Lido Staked SOL', 'image': 'https://assets.coingecko.com/coins/images/18369/large/logo_-_2021-09-15T100934.765.png?1696517862', 'current_price': 71.25, 'market_cap': 276769964, 'market_cap_rank': 167, 'fully_diluted_valuation': 276769617, 'total_volume': 1373016, 'high_24h': 71.67, 'low_24h': 68.41, 'price_change_24h': 1.39, 'price_change_percentage_24h': 1.99022, 'market_cap_change_24h': 3510637, 'market_cap_change_percentage_24h': 1.28473, 'circulating_supply': 3900411.7359, 'total_supply': 3900406.846, 'max_supply': 3900406.846, 'ath': 263.24, 'ath_change_percentage': -72.99222, 'ath_date': '2021-11-07T01:28:34.051Z', 'atl': 8.65, 'atl_change_percentage': 721.45831, 'atl_date': '2022-12-29T20:46:29.701Z', 'roi': None, 'last_updated': '2023-12-02T11:48:45.355Z', 'price_change_percentage_24h_in_currency': 1.9902219409297306}, {'id': 'beldex', 'symbol': 'bdx', 'name': 'Beldex', 'image': 'https://assets.coingecko.com/coins/images/5111/large/Beldex.png?1696505631', 'current_price': 0.04602624, 'market_cap': 272052619, 'market_cap_rank': 168, 'fully_diluted_valuation': 456604112, 'total_volume': 2706564, 'high_24h': 0.04698237, 'low_24h': 0.04255805, 'price_change_24h': 0.00338164, 'price_change_percentage_24h': 7.92981, 'market_cap_change_24h': 20092650, 'market_cap_change_percentage_24h': 7.97454, 'circulating_supply': 5912346608.68597, 'total_supply': 9923086858.66373, 'max_supply': None, 'ath': 137242055, 'ath_change_percentage': -100, 'ath_date': '2020-09-02T09:13:36.882Z', 'atl': 0.00027519, 'atl_change_percentage': 16621.18228, 'atl_date': '2019-11-01T11:05:12.090Z', 'roi': {'times': -0.8158950538210107, 'currency': 'usd', 'percentage': -81.58950538210107}, 'last_updated': '2023-12-02T11:48:21.234Z', 'price_change_percentage_24h_in_currency': 7.929809429234577}, {'id': 'ribbon-finance', 'symbol': 'rbn', 'name': 'Ribbon Finance', 'image': 'https://assets.coingecko.com/coins/images/15823/large/RBN_64x64.png?1696515442', 'current_price': 0.320548, 'market_cap': 269992919, 'market_cap_rank': 169, 'fully_diluted_valuation': 320516432, 'total_volume': 1176407, 'high_24h': 0.326047, 'low_24h': 0.319216, 'price_change_24h': -0.003957043649378989, 'price_change_percentage_24h': -1.21941, 'market_cap_change_24h': -3114092.408878088, 'market_cap_change_percentage_24h': -1.14025, 'circulating_supply': 842368413.975248, 'total_supply': 1000000000, 'max_supply': 1000000000, 'ath': 5.54, 'ath_change_percentage': -94.21617, 'ath_date': '2021-10-07T22:30:49.258Z', 'atl': 0.12452, 'atl_change_percentage': 157.41103, 'atl_date': '2023-05-18T09:35:07.716Z', 'roi': None, 'last_updated': '2023-12-02T11:49:04.229Z', 'price_change_percentage_24h_in_currency': -1.2194095625959376}, {'id': 'ethereum-name-service', 'symbol': 'ens', 'name': 'Ethereum Name Service', 'image': 'https://assets.coingecko.com/coins/images/19785/large/acatxTm8_400x400.jpg?1696519207', 'current_price': 8.88, 'market_cap': 267761622, 'market_cap_rank': 170, 'fully_diluted_valuation': 887723942, 'total_volume': 27019776, 'high_24h': 8.96, 'low_24h': 8.51, 'price_change_24h': 0.283191, 'price_change_percentage_24h': 3.29294, 'market_cap_change_24h': 8633570, 'market_cap_change_percentage_24h': 3.33178, 'circulating_supply': 30162712.67092563, 'total_supply': 100000000, 'max_supply': 100000000, 'ath': 83.4, 'ath_change_percentage': -89.3522, 'ath_date': '2021-11-11T02:20:01.099Z', 'atl': 6.69, 'atl_change_percentage': 32.72162, 'atl_date': '2023-10-19T02:35:00.861Z', 'roi': None, 'last_updated': '2023-12-02T11:48:59.967Z', 'price_change_percentage_24h_in_currency': 3.29293941020168}, {'id': 'bonk', 'symbol': 'bonk', 'name': 'Bonk', 'image': 'https://assets.coingecko.com/coins/images/28600/large/bonk.jpg?1696527587', 'current_price': 4.4e-06, 'market_cap': 267315336, 'market_cap_rank': 171, 'fully_diluted_valuation': 411662512, 'total_volume': 19653257, 'high_24h': 4.54e-06, 'low_24h': 3.91e-06, 'price_change_24h': 4.17044e-07, 'price_change_percentage_24h': 10.46695, 'market_cap_change_24h': 23730783, 'market_cap_change_percentage_24h': 9.74232, 'circulating_supply': 60837624528359.55, 'total_supply': 93689234980611.55, 'max_supply': 100000000000000, 'ath': 5.39e-06, 'ath_change_percentage': -18.61085, 'ath_date': '2023-11-20T13:00:11.209Z', 'atl': 8.6142e-08, 'atl_change_percentage': 4990.66692, 'atl_date': '2022-12-29T22:48:46.755Z', 'roi': None, 'last_updated': '2023-12-02T11:49:00.935Z', 'price_change_percentage_24h_in_currency': 10.466945710731864}, {'id': 'nxm', 'symbol': 'nxm', 'name': 'Nexus Mutual', 'image': 'https://assets.coingecko.com/coins/images/11810/large/NXMmain.png?1696511684', 'current_price': 43.71, 'market_cap': 265320449, 'market_cap_rank': 172, 'fully_diluted_valuation': 265211328, 'total_volume': 0, 'high_24h': 43.95, 'low_24h': 42.73, 'price_change_24h': 0.471207, 'price_change_percentage_24h': 1.09129, 'market_cap_change_24h': -87282.40066340566, 'market_cap_change_percentage_24h': -0.03289, 'circulating_supply': 6085577.58745109, 'total_supply': 6083074.72332561, 'max_supply': 6083074.72332561, 'ath': 185.97, 'ath_change_percentage': -76.55675, 'ath_date': '2021-11-10T15:14:14.418Z', 'atl': 6.96, 'atl_change_percentage': 526.15014, 'atl_date': '2020-07-22T19:54:06.406Z', 'roi': None, 'last_updated': '2023-12-02T11:45:01.161Z', 'price_change_percentage_24h_in_currency': 1.0912851676238522}, {'id': 'ankr', 'symbol': 'ankr', 'name': 'Ankr Network', 'image': 'https://assets.coingecko.com/coins/images/4324/large/U85xTl2.png?1696504928', 'current_price': 0.02601987, 'market_cap': 260151204, 'market_cap_rank': 173, 'fully_diluted_valuation': 260151204, 'total_volume': 14743372, 'high_24h': 0.02612976, 'low_24h': 0.02526015, 'price_change_24h': 0.00022396, 'price_change_percentage_24h': 0.86821, 'market_cap_change_24h': 1733726, 'market_cap_change_percentage_24h': 0.6709, 'circulating_supply': 10000000000, 'total_supply': 10000000000, 'max_supply': 10000000000, 'ath': 0.213513, 'ath_change_percentage': -87.81564, 'ath_date': '2021-04-16T19:44:04.474Z', 'atl': 0.00070728, 'atl_change_percentage': 3578.19362, 'atl_date': '2020-03-13T02:24:03.563Z', 'roi': {'times': 2.942404950749341, 'currency': 'usd', 'percentage': 294.2404950749341}, 'last_updated': '2023-12-02T11:49:03.739Z', 'price_change_percentage_24h_in_currency': 0.8682051428704476}, {'id': 'jasmycoin', 'symbol': 'jasmy', 'name': 'JasmyCoin', 'image': 'https://assets.coingecko.com/coins/images/13876/large/JASMY200x200.jpg?1696513620', 'current_price': 0.00533601, 'market_cap': 258231344, 'market_cap_rank': 174, 'fully_diluted_valuation': 266657729, 'total_volume': 30588729, 'high_24h': 0.00542463, 'low_24h': 0.00495358, 'price_change_24h': 0.00032454, 'price_change_percentage_24h': 6.47593, 'market_cap_change_24h': 15654353, 'market_cap_change_percentage_24h': 6.45335, 'circulating_supply': 48419999999.3058, 'total_supply': 50000000000, 'max_supply': 50000000000, 'ath': 4.79, 'ath_change_percentage': -99.8886, 'ath_date': '2021-02-16T03:53:32.207Z', 'atl': 0.00275026, 'atl_change_percentage': 94.02304, 'atl_date': '2022-12-29T20:41:09.113Z', 'roi': None, 'last_updated': '2023-12-02T11:48:57.685Z', 'price_change_percentage_24h_in_currency': 6.475925436021113}, {'id': 'memecoin-2', 'symbol': 'meme', 'name': 'Memecoin', 'image': 'https://assets.coingecko.com/coins/images/32528/large/memecoin_%282%29.png?1698912168', 'current_price': 0.02961445, 'market_cap': 254942171, 'market_cap_rank': 175, 'fully_diluted_valuation': 2032598520, 'total_volume': 104868601, 'high_24h': 0.02980865, 'low_24h': 0.02730021, 'price_change_24h': 0.00188466, 'price_change_percentage_24h': 6.79651, 'market_cap_change_24h': 14976538, 'market_cap_change_percentage_24h': 6.24112, 'circulating_supply': 8654443873.96515, 'total_supply': 69000000000, 'max_supply': 69000000000, 'ath': 0.04074926, 'ath_change_percentage': -27.37431, 'ath_date': '2023-11-15T16:40:47.597Z', 'atl': 0.01724609, 'atl_change_percentage': 71.60085, 'atl_date': '2023-11-07T18:04:56.706Z', 'roi': None, 'last_updated': '2023-12-02T11:49:05.723Z', 'price_change_percentage_24h_in_currency': 6.7965103051228075}, {'id': 'centrifuge', 'symbol': 'cfg', 'name': 'Centrifuge', 'image': 'https://assets.coingecko.com/coins/images/15380/large/centrifuge.PNG?1696515027', 'current_price': 0.70446, 'market_cap': 253638986, 'market_cap_rank': 176, 'fully_diluted_valuation': 314710021, 'total_volume': 2151958, 'high_24h': 0.711368, 'low_24h': 0.660399, 'price_change_24h': 0.00819829, 'price_change_percentage_24h': 1.17747, 'market_cap_change_24h': 1380358, 'market_cap_change_percentage_24h': 0.5472, 'circulating_supply': 360263043, 'total_supply': 447006951, 'max_supply': None, 'ath': 15.98, 'ath_change_percentage': -95.59338, 'ath_date': '2021-05-30T00:00:00.000Z', 'atl': 0.139815, 'atl_change_percentage': 403.7608, 'atl_date': '2023-01-04T19:31:23.475Z', 'roi': None, 'last_updated': '2023-12-02T11:48:56.695Z', 'price_change_percentage_24h_in_currency': 1.177472689276405}, {'id': 'wrapped-centrifuge', 'symbol': 'wcfg', 'name': 'Wrapped Centrifuge', 'image': 'https://assets.coingecko.com/coins/images/17106/large/WCFG.jpg?1696516667', 'current_price': 0.7042, 'market_cap': 253532992, 'market_cap_rank': 177, 'fully_diluted_valuation': None, 'total_volume': 557450, 'high_24h': 0.712826, 'low_24h': 0.659578, 'price_change_24h': 0.00516886, 'price_change_percentage_24h': 0.73943, 'market_cap_change_24h': 1645583, 'market_cap_change_percentage_24h': 0.6533, 'circulating_supply': 360263043, 'total_supply': 0, 'max_supply': 0, 'ath': 2.55, 'ath_change_percentage': -72.39335, 'ath_date': '2021-10-14T01:50:21.389Z', 'atl': 0.14244, 'atl_change_percentage': 394.22853, 'atl_date': '2023-01-04T18:19:37.018Z', 'roi': None, 'last_updated': '2023-12-02T11:48:26.563Z', 'price_change_percentage_24h_in_currency': 0.7394315938998511}, {'id': 'oec-token', 'symbol': 'okt', 'name': 'OKT Chain', 'image': 'https://assets.coingecko.com/coins/images/13708/large/WeChat_Image_20220118095654.png?1696513453', 'current_price': 14.11, 'market_cap': 250403950, 'market_cap_rank': 178, 'fully_diluted_valuation': 250400857, 'total_volume': 879270, 'high_24h': 14.27, 'low_24h': 13.5, 'price_change_24h': 0.51874, 'price_change_percentage_24h': 3.81783, 'market_cap_change_24h': 8114079, 'market_cap_change_percentage_24h': 3.34891, 'circulating_supply': 17847480, 'total_supply': 17847259.5, 'max_supply': 21000000, 'ath': 250.53, 'ath_change_percentage': -94.40042, 'ath_date': '2021-05-10T03:09:56.045Z', 'atl': 10.27, 'atl_change_percentage': 36.61942, 'atl_date': '2023-10-18T19:35:19.761Z', 'roi': None, 'last_updated': '2023-12-02T11:48:38.983Z', 'price_change_percentage_24h_in_currency': 3.817831545295911}, {'id': 'icon', 'symbol': 'icx', 'name': 'ICON', 'image': 'https://assets.coingecko.com/coins/images/1060/large/icon-icx-logo.png?1696502164', 'current_price': 0.255432, 'market_cap': 248542494, 'market_cap_rank': 179, 'fully_diluted_valuation': 251842825, 'total_volume': 2265842, 'high_24h': 0.257423, 'low_24h': 0.251628, 'price_change_24h': 0.0021845, 'price_change_percentage_24h': 0.8626, 'market_cap_change_24h': 1656819, 'market_cap_change_percentage_24h': 0.67109, 'circulating_supply': 973696341.055211, 'total_supply': 986625802.386194, 'max_supply': None, 'ath': 13.16, 'ath_change_percentage': -98.06114, 'ath_date': '2018-01-09T00:00:00.000Z', 'atl': 0.107465, 'atl_change_percentage': 137.51073, 'atl_date': '2020-01-03T02:14:53.139Z', 'roi': {'times': 1.3221053809792644, 'currency': 'usd', 'percentage': 132.21053809792645}, 'last_updated': '2023-12-02T11:49:04.673Z', 'price_change_percentage_24h_in_currency': 0.8625959583397432}, {'id': 'fasttoken', 'symbol': 'ftn', 'name': 'Fasttoken', 'image': 'https://assets.coingecko.com/coins/images/28478/large/lightenicon_200x200.png?1696527472', 'current_price': 1.21, 'market_cap': 246844037, 'market_cap_rank': 180, 'fully_diluted_valuation': 1066745440, 'total_volume': 16951562, 'high_24h': 1.22, 'low_24h': 1.21, 'price_change_24h': -0.003125896088000735, 'price_change_percentage_24h': -0.25713, 'market_cap_change_24h': -830710.7847362161, 'market_cap_change_percentage_24h': -0.3354, 'circulating_supply': 203631291.97, 'total_supply': 880000000, 'max_supply': 1000000000, 'ath': 1.23, 'ath_change_percentage': -1.62425, 'ath_date': '2023-11-15T18:14:53.531Z', 'atl': 0.398142, 'atl_change_percentage': 204.51562, 'atl_date': '2023-01-21T10:15:39.503Z', 'roi': None, 'last_updated': '2023-12-02T11:48:36.497Z', 'price_change_percentage_24h_in_currency': -0.2571290753014239}, {'id': 'echelon-prime', 'symbol': 'prime', 'name': 'Echelon Prime', 'image': 'https://assets.coingecko.com/coins/images/29053/large/prime-logo-small-border_%282%29.png?1696528020', 'current_price': 8.07, 'market_cap': 245792607, 'market_cap_rank': 181, 'fully_diluted_valuation': 896895658, 'total_volume': 3919679, 'high_24h': 8.45, 'low_24h': 8.06, 'price_change_24h': -0.3535034127437502, 'price_change_percentage_24h': -4.19499, 'market_cap_change_24h': -11069586.613021582, 'market_cap_change_percentage_24h': -4.30954, 'circulating_supply': 30449795.8633, 'total_supply': 111111111, 'max_supply': 111111111, 'ath': 8.93, 'ath_change_percentage': -9.56523, 'ath_date': '2023-11-29T00:00:52.551Z', 'atl': 1.19, 'atl_change_percentage': 577.81026, 'atl_date': '2023-05-25T01:50:17.283Z', 'roi': None, 'last_updated': '2023-12-02T11:48:27.815Z', 'price_change_percentage_24h_in_currency': -4.194986913122204}, {'id': 'sushi', 'symbol': 'sushi', 'name': 'Sushi', 'image': 'https://assets.coingecko.com/coins/images/12271/large/512x512_Logo_no_chop.png?1696512101', 'current_price': 1.27, 'market_cap': 243908386, 'market_cap_rank': 182, 'fully_diluted_valuation': 316547018, 'total_volume': 45687007, 'high_24h': 1.29, 'low_24h': 1.23, 'price_change_24h': 0.00722669, 'price_change_percentage_24h': 0.57392, 'market_cap_change_24h': 605569, 'market_cap_change_percentage_24h': 0.2489, 'circulating_supply': 192789255.8554817, 'total_supply': 250204041.899978, 'max_supply': 250000000, 'ath': 23.38, 'ath_change_percentage': -94.58454, 'ath_date': '2021-03-13T23:44:36.774Z', 'atl': 0.475381, 'atl_change_percentage': 166.30033, 'atl_date': '2020-11-04T14:53:53.560Z', 'roi': None, 'last_updated': '2023-12-02T11:48:58.579Z', 'price_change_percentage_24h_in_currency': 0.5739156673199142}, {'id': 'chia', 'symbol': 'xch', 'name': 'Chia', 'image': 'https://assets.coingecko.com/coins/images/15174/large/zV5K5y9f_400x400.png?1696514829', 'current_price': 26.29, 'market_cap': 241945085, 'market_cap_rank': 183, 'fully_diluted_valuation': 794076171, 'total_volume': 3653101, 'high_24h': 26.3, 'low_24h': 25.74, 'price_change_24h': 0.076516, 'price_change_percentage_24h': 0.29184, 'market_cap_change_24h': 948102, 'market_cap_change_percentage_24h': 0.39341, 'circulating_supply': 9202283.23364902, 'total_supply': 30202365.2372327, 'max_supply': None, 'ath': 1645.12, 'ath_change_percentage': -98.40144, 'ath_date': '2021-05-15T14:24:45.107Z', 'atl': 20.46, 'atl_change_percentage': 28.5078, 'atl_date': '2023-10-13T20:34:41.868Z', 'roi': None, 'last_updated': '2023-12-02T11:48:57.528Z', 'price_change_percentage_24h_in_currency': 0.29184166450509197}, {'id': 'golem', 'symbol': 'glm', 'name': 'Golem', 'image': 'https://assets.coingecko.com/coins/images/542/large/Golem_Submark_Positive_RGB.png?1696501761', 'current_price': 0.242234, 'market_cap': 241162489, 'market_cap_rank': 184, 'fully_diluted_valuation': 241162489, 'total_volume': 3942187, 'high_24h': 0.243379, 'low_24h': 0.237537, 'price_change_24h': 0.0030603, 'price_change_percentage_24h': 1.27953, 'market_cap_change_24h': -398187.52733659744, 'market_cap_change_percentage_24h': -0.16484, 'circulating_supply': 1000000000, 'total_supply': 1000000000, 'max_supply': None, 'ath': 1.32, 'ath_change_percentage': -81.78952, 'ath_date': '2018-04-13T09:13:22.739Z', 'atl': 0.00913753, 'atl_change_percentage': 2539.2525, 'atl_date': '2016-12-12T00:00:00.000Z', 'roi': {'times': 23.22343602004627, 'currency': 'usd', 'percentage': 2322.343602004627}, 'last_updated': '2023-12-02T11:49:04.514Z', 'price_change_percentage_24h_in_currency': 1.2795278496258546}, {'id': 'iotex', 'symbol': 'iotx', 'name': 'IoTeX', 'image': 'https://assets.coingecko.com/coins/images/3334/large/iotex-logo.png?1696504041', 'current_price': 0.02558829, 'market_cap': 241126343, 'market_cap_rank': 185, 'fully_diluted_valuation': 242504744, 'total_volume': 7549554, 'high_24h': 0.02582238, 'low_24h': 0.02479064, 'price_change_24h': 0.00036165, 'price_change_percentage_24h': 1.43362, 'market_cap_change_24h': 2530220, 'market_cap_change_percentage_24h': 1.06046, 'circulating_supply': 9442289892, 'total_supply': 9496266827.32, 'max_supply': 9496266827.32, 'ath': 0.255593, 'ath_change_percentage': -90.00834, 'ath_date': '2021-11-13T16:54:18.643Z', 'atl': 0.00121576, 'atl_change_percentage': 2000.57741, 'atl_date': '2020-03-13T02:29:47.597Z', 'roi': None, 'last_updated': '2023-12-02T11:48:59.214Z', 'price_change_percentage_24h_in_currency': 1.4336223083714965}, {'id': 'kusama', 'symbol': 'ksm', 'name': 'Kusama', 'image': 'https://assets.coingecko.com/coins/images/9568/large/m4zRhP5e_400x400.jpg?1696509648', 'current_price': 25.64, 'market_cap': 229177665, 'market_cap_rank': 186, 'fully_diluted_valuation': 255206194, 'total_volume': 11038059, 'high_24h': 25.68, 'low_24h': 24.98, 'price_change_24h': 0.532248, 'price_change_percentage_24h': 2.11963, 'market_cap_change_24h': 2500332, 'market_cap_change_percentage_24h': 1.10304, 'circulating_supply': 8980098.074112339, 'total_supply': 10000000, 'max_supply': 10000000, 'ath': 621.71, 'ath_change_percentage': -95.89463, 'ath_date': '2021-05-18T05:04:41.858Z', 'atl': 0.876572, 'atl_change_percentage': 2811.71838, 'atl_date': '2020-01-14T19:20:20.768Z', 'roi': None, 'last_updated': '2023-12-02T11:49:02.428Z', 'price_change_percentage_24h_in_currency': 2.119625712532405}, {'id': 'escoin-token', 'symbol': 'elg', 'name': 'Escoin', 'image': 'https://assets.coingecko.com/coins/images/13566/large/escoin-200.png?1696513320', 'current_price': 1.02, 'market_cap': 228752259, 'market_cap_rank': 187, 'fully_diluted_valuation': None, 'total_volume': 489852, 'high_24h': 1.026, 'low_24h': 1.008, 'price_change_24h': 0.00298874, 'price_change_percentage_24h': 0.29384, 'market_cap_change_24h': 10734340, 'market_cap_change_percentage_24h': 4.9236, 'circulating_supply': 0, 'total_supply': 250000000, 'max_supply': None, 'ath': 3.61, 'ath_change_percentage': -71.76938, 'ath_date': '2022-06-24T02:40:08.448Z', 'atl': 0.00064644, 'atl_change_percentage': 157554.76844, 'atl_date': '2021-01-10T16:54:16.852Z', 'roi': None, 'last_updated': '2023-12-02T11:47:45.024Z', 'price_change_percentage_24h_in_currency': 0.2938418899031384}, {'id': 'decred', 'symbol': 'dcr', 'name': 'Decred', 'image': 'https://assets.coingecko.com/coins/images/329/large/decred.png?1696501665', 'current_price': 14.47, 'market_cap': 226706883, 'market_cap_rank': 188, 'fully_diluted_valuation': 303632727, 'total_volume': 2221478, 'high_24h': 15.01, 'low_24h': 14.38, 'price_change_24h': -0.10054617224410656, 'price_change_percentage_24h': -0.69014, 'market_cap_change_24h': -1256873.8540482223, 'market_cap_change_percentage_24h': -0.55135, 'circulating_supply': 15679615.9124207, 'total_supply': 21000000, 'max_supply': None, 'ath': 247.35, 'ath_change_percentage': -94.15458, 'ath_date': '2021-04-17T00:41:14.790Z', 'atl': 0.43154, 'atl_change_percentage': 3250.49312, 'atl_date': '2016-12-26T00:00:00.000Z', 'roi': None, 'last_updated': '2023-12-02T11:49:05.139Z', 'price_change_percentage_24h_in_currency': -0.6901375098491477}, {'id': 'audius', 'symbol': 'audio', 'name': 'Audius', 'image': 'https://assets.coingecko.com/coins/images/12913/large/AudiusCoinLogo_2x.png?1696512701', 'current_price': 0.190425, 'market_cap': 223606759, 'market_cap_rank': 189, 'fully_diluted_valuation': 228900418, 'total_volume': 5872934, 'high_24h': 0.191298, 'low_24h': 0.18763, 'price_change_24h': 0.0010082, 'price_change_percentage_24h': 0.53227, 'market_cap_change_24h': 1180554, 'market_cap_change_percentage_24h': 0.53076, 'circulating_supply': 1174629537, 'total_supply': 1202437676.69542, 'max_supply': 1202437676.69542, 'ath': 4.95, 'ath_change_percentage': -96.1572, 'ath_date': '2021-03-27T15:45:35.137Z', 'atl': 0.0437371, 'atl_change_percentage': 335.33382, 'atl_date': '2020-10-23T14:56:23.999Z', 'roi': None, 'last_updated': '2023-12-02T11:48:59.773Z', 'price_change_percentage_24h_in_currency': 0.5322682906287142}, {'id': 'ravencoin', 'symbol': 'rvn', 'name': 'Ravencoin', 'image': 'https://assets.coingecko.com/coins/images/3412/large/ravencoin.png?1696504108', 'current_price': 0.01872725, 'market_cap': 222719715, 'market_cap_rank': 190, 'fully_diluted_valuation': 222716210, 'total_volume': 20454726, 'high_24h': 0.01878382, 'low_24h': 0.01838053, 'price_change_24h': 4.581e-05, 'price_change_percentage_24h': 0.24519, 'market_cap_change_24h': 196016, 'market_cap_change_percentage_24h': 0.08809, 'circulating_supply': 11907968088.8129, 'total_supply': 11907780693.8129, 'max_supply': None, 'ath': 0.285218, 'ath_change_percentage': -93.44281, 'ath_date': '2021-02-20T11:19:07.791Z', 'atl': 0.00893232, 'atl_change_percentage': 109.37757, 'atl_date': '2020-03-13T02:30:00.004Z', 'roi': None, 'last_updated': '2023-12-02T11:49:03.435Z', 'price_change_percentage_24h_in_currency': 0.2451941017996599}, {'id': 'moonbeam', 'symbol': 'glmr', 'name': 'Moonbeam', 'image': 'https://assets.coingecko.com/coins/images/22459/large/glmr.png?1696521782', 'current_price': 0.276712, 'market_cap': 218638825, 'market_cap_rank': 191, 'fully_diluted_valuation': 302614193, 'total_volume': 8031202, 'high_24h': 0.280218, 'low_24h': 0.272822, 'price_change_24h': 0.00115309, 'price_change_percentage_24h': 0.41846, 'market_cap_change_24h': 1653153, 'market_cap_change_percentage_24h': 0.76187, 'circulating_supply': 791467071, 'total_supply': 1095455796, 'max_supply': None, 'ath': 19.5, 'ath_change_percentage': -98.58208, 'ath_date': '2022-01-11T14:57:46.115Z', 'atl': 0.160477, 'atl_change_percentage': 72.29353, 'atl_date': '2023-09-22T00:21:26.148Z', 'roi': None, 'last_updated': '2023-12-02T11:49:02.017Z', 'price_change_percentage_24h_in_currency': 0.4184574142818187}, {'id': 'skale', 'symbol': 'skl', 'name': 'SKALE', 'image': 'https://assets.coingecko.com/coins/images/13245/large/SKALE_token_300x300.png?1696513021', 'current_price': 0.04344549, 'market_cap': 218214835, 'market_cap_rank': 192, 'fully_diluted_valuation': 226003143, 'total_volume': 35031955, 'high_24h': 0.04399428, 'low_24h': 0.04242135, 'price_change_24h': 0.00046205, 'price_change_percentage_24h': 1.07496, 'market_cap_change_24h': 2128259, 'market_cap_change_percentage_24h': 0.98491, 'circulating_supply': 5024269337, 'total_supply': 5203590585.10048, 'max_supply': 7000000000, 'ath': 1.22, 'ath_change_percentage': -96.42602, 'ath_date': '2021-03-12T05:14:18.439Z', 'atl': 0.01948445, 'atl_change_percentage': 123.09649, 'atl_date': '2023-10-19T15:52:06.861Z', 'roi': None, 'last_updated': '2023-12-02T11:49:04.025Z', 'price_change_percentage_24h_in_currency': 1.074957625269201}, {'id': 'canto', 'symbol': 'canto', 'name': 'CANTO', 'image': 'https://assets.coingecko.com/coins/images/26959/large/canto-network.png?1696526014', 'current_price': 0.391341, 'market_cap': 215924624, 'market_cap_rank': 193, 'fully_diluted_valuation': 391434682, 'total_volume': 6963054, 'high_24h': 0.418583, 'low_24h': 0.391002, 'price_change_24h': -0.024999126341917643, 'price_change_percentage_24h': -6.0045, 'market_cap_change_24h': -14221920.56876883, 'market_cap_change_percentage_24h': -6.17951, 'circulating_supply': 551623641.248848, 'total_supply': 1000000000, 'max_supply': None, 'ath': 0.764501, 'ath_change_percentage': -48.80418, 'ath_date': '2023-02-07T18:11:01.341Z', 'atl': 0.069837, 'atl_change_percentage': 460.43311, 'atl_date': '2023-01-01T21:15:05.898Z', 'roi': None, 'last_updated': '2023-12-02T11:49:03.259Z', 'price_change_percentage_24h_in_currency': -6.0044958558286465}, {'id': 'waves', 'symbol': 'waves', 'name': 'Waves', 'image': 'https://assets.coingecko.com/coins/images/425/large/waves.png?1696501700', 'current_price': 2.15, 'market_cap': 214567723, 'market_cap_rank': 194, 'fully_diluted_valuation': 214567723, 'total_volume': 25900874, 'high_24h': 2.17, 'low_24h': 2.11, 'price_change_24h': 0.02103588, 'price_change_percentage_24h': 0.98875, 'market_cap_change_24h': 2167958, 'market_cap_change_percentage_24h': 1.0207, 'circulating_supply': 100000000, 'total_supply': 100000000, 'max_supply': None, 'ath': 61.3, 'ath_change_percentage': -96.5, 'ath_date': '2022-03-31T14:34:44.545Z', 'atl': 0.130878, 'atl_change_percentage': 1539.37558, 'atl_date': '2016-08-02T00:00:00.000Z', 'roi': {'times': 10.428473914398213, 'currency': 'usd', 'percentage': 1042.8473914398212}, 'last_updated': '2023-12-02T11:49:01.617Z', 'price_change_percentage_24h_in_currency': 0.9887524268634316}, {'id': 'magic', 'symbol': 'magic', 'name': 'Magic', 'image': 'https://assets.coingecko.com/coins/images/18623/large/magic.png?1696518095', 'current_price': 0.837406, 'market_cap': 212948664, 'market_cap_rank': 195, 'fully_diluted_valuation': 282835524, 'total_volume': 46662308, 'high_24h': 0.833926, 'low_24h': 0.793854, 'price_change_24h': 0.0333989, 'price_change_percentage_24h': 4.15406, 'market_cap_change_24h': 7552707, 'market_cap_change_percentage_24h': 3.67714, 'circulating_supply': 255721263.588986, 'total_supply': 339645510.317976, 'max_supply': 347714007, 'ath': 6.32, 'ath_change_percentage': -86.81585, 'ath_date': '2022-02-19T16:24:53.615Z', 'atl': 0.01999252, 'atl_change_percentage': 4070.1174, 'atl_date': '2021-10-07T01:57:51.729Z', 'roi': None, 'last_updated': '2023-12-02T11:48:55.875Z', 'price_change_percentage_24h_in_currency': 4.15405825232035}, {'id': 'aragon', 'symbol': 'ant', 'name': 'Aragon', 'image': 'https://assets.coingecko.com/coins/images/681/large/Avatar_Circle_x6.png?1696501871', 'current_price': 5.31, 'market_cap': 212500772, 'market_cap_rank': 196, 'fully_diluted_valuation': 229148896, 'total_volume': 7239450, 'high_24h': 5.35, 'low_24h': 5.26, 'price_change_24h': 0.00808816, 'price_change_percentage_24h': 0.15243, 'market_cap_change_24h': -62503.16860431433, 'market_cap_change_percentage_24h': -0.0294, 'circulating_supply': 40039312.049009934, 'total_supply': 43176145.1150492, 'max_supply': 45094973, 'ath': 14.64, 'ath_change_percentage': -63.73752, 'ath_date': '2021-04-06T09:35:37.795Z', 'atl': 0.301888, 'atl_change_percentage': 1658.27413, 'atl_date': '2018-11-27T00:00:00.000Z', 'roi': None, 'last_updated': '2023-12-02T11:49:00.737Z', 'price_change_percentage_24h_in_currency': 0.15242862003487992}, {'id': 'wax', 'symbol': 'waxp', 'name': 'WAX', 'image': 'https://assets.coingecko.com/coins/images/1372/large/WAX_Coin_Tickers_P_512px.png?1696502430', 'current_price': 0.062589, 'market_cap': 210323694, 'market_cap_rank': 197, 'fully_diluted_valuation': 235254446, 'total_volume': 1850751, 'high_24h': 0.062723, 'low_24h': 0.061649, 'price_change_24h': 0.00049169, 'price_change_percentage_24h': 0.79181, 'market_cap_change_24h': 813941, 'market_cap_change_percentage_24h': 0.3885, 'circulating_supply': 3370750856.90591, 'total_supply': 3770303327, 'max_supply': 3770303327, 'ath': 2.77, 'ath_change_percentage': -97.74889, 'ath_date': '2018-01-09T00:00:00.000Z', 'atl': 0.01594711, 'atl_change_percentage': 291.25174, 'atl_date': '2019-12-30T16:39:58.981Z', 'roi': {'times': -0.8044093482164024, 'currency': 'usd', 'percentage': -80.44093482164024}, 'last_updated': '2023-12-02T11:48:58.608Z', 'price_change_percentage_24h_in_currency': 0.7918128269601631}, {'id': 'lukso-token-2', 'symbol': 'lyx', 'name': 'LUKSO', 'image': 'https://assets.coingecko.com/coins/images/31010/large/LYX.png?1696529847', 'current_price': 6.9, 'market_cap': 209860340, 'market_cap_rank': 198, 'fully_diluted_valuation': 289521805, 'total_volume': 268478, 'high_24h': 7.07, 'low_24h': 6.66, 'price_change_24h': -0.12949138184133346, 'price_change_percentage_24h': -1.84173, 'market_cap_change_24h': -7018760.2496905625, 'market_cap_change_percentage_24h': -3.23625, 'circulating_supply': 30504546.56872914, 'total_supply': 42083851.3777311, 'max_supply': None, 'ath': 8.68, 'ath_change_percentage': -20.47504, 'ath_date': '2023-07-25T05:57:49.349Z', 'atl': 4.77, 'atl_change_percentage': 44.5418, 'atl_date': '2023-10-12T11:39:47.243Z', 'roi': None, 'last_updated': '2023-12-02T11:47:04.578Z', 'price_change_percentage_24h_in_currency': -1.8417266827902279}, {'id': 'swipe', 'symbol': 'sxp', 'name': 'SXP', 'image': 'https://assets.coingecko.com/coins/images/9368/large/swipe.png?1696509466', 'current_price': 0.357423, 'market_cap': 209257559, 'market_cap_rank': 199, 'fully_diluted_valuation': 209257722, 'total_volume': 8896424, 'high_24h': 0.359124, 'low_24h': 0.344751, 'price_change_24h': 0.00926157, 'price_change_percentage_24h': 2.66014, 'market_cap_change_24h': 5016361, 'market_cap_change_percentage_24h': 2.4561, 'circulating_supply': 586127200.840587, 'total_supply': 586127657.193635, 'max_supply': None, 'ath': 5.79, 'ath_change_percentage': -93.83267, 'ath_date': '2021-05-03T15:29:39.372Z', 'atl': 0.161303, 'atl_change_percentage': 121.37608, 'atl_date': '2020-03-18T13:24:48.021Z', 'roi': None, 'last_updated': '2023-12-02T11:49:03.062Z', 'price_change_percentage_24h_in_currency': 2.6601352058454686}, {'id': 'origintrail', 'symbol': 'trac', 'name': 'OriginTrail', 'image': 'https://assets.coingecko.com/coins/images/1877/large/TRAC.jpg?1696502873', 'current_price': 0.54088, 'market_cap': 207533420, 'market_cap_rank': 200, 'fully_diluted_valuation': 271073973, 'total_volume': 3227405, 'high_24h': 0.553503, 'low_24h': 0.511154, 'price_change_24h': -0.010874236779859991, 'price_change_percentage_24h': -1.97085, 'market_cap_change_24h': -5169683.568107635, 'market_cap_change_percentage_24h': -2.43047, 'circulating_supply': 382798499.36395836, 'total_supply': 500000000, 'max_supply': 500000000, 'ath': 3.5, 'ath_change_percentage': -84.53216, 'ath_date': '2021-11-03T18:09:57.627Z', 'atl': 0.00385262, 'atl_change_percentage': 13971.94878, 'atl_date': '2020-03-13T02:24:12.031Z', 'roi': {'times': 4.408803880644207, 'currency': 'usd', 'percentage': 440.8803880644207}, 'last_updated': '2023-12-02T11:48:49.733Z', 'price_change_percentage_24h_in_currency': -1.9708465122388379}, {'id': 'defichain', 'symbol': 'dfi', 'name': 'DeFiChain', 'image': 'https://assets.coingecko.com/coins/images/11757/large/symbol-defi-blockchain_200.png?1696511638', 'current_price': 0.247417, 'market_cap': 206504813, 'market_cap_rank': 201, 'fully_diluted_valuation': 296900435, 'total_volume': 3279736, 'high_24h': 0.251097, 'low_24h': 0.244688, 'price_change_24h': -0.003498918650686633, 'price_change_percentage_24h': -1.39446, 'market_cap_change_24h': -2272995.9896587133, 'market_cap_change_percentage_24h': -1.08872, 'circulating_supply': 834642685.047426, 'total_supply': 1200000000, 'max_supply': None, 'ath': 5.61, 'ath_change_percentage': -95.59227, 'ath_date': '2021-12-06T03:05:01.038Z', 'atl': 0.162998, 'atl_change_percentage': 51.79083, 'atl_date': '2020-07-16T10:24:06.014Z', 'roi': None, 'last_updated': '2023-12-02T11:49:03.334Z', 'price_change_percentage_24h_in_currency': -1.39445830201182}, {'id': 'balancer', 'symbol': 'bal', 'name': 'Balancer', 'image': 'https://assets.coingecko.com/coins/images/11683/large/Balancer.png?1696511572', 'current_price': 3.84, 'market_cap': 206156263, 'market_cap_rank': 202, 'fully_diluted_valuation': 231790363, 'total_volume': 8219439, 'high_24h': 3.87, 'low_24h': 3.76, 'price_change_24h': 0.02617506, 'price_change_percentage_24h': 0.68693, 'market_cap_change_24h': 1297485, 'market_cap_change_percentage_24h': 0.63336, 'circulating_supply': 53767828.73798583, 'total_supply': 60453484.9872958, 'max_supply': 96150704, 'ath': 74.45, 'ath_change_percentage': -94.85366, 'ath_date': '2021-05-04T13:35:02.939Z', 'atl': 2.92, 'atl_change_percentage': 31.14811, 'atl_date': '2023-10-19T01:54:57.699Z', 'roi': None, 'last_updated': '2023-12-02T11:48:58.904Z', 'price_change_percentage_24h_in_currency': 0.6869312940117341}, {'id': 'ontology', 'symbol': 'ont', 'name': 'Ontology', 'image': 'https://assets.coingecko.com/coins/images/3447/large/ONT.png?1696504138', 'current_price': 0.226152, 'market_cap': 202174606, 'market_cap_rank': 203, 'fully_diluted_valuation': 225541153, 'total_volume': 4856498, 'high_24h': 0.227484, 'low_24h': 0.221089, 'price_change_24h': 0.00387784, 'price_change_percentage_24h': 1.74462, 'market_cap_change_24h': 3054084, 'market_cap_change_percentage_24h': 1.53379, 'circulating_supply': 896397857, 'total_supply': 1000000000, 'max_supply': None, 'ath': 10.92, 'ath_change_percentage': -97.93592, 'ath_date': '2018-05-03T01:43:05.844Z', 'atl': 0.145208, 'atl_change_percentage': 55.23, 'atl_date': '2022-12-30T07:46:17.182Z', 'roi': None, 'last_updated': '2023-12-02T11:49:04.165Z', 'price_change_percentage_24h_in_currency': 1.7446233631111665}, {'id': 'tellor', 'symbol': 'trb', 'name': 'Tellor Tributes', 'image': 'https://assets.coingecko.com/coins/images/9644/large/Blk_icon_current.png?1696509713', 'current_price': 79.78, 'market_cap': 201930992, 'market_cap_rank': 204, 'fully_diluted_valuation': 203982420, 'total_volume': 12378374, 'high_24h': 81.37, 'low_24h': 77.71, 'price_change_24h': 1.69, 'price_change_percentage_24h': 2.16364, 'market_cap_change_24h': 5667762, 'market_cap_change_percentage_24h': 2.88784, 'circulating_supply': 2533812.6877625985, 'total_supply': 2559553.83174281, 'max_supply': None, 'ath': 161.12, 'ath_change_percentage': -50.52745, 'ath_date': '2021-05-10T07:39:41.281Z', 'atl': 0.01001379, 'atl_change_percentage': 795893.79409, 'atl_date': '2019-11-01T10:00:10.047Z', 'roi': None, 'last_updated': '2023-12-02T11:48:57.802Z', 'price_change_percentage_24h_in_currency': 2.1636447571821726}, {'id': 'tominet', 'symbol': 'tomi', 'name': 'tomiNet', 'image': 'https://assets.coingecko.com/coins/images/28730/large/logo_for_token.png?1696527710', 'current_price': 2.3, 'market_cap': 201805387, 'market_cap_rank': 205, 'fully_diluted_valuation': 279021881, 'total_volume': 35171718, 'high_24h': 2.38, 'low_24h': 2.25, 'price_change_24h': 0.04111992, 'price_change_percentage_24h': 1.81724, 'market_cap_change_24h': 2672241, 'market_cap_change_percentage_24h': 1.34194, 'circulating_supply': 87634516.5364832, 'total_supply': 121165980.28478, 'max_supply': None, 'ath': 6.59, 'ath_change_percentage': -65.02321, 'ath_date': '2023-06-06T14:54:34.753Z', 'atl': 0.154561, 'atl_change_percentage': 1390.83016, 'atl_date': '2023-01-16T10:51:50.114Z', 'roi': None, 'last_updated': '2023-12-02T11:49:02.213Z', 'price_change_percentage_24h_in_currency': 1.8172433241699888}, {'id': 'link', 'symbol': 'fnsa', 'name': 'FINSCHIA', 'image': 'https://assets.coingecko.com/coins/images/6450/large/FINSCHIA_coin_icon%28black%29.png?1696506813', 'current_price': 27.71, 'market_cap': 201765972, 'market_cap_rank': 206, 'fully_diluted_valuation': 201769270, 'total_volume': 731305, 'high_24h': 27.97, 'low_24h': 26.05, 'price_change_24h': 0.48658, 'price_change_percentage_24h': 1.78752, 'market_cap_change_24h': -2895204.6734926105, 'market_cap_change_percentage_24h': -1.41463, 'circulating_supply': 7392948.741445, 'total_supply': 7393069.558827, 'max_supply': 1000000000, 'ath': 345.88, 'ath_change_percentage': -92.10666, 'ath_date': '2021-04-01T22:19:00.034Z', 'atl': 1.055, 'atl_change_percentage': 2487.85623, 'atl_date': '2018-12-26T00:00:00.000Z', 'roi': None, 'last_updated': '2023-12-02T11:48:48.165Z', 'price_change_percentage_24h_in_currency': 1.787519375494576}, {'id': 'band-protocol', 'symbol': 'band', 'name': 'Band Protocol', 'image': 'https://assets.coingecko.com/coins/images/9545/large/Band_token_blue_violet_token.png?1696509627', 'current_price': 1.46, 'market_cap': 199896353, 'market_cap_rank': 207, 'fully_diluted_valuation': 206339317, 'total_volume': 9265903, 'high_24h': 1.48, 'low_24h': 1.4, 'price_change_24h': 0.04628917, 'price_change_percentage_24h': 3.26688, 'market_cap_change_24h': 6829404, 'market_cap_change_percentage_24h': 3.53732, 'circulating_supply': 136521305.466436, 'total_supply': 140921595.200914, 'max_supply': None, 'ath': 22.83, 'ath_change_percentage': -93.58487, 'ath_date': '2021-04-15T12:04:11.270Z', 'atl': 0.203625, 'atl_change_percentage': 619.22604, 'atl_date': '2019-11-25T05:49:22.765Z', 'roi': {'times': 2.093474843249423, 'currency': 'usd', 'percentage': 209.3474843249423}, 'last_updated': '2023-12-02T11:48:58.336Z', 'price_change_percentage_24h_in_currency': 3.266876436809533}, {'id': 'dexe', 'symbol': 'dexe', 'name': 'DeXe', 'image': 'https://assets.coingecko.com/coins/images/12713/large/DEXE_token_logo.png?1696512514', 'current_price': 3.5, 'market_cap': 199676010, 'market_cap_rank': 208, 'fully_diluted_valuation': 337462558, 'total_volume': 1594939, 'high_24h': 3.54, 'low_24h': 3.39, 'price_change_24h': 0.082122, 'price_change_percentage_24h': 2.40451, 'market_cap_change_24h': 4315789, 'market_cap_change_percentage_24h': 2.20914, 'circulating_supply': 57101604.0260787, 'total_supply': 96504599.3360945, 'max_supply': None, 'ath': 32.38, 'ath_change_percentage': -89.19964, 'ath_date': '2021-03-08T13:29:57.935Z', 'atl': 0.671563, 'atl_change_percentage': 420.76386, 'atl_date': '2020-11-06T19:31:40.144Z', 'roi': None, 'last_updated': '2023-12-02T11:49:03.590Z', 'price_change_percentage_24h_in_currency': 2.404507976977889}, {'id': 'ark', 'symbol': 'ark', 'name': 'ARK', 'image': 'https://assets.coingecko.com/coins/images/613/large/ark.png?1696501811', 'current_price': 1.12, 'market_cap': 197655069, 'market_cap_rank': 209, 'fully_diluted_valuation': None, 'total_volume': 16625749, 'high_24h': 1.13, 'low_24h': 1.057, 'price_change_24h': 0.04675956, 'price_change_percentage_24h': 4.37664, 'market_cap_change_24h': 6985569, 'market_cap_change_percentage_24h': 3.66371, 'circulating_supply': 177292628, 'total_supply': None, 'max_supply': None, 'ath': 10.22, 'ath_change_percentage': -89.08298, 'ath_date': '2018-01-10T00:00:00.000Z', 'atl': 0.0339403, 'atl_change_percentage': 3187.90968, 'atl_date': '2017-03-22T00:00:00.000Z', 'roi': {'times': 110.5149944888587, 'currency': 'usd', 'percentage': 11051.49944888587}, 'last_updated': '2023-12-02T11:48:57.673Z', 'price_change_percentage_24h_in_currency': 4.376636024282283}, {'id': 'olympus', 'symbol': 'ohm', 'name': 'Olympus', 'image': 'https://assets.coingecko.com/coins/images/14483/large/token_OHM_%281%29.png?1696514169', 'current_price': 12.06, 'market_cap': 197230866, 'market_cap_rank': 210, 'fully_diluted_valuation': 323191369, 'total_volume': 273597, 'high_24h': 12.14, 'low_24h': 11.9, 'price_change_24h': 0.099621, 'price_change_percentage_24h': 0.8331, 'market_cap_change_24h': 1528062, 'market_cap_change_percentage_24h': 0.78081, 'circulating_supply': 16365754.6132967, 'total_supply': 26817661.6575112, 'max_supply': 26817661.6575112, 'ath': 1415.26, 'ath_change_percentage': -99.14803, 'ath_date': '2021-04-25T00:00:00.000Z', 'atl': 7.54, 'atl_change_percentage': 59.83782, 'atl_date': '2022-11-26T16:36:26.296Z', 'roi': None, 'last_updated': '2023-12-02T11:48:28.582Z', 'price_change_percentage_24h_in_currency': 0.8330977025669551}, {'id': 'biconomy', 'symbol': 'bico', 'name': 'Biconomy', 'image': 'https://assets.coingecko.com/coins/images/21061/large/biconomy_logo.jpg?1696520444', 'current_price': 0.277531, 'market_cap': 197114422, 'market_cap_rank': 211, 'fully_diluted_valuation': 277324642, 'total_volume': 5094393, 'high_24h': 0.283546, 'low_24h': 0.268863, 'price_change_24h': 0.00499414, 'price_change_percentage_24h': 1.83246, 'market_cap_change_24h': 3517888, 'market_cap_change_percentage_24h': 1.81712, 'circulating_supply': 710771393.050715, 'total_supply': 1000000000, 'max_supply': 1000000000, 'ath': 21.45, 'ath_change_percentage': -98.70637, 'ath_date': '2021-12-02T02:18:45.254Z', 'atl': 0.189913, 'atl_change_percentage': 46.08881, 'atl_date': '2023-09-11T19:42:03.355Z', 'roi': None, 'last_updated': '2023-12-02T11:49:02.715Z', 'price_change_percentage_24h_in_currency': 1.8324621640127465}, {'id': 'corgiai', 'symbol': 'corgiai', 'name': 'CorgiAI', 'image': 'https://assets.coingecko.com/coins/images/30933/large/Token.png?1696529775', 'current_price': 0.00071159, 'market_cap': 197069934, 'market_cap_rank': 212, 'fully_diluted_valuation': 264904949, 'total_volume': 780831, 'high_24h': 0.00081855, 'low_24h': 0.00070947, 'price_change_24h': -4.3023677343976e-05, 'price_change_percentage_24h': -5.70141, 'market_cap_change_24h': -11295145.478981018, 'market_cap_change_percentage_24h': -5.42084, 'circulating_supply': 277112793787.62, 'total_supply': 372500000000, 'max_supply': 500000000000, 'ath': 0.0016244, 'ath_change_percentage': -56.22153, 'ath_date': '2023-11-12T10:21:15.005Z', 'atl': 4.414e-05, 'atl_change_percentage': 1511.03821, 'atl_date': '2023-09-06T20:16:08.253Z', 'roi': None, 'last_updated': '2023-12-02T11:48:45.676Z', 'price_change_percentage_24h_in_currency': -5.701414354866859}, {'id': 'liquity-usd', 'symbol': 'lusd', 'name': 'Liquity USD', 'image': 'https://assets.coingecko.com/coins/images/14666/large/Group_3.png?1696514341', 'current_price': 0.995049, 'market_cap': 195786732, 'market_cap_rank': 213, 'fully_diluted_valuation': 195786732, 'total_volume': 6287836, 'high_24h': 0.996667, 'low_24h': 0.992917, 'price_change_24h': 9.773e-05, 'price_change_percentage_24h': 0.00982, 'market_cap_change_24h': -1192200.7093898356, 'market_cap_change_percentage_24h': -0.60524, 'circulating_supply': 196823211.016962, 'total_supply': 196823211.016962, 'max_supply': None, 'ath': 1.16, 'ath_change_percentage': -14.12258, 'ath_date': '2021-04-05T14:47:52.665Z', 'atl': 0.896722, 'atl_change_percentage': 10.93061, 'atl_date': '2022-01-27T09:42:06.510Z', 'roi': None, 'last_updated': '2023-12-02T11:49:02.941Z', 'price_change_percentage_24h_in_currency': 0.009822123786543987}, {'id': 'swissborg', 'symbol': 'borg', 'name': 'SwissBorg', 'image': 'https://assets.coingecko.com/coins/images/2117/large/YJUrRy7r_400x400.png?1696503083', 'current_price': 0.197532, 'market_cap': 194254130, 'market_cap_rank': 214, 'fully_diluted_valuation': 194254130, 'total_volume': 1461044, 'high_24h': 0.20436, 'low_24h': 0.196576, 'price_change_24h': -0.006749436677554317, 'price_change_percentage_24h': -3.30399, 'market_cap_change_24h': -6577745.716960788, 'market_cap_change_percentage_24h': -3.27525, 'circulating_supply': 984504858.442, 'total_supply': 984504858.442, 'max_supply': 1000000000, 'ath': 1.64, 'ath_change_percentage': -87.96764, 'ath_date': '2021-05-04T17:14:50.120Z', 'atl': 0.00502687, 'atl_change_percentage': 3825.22568, 'atl_date': '2019-07-28T00:00:00.000Z', 'roi': {'times': 0.975320720571849, 'currency': 'usd', 'percentage': 97.5320720571849}, 'last_updated': '2023-12-02T11:48:57.257Z', 'price_change_percentage_24h_in_currency': -3.3039880698739603}, {'id': 'livepeer', 'symbol': 'lpt', 'name': 'Livepeer', 'image': 'https://assets.coingecko.com/coins/images/7137/large/logo-circle-green.png?1696507437', 'current_price': 6.47, 'market_cap': 193173244, 'market_cap_rank': 215, 'fully_diluted_valuation': 193173244, 'total_volume': 9121624, 'high_24h': 6.51, 'low_24h': 6.27, 'price_change_24h': 0.118239, 'price_change_percentage_24h': 1.86109, 'market_cap_change_24h': 3009718, 'market_cap_change_percentage_24h': 1.5827, 'circulating_supply': 29892610.1493277, 'total_supply': 29892610.1493277, 'max_supply': 29892610.1493277, 'ath': 99.03, 'ath_change_percentage': -93.47431, 'ath_date': '2021-11-09T16:58:44.554Z', 'atl': 0.354051, 'atl_change_percentage': 1725.23055, 'atl_date': '2019-10-26T22:59:09.500Z', 'roi': None, 'last_updated': '2023-12-02T11:48:56.518Z', 'price_change_percentage_24h_in_currency': 1.8610905376042257}, {'id': 'autonolas', 'symbol': 'olas', 'name': 'Autonolas', 'image': 'https://assets.coingecko.com/coins/images/31099/large/OLAS-token.png?1696529930', 'current_price': 3.91, 'market_cap': 186204780, 'market_cap_rank': 216, 'fully_diluted_valuation': 2070948129, 'total_volume': 6154003, 'high_24h': 4.51, 'low_24h': 3.43, 'price_change_24h': 0.477193, 'price_change_percentage_24h': 13.91871, 'market_cap_change_24h': 20414786, 'market_cap_change_percentage_24h': 12.31364, 'circulating_supply': 48253787.265845224, 'total_supply': 536673067.426547, 'max_supply': None, 'ath': 4.51, 'ath_change_percentage': -13.41244, 'ath_date': '2023-12-02T05:55:48.017Z', 'atl': 0.08371, 'atl_change_percentage': 4566.25145, 'atl_date': '2023-08-02T19:06:23.313Z', 'roi': None, 'last_updated': '2023-12-02T11:48:38.694Z', 'price_change_percentage_24h_in_currency': 13.918707498666041}, {'id': 'polymesh', 'symbol': 'polyx', 'name': 'Polymesh', 'image': 'https://assets.coingecko.com/coins/images/23496/large/Polymesh-symbol.png?1696522706', 'current_price': 0.207488, 'market_cap': 184997309, 'market_cap_rank': 217, 'fully_diluted_valuation': 184997309, 'total_volume': 11082007, 'high_24h': 0.20811, 'low_24h': 0.195875, 'price_change_24h': 0.01100413, 'price_change_percentage_24h': 5.60053, 'market_cap_change_24h': 9444740, 'market_cap_change_percentage_24h': 5.38001, 'circulating_supply': 892543055.377954, 'total_supply': 892543055.377954, 'max_supply': None, 'ath': 0.494208, 'ath_change_percentage': -58.00623, 'ath_date': '2022-10-17T11:43:16.638Z', 'atl': 0.099854, 'atl_change_percentage': 107.83989, 'atl_date': '2023-09-11T19:46:51.485Z', 'roi': None, 'last_updated': '2023-12-02T11:49:02.711Z', 'price_change_percentage_24h_in_currency': 5.600531762318177}, {'id': 'dao-maker', 'symbol': 'dao', 'name': 'DAO Maker', 'image': 'https://assets.coingecko.com/coins/images/13915/large/4.png?1696513656', 'current_price': 0.885261, 'market_cap': 184246579, 'market_cap_rank': 218, 'fully_diluted_valuation': 244821111, 'total_volume': 2730789, 'high_24h': 0.892678, 'low_24h': 0.863605, 'price_change_24h': 0.02055047, 'price_change_percentage_24h': 2.37657, 'market_cap_change_24h': 3461792, 'market_cap_change_percentage_24h': 1.91487, 'circulating_supply': 208858000, 'total_supply': 277524000, 'max_supply': 277524000, 'ath': 8.71, 'ath_change_percentage': -89.87532, 'ath_date': '2021-04-21T17:13:06.858Z', 'atl': 0.50243, 'atl_change_percentage': 75.54326, 'atl_date': '2023-10-19T23:41:31.954Z', 'roi': None, 'last_updated': '2023-12-02T11:48:57.219Z', 'price_change_percentage_24h_in_currency': 2.3765721390754737}, {'id': 'zelcash', 'symbol': 'flux', 'name': 'Flux', 'image': 'https://assets.coingecko.com/coins/images/5163/large/Flux_symbol_blue-white.png?1696505679', 'current_price': 0.537796, 'market_cap': 181748271, 'market_cap_rank': 219, 'fully_diluted_valuation': 236331940, 'total_volume': 7171547, 'high_24h': 0.564764, 'low_24h': 0.536781, 'price_change_24h': -0.0169755048215563, 'price_change_percentage_24h': -3.05991, 'market_cap_change_24h': -5891949.253730416, 'market_cap_change_percentage_24h': -3.14002, 'circulating_supply': 338376772.299234, 'total_supply': 440000000, 'max_supply': None, 'ath': 3.33, 'ath_change_percentage': -83.85025, 'ath_date': '2022-01-03T10:18:02.680Z', 'atl': 0.01640374, 'atl_change_percentage': 3174.36279, 'atl_date': '2021-01-13T05:29:57.987Z', 'roi': None, 'last_updated': '2023-12-02T11:48:56.315Z', 'price_change_percentage_24h_in_currency': -3.059911205777419}, {'id': 'aioz-network', 'symbol': 'aioz', 'name': 'AIOZ Network', 'image': 'https://assets.coingecko.com/coins/images/14631/large/aioz-logo-200.png?1696514309', 'current_price': 0.181933, 'market_cap': 180814110, 'market_cap_rank': 220, 'fully_diluted_valuation': 192278854, 'total_volume': 19390923, 'high_24h': 0.19663, 'low_24h': 0.175561, 'price_change_24h': -0.012191455962370729, 'price_change_percentage_24h': -6.28024, 'market_cap_change_24h': -5028932.31242156, 'market_cap_change_percentage_24h': -2.70601, 'circulating_supply': 993612128.851295, 'total_supply': 1056613346.65582, 'max_supply': None, 'ath': 2.65, 'ath_change_percentage': -93.13138, 'ath_date': '2021-04-03T11:55:34.211Z', 'atl': 0.01099588, 'atl_change_percentage': 1555.89492, 'atl_date': '2023-09-13T19:20:42.446Z', 'roi': None, 'last_updated': '2023-12-02T11:49:00.586Z', 'price_change_percentage_24h_in_currency': -6.2802389283881395}, {'id': 'bone-shibaswap', 'symbol': 'bone', 'name': 'Bone ShibaSwap', 'image': 'https://assets.coingecko.com/coins/images/16916/large/bone_icon.png?1696516487', 'current_price': 0.723575, 'market_cap': 180674353, 'market_cap_rank': 221, 'fully_diluted_valuation': 180733223, 'total_volume': 10679038, 'high_24h': 0.732171, 'low_24h': 0.622788, 'price_change_24h': 0.097535, 'price_change_percentage_24h': 15.57973, 'market_cap_change_24h': 24560833, 'market_cap_change_percentage_24h': 15.73267, 'circulating_supply': 249917970.1573199, 'total_supply': 249999401.824847, 'max_supply': 250000000, 'ath': 15.5, 'ath_change_percentage': -95.3314, 'ath_date': '2021-07-07T02:52:33.198Z', 'atl': 0, 'atl_change_percentage': 8.146238558901932e+36, 'atl_date': '2021-08-12T23:02:53.007Z', 'roi': None, 'last_updated': '2023-12-02T11:48:59.431Z', 'price_change_percentage_24h_in_currency': 15.579733112637742}, {'id': 'baby-doge-coin', 'symbol': 'babydoge', 'name': 'Baby Doge Coin', 'image': 'https://assets.coingecko.com/coins/images/16125/large/babydoge.jpg?1696515731', 'current_price': 1.232e-09, 'market_cap': 180191036, 'market_cap_rank': 222, 'fully_diluted_valuation': 517185281, 'total_volume': 1391913, 'high_24h': 1.232e-09, 'low_24h': 1.193e-09, 'price_change_24h': 9.71e-12, 'price_change_percentage_24h': 0.79434, 'market_cap_change_24h': 1381772, 'market_cap_change_percentage_24h': 0.77276, 'circulating_supply': 146330991639139230, 'total_supply': 420000000000000000, 'max_supply': 420000000000000000, 'ath': 6.345e-09, 'ath_change_percentage': -80.58616, 'ath_date': '2022-01-16T20:24:43.758Z', 'atl': 9.4771e-11, 'atl_change_percentage': 1199.72113, 'atl_date': '2021-06-09T02:48:21.787Z', 'roi': None, 'last_updated': '2023-12-02T11:49:00.069Z', 'price_change_percentage_24h_in_currency': 0.7943385416707953}, {'id': 'telcoin', 'symbol': 'tel', 'name': 'Telcoin', 'image': 'https://assets.coingecko.com/coins/images/1899/large/tel.png?1696502892', 'current_price': 0.00247605, 'market_cap': 179921888, 'market_cap_rank': 223, 'fully_diluted_valuation': 246323046, 'total_volume': 579302, 'high_24h': 0.00248142, 'low_24h': 0.0024183, 'price_change_24h': 3.523e-05, 'price_change_percentage_24h': 1.4433, 'market_cap_change_24h': 1364417, 'market_cap_change_percentage_24h': 0.76413, 'circulating_supply': 73043058900.73, 'total_supply': 100000000000, 'max_supply': None, 'ath': 0.064483, 'ath_change_percentage': -96.17994, 'ath_date': '2021-05-11T00:32:24.043Z', 'atl': 6.474e-05, 'atl_change_percentage': 3705.09481, 'atl_date': '2020-03-13T02:24:47.992Z', 'roi': {'times': 1.476049079488731, 'currency': 'usd', 'percentage': 147.6049079488731}, 'last_updated': '2023-12-02T11:48:53.519Z', 'price_change_percentage_24h_in_currency': 1.4432989556505622}, {'id': 'iostoken', 'symbol': 'iost', 'name': 'IOST', 'image': 'https://assets.coingecko.com/coins/images/2523/large/IOST.png?1696503337', 'current_price': 0.00940775, 'market_cap': 175932211, 'market_cap_rank': 224, 'fully_diluted_valuation': 175932211, 'total_volume': 5078761, 'high_24h': 0.00946341, 'low_24h': 0.0090599, 'price_change_24h': 0.00034785, 'price_change_percentage_24h': 3.83948, 'market_cap_change_24h': 6186618, 'market_cap_change_percentage_24h': 3.64464, 'circulating_supply': 18708894189, 'total_supply': 18708894189, 'max_supply': 90000000000, 'ath': 0.129829, 'ath_change_percentage': -92.76166, 'ath_date': '2018-01-24T00:00:00.000Z', 'atl': 0.00160309, 'atl_change_percentage': 486.20833, 'atl_date': '2020-03-13T02:25:35.257Z', 'roi': None, 'last_updated': '2023-12-02T11:49:02.877Z', 'price_change_percentage_24h_in_currency': 3.839476238294971}, {'id': 'ssv-network', 'symbol': 'ssv', 'name': 'SSV Network', 'image': 'https://assets.coingecko.com/coins/images/19155/large/ssv.png?1696518606', 'current_price': 24.7, 'market_cap': 175047241, 'market_cap_rank': 225, 'fully_diluted_valuation': 273647373, 'total_volume': 21105977, 'high_24h': 25.72, 'low_24h': 24.47, 'price_change_24h': -0.6854592841535769, 'price_change_percentage_24h': -2.69999, 'market_cap_change_24h': -5099199.8059749305, 'market_cap_change_percentage_24h': -2.83059, 'circulating_supply': 7085672.647228521, 'total_supply': 11076871, 'max_supply': None, 'ath': 49.52, 'ath_change_percentage': -50.09665, 'ath_date': '2023-02-27T23:15:10.196Z', 'atl': 3.67, 'atl_change_percentage': 573.15408, 'atl_date': '2022-06-18T20:56:57.599Z', 'roi': None, 'last_updated': '2023-12-02T11:49:04.648Z', 'price_change_percentage_24h_in_currency': -2.6999865788211057}, {'id': 'lisk', 'symbol': 'lsk', 'name': 'Lisk', 'image': 'https://assets.coingecko.com/coins/images/385/large/Lisk_Symbol_-_Blue.png?1696501687', 'current_price': 1.2, 'market_cap': 174049907, 'market_cap_rank': 226, 'fully_diluted_valuation': None, 'total_volume': 2236847, 'high_24h': 1.23, 'low_24h': 1.18, 'price_change_24h': 0.01597398, 'price_change_percentage_24h': 1.34665, 'market_cap_change_24h': 1718557, 'market_cap_change_percentage_24h': 0.99724, 'circulating_supply': 144818773, 'total_supply': None, 'max_supply': None, 'ath': 34.92, 'ath_change_percentage': -96.55889, 'ath_date': '2018-01-07T00:00:00.000Z', 'atl': 0.101672, 'atl_change_percentage': 1082.01129, 'atl_date': '2017-03-01T00:00:00.000Z', 'roi': None, 'last_updated': '2023-12-02T11:49:05.140Z', 'price_change_percentage_24h_in_currency': 1.3466510640279283}, {'id': 'polymath', 'symbol': 'poly', 'name': 'Polymath', 'image': 'https://assets.coingecko.com/coins/images/2784/large/inKkF01.png?1696503553', 'current_price': 0.205801, 'market_cap': 173927397, 'market_cap_rank': 227, 'fully_diluted_valuation': 193564339, 'total_volume': 314330, 'high_24h': 0.209526, 'low_24h': 0.191577, 'price_change_24h': 0.01125129, 'price_change_percentage_24h': 5.78325, 'market_cap_change_24h': -1102412.4857844114, 'market_cap_change_percentage_24h': -0.62984, 'circulating_supply': 898550829.6745886, 'total_supply': 1000000000, 'max_supply': None, 'ath': 1.59, 'ath_change_percentage': -87.8407, 'ath_date': '2018-02-20T00:00:00.000Z', 'atl': 0.01100606, 'atl_change_percentage': 1658.60303, 'atl_date': '2020-03-13T02:22:30.088Z', 'roi': None, 'last_updated': '2023-12-02T11:48:25.417Z', 'price_change_percentage_24h_in_currency': 5.783245307389979}, {'id': 'pocket-network', 'symbol': 'pokt', 'name': 'Pocket Network', 'image': 'https://assets.coingecko.com/coins/images/22506/large/33689860.png?1696521830', 'current_price': 0.110278, 'market_cap': 171315240, 'market_cap_rank': 228, 'fully_diluted_valuation': 181153666, 'total_volume': 3269987, 'high_24h': 0.133088, 'low_24h': 0.109824, 'price_change_24h': -0.002060901215715463, 'price_change_percentage_24h': -1.83454, 'market_cap_change_24h': -5813849.158152491, 'market_cap_change_percentage_24h': -3.28227, 'circulating_supply': 1548744251.40763, 'total_supply': 1637686745.94963, 'max_supply': None, 'ath': 3.11, 'ath_change_percentage': -96.45151, 'ath_date': '2022-01-16T07:15:26.325Z', 'atl': 0.0217654, 'atl_change_percentage': 407.71351, 'atl_date': '2023-09-11T21:46:04.583Z', 'roi': None, 'last_updated': '2023-12-02T11:49:04.782Z', 'price_change_percentage_24h_in_currency': -1.8345390271407154}, {'id': 'harmony', 'symbol': 'one', 'name': 'Harmony', 'image': 'https://assets.coingecko.com/coins/images/4344/large/Y88JAze.png?1696504947', 'current_price': 0.01378415, 'market_cap': 170104371, 'market_cap_rank': 229, 'fully_diluted_valuation': 181862921, 'total_volume': 7814166, 'high_24h': 0.01388713, 'low_24h': 0.01343987, 'price_change_24h': 0.00012464, 'price_change_percentage_24h': 0.91245, 'market_cap_change_24h': 2453444, 'market_cap_change_percentage_24h': 1.46342, 'circulating_supply': 12305426115.0007, 'total_supply': 13156044839.793139, 'max_supply': 13156044839.793139, 'ath': 0.37902, 'ath_change_percentage': -96.35261, 'ath_date': '2021-10-26T09:28:49.782Z', 'atl': 0.00127355, 'atl_change_percentage': 985.49441, 'atl_date': '2020-03-13T02:24:14.005Z', 'roi': {'times': 3.3414653806503907, 'currency': 'usd', 'percentage': 334.14653806503907}, 'last_updated': '2023-12-02T11:49:04.455Z', 'price_change_percentage_24h_in_currency': 0.9124522305359336}, {'id': 'status', 'symbol': 'snt', 'name': 'Status', 'image': 'https://assets.coingecko.com/coins/images/779/large/status.png?1696501931', 'current_price': 0.04297274, 'market_cap': 170033273, 'market_cap_rank': 230, 'fully_diluted_valuation': 292149749, 'total_volume': 2358561, 'high_24h': 0.04330906, 'low_24h': 0.04186405, 'price_change_24h': 0.00076506, 'price_change_percentage_24h': 1.81262, 'market_cap_change_24h': 2865397, 'market_cap_change_percentage_24h': 1.71408, 'circulating_supply': 3960483788.3096976, 'total_supply': 6804870174, 'max_supply': None, 'ath': 0.684918, 'ath_change_percentage': -93.73186, 'ath_date': '2018-01-03T00:00:00.000Z', 'atl': 0.00592935, 'atl_change_percentage': 624.05309, 'atl_date': '2020-03-13T02:10:36.877Z', 'roi': None, 'last_updated': '2023-12-02T11:49:04.784Z', 'price_change_percentage_24h_in_currency': 1.8126192573010083}, {'id': 'ecomi', 'symbol': 'omi', 'name': 'ECOMI', 'image': 'https://assets.coingecko.com/coins/images/4428/large/ECOMI.png?1696505023', 'current_price': 0.00062281, 'market_cap': 168772665, 'market_cap_rank': 231, 'fully_diluted_valuation': 193772380, 'total_volume': 584786, 'high_24h': 0.00063427, 'low_24h': 0.00061372, 'price_change_24h': -4.143188464894e-06, 'price_change_percentage_24h': -0.66084, 'market_cap_change_24h': -1650244.5517408848, 'market_cap_change_percentage_24h': -0.96832, 'circulating_supply': 271423381961.133, 'total_supply': 311628394978.723, 'max_supply': 750000000000, 'ath': 0.01343572, 'ath_change_percentage': -95.37201, 'ath_date': '2021-03-19T17:20:53.999Z', 'atl': 3.37e-06, 'atl_change_percentage': 18345.95355, 'atl_date': '2019-11-04T10:52:42.729Z', 'roi': {'times': 0.606787866065447, 'currency': 'btc', 'percentage': 60.6787866065447}, 'last_updated': '2023-12-02T11:49:05.197Z', 'price_change_percentage_24h_in_currency': -0.660843725533721}, {'id': 'stratis', 'symbol': 'strax', 'name': 'Stratis', 'image': 'https://assets.coingecko.com/coins/images/531/large/stratis.png?1696501751', 'current_price': 1.079, 'market_cap': 168056695, 'market_cap_rank': 232, 'fully_diluted_valuation': None, 'total_volume': 16392291, 'high_24h': 1.11, 'low_24h': 1.009, 'price_change_24h': 0.062633, 'price_change_percentage_24h': 6.1609, 'market_cap_change_24h': 9396309, 'market_cap_change_percentage_24h': 5.92228, 'circulating_supply': 155861045.406256, 'total_supply': None, 'max_supply': None, 'ath': 22.77, 'ath_change_percentage': -95.26364, 'ath_date': '2018-01-08T00:00:00.000Z', 'atl': 0.0114071, 'atl_change_percentage': 9352.31984, 'atl_date': '2016-08-12T00:00:00.000Z', 'roi': None, 'last_updated': '2023-12-02T11:49:05.061Z', 'price_change_percentage_24h_in_currency': 6.1608978131804015}, {'id': 'superfarm', 'symbol': 'super', 'name': 'SuperVerse', 'image': 'https://assets.coingecko.com/coins/images/14040/large/SuperVerse_Logo_200x200.png?1696513766', 'current_price': 0.372208, 'market_cap': 167715657, 'market_cap_rank': 233, 'fully_diluted_valuation': 371302300, 'total_volume': 17148328, 'high_24h': 0.377533, 'low_24h': 0.358797, 'price_change_24h': 0.00627461, 'price_change_percentage_24h': 1.71469, 'market_cap_change_24h': 2030542, 'market_cap_change_percentage_24h': 1.22554, 'circulating_supply': 451694843.416917, 'total_supply': 999998077.416917, 'max_supply': 999998077.416917, 'ath': 4.74, 'ath_change_percentage': -92.15846, 'ath_date': '2021-03-31T07:38:55.006Z', 'atl': 0.070397, 'atl_change_percentage': 428.15258, 'atl_date': '2023-10-19T02:20:23.295Z', 'roi': None, 'last_updated': '2023-12-02T11:48:59.333Z', 'price_change_percentage_24h_in_currency': 1.7146880987872894}, {'id': 'alchemix-usd', 'symbol': 'alusd', 'name': 'Alchemix USD', 'image': 'https://assets.coingecko.com/coins/images/14114/large/Alchemix_USD.png?1696513835', 'current_price': 0.992317, 'market_cap': 166272149, 'market_cap_rank': 234, 'fully_diluted_valuation': 166272149, 'total_volume': 30913, 'high_24h': 0.996134, 'low_24h': 0.989592, 'price_change_24h': 0.00093685, 'price_change_percentage_24h': 0.0945, 'market_cap_change_24h': -269154.19736230373, 'market_cap_change_percentage_24h': -0.16161, 'circulating_supply': 167653335.337933, 'total_supply': 167653335.337933, 'max_supply': None, 'ath': 2.13, 'ath_change_percentage': -53.37627, 'ath_date': '2021-03-21T19:53:32.860Z', 'atl': 0.060239, 'atl_change_percentage': 1546.51704, 'atl_date': '2021-03-19T22:40:28.697Z', 'roi': None, 'last_updated': '2023-12-02T11:48:08.339Z', 'price_change_percentage_24h_in_currency': 0.09449983136398019}, {'id': 'benqi-liquid-staked-avax', 'symbol': 'savax', 'name': 'BENQI Liquid Staked AVAX', 'image': 'https://assets.coingecko.com/coins/images/23657/large/savax_blue.png?1696522860', 'current_price': 24.58, 'market_cap': 164441877, 'market_cap_rank': 235, 'fully_diluted_valuation': 164443303, 'total_volume': 564677, 'high_24h': 24.96, 'low_24h': 24.26, 'price_change_24h': -0.3295681052332249, 'price_change_percentage_24h': -1.32292, 'market_cap_change_24h': -2306695.3406221867, 'market_cap_change_percentage_24h': -1.38334, 'circulating_supply': 6697537.09150163, 'total_supply': 6697595.18476954, 'max_supply': None, 'ath': 103.55, 'ath_change_percentage': -76.27973, 'ath_date': '2022-04-02T13:44:54.612Z', 'atl': 9.25, 'atl_change_percentage': 165.57928, 'atl_date': '2023-09-14T12:26:14.318Z', 'roi': None, 'last_updated': '2023-12-02T11:48:57.382Z', 'price_change_percentage_24h_in_currency': -1.322917457335215}, {'id': 'prisma-mkusd', 'symbol': 'mkusd', 'name': 'Prisma mkUSD', 'image': 'https://assets.coingecko.com/coins/images/31519/large/mkUSD_200.png?1696530329', 'current_price': 0.995782, 'market_cap': 161144435, 'market_cap_rank': 236, 'fully_diluted_valuation': 161000853, 'total_volume': 1554929, 'high_24h': 0.997121, 'low_24h': 0.992165, 'price_change_24h': 0.00196424, 'price_change_percentage_24h': 0.19765, 'market_cap_change_24h': 948344, 'market_cap_change_percentage_24h': 0.59199, 'circulating_supply': 161848633.050778, 'total_supply': 161704423.573532, 'max_supply': None, 'ath': 1.03, 'ath_change_percentage': -3.28809, 'ath_date': '2023-09-07T03:39:12.639Z', 'atl': 0.968333, 'atl_change_percentage': 2.83724, 'atl_date': '2023-09-12T00:00:00.000Z', 'roi': None, 'last_updated': '2023-12-02T11:48:08.522Z', 'price_change_percentage_24h_in_currency': 0.1976460982721973}, {'id': 'maple', 'symbol': 'mpl', 'name': 'Maple', 'image': 'https://assets.coingecko.com/coins/images/14097/large/Maple_Logo_Mark_Maple_Orange.png?1696513819', 'current_price': 20.13, 'market_cap': 158993962, 'market_cap_rank': 237, 'fully_diluted_valuation': 201809904, 'total_volume': 1946309, 'high_24h': 21.73, 'low_24h': 20.01, 'price_change_24h': -1.5172393485635816, 'price_change_percentage_24h': -7.00769, 'market_cap_change_24h': -10752432.751101017, 'market_cap_change_percentage_24h': -6.33441, 'circulating_supply': 7878402.304614196, 'total_supply': 10000000, 'max_supply': None, 'ath': 68.2, 'ath_change_percentage': -70.40818, 'ath_date': '2022-04-10T13:21:44.274Z', 'atl': 2.65, 'atl_change_percentage': 661.46007, 'atl_date': '2023-01-01T05:01:53.644Z', 'roi': None, 'last_updated': '2023-12-02T11:49:04.108Z', 'price_change_percentage_24h_in_currency': -7.007686074739331}, {'id': 'cdai', 'symbol': 'cdai', 'name': 'cDAI', 'image': 'https://assets.coingecko.com/coins/images/9281/large/cDAI.png?1696509390', 'current_price': 0.02253311, 'market_cap': 158530305, 'market_cap_rank': 238, 'fully_diluted_valuation': 158530305, 'total_volume': 1032.01, 'high_24h': 0.02261111, 'low_24h': 0.02248288, 'price_change_24h': -2.870340873318e-06, 'price_change_percentage_24h': -0.01274, 'market_cap_change_24h': -167390.25321522355, 'market_cap_change_percentage_24h': -0.10548, 'circulating_supply': 7032466912.15195, 'total_supply': 7032466912.15195, 'max_supply': None, 'ath': 0.03159087, 'ath_change_percentage': -28.64194, 'ath_date': '2020-10-12T21:29:00.007Z', 'atl': 0.00728854, 'atl_change_percentage': 209.28854, 'atl_date': '2020-03-18T04:29:40.819Z', 'roi': None, 'last_updated': '2023-12-02T11:48:25.507Z', 'price_change_percentage_24h_in_currency': -0.012736704317301053}, {'id': 'paypal-usd', 'symbol': 'pyusd', 'name': 'PayPal USD', 'image': 'https://assets.coingecko.com/coins/images/31212/large/PYUSD_Logo_%282%29.png?1696530039', 'current_price': 0.999609, 'market_cap': 156642825, 'market_cap_rank': 239, 'fully_diluted_valuation': 156642825, 'total_volume': 2252487, 'high_24h': 1.002, 'low_24h': 0.996974, 'price_change_24h': -6.9477598394818e-05, 'price_change_percentage_24h': -0.00695, 'market_cap_change_24h': -9254.625436246395, 'market_cap_change_percentage_24h': -0.00591, 'circulating_supply': 156753068.36, 'total_supply': 156753068.36, 'max_supply': None, 'ath': 1.021, 'ath_change_percentage': -2.06316, 'ath_date': '2023-10-23T22:44:57.056Z', 'atl': 0.979769, 'atl_change_percentage': 2.03196, 'atl_date': '2023-08-25T16:10:42.670Z', 'roi': None, 'last_updated': '2023-12-02T11:48:59.688Z', 'price_change_percentage_24h_in_currency': -0.0069499913217718695}, {'id': 'vulcan-forged', 'symbol': 'pyr', 'name': 'Vulcan Forged', 'image': 'https://assets.coingecko.com/coins/images/14770/large/1617088937196.png?1696514439', 'current_price': 6.55, 'market_cap': 156516969, 'market_cap_rank': 240, 'fully_diluted_valuation': 327472873, 'total_volume': 14611016, 'high_24h': 6.77, 'low_24h': 6.27, 'price_change_24h': 0.272942, 'price_change_percentage_24h': 4.34882, 'market_cap_change_24h': 5889162, 'market_cap_change_percentage_24h': 3.90974, 'circulating_supply': 23897700, 'total_supply': 50000000, 'max_supply': 50000000, 'ath': 49.24, 'ath_change_percentage': -86.70134, 'ath_date': '2021-12-01T08:38:57.006Z', 'atl': 1.16, 'atl_change_percentage': 463.05198, 'atl_date': '2021-06-22T12:55:49.177Z', 'roi': None, 'last_updated': '2023-12-02T11:49:03.018Z', 'price_change_percentage_24h_in_currency': 4.348815053104804}, {'id': 'kadena', 'symbol': 'kda', 'name': 'Kadena', 'image': 'https://assets.coingecko.com/coins/images/3693/large/2023_NewKadena_Logo.png?1698965968', 'current_price': 0.607575, 'market_cap': 154591334, 'market_cap_rank': 241, 'fully_diluted_valuation': 606337363, 'total_volume': 2693637, 'high_24h': 0.611579, 'low_24h': 0.600446, 'price_change_24h': -0.004003816759059143, 'price_change_percentage_24h': -0.65467, 'market_cap_change_24h': -1231234.180571586, 'market_cap_change_percentage_24h': -0.79015, 'circulating_supply': 254959274.9104, 'total_supply': 1000000000, 'max_supply': 1000000000, 'ath': 27.64, 'ath_change_percentage': -97.80596, 'ath_date': '2021-11-11T13:22:45.731Z', 'atl': 0.065811, 'atl_change_percentage': 821.32615, 'atl_date': '2020-03-13T02:00:28.582Z', 'roi': {'times': -0.3924248935891858, 'currency': 'usd', 'percentage': -39.24248935891858}, 'last_updated': '2023-12-02T11:49:05.597Z', 'price_change_percentage_24h_in_currency': -0.6546688591403654}, {'id': 'wrapped-beacon-eth', 'symbol': 'wbeth', 'name': 'Wrapped Beacon ETH', 'image': 'https://assets.coingecko.com/coins/images/30061/large/wbeth-icon.png?1696528983', 'current_price': 2148.2, 'market_cap': 152398954, 'market_cap_rank': 242, 'fully_diluted_valuation': 152398954, 'total_volume': 1959372, 'high_24h': 2155.93, 'low_24h': 2122.68, 'price_change_24h': 8.85, 'price_change_percentage_24h': 0.41351, 'market_cap_change_24h': 426040, 'market_cap_change_percentage_24h': 0.28034, 'circulating_supply': 70938, 'total_supply': 70938, 'max_supply': None, 'ath': 2183.5, 'ath_change_percentage': -1.57636, 'ath_date': '2023-11-24T15:30:04.067Z', 'atl': 1551.13, 'atl_change_percentage': 38.54952, 'atl_date': '2023-10-12T17:25:09.026Z', 'roi': None, 'last_updated': '2023-12-02T11:48:27.425Z', 'price_change_percentage_24h_in_currency': 0.41351482077397117}, {'id': 'api3', 'symbol': 'api3', 'name': 'API3', 'image': 'https://assets.coingecko.com/coins/images/13256/large/api3.jpg?1696513031', 'current_price': 1.57, 'market_cap': 151933058, 'market_cap_rank': 243, 'fully_diluted_valuation': 197979160, 'total_volume': 9029452, 'high_24h': 1.58, 'low_24h': 1.47, 'price_change_24h': 0.090127, 'price_change_percentage_24h': 6.09341, 'market_cap_change_24h': 8357670, 'market_cap_change_percentage_24h': 5.8211, 'circulating_supply': 97192405.2384038, 'total_supply': 126648347.816641, 'max_supply': 126648347.816641, 'ath': 10.3, 'ath_change_percentage': -84.80552, 'ath_date': '2021-04-07T06:54:35.507Z', 'atl': 0.851024, 'atl_change_percentage': 83.85145, 'atl_date': '2023-08-05T20:22:00.241Z', 'roi': None, 'last_updated': '2023-12-02T11:49:01.426Z', 'price_change_percentage_24h_in_currency': 6.0934126596328335}, {'id': 'gemini-dollar', 'symbol': 'gusd', 'name': 'Gemini Dollar', 'image': 'https://assets.coingecko.com/coins/images/5992/large/gemini-dollar-gusd.png?1696506408', 'current_price': 0.999624, 'market_cap': 149935409, 'market_cap_rank': 244, 'fully_diluted_valuation': 149935409, 'total_volume': 1005357, 'high_24h': 1.002, 'low_24h': 0.995828, 'price_change_24h': 0.00125867, 'price_change_percentage_24h': 0.12607, 'market_cap_change_24h': -245538.73139095306, 'market_cap_change_percentage_24h': -0.1635, 'circulating_supply': 150075430.75, 'total_supply': 150075430.75, 'max_supply': None, 'ath': 3.3, 'ath_change_percentage': -69.76017, 'ath_date': '2018-10-11T17:36:21.529Z', 'atl': 0.78261, 'atl_change_percentage': 27.6604, 'atl_date': '2018-09-29T00:00:00.000Z', 'roi': {'times': -0.0003763303450866, 'currency': 'usd', 'percentage': -0.03763303450866}, 'last_updated': '2023-12-02T11:48:30.123Z', 'price_change_percentage_24h_in_currency': 0.12607278659666382}, {'id': 'ong', 'symbol': 'ong', 'name': 'Ontology Gas', 'image': 'https://assets.coingecko.com/coins/images/5716/large/ONG_logo.png?1696506172', 'current_price': 0.408826, 'market_cap': 148850343, 'market_cap_rank': 245, 'fully_diluted_valuation': 409407882, 'total_volume': 10307451, 'high_24h': 0.421501, 'low_24h': 0.388836, 'price_change_24h': 0.0179247, 'price_change_percentage_24h': 4.58548, 'market_cap_change_24h': 7008444, 'market_cap_change_percentage_24h': 4.94103, 'circulating_supply': 363574688.961443, 'total_supply': 1000000000, 'max_supply': 1000000000, 'ath': 4.39, 'ath_change_percentage': -90.66917, 'ath_date': '2018-09-28T10:22:27.611Z', 'atl': 0.04242318, 'atl_change_percentage': 865.02545, 'atl_date': '2020-03-13T02:24:03.119Z', 'roi': None, 'last_updated': '2023-12-02T11:49:04.352Z', 'price_change_percentage_24h_in_currency': 4.585478775087591}, {'id': 'joe', 'symbol': 'joe', 'name': 'JOE', 'image': 'https://assets.coingecko.com/coins/images/17569/large/traderjoe.png?1696517104', 'current_price': 0.434169, 'market_cap': 148190444, 'market_cap_rank': 246, 'fully_diluted_valuation': 216869585, 'total_volume': 19529654, 'high_24h': 0.441432, 'low_24h': 0.422788, 'price_change_24h': 0.00166075, 'price_change_percentage_24h': 0.38398, 'market_cap_change_24h': -979987.596777916, 'market_cap_change_percentage_24h': -0.65696, 'circulating_supply': 341459396.130234, 'total_supply': 499709398.21031, 'max_supply': 500000000, 'ath': 5.09, 'ath_change_percentage': -91.46496, 'ath_date': '2021-11-21T14:27:00.202Z', 'atl': 0.02658814, 'atl_change_percentage': 1533.00661, 'atl_date': '2021-08-11T14:01:35.223Z', 'roi': None, 'last_updated': '2023-12-02T11:49:02.758Z', 'price_change_percentage_24h_in_currency': 0.38398195858361506}, {'id': 'seth2', 'symbol': 'seth2', 'name': 'sETH2', 'image': 'https://assets.coingecko.com/coins/images/16569/large/emerald256.png?1696516130', 'current_price': 2088.82, 'market_cap': 148082368, 'market_cap_rank': 247, 'fully_diluted_valuation': 148082368, 'total_volume': 54386, 'high_24h': 2093.27, 'low_24h': 2060.19, 'price_change_24h': 0.632622, 'price_change_percentage_24h': 0.0303, 'market_cap_change_24h': -5104235.868956298, 'market_cap_change_percentage_24h': -3.33204, 'circulating_supply': 70910.0155203482, 'total_supply': 70910.0155203482, 'max_supply': None, 'ath': 4821.87, 'ath_change_percentage': -56.68092, 'ath_date': '2021-11-10T14:23:55.647Z', 'atl': 887.7, 'atl_change_percentage': 135.30409, 'atl_date': '2022-06-18T20:57:32.629Z', 'roi': None, 'last_updated': '2023-12-02T11:48:26.299Z', 'price_change_percentage_24h_in_currency': 0.030295280521439608}, {'id': 'zencash', 'symbol': 'zen', 'name': 'Horizen', 'image': 'https://assets.coingecko.com/coins/images/691/large/horizen.png?1696501880', 'current_price': 10.26, 'market_cap': 147531260, 'market_cap_rank': 248, 'fully_diluted_valuation': 147531516, 'total_volume': 7068951, 'high_24h': 10.38, 'low_24h': 9.96, 'price_change_24h': 0.208198, 'price_change_percentage_24h': 2.07067, 'market_cap_change_24h': 2605120, 'market_cap_change_percentage_24h': 1.79755, 'circulating_supply': 14403362.5, 'total_supply': 14403387.5, 'max_supply': 21000000, 'ath': 165.92, 'ath_change_percentage': -93.82721, 'ath_date': '2021-05-08T06:00:30.087Z', 'atl': 3.26, 'atl_change_percentage': 213.72944, 'atl_date': '2019-10-17T00:00:00.000Z', 'roi': None, 'last_updated': '2023-12-02T11:48:53.289Z', 'price_change_percentage_24h_in_currency': 2.070666290926527}, {'id': 'edu-coin', 'symbol': 'edu', 'name': 'Open Campus', 'image': 'https://assets.coingecko.com/coins/images/29948/large/EDU_Logo.png?1696528874', 'current_price': 0.639444, 'market_cap': 146966992, 'market_cap_rank': 249, 'fully_diluted_valuation': 639566237, 'total_volume': 7039361, 'high_24h': 0.647307, 'low_24h': 0.636564, 'price_change_24h': -0.00373500403870275, 'price_change_percentage_24h': -0.58071, 'market_cap_change_24h': -959646.6601456404, 'market_cap_change_percentage_24h': -0.64873, 'circulating_supply': 229791667.67745, 'total_supply': 1000000000, 'max_supply': None, 'ath': 1.67, 'ath_change_percentage': -61.78643, 'ath_date': '2023-04-29T08:05:57.583Z', 'atl': 0.375305, 'atl_change_percentage': 70.4852, 'atl_date': '2023-10-20T01:19:56.518Z', 'roi': None, 'last_updated': '2023-12-02T11:49:05.319Z', 'price_change_percentage_24h_in_currency': -0.5807102034577376}, {'id': 'star-atlas-dao', 'symbol': 'polis', 'name': 'Star Atlas DAO', 'image': 'https://assets.coingecko.com/coins/images/17789/large/POLIS.jpg?1696517312', 'current_price': 0.618381, 'market_cap': 146614552, 'market_cap_rank': 250, 'fully_diluted_valuation': 222709382, 'total_volume': 1911513, 'high_24h': 0.659973, 'low_24h': 0.557122, 'price_change_24h': 0.00294435, 'price_change_percentage_24h': 0.47842, 'market_cap_change_24h': 520712, 'market_cap_change_percentage_24h': 0.35642, 'circulating_supply': 236996027.3644, 'total_supply': 360000000, 'max_supply': 360000000, 'ath': 18.55, 'ath_change_percentage': -96.67424, 'ath_date': '2021-09-04T06:21:21.306Z', 'atl': 0.085304, 'atl_change_percentage': 623.30796, 'atl_date': '2023-07-27T05:02:15.004Z', 'roi': None, 'last_updated': '2023-12-02T11:48:47.120Z', 'price_change_percentage_24h_in_currency': 0.47841706229763786}, {'id': 'project-galaxy', 'symbol': 'gal', 'name': 'Galxe', 'image': 'https://assets.coingecko.com/coins/images/24530/large/galaxy.jpg?1696523708', 'current_price': 1.54, 'market_cap': 146603296, 'market_cap_rank': 251, 'fully_diluted_valuation': 308320470, 'total_volume': 11212320, 'high_24h': 1.58, 'low_24h': 1.52, 'price_change_24h': -0.014624876241235764, 'price_change_percentage_24h': -0.93824, 'market_cap_change_24h': -1860630.176792711, 'market_cap_change_percentage_24h': -1.25325, 'circulating_supply': 95097997.3068517, 'total_supply': 200000000, 'max_supply': None, 'ath': 18.32, 'ath_change_percentage': -91.58044, 'ath_date': '2022-05-06T01:14:11.342Z', 'atl': 0.897786, 'atl_change_percentage': 71.80375, 'atl_date': '2023-06-10T06:49:52.957Z', 'roi': None, 'last_updated': '2023-12-02T11:48:01.042Z', 'price_change_percentage_24h_in_currency': -0.9382375947915954}, {'id': 'compound-usd-coin', 'symbol': 'cusdc', 'name': 'cUSDC', 'image': 'https://assets.coingecko.com/coins/images/9442/large/Compound_USDC.png?1696509534', 'current_price': 0.02323489, 'market_cap': 146309440, 'market_cap_rank': 252, 'fully_diluted_valuation': 146309440, 'total_volume': 37.43, 'high_24h': 0.02325935, 'low_24h': 0.02317755, 'price_change_24h': 3.303e-05, 'price_change_percentage_24h': 0.14235, 'market_cap_change_24h': -3018325.0066352487, 'market_cap_change_percentage_24h': -2.02128, 'circulating_supply': 6296972323.66934, 'total_supply': 6296972323.66934, 'max_supply': None, 'ath': 0.058843, 'ath_change_percentage': -60.51404, 'ath_date': '2020-10-21T11:24:27.820Z', 'atl': 0.00620705, 'atl_change_percentage': 274.33033, 'atl_date': '2021-03-04T08:11:37.438Z', 'roi': None, 'last_updated': '2023-12-02T11:47:14.445Z', 'price_change_percentage_24h_in_currency': 0.14235486600476566}, {'id': 'orca', 'symbol': 'orca', 'name': 'Orca', 'image': 'https://assets.coingecko.com/coins/images/17547/large/Orca_Logo.png?1696517083', 'current_price': 3.32, 'market_cap': 145744003, 'market_cap_rank': 253, 'fully_diluted_valuation': 330619182, 'total_volume': 862534, 'high_24h': 3.35, 'low_24h': 3.24, 'price_change_24h': 0.052993, 'price_change_percentage_24h': 1.62453, 'market_cap_change_24h': 1700629, 'market_cap_change_percentage_24h': 1.18064, 'circulating_supply': 44082137.559543, 'total_supply': 100000000, 'max_supply': 100000000, 'ath': 20.33, 'ath_change_percentage': -83.73882, 'ath_date': '2021-10-02T20:14:11.766Z', 'atl': 0.351125, 'atl_change_percentage': 841.61708, 'atl_date': '2022-06-19T19:34:08.830Z', 'roi': None, 'last_updated': '2023-12-02T11:47:52.247Z', 'price_change_percentage_24h_in_currency': 1.6245321541044893}, {'id': 'uma', 'symbol': 'uma', 'name': 'UMA', 'image': 'https://assets.coingecko.com/coins/images/10951/large/UMA.png?1696510900', 'current_price': 1.96, 'market_cap': 145421469, 'market_cap_rank': 254, 'fully_diluted_valuation': 226513145, 'total_volume': 4546974, 'high_24h': 1.96, 'low_24h': 1.93, 'price_change_24h': -0.000691738755085103, 'price_change_percentage_24h': -0.03536, 'market_cap_change_24h': -334745.19647035, 'market_cap_change_percentage_24h': -0.22966, 'circulating_supply': 74490361.17580198, 'total_supply': 116028575.594282, 'max_supply': 116028575.594282, 'ath': 41.56, 'ath_change_percentage': -95.29882, 'ath_date': '2021-02-04T11:27:11.433Z', 'atl': 0.303625, 'atl_change_percentage': 543.43108, 'atl_date': '2020-04-29T17:00:41.760Z', 'roi': None, 'last_updated': '2023-12-02T11:48:01.545Z', 'price_change_percentage_24h_in_currency': -0.035364922467863026}, {'id': 'loom-network-new', 'symbol': 'loom', 'name': 'Loom Network (NEW)', 'image': 'https://assets.coingecko.com/coins/images/14735/large/LOOM.png?1696514405', 'current_price': 0.118204, 'market_cap': 144395489, 'market_cap_rank': 255, 'fully_diluted_valuation': 153936510, 'total_volume': 5199107, 'high_24h': 0.118619, 'low_24h': 0.116045, 'price_change_24h': 0.0016441, 'price_change_percentage_24h': 1.41052, 'market_cap_change_24h': 2050191, 'market_cap_change_percentage_24h': 1.44029, 'circulating_supply': 1219425698, 'total_supply': 1300000000, 'max_supply': None, 'ath': 0.492286, 'ath_change_percentage': -75.94766, 'ath_date': '2023-10-15T13:22:04.466Z', 'atl': 0.03185907, 'atl_change_percentage': 271.65651, 'atl_date': '2022-06-15T09:37:10.986Z', 'roi': None, 'last_updated': '2023-12-02T11:47:55.026Z', 'price_change_percentage_24h_in_currency': 1.4105157266671835}, {'id': 'reserve-rights-token', 'symbol': 'rsr', 'name': 'Reserve Rights', 'image': 'https://assets.coingecko.com/coins/images/8365/large/rsr.png?1696508558', 'current_price': 0.00283572, 'market_cap': 143137744, 'market_cap_rank': 256, 'fully_diluted_valuation': 282880918, 'total_volume': 9919215, 'high_24h': 0.00291664, 'low_24h': 0.00273826, 'price_change_24h': 5.445e-05, 'price_change_percentage_24h': 1.95772, 'market_cap_change_24h': 2294060, 'market_cap_change_percentage_24h': 1.6288, 'circulating_supply': 50600000000, 'total_supply': 100000000000, 'max_supply': 100000000000, 'ath': 0.117424, 'ath_change_percentage': -97.59064, 'ath_date': '2021-04-16T17:45:02.062Z', 'atl': 0.00121354, 'atl_change_percentage': 133.13233, 'atl_date': '2020-03-16T11:09:08.151Z', 'roi': {'times': 1.57792352180916, 'currency': 'usd', 'percentage': 157.792352180916}, 'last_updated': '2023-12-02T11:47:57.878Z', 'price_change_percentage_24h_in_currency': 1.957715798307103}, {'id': 'bitcoin-avalanche-bridged-btc-b', 'symbol': 'btc.b', 'name': 'Bitcoin Avalanche Bridged (BTC.b)', 'image': 'https://assets.coingecko.com/coins/images/26115/large/btcb.png?1696525205', 'current_price': 38731, 'market_cap': 142539712, 'market_cap_rank': 257, 'fully_diluted_valuation': 142539712, 'total_volume': 6301956, 'high_24h': 39304, 'low_24h': 38143, 'price_change_24h': 118.1, 'price_change_percentage_24h': 0.30586, 'market_cap_change_24h': -410617.0198239684, 'market_cap_change_percentage_24h': -0.28724, 'circulating_supply': 3682.49365922, 'total_supply': 3682.49365922, 'max_supply': None, 'ath': 42442, 'ath_change_percentage': -8.76398, 'ath_date': '2023-01-16T22:36:24.558Z', 'atl': 7806.11, 'atl_change_percentage': 396.04704, 'atl_date': '2023-03-03T05:01:42.603Z', 'roi': None, 'last_updated': '2023-12-02T11:47:21.005Z', 'price_change_percentage_24h_in_currency': 0.3058565295158688}, {'id': 'orbs', 'symbol': 'orbs', 'name': 'Orbs', 'image': 'https://assets.coingecko.com/coins/images/4630/large/Orbs.jpg?1696505200', 'current_price': 0.04417468, 'market_cap': 141972651, 'market_cap_rank': 258, 'fully_diluted_valuation': 441253297, 'total_volume': 4252489, 'high_24h': 0.04451741, 'low_24h': 0.04317577, 'price_change_24h': 0.0003877, 'price_change_percentage_24h': 0.88542, 'market_cap_change_24h': 1068845, 'market_cap_change_percentage_24h': 0.75856, 'circulating_supply': 3217486459.3889, 'total_supply': 10000000000, 'max_supply': None, 'ath': 0.360443, 'ath_change_percentage': -87.75803, 'ath_date': '2021-03-16T10:14:34.928Z', 'atl': 0.00469039, 'atl_change_percentage': 840.76012, 'atl_date': '2019-12-20T09:02:40.254Z', 'roi': None, 'last_updated': '2023-12-02T11:47:56.999Z', 'price_change_percentage_24h_in_currency': 0.8854212047644938}, {'id': 'bora', 'symbol': 'bora', 'name': 'BORA', 'image': 'https://assets.coingecko.com/coins/images/7646/large/mqFw8hxm_400x400.jpeg?1696507900', 'current_price': 0.142896, 'market_cap': 141901602, 'market_cap_rank': 259, 'fully_diluted_valuation': 172173944, 'total_volume': 179329, 'high_24h': 0.148789, 'low_24h': 0.141122, 'price_change_24h': 0.00041307, 'price_change_percentage_24h': 0.28991, 'market_cap_change_24h': 246117, 'market_cap_change_percentage_24h': 0.17374, 'circulating_supply': 993750000, 'total_supply': 1205750000, 'max_supply': 1205750000, 'ath': 1.61, 'ath_change_percentage': -91.12891, 'ath_date': '2021-11-25T00:10:02.143Z', 'atl': 0.00482732, 'atl_change_percentage': 2858.04063, 'atl_date': '2020-02-15T17:49:05.317Z', 'roi': None, 'last_updated': '2023-12-02T11:48:02.168Z', 'price_change_percentage_24h_in_currency': 0.2899085037915487}, {'id': 'crvusd', 'symbol': 'crvusd', 'name': 'crvUSD', 'image': 'https://assets.coingecko.com/coins/images/30118/large/crvusd.jpeg?1696529040', 'current_price': 0.997453, 'market_cap': 141765657, 'market_cap_rank': 260, 'fully_diluted_valuation': 141680595, 'total_volume': 11503809, 'high_24h': 0.997892, 'low_24h': 0.993371, 'price_change_24h': 0.00232263, 'price_change_percentage_24h': 0.2334, 'market_cap_change_24h': 3563580, 'market_cap_change_percentage_24h': 2.57853, 'circulating_supply': 142149307.13777, 'total_supply': 142064015.243846, 'max_supply': None, 'ath': 1.029, 'ath_change_percentage': -3.05445, 'ath_date': '2023-10-23T22:45:35.122Z', 'atl': 0.949016, 'atl_change_percentage': 5.09922, 'atl_date': '2023-08-08T06:24:06.210Z', 'roi': None, 'last_updated': '2023-12-02T11:47:58.007Z', 'price_change_percentage_24h_in_currency': 0.23339984146710202}, {'id': 'tribe-2', 'symbol': 'tribe', 'name': 'Tribe', 'image': 'https://assets.coingecko.com/coins/images/14575/large/tribe.PNG?1696514256', 'current_price': 0.308711, 'market_cap': 141162060, 'market_cap_rank': 261, 'fully_diluted_valuation': 310235697, 'total_volume': 96678, 'high_24h': 0.313568, 'low_24h': 0.288252, 'price_change_24h': -0.004519367886647697, 'price_change_percentage_24h': -1.44283, 'market_cap_change_24h': -1343286.3892494738, 'market_cap_change_percentage_24h': -0.94262, 'circulating_supply': 455015530.80485964, 'total_supply': 1000000000, 'max_supply': 1000000000, 'ath': 2.45, 'ath_change_percentage': -87.3362, 'ath_date': '2021-04-03T23:33:40.147Z', 'atl': 0.14412, 'atl_change_percentage': 115.26274, 'atl_date': '2022-08-19T07:45:15.996Z', 'roi': None, 'last_updated': '2023-12-02T11:47:49.255Z', 'price_change_percentage_24h_in_currency': -1.4428265172759585}, {'id': 'amp-token', 'symbol': 'amp', 'name': 'Amp', 'image': 'https://assets.coingecko.com/coins/images/12409/large/amp-200x200.png?1696512231', 'current_price': 0.00249308, 'market_cap': 139813468, 'market_cap_rank': 262, 'fully_diluted_valuation': 247717921, 'total_volume': 2523755, 'high_24h': 0.00250604, 'low_24h': 0.00245929, 'price_change_24h': 2.357e-05, 'price_change_percentage_24h': 0.95425, 'market_cap_change_24h': 1103944, 'market_cap_change_percentage_24h': 0.79587, 'circulating_supply': 56127938240.441696, 'total_supply': 99446043447.1583, 'max_supply': 99446043447.1583, 'ath': 0.120813, 'ath_change_percentage': -97.93787, 'ath_date': '2021-06-16T16:03:41.147Z', 'atl': 0.00140933, 'atl_change_percentage': 76.77231, 'atl_date': '2023-10-12T17:40:43.384Z', 'roi': None, 'last_updated': '2023-12-02T11:47:58.042Z', 'price_change_percentage_24h_in_currency': 0.9542464856619878}, {'id': 'insure', 'symbol': 'sure', 'name': 'inSure DeFi', 'image': 'https://assets.coingecko.com/coins/images/10354/large/logo-grey-circle.png?1696510355', 'current_price': 0.00524764, 'market_cap': 139090246, 'market_cap_rank': 263, 'fully_diluted_valuation': 462186437, 'total_volume': 694104, 'high_24h': 0.00528204, 'low_24h': 0.0046658, 'price_change_24h': 0.00029307, 'price_change_percentage_24h': 5.91505, 'market_cap_change_24h': 8159928, 'market_cap_change_percentage_24h': 6.23227, 'circulating_supply': 26482693217.416843, 'total_supply': 88000000000, 'max_supply': 88000000000, 'ath': 0.11397, 'ath_change_percentage': -95.38128, 'ath_date': '2021-01-06T21:22:32.766Z', 'atl': 0.00015606, 'atl_change_percentage': 3273.02657, 'atl_date': '2021-06-28T04:52:56.935Z', 'roi': None, 'last_updated': '2023-12-02T11:47:38.011Z', 'price_change_percentage_24h_in_currency': 5.915050216697332}, {'id': 'liquity', 'symbol': 'lqty', 'name': 'Liquity', 'image': 'https://assets.coingecko.com/coins/images/14665/large/200-lqty-icon.png?1696514340', 'current_price': 1.46, 'market_cap': 137371896, 'market_cap_rank': 264, 'fully_diluted_valuation': 145400048, 'total_volume': 17863490, 'high_24h': 1.48, 'low_24h': 1.43, 'price_change_24h': -0.013332333569116896, 'price_change_percentage_24h': -0.90613, 'market_cap_change_24h': -1623805.5281015933, 'market_cap_change_percentage_24h': -1.16824, 'circulating_supply': 94478576.9067258, 'total_supply': 100000000, 'max_supply': 100000000, 'ath': 146.94, 'ath_change_percentage': -99.00964, 'ath_date': '2021-04-05T21:48:37.754Z', 'atl': 0.54399, 'atl_change_percentage': 167.5168, 'atl_date': '2022-11-14T07:05:51.360Z', 'roi': None, 'last_updated': '2023-12-02T11:47:55.288Z', 'price_change_percentage_24h_in_currency': -0.9061258484765214}, {'id': 'energy-web-token', 'symbol': 'ewt', 'name': 'Energy Web', 'image': 'https://assets.coingecko.com/coins/images/10886/large/R9gQTJV__400x400.png?1696510839', 'current_price': 2.83, 'market_cap': 137321386, 'market_cap_rank': 265, 'fully_diluted_valuation': 194936987, 'total_volume': 934654, 'high_24h': 2.87, 'low_24h': 2.78, 'price_change_24h': -0.04655341504166488, 'price_change_percentage_24h': -1.61999, 'market_cap_change_24h': -2271028.335702032, 'market_cap_change_percentage_24h': -1.6269, 'circulating_supply': 48618644.1655798, 'total_supply': 69017450.9455633, 'max_supply': 100000000, 'ath': 22.67, 'ath_change_percentage': -87.54088, 'ath_date': '2021-04-17T03:10:00.960Z', 'atl': 0.543628, 'atl_change_percentage': 419.63236, 'atl_date': '2020-04-03T00:00:00.000Z', 'roi': None, 'last_updated': '2023-12-02T11:47:57.682Z', 'price_change_percentage_24h_in_currency': -1.6199857064795056}, {'id': 'vvs-finance', 'symbol': 'vvs', 'name': 'VVS Finance', 'image': 'https://assets.coingecko.com/coins/images/20210/large/8glAYOTM_400x400.jpg?1696519620', 'current_price': 3.38e-06, 'market_cap': 136801288, 'market_cap_rank': 266, 'fully_diluted_valuation': 287506615, 'total_volume': 2653505, 'high_24h': 3.5e-06, 'low_24h': 3.38e-06, 'price_change_24h': -5.1320963313e-08, 'price_change_percentage_24h': -1.49471, 'market_cap_change_24h': -1934496.4554252028, 'market_cap_change_percentage_24h': -1.39437, 'circulating_supply': 40460815997965.9, 'total_supply': 85033937998662.3, 'max_supply': 100000000000000, 'ath': 0.00033093, 'ath_change_percentage': -98.97766, 'ath_date': '2021-11-15T10:53:45.925Z', 'atl': 1.91e-06, 'atl_change_percentage': 77.44877, 'atl_date': '2023-10-10T17:44:59.935Z', 'roi': None, 'last_updated': '2023-12-02T11:47:27.637Z', 'price_change_percentage_24h_in_currency': -1.4947121824778615}, {'id': 'blox', 'symbol': 'cdt', 'name': 'Blox', 'image': 'https://assets.coingecko.com/coins/images/1231/large/Blox_Staking_Logo_2.png?1696502308', 'current_price': 0.176114, 'market_cap': 136426814, 'market_cap_rank': 267, 'fully_diluted_valuation': 202239881, 'total_volume': 181672, 'high_24h': 0.227795, 'low_24h': 0.130107, 'price_change_24h': -0.008993895819901012, 'price_change_percentage_24h': -4.85874, 'market_cap_change_24h': 16395259, 'market_cap_change_percentage_24h': 13.65912, 'circulating_supply': 674579184.17, 'total_supply': 1000000000, 'max_supply': None, 'ath': 0.502216, 'ath_change_percentage': -59.73046, 'ath_date': '2023-03-21T14:15:03.845Z', 'atl': 0.00164788, 'atl_change_percentage': 12172.71473, 'atl_date': '2020-03-13T02:24:15.284Z', 'roi': {'times': -0.4893111427967679, 'currency': 'eth', 'percentage': -48.93111427967679}, 'last_updated': '2023-12-02T11:47:47.828Z', 'price_change_percentage_24h_in_currency': -4.85874279313834}, {'id': 'btse-token', 'symbol': 'btse', 'name': 'BTSE Token', 'image': 'https://assets.coingecko.com/coins/images/10807/large/BTSE_logo_Square.jpeg?1696510765', 'current_price': 0.839864, 'market_cap': 136109620, 'market_cap_rank': 268, 'fully_diluted_valuation': 167972800, 'total_volume': 137.16, 'high_24h': 0.891491, 'low_24h': 0.837784, 'price_change_24h': -0.008919979999999939, 'price_change_percentage_24h': -1.05091, 'market_cap_change_24h': -1464084.535819769, 'market_cap_change_percentage_24h': -1.06422, 'circulating_supply': 162061501, 'total_supply': 200000000, 'max_supply': 200000000, 'ath': 9.21, 'ath_change_percentage': -90.88551, 'ath_date': '2022-03-23T09:11:07.549Z', 'atl': 0.601, 'atl_change_percentage': 39.74443, 'atl_date': '2023-11-22T01:38:49.575Z', 'roi': {'times': -0.5800679999999999, 'currency': 'usd', 'percentage': -58.0068}, 'last_updated': '2023-12-02T11:47:15.641Z', 'price_change_percentage_24h_in_currency': -1.0509128600659898}, {'id': 'stasis-eurs', 'symbol': 'eurs', 'name': 'STASIS EURO', 'image': 'https://assets.coingecko.com/coins/images/5164/large/EURS_300x300.png?1696505680', 'current_price': 1.086, 'market_cap': 134961253, 'market_cap_rank': 269, 'fully_diluted_valuation': 134961253, 'total_volume': 1496069, 'high_24h': 1.092, 'low_24h': 1.082, 'price_change_24h': -0.003644879887628516, 'price_change_percentage_24h': -0.33454, 'market_cap_change_24h': -46511.07496076822, 'market_cap_change_percentage_24h': -0.03445, 'circulating_supply': 124125940, 'total_supply': 124125940, 'max_supply': 124125940, 'ath': 1.79, 'ath_change_percentage': -39.42761, 'ath_date': '2023-03-14T12:00:06.279Z', 'atl': 0.929636, 'atl_change_percentage': 16.83805, 'atl_date': '2022-11-10T13:44:54.149Z', 'roi': None, 'last_updated': '2023-12-02T11:48:00.900Z', 'price_change_percentage_24h_in_currency': -0.3345390608650454}, {'id': 'hive', 'symbol': 'hive', 'name': 'Hive', 'image': 'https://assets.coingecko.com/coins/images/10840/large/logo_transparent_4x.png?1696510797', 'current_price': 0.361203, 'market_cap': 134005390, 'market_cap_rank': 270, 'fully_diluted_valuation': None, 'total_volume': 731328, 'high_24h': 0.361452, 'low_24h': 0.354098, 'price_change_24h': 0.00350831, 'price_change_percentage_24h': 0.98081, 'market_cap_change_24h': 1413885, 'market_cap_change_percentage_24h': 1.06635, 'circulating_supply': 371261453.714, 'total_supply': None, 'max_supply': None, 'ath': 3.41, 'ath_change_percentage': -89.40795, 'ath_date': '2021-11-26T01:46:11.175Z', 'atl': 0.087309, 'atl_change_percentage': 313.42184, 'atl_date': '2020-04-06T07:35:48.099Z', 'roi': None, 'last_updated': '2023-12-02T11:47:55.032Z', 'price_change_percentage_24h_in_currency': 0.9808132741266063}, {'id': 'nakamoto-games', 'symbol': 'naka', 'name': 'Nakamoto Games', 'image': 'https://assets.coingecko.com/coins/images/19073/large/flCKDeh6_400x400.jpg?1696518523', 'current_price': 2.09, 'market_cap': 133634471, 'market_cap_rank': 271, 'fully_diluted_valuation': 370154223, 'total_volume': 12913190, 'high_24h': 2.11, 'low_24h': 1.92, 'price_change_24h': 0.154408, 'price_change_percentage_24h': 7.99675, 'market_cap_change_24h': 8515473, 'market_cap_change_percentage_24h': 6.8059, 'circulating_supply': 64984277.5, 'total_supply': 180000000, 'max_supply': 180000000, 'ath': 6.71, 'ath_change_percentage': -69.29556, 'ath_date': '2021-10-30T12:46:33.020Z', 'atl': 0.050412, 'atl_change_percentage': 3984.96742, 'atl_date': '2022-09-28T10:27:20.307Z', 'roi': None, 'last_updated': '2023-12-02T11:47:50.320Z', 'price_change_percentage_24h_in_currency': 7.996750196631018}, {'id': 'bitkub-coin', 'symbol': 'kub', 'name': 'Bitkub Coin', 'image': 'https://assets.coingecko.com/coins/images/15760/large/KUB.png?1696515385', 'current_price': 1.49, 'market_cap': 132607703, 'market_cap_rank': 272, 'fully_diluted_valuation': 164173858, 'total_volume': 1461948, 'high_24h': 1.55, 'low_24h': 1.41, 'price_change_24h': 0.05972, 'price_change_percentage_24h': 4.16828, 'market_cap_change_24h': 5160047, 'market_cap_change_percentage_24h': 4.04876, 'circulating_supply': 88850000, 'total_supply': 110000000, 'max_supply': 110000000, 'ath': 17.24, 'ath_change_percentage': -91.34552, 'ath_date': '2021-12-28T01:16:46.693Z', 'atl': 0.381968, 'atl_change_percentage': 290.61068, 'atl_date': '2021-07-20T14:22:47.966Z', 'roi': None, 'last_updated': '2023-12-02T11:47:26.819Z', 'price_change_percentage_24h_in_currency': 4.168279762719041}, {'id': 'seedify-fund', 'symbol': 'sfund', 'name': 'Seedify.fund', 'image': 'https://assets.coingecko.com/coins/images/14614/large/Favicon_Icon.png?1696514292', 'current_price': 2.28, 'market_cap': 132585793, 'market_cap_rank': 273, 'fully_diluted_valuation': 227571208, 'total_volume': 7480578, 'high_24h': 2.32, 'low_24h': 2.26, 'price_change_24h': -0.04294659947965185, 'price_change_percentage_24h': -1.85219, 'market_cap_change_24h': -2375796.074768305, 'market_cap_change_percentage_24h': -1.76035, 'circulating_supply': 58261233.71, 'total_supply': 100000000, 'max_supply': None, 'ath': 16.79, 'ath_change_percentage': -86.44319, 'ath_date': '2021-11-29T02:21:05.988Z', 'atl': 0.294604, 'atl_change_percentage': 672.59789, 'atl_date': '2021-07-20T05:41:21.428Z', 'roi': None, 'last_updated': '2023-12-02T11:48:02.137Z', 'price_change_percentage_24h_in_currency': -1.8521880819506145}, {'id': 'pundi-x-2', 'symbol': 'pundix', 'name': 'Pundi X', 'image': 'https://assets.coingecko.com/coins/images/14571/large/vDyefsXq_400x400.jpg?1696514252', 'current_price': 0.50847, 'market_cap': 131184146, 'market_cap_rank': 274, 'fully_diluted_valuation': 131184146, 'total_volume': 1131310, 'high_24h': 0.511131, 'low_24h': 0.500407, 'price_change_24h': 0.00577478, 'price_change_percentage_24h': 1.14876, 'market_cap_change_24h': 1138771, 'market_cap_change_percentage_24h': 0.87567, 'circulating_supply': 258422692.099924, 'total_supply': 258422692.099924, 'max_supply': 258422692.099924, 'ath': 10.07, 'ath_change_percentage': -94.95804, 'ath_date': '2021-03-31T06:39:32.892Z', 'atl': 0.301639, 'atl_change_percentage': 68.2977, 'atl_date': '2022-12-30T15:12:34.853Z', 'roi': None, 'last_updated': '2023-12-02T11:47:55.057Z', 'price_change_percentage_24h_in_currency': 1.1487639612813554}, {'id': 'coin98', 'symbol': 'c98', 'name': 'Coin98', 'image': 'https://assets.coingecko.com/coins/images/17117/large/logo.png?1696516677', 'current_price': 0.200268, 'market_cap': 130177971, 'market_cap_rank': 275, 'fully_diluted_valuation': 199932068, 'total_volume': 15376167, 'high_24h': 0.204267, 'low_24h': 0.192338, 'price_change_24h': 0.00792985, 'price_change_percentage_24h': 4.12287, 'market_cap_change_24h': 4836395, 'market_cap_change_percentage_24h': 3.85857, 'circulating_supply': 651111012, 'total_supply': 1000000000, 'max_supply': 1000000000, 'ath': 6.42, 'ath_change_percentage': -96.88504, 'ath_date': '2021-08-25T12:26:13.409Z', 'atl': 0.123233, 'atl_change_percentage': 62.26511, 'atl_date': '2023-06-12T03:05:42.280Z', 'roi': None, 'last_updated': '2023-12-02T11:47:59.354Z', 'price_change_percentage_24h_in_currency': 4.122872633917274}, {'id': 'digibyte', 'symbol': 'dgb', 'name': 'DigiByte', 'image': 'https://assets.coingecko.com/coins/images/63/large/digibyte.png?1696501454', 'current_price': 0.00776848, 'market_cap': 129818922, 'market_cap_rank': 276, 'fully_diluted_valuation': 163534315, 'total_volume': 2597177, 'high_24h': 0.00778689, 'low_24h': 0.0076207, 'price_change_24h': 0.00010682, 'price_change_percentage_24h': 1.39416, 'market_cap_change_24h': 1873874, 'market_cap_change_percentage_24h': 1.46459, 'circulating_supply': 16670491252.3075, 'total_supply': 21000000000, 'max_supply': None, 'ath': 0.178084, 'ath_change_percentage': -95.62741, 'ath_date': '2021-05-01T00:19:01.967Z', 'atl': 3.099e-05, 'atl_change_percentage': 25029.84492, 'atl_date': '2015-01-14T00:00:00.000Z', 'roi': None, 'last_updated': '2023-12-02T11:47:55.037Z', 'price_change_percentage_24h_in_currency': 1.3941578232458398}, {'id': 'sidus', 'symbol': 'sidus', 'name': 'Sidus', 'image': 'https://assets.coingecko.com/coins/images/21401/large/SIDUS_coin_logo.png?1696520765', 'current_price': 0.00733706, 'market_cap': 129806194, 'market_cap_rank': 277, 'fully_diluted_valuation': 167046962, 'total_volume': 2352339, 'high_24h': 0.00777873, 'low_24h': 0.00714852, 'price_change_24h': -0.000406923804781062, 'price_change_percentage_24h': -5.25471, 'market_cap_change_24h': -7382907.202122137, 'market_cap_change_percentage_24h': -5.38156, 'circulating_supply': 17619559290.1267, 'total_supply': 22674525375.8492, 'max_supply': 30000000000, 'ath': 0.193233, 'ath_change_percentage': -96.2025, 'ath_date': '2022-01-01T11:02:42.735Z', 'atl': 0.00070703, 'atl_change_percentage': 937.8619, 'atl_date': '2023-10-19T16:31:02.273Z', 'roi': None, 'last_updated': '2023-12-02T11:47:42.344Z', 'price_change_percentage_24h_in_currency': -5.25471116779343}, {'id': 'stride', 'symbol': 'strd', 'name': 'Stride', 'image': 'https://assets.coingecko.com/coins/images/27275/large/Stride_Token.png?1696526327', 'current_price': 1.5, 'market_cap': 129021471, 'market_cap_rank': 278, 'fully_diluted_valuation': 129022150, 'total_volume': 100827, 'high_24h': 1.53, 'low_24h': 1.44, 'price_change_24h': 0.00986207, 'price_change_percentage_24h': 0.6638, 'market_cap_change_24h': -2040611.2120681405, 'market_cap_change_percentage_24h': -1.55698, 'circulating_supply': 88267792.295727, 'total_supply': 88268257.13648, 'max_supply': 100000000, 'ath': 50, 'ath_change_percentage': -97.00965, 'ath_date': '2022-12-26T20:29:01.294Z', 'atl': 0.178275, 'atl_change_percentage': 738.70456, 'atl_date': '2023-01-04T00:19:07.141Z', 'roi': None, 'last_updated': '2023-12-02T11:47:03.754Z', 'price_change_percentage_24h_in_currency': 0.6638020178937563}, {'id': 'dkargo', 'symbol': 'dka', 'name': 'dKargo', 'image': 'https://assets.coingecko.com/coins/images/11875/large/bVD0g0dlmrEOPIkt943KZIBZ086eCshyY0jIQFti4zxYdOlFltU8tKa6uJlcA14HvNjX4bc7dxdMvlpoW5NFMND85oG4aiiCbFRhI6eowDfKEBY3BoSVY0IrBbA9SFGIxh_IYrkNC5uNdG-roZ0_TlGO3098now6Tbzga0p4IDqVk6lnaX3TuRC7pgnAYWZM15RD-uEIHr3O_3OoIIWP-.jpg?1696511743', 'current_price': 0.03719306, 'market_cap': 127935667, 'market_cap_rank': 279, 'fully_diluted_valuation': 178121360, 'total_volume': 7693984, 'high_24h': 0.03749624, 'low_24h': 0.03291712, 'price_change_24h': 0.00190985, 'price_change_percentage_24h': 5.41291, 'market_cap_change_24h': 929465, 'market_cap_change_percentage_24h': 0.73183, 'circulating_supply': 3591250000, 'total_supply': 5000000000, 'max_supply': 5000000000, 'ath': 0.703797, 'ath_change_percentage': -94.93809, 'ath_date': '2021-03-16T03:34:23.945Z', 'atl': 0.02067481, 'atl_change_percentage': 72.31369, 'atl_date': '2021-02-01T14:18:25.997Z', 'roi': None, 'last_updated': '2023-12-02T11:47:54.122Z', 'price_change_percentage_24h_in_currency': 5.412911223188168}, {'id': 'genesysgo-shadow', 'symbol': 'shdw', 'name': 'Shadow Token', 'image': 'https://assets.coingecko.com/coins/images/22271/large/Property_1_Color.png?1696521615', 'current_price': 0.831734, 'market_cap': 127253279, 'market_cap_rank': 280, 'fully_diluted_valuation': 138215736, 'total_volume': 1759231, 'high_24h': 0.948999, 'low_24h': 0.77792, 'price_change_24h': -0.06187428482974688, 'price_change_percentage_24h': -6.9241, 'market_cap_change_24h': -10039615.465352252, 'market_cap_change_percentage_24h': -7.31255, 'circulating_supply': 155649634.959839, 'total_supply': 169058346.320561, 'max_supply': 169058346.320561, 'ath': 2.82, 'ath_change_percentage': -70.52055, 'ath_date': '2022-01-05T01:24:14.734Z', 'atl': 0.01275871, 'atl_change_percentage': 6418.94814, 'atl_date': '2022-10-16T07:28:50.331Z', 'roi': None, 'last_updated': '2023-12-02T11:45:27.773Z', 'price_change_percentage_24h_in_currency': -6.924095100519984}, {'id': 'wilder-world', 'symbol': 'wild', 'name': 'Wilder World', 'image': 'https://assets.coingecko.com/coins/images/15407/large/WILD.png?1696515053', 'current_price': 0.452495, 'market_cap': 125984402, 'market_cap_rank': 281, 'fully_diluted_valuation': 225488455, 'total_volume': 897251, 'high_24h': 0.454208, 'low_24h': 0.420004, 'price_change_24h': 0.03054208, 'price_change_percentage_24h': 7.23826, 'market_cap_change_24h': 8134400, 'market_cap_change_percentage_24h': 6.90233, 'circulating_supply': 279358875.35584885, 'total_supply': 500000000, 'max_supply': 500000000, 'ath': 7.44, 'ath_change_percentage': -93.93791, 'ath_date': '2021-11-27T15:44:06.182Z', 'atl': 0.0008609, 'atl_change_percentage': 52274.87897, 'atl_date': '2021-07-10T21:13:48.532Z', 'roi': None, 'last_updated': '2023-12-02T11:47:49.575Z', 'price_change_percentage_24h_in_currency': 7.238260503584593}, {'id': 'stp-network', 'symbol': 'stpt', 'name': 'STP', 'image': 'https://assets.coingecko.com/coins/images/8713/large/STP.png?1696508875', 'current_price': 0.064683, 'market_cap': 125644441, 'market_cap_rank': 282, 'fully_diluted_valuation': 125644441, 'total_volume': 1783033, 'high_24h': 0.065102, 'low_24h': 0.063476, 'price_change_24h': 0.00049168, 'price_change_percentage_24h': 0.76595, 'market_cap_change_24h': 1168042, 'market_cap_change_percentage_24h': 0.93836, 'circulating_supply': 1942420283.02707, 'total_supply': 1942420283.02707, 'max_supply': 1942420283.02707, 'ath': 0.270085, 'ath_change_percentage': -76.02357, 'ath_date': '2021-10-06T08:03:37.704Z', 'atl': 0.00646736, 'atl_change_percentage': 901.28641, 'atl_date': '2019-10-01T00:00:00.000Z', 'roi': {'times': 5.468340343797369, 'currency': 'usd', 'percentage': 546.8340343797369}, 'last_updated': '2023-12-02T11:47:55.419Z', 'price_change_percentage_24h_in_currency': 0.7659496156700605}, {'id': 'gains-network', 'symbol': 'gns', 'name': 'Gains Network', 'image': 'https://assets.coingecko.com/coins/images/19737/large/logo.png?1696519161', 'current_price': 3.73, 'market_cap': 125589397, 'market_cap_rank': 283, 'fully_diluted_valuation': 125589397, 'total_volume': 4138130, 'high_24h': 3.75, 'low_24h': 3.62, 'price_change_24h': 0.066329, 'price_change_percentage_24h': 1.81216, 'market_cap_change_24h': 1699671, 'market_cap_change_percentage_24h': 1.37192, 'circulating_supply': 33761199, 'total_supply': 33761199, 'max_supply': 33761199, 'ath': 12.48, 'ath_change_percentage': -70.17314, 'ath_date': '2023-02-17T07:55:07.998Z', 'atl': 0.265841, 'atl_change_percentage': 1300.13305, 'atl_date': '2021-11-29T05:56:42.899Z', 'roi': None, 'last_updated': '2023-12-02T11:47:28.896Z', 'price_change_percentage_24h_in_currency': 1.8121557882247132}, {'id': 'covalent', 'symbol': 'cqt', 'name': 'Covalent', 'image': 'https://assets.coingecko.com/coins/images/14168/large/covalent-cqt.png?1696513886', 'current_price': 0.198151, 'market_cap': 123815030, 'market_cap_rank': 284, 'fully_diluted_valuation': 198087733, 'total_volume': 1080542, 'high_24h': 0.205179, 'low_24h': 0.190799, 'price_change_24h': 0.00102235, 'price_change_percentage_24h': 0.51862, 'market_cap_change_24h': 486188, 'market_cap_change_percentage_24h': 0.39422, 'circulating_supply': 625051477.391746, 'total_supply': 1000000000, 'max_supply': 1000000000, 'ath': 2.08, 'ath_change_percentage': -90.4501, 'ath_date': '2021-08-14T05:30:40.858Z', 'atl': 0.051932, 'atl_change_percentage': 281.84611, 'atl_date': '2022-08-01T23:38:54.301Z', 'roi': None, 'last_updated': '2023-12-02T11:47:59.447Z', 'price_change_percentage_24h_in_currency': 0.5186204037834998}, {'id': 'hooked-protocol', 'symbol': 'hook', 'name': 'Hooked Protocol', 'image': 'https://assets.coingecko.com/coins/images/28288/large/hooked2.png?1696527288', 'current_price': 1.084, 'market_cap': 120827682, 'market_cap_rank': 285, 'fully_diluted_valuation': 541019473, 'total_volume': 20120080, 'high_24h': 1.11, 'low_24h': 1.058, 'price_change_24h': 0.00249064, 'price_change_percentage_24h': 0.23039, 'market_cap_change_24h': -190547.46097400784, 'market_cap_change_percentage_24h': -0.15745, 'circulating_supply': 111666666, 'total_supply': 500000000, 'max_supply': 500000000, 'ath': 4.07, 'ath_change_percentage': -73.38407, 'ath_date': '2023-02-06T03:50:40.349Z', 'atl': 0.69924, 'atl_change_percentage': 54.98464, 'atl_date': '2023-08-17T21:45:24.822Z', 'roi': None, 'last_updated': '2023-12-02T11:47:48.672Z', 'price_change_percentage_24h_in_currency': 0.23039189813899125}, {'id': 'gameai', 'symbol': 'gat', 'name': 'GameAI', 'image': 'https://assets.coingecko.com/coins/images/31669/large/IMG_20230827_004646_377.jpg?1696530485', 'current_price': 0.668552, 'market_cap': 120792735, 'market_cap_rank': 286, 'fully_diluted_valuation': 603963673, 'total_volume': 13896217, 'high_24h': 0.808886, 'low_24h': 0.491961, 'price_change_24h': 0.171096, 'price_change_percentage_24h': 34.39409, 'market_cap_change_24h': 21374487, 'market_cap_change_percentage_24h': 21.49956, 'circulating_supply': 200000000.7257812, 'total_supply': 1000000000, 'max_supply': 1000000000, 'ath': 1.27, 'ath_change_percentage': -47.38523, 'ath_date': '2023-10-12T20:43:08.787Z', 'atl': 0.071724, 'atl_change_percentage': 832.12298, 'atl_date': '2023-09-12T19:26:42.378Z', 'roi': None, 'last_updated': '2023-12-02T11:46:44.706Z', 'price_change_percentage_24h_in_currency': 34.39409485157951}, {'id': 'merit-circle', 'symbol': 'mc', 'name': 'Merit Circle', 'image': 'https://assets.coingecko.com/coins/images/19304/large/Db4XqML.png?1696518747', 'current_price': 1.17, 'market_cap': 120732581, 'market_cap_rank': 287, 'fully_diluted_valuation': 120677996, 'total_volume': 1391606, 'high_24h': 1.22, 'low_24h': 0.962632, 'price_change_24h': 0.18421, 'price_change_percentage_24h': 18.60675, 'market_cap_change_24h': 18336569, 'market_cap_change_percentage_24h': 17.9075, 'circulating_supply': 102711267.811221, 'total_supply': 102664830.48589, 'max_supply': 102664830.48589, 'ath': 11.7, 'ath_change_percentage': -89.95326, 'ath_date': '2021-12-02T05:11:33.337Z', 'atl': 0.160326, 'atl_change_percentage': 633.33952, 'atl_date': '2023-06-15T11:20:26.674Z', 'roi': None, 'last_updated': '2023-12-02T11:47:53.528Z', 'price_change_percentage_24h_in_currency': 18.606753255049693}, {'id': 'stargate-finance', 'symbol': 'stg', 'name': 'Stargate Finance', 'image': 'https://assets.coingecko.com/coins/images/24413/large/STG_LOGO.png?1696523595', 'current_price': 0.58915, 'market_cap': 120070647, 'market_cap_rank': 288, 'fully_diluted_valuation': 587577780, 'total_volume': 31164317, 'high_24h': 0.599695, 'low_24h': 0.57356, 'price_change_24h': 0.01321859, 'price_change_percentage_24h': 2.29517, 'market_cap_change_24h': 2263116, 'market_cap_change_percentage_24h': 1.92103, 'circulating_supply': 204348515.727817, 'total_supply': 1000000000, 'max_supply': 1000000000, 'ath': 4.14, 'ath_change_percentage': -85.78054, 'ath_date': '2022-04-02T00:00:00.000Z', 'atl': 0.337788, 'atl_change_percentage': 74.33827, 'atl_date': '2022-08-19T00:00:00.000Z', 'roi': None, 'last_updated': '2023-12-02T11:48:00.963Z', 'price_change_percentage_24h_in_currency': 2.295167748795053}, {'id': 'cartesi', 'symbol': 'ctsi', 'name': 'Cartesi', 'image': 'https://assets.coingecko.com/coins/images/11038/large/Cartesi_Logo.png?1696510982', 'current_price': 0.156813, 'market_cap': 119813402, 'market_cap_rank': 289, 'fully_diluted_valuation': 156581072, 'total_volume': 7006849, 'high_24h': 0.157908, 'low_24h': 0.153071, 'price_change_24h': 0.00136792, 'price_change_percentage_24h': 0.88, 'market_cap_change_24h': 1039988, 'market_cap_change_percentage_24h': 0.87561, 'circulating_supply': 765184448.0252277, 'total_supply': 1000000000, 'max_supply': 1000000000, 'ath': 1.74, 'ath_change_percentage': -91.01898, 'ath_date': '2021-05-09T00:43:41.306Z', 'atl': 0.02670608, 'atl_change_percentage': 486.55034, 'atl_date': '2020-05-10T04:49:27.744Z', 'roi': None, 'last_updated': '2023-12-02T11:48:01.582Z', 'price_change_percentage_24h_in_currency': 0.8799993822642918}, {'id': 'playdapp', 'symbol': 'pla', 'name': 'PlayDapp', 'image': 'https://assets.coingecko.com/coins/images/14316/large/54023228.png?1696514005', 'current_price': 0.209149, 'market_cap': 119023068, 'market_cap_rank': 290, 'fully_diluted_valuation': 146357397, 'total_volume': 1873919, 'high_24h': 0.211639, 'low_24h': 0.207303, 'price_change_24h': -8.5396287206052e-05, 'price_change_percentage_24h': -0.04081, 'market_cap_change_24h': -341965.2384996414, 'market_cap_change_percentage_24h': -0.28649, 'circulating_supply': 569265030, 'total_supply': 700000000, 'max_supply': None, 'ath': 3.74, 'ath_change_percentage': -94.41608, 'ath_date': '2021-10-31T01:43:56.805Z', 'atl': 0.093206, 'atl_change_percentage': 124.32217, 'atl_date': '2021-06-22T13:53:57.916Z', 'roi': None, 'last_updated': '2023-12-02T11:47:58.117Z', 'price_change_percentage_24h_in_currency': -0.04081366611641108}, {'id': 'power-ledger', 'symbol': 'powr', 'name': 'Power Ledger', 'image': 'https://assets.coingecko.com/coins/images/1104/large/power-ledger.png?1696502201', 'current_price': 0.274742, 'market_cap': 117947290, 'market_cap_rank': 291, 'fully_diluted_valuation': 274479291, 'total_volume': 4532686, 'high_24h': 0.275699, 'low_24h': 0.263432, 'price_change_24h': 0.00890534, 'price_change_percentage_24h': 3.34993, 'market_cap_change_24h': 3562568, 'market_cap_change_percentage_24h': 3.11455, 'circulating_supply': 429712891.919905, 'total_supply': 1000000000, 'max_supply': None, 'ath': 1.89, 'ath_change_percentage': -85.48654, 'ath_date': '2018-01-07T00:00:00.000Z', 'atl': 0.03262537, 'atl_change_percentage': 741.21802, 'atl_date': '2020-03-13T02:22:32.160Z', 'roi': None, 'last_updated': '2023-12-02T11:47:56.463Z', 'price_change_percentage_24h_in_currency': 3.3499267619332826}, {'id': 'deso', 'symbol': 'deso', 'name': 'Decentralized Social', 'image': 'https://assets.coingecko.com/coins/images/16310/large/deso-logo-refresh-white.png?1696515911', 'current_price': 11.21, 'market_cap': 117446593, 'market_cap_rank': 292, 'fully_diluted_valuation': 120526969, 'total_volume': 88376, 'high_24h': 11.17, 'low_24h': 10.15, 'price_change_24h': 0.347738, 'price_change_percentage_24h': 3.20235, 'market_cap_change_24h': 2519142, 'market_cap_change_percentage_24h': 2.19194, 'circulating_supply': 10532253.8854, 'total_supply': 10808492.6854, 'max_supply': 10808492.6854, 'ath': 198.68, 'ath_change_percentage': -94.38575, 'ath_date': '2021-06-19T20:53:25.052Z', 'atl': 5.33, 'atl_change_percentage': 109.3251, 'atl_date': '2022-09-01T18:05:41.566Z', 'roi': None, 'last_updated': '2023-12-02T11:47:18.150Z', 'price_change_percentage_24h_in_currency': 3.202347752923281}, {'id': 'steem', 'symbol': 'steem', 'name': 'Steem', 'image': 'https://assets.coingecko.com/coins/images/398/large/steem.png?1696501691', 'current_price': 0.258949, 'market_cap': 116389262, 'market_cap_rank': 293, 'fully_diluted_valuation': None, 'total_volume': 3026166, 'high_24h': 0.266461, 'low_24h': 0.250662, 'price_change_24h': 0.00746433, 'price_change_percentage_24h': 2.96811, 'market_cap_change_24h': 3152377, 'market_cap_change_percentage_24h': 2.78388, 'circulating_supply': 449829467.235, 'total_supply': None, 'max_supply': None, 'ath': 8.19, 'ath_change_percentage': -96.83978, 'ath_date': '2018-01-03T00:00:00.000Z', 'atl': 0.07199, 'atl_change_percentage': 259.58696, 'atl_date': '2017-03-11T00:00:00.000Z', 'roi': None, 'last_updated': '2023-12-02T11:47:57.484Z', 'price_change_percentage_24h_in_currency': 2.9681096763442794}, {'id': 'krypton-dao', 'symbol': 'krd', 'name': 'Krypton DAO', 'image': 'https://assets.coingecko.com/coins/images/25467/large/krd.png?1696524597', 'current_price': 1.12, 'market_cap': 115131109, 'market_cap_rank': 294, 'fully_diluted_valuation': 11237003632, 'total_volume': 10682.61, 'high_24h': 1.12, 'low_24h': 1.048, 'price_change_24h': 0.04803204, 'price_change_percentage_24h': 4.49206, 'market_cap_change_24h': 5688118, 'market_cap_change_percentage_24h': 5.19733, 'circulating_supply': 102457125, 'total_supply': 10000000000, 'max_supply': 10000000000, 'ath': 4.04, 'ath_change_percentage': -72.32703, 'ath_date': '2023-05-31T00:21:03.622Z', 'atl': 0.153898, 'atl_change_percentage': 625.95256, 'atl_date': '2022-08-18T07:19:22.184Z', 'roi': None, 'last_updated': '2023-12-02T11:46:16.266Z', 'price_change_percentage_24h_in_currency': 4.492055116849283}, {'id': 'eusd-new', 'symbol': 'eusd', 'name': 'eUSD', 'image': 'https://assets.coingecko.com/coins/images/31603/large/eusd.png?1696530419', 'current_price': 0.995908, 'market_cap': 113856530, 'market_cap_rank': 295, 'fully_diluted_valuation': 113853541, 'total_volume': 140450, 'high_24h': 1.002, 'low_24h': 0.992811, 'price_change_24h': -8.5912440648817e-05, 'price_change_percentage_24h': -0.00863, 'market_cap_change_24h': -156557.7697187513, 'market_cap_change_percentage_24h': -0.13732, 'circulating_supply': 114261992.375316, 'total_supply': 114258992.728469, 'max_supply': None, 'ath': 1.89, 'ath_change_percentage': -47.45645, 'ath_date': '2023-10-17T01:08:42.748Z', 'atl': 0.978573, 'atl_change_percentage': 1.72375, 'atl_date': '2023-11-04T23:06:56.828Z', 'roi': None, 'last_updated': '2023-12-02T11:48:02.008Z', 'price_change_percentage_24h_in_currency': -0.008625803902113933}, {'id': 'iexec-rlc', 'symbol': 'rlc', 'name': 'iExec RLC', 'image': 'https://assets.coingecko.com/coins/images/646/large/pL1VuXm.png?1696501840', 'current_price': 1.55, 'market_cap': 111907600, 'market_cap_rank': 296, 'fully_diluted_valuation': 134506693, 'total_volume': 20742511, 'high_24h': 1.56, 'low_24h': 1.47, 'price_change_24h': 0.06474, 'price_change_percentage_24h': 4.35885, 'market_cap_change_24h': 4528918, 'market_cap_change_percentage_24h': 4.21771, 'circulating_supply': 72382548.06525737, 'total_supply': 86999784.9868455, 'max_supply': 86999784.9868455, 'ath': 15.51, 'ath_change_percentage': -90.03218, 'ath_date': '2021-05-10T17:59:51.557Z', 'atl': 0.153815, 'atl_change_percentage': 905.15552, 'atl_date': '2018-12-15T00:00:00.000Z', 'roi': None, 'last_updated': '2023-12-02T11:47:56.583Z', 'price_change_percentage_24h_in_currency': 4.358846864948163}, {'id': 'rif-token', 'symbol': 'rif', 'name': 'RSK Infrastructure Framework', 'image': 'https://assets.coingecko.com/coins/images/7460/large/RIF.png?1696507732', 'current_price': 0.112024, 'market_cap': 111900555, 'market_cap_rank': 297, 'fully_diluted_valuation': 111900555, 'total_volume': 6397401, 'high_24h': 0.115792, 'low_24h': 0.107885, 'price_change_24h': 0.00217628, 'price_change_percentage_24h': 1.98118, 'market_cap_change_24h': 1971944, 'market_cap_change_percentage_24h': 1.79384, 'circulating_supply': 1000000000, 'total_supply': 1000000000, 'max_supply': None, 'ath': 0.455938, 'ath_change_percentage': -75.45706, 'ath_date': '2021-04-12T21:44:18.713Z', 'atl': 0.0091475, 'atl_change_percentage': 1123.29113, 'atl_date': '2019-06-12T00:00:00.000Z', 'roi': None, 'last_updated': '2023-12-02T11:47:48.518Z', 'price_change_percentage_24h_in_currency': 1.9811840532352676}, {'id': 'bitrise-token', 'symbol': 'brise', 'name': 'Bitgert', 'image': 'https://assets.coingecko.com/coins/images/17388/large/200x200.png?1696516937', 'current_price': 2.81285e-07, 'market_cap': 111218012, 'market_cap_rank': 298, 'fully_diluted_valuation': 120036830, 'total_volume': 8627437, 'high_24h': 2.99104e-07, 'low_24h': 2.40172e-07, 'price_change_24h': 3.7206e-08, 'price_change_percentage_24h': 15.24347, 'market_cap_change_24h': 13965763, 'market_cap_change_percentage_24h': 14.36035, 'circulating_supply': 395688215721653.25, 'total_supply': 427063549263988, 'max_supply': 1000000000000000, 'ath': 1.84e-06, 'ath_change_percentage': -84.68365, 'ath_date': '2022-03-07T08:25:04.177Z', 'atl': 6.16584e-10, 'atl_change_percentage': 45660.85828, 'atl_date': '2021-09-09T21:36:32.800Z', 'roi': None, 'last_updated': '2023-12-02T11:48:00.984Z', 'price_change_percentage_24h_in_currency': 15.243465509450097}, {'id': 'milk-alliance', 'symbol': 'mlk', 'name': 'MiL.k Alliance', 'image': 'https://assets.coingecko.com/coins/images/11978/large/2.png?1696511836', 'current_price': 0.342969, 'market_cap': 111025478, 'market_cap_rank': 299, 'fully_diluted_valuation': 338193822, 'total_volume': 13172572, 'high_24h': 0.346877, 'low_24h': 0.322625, 'price_change_24h': 0.00866021, 'price_change_percentage_24h': 2.59048, 'market_cap_change_24h': 2513719, 'market_cap_change_percentage_24h': 2.31654, 'circulating_supply': 323774009, 'total_supply': 986245419, 'max_supply': 1300000000, 'ath': 3.59, 'ath_change_percentage': -90.44818, 'ath_date': '2021-04-05T15:10:26.250Z', 'atl': 0.199076, 'atl_change_percentage': 72.24367, 'atl_date': '2022-12-30T12:35:50.585Z', 'roi': None, 'last_updated': '2023-12-02T11:47:53.309Z', 'price_change_percentage_24h_in_currency': 2.590482710170582}, {'id': 'yield-guild-games', 'symbol': 'ygg', 'name': 'Yield Guild Games', 'image': 'https://assets.coingecko.com/coins/images/17358/large/Shield_Mark_-_Colored_-_Iridescent.png?1696516909', 'current_price': 0.387848, 'market_cap': 110961267, 'market_cap_rank': 300, 'fully_diluted_valuation': 387341723, 'total_volume': 24013378, 'high_24h': 0.394972, 'low_24h': 0.371804, 'price_change_24h': 0.0125309, 'price_change_percentage_24h': 3.33875, 'market_cap_change_24h': 3609360, 'market_cap_change_percentage_24h': 3.36218, 'circulating_supply': 286468667.3662124, 'total_supply': 1000000000, 'max_supply': 1000000000, 'ath': 11.17, 'ath_change_percentage': -96.53073, 'ath_date': '2021-11-20T16:49:03.371Z', 'atl': 0.125601, 'atl_change_percentage': 208.57913, 'atl_date': '2023-06-10T04:36:01.024Z', 'roi': None, 'last_updated': '2023-12-02T11:47:59.968Z', 'price_change_percentage_24h_in_currency': 3.338748180967395}, {'id': 'venus', 'symbol': 'xvs', 'name': 'Venus', 'image': 'https://assets.coingecko.com/coins/images/12677/large/download.jpg?1696512482', 'current_price': 7.2, 'market_cap': 110821557, 'market_cap_rank': 301, 'fully_diluted_valuation': 213951517, 'total_volume': 9397774, 'high_24h': 7.28, 'low_24h': 7.15, 'price_change_24h': 0.03434508, 'price_change_percentage_24h': 0.47951, 'market_cap_change_24h': 508100, 'market_cap_change_percentage_24h': 0.4606, 'circulating_supply': 15407225.88026704, 'total_supply': 29745109.54325738, 'max_supply': 30000000, 'ath': 146.82, 'ath_change_percentage': -95.10087, 'ath_date': '2021-05-10T03:04:27.466Z', 'atl': 1.65, 'atl_change_percentage': 334.94354, 'atl_date': '2020-10-06T05:02:54.510Z', 'roi': None, 'last_updated': '2023-12-02T11:48:00.660Z', 'price_change_percentage_24h_in_currency': 0.47951356727060523}, {'id': 'lukso-token', 'symbol': 'lyxe', 'name': 'LUKSO [OLD]', 'image': 'https://assets.coingecko.com/coins/images/11423/large/LYX.png?1696511335', 'current_price': 7.06, 'market_cap': 110718747, 'market_cap_rank': 302, 'fully_diluted_valuation': 710832986, 'total_volume': 187014, 'high_24h': 7.23, 'low_24h': 6.56, 'price_change_24h': 0.235137, 'price_change_percentage_24h': 3.44533, 'market_cap_change_24h': 4385771, 'market_cap_change_percentage_24h': 4.12456, 'circulating_supply': 15575915.708856644, 'total_supply': 100000000, 'max_supply': 100000000, 'ath': 41.18, 'ath_change_percentage': -82.76163, 'ath_date': '2021-11-04T07:31:04.430Z', 'atl': 0.203056, 'atl_change_percentage': 3395.81169, 'atl_date': '2020-07-18T10:14:36.612Z', 'roi': None, 'last_updated': '2023-12-02T11:47:39.850Z', 'price_change_percentage_24h_in_currency': 3.4453295349312016}, {'id': 'kyber-network-crystal', 'symbol': 'knc', 'name': 'Kyber Network Crystal', 'image': 'https://assets.coingecko.com/coins/images/14899/large/RwdVsGcw_400x400.jpg?1696514562', 'current_price': 0.722698, 'market_cap': 110390627, 'market_cap_rank': 303, 'fully_diluted_valuation': 165095748, 'total_volume': 10561829, 'high_24h': 0.724307, 'low_24h': 0.710187, 'price_change_24h': 0.00230308, 'price_change_percentage_24h': 0.3197, 'market_cap_change_24h': 114073, 'market_cap_change_percentage_24h': 0.10344, 'circulating_supply': 153033820.5041344, 'total_supply': 228871181.526988, 'max_supply': 252301550, 'ath': 5.7, 'ath_change_percentage': -87.33432, 'ath_date': '2022-04-29T00:29:36.976Z', 'atl': 0.447874, 'atl_change_percentage': 61.05499, 'atl_date': '2023-06-10T04:31:08.299Z', 'roi': None, 'last_updated': '2023-12-02T11:47:59.550Z', 'price_change_percentage_24h_in_currency': 0.3196976196084101}, {'id': 'verus-coin', 'symbol': 'vrsc', 'name': 'Verus Coin', 'image': 'https://assets.coingecko.com/coins/images/6769/large/Screenshot_33.png?1696507103', 'current_price': 1.58, 'market_cap': 109723824, 'market_cap_rank': 304, 'fully_diluted_valuation': 132174389, 'total_volume': 6096.96, 'high_24h': 1.64, 'low_24h': 1.51, 'price_change_24h': 0.02625784, 'price_change_percentage_24h': 1.69241, 'market_cap_change_24h': 943410, 'market_cap_change_percentage_24h': 0.86726, 'circulating_supply': 69350412.8054201, 'total_supply': 83540184, 'max_supply': None, 'ath': 3.52, 'ath_change_percentage': -55.14365, 'ath_date': '2021-05-01T23:29:00.762Z', 'atl': 0.00177843, 'atl_change_percentage': 88588.92472, 'atl_date': '2020-11-29T04:57:39.065Z', 'roi': None, 'last_updated': '2023-12-02T11:46:51.929Z', 'price_change_percentage_24h_in_currency': 1.6924124831817229}, {'id': 'tomochain', 'symbol': 'vic', 'name': 'Viction', 'image': 'https://assets.coingecko.com/coins/images/3416/large/viction.jpeg?1698894318', 'current_price': 1.13, 'market_cap': 109639372, 'market_cap_rank': 305, 'fully_diluted_valuation': 112583907, 'total_volume': 9893996, 'high_24h': 1.14, 'low_24h': 1.065, 'price_change_24h': 0.065199, 'price_change_percentage_24h': 6.11568, 'market_cap_change_24h': 5853164, 'market_cap_change_percentage_24h': 5.63964, 'circulating_supply': 97384586.2888889, 'total_supply': 100000000, 'max_supply': None, 'ath': 3.88, 'ath_change_percentage': -70.97285, 'ath_date': '2021-09-06T10:14:46.160Z', 'atl': 0.139955, 'atl_change_percentage': 704.46838, 'atl_date': '2020-03-13T02:24:15.954Z', 'roi': {'times': 3.52520452113514, 'currency': 'usd', 'percentage': 352.520452113514}, 'last_updated': '2023-12-02T11:47:29.660Z', 'price_change_percentage_24h_in_currency': 6.115677131667794}, {'id': 'raydium', 'symbol': 'ray', 'name': 'Raydium', 'image': 'https://assets.coingecko.com/coins/images/13928/large/PSigc4ie_400x400.jpg?1696513668', 'current_price': 0.446853, 'market_cap': 108907871, 'market_cap_rank': 306, 'fully_diluted_valuation': 247972527, 'total_volume': 29312265, 'high_24h': 0.463722, 'low_24h': 0.412453, 'price_change_24h': 0.02459645, 'price_change_percentage_24h': 5.825, 'market_cap_change_24h': 6459909, 'market_cap_change_percentage_24h': 6.30555, 'circulating_supply': 243752279.578882, 'total_supply': 555000000, 'max_supply': 555000000, 'ath': 16.83, 'ath_change_percentage': -97.34571, 'ath_date': '2021-09-12T20:20:23.998Z', 'atl': 0.134391, 'atl_change_percentage': 232.45654, 'atl_date': '2022-12-29T22:15:53.927Z', 'roi': None, 'last_updated': '2023-12-02T11:47:59.425Z', 'price_change_percentage_24h_in_currency': 5.8250043113793355}, {'id': 'short-term-t-bill-token', 'symbol': 'stbt', 'name': 'Short-term T-Bill Token', 'image': 'https://assets.coingecko.com/coins/images/29239/large/STBT_icon.png?1696528196', 'current_price': 1.001, 'market_cap': 108549094, 'market_cap_rank': 307, 'fully_diluted_valuation': 108549094, 'total_volume': 8004.3, 'high_24h': 1.005, 'low_24h': 0.996958, 'price_change_24h': 0.00047382, 'price_change_percentage_24h': 0.04738, 'market_cap_change_24h': -98922.97369581461, 'market_cap_change_percentage_24h': -0.09105, 'circulating_supply': 108490799.355221, 'total_supply': 108490799.355221, 'max_supply': None, 'ath': 1.083, 'ath_change_percentage': -7.6471, 'ath_date': '2023-10-14T13:41:21.310Z', 'atl': 0.973943, 'atl_change_percentage': 2.73059, 'atl_date': '2023-10-24T15:32:21.002Z', 'roi': None, 'last_updated': '2023-12-01T21:55:56.655Z', 'price_change_percentage_24h_in_currency': 0.047378826434955335}, {'id': 'metal', 'symbol': 'mtl', 'name': 'Metal DAO', 'image': 'https://assets.coingecko.com/coins/images/763/large/Metal.png?1696501916', 'current_price': 1.67, 'market_cap': 108124996, 'market_cap_rank': 308, 'fully_diluted_valuation': 111395525, 'total_volume': 8891290, 'high_24h': 1.74, 'low_24h': 1.6, 'price_change_24h': 0.050766, 'price_change_percentage_24h': 3.13943, 'market_cap_change_24h': 3534768, 'market_cap_change_percentage_24h': 3.37963, 'circulating_supply': 64633864.147, 'total_supply': 66588888, 'max_supply': None, 'ath': 17.03, 'ath_change_percentage': -90.2116, 'ath_date': '2018-06-21T04:04:27.124Z', 'atl': 0.117252, 'atl_change_percentage': 1321.482, 'atl_date': '2020-03-13T02:29:54.468Z', 'roi': {'times': 8.265643774661116, 'currency': 'usd', 'percentage': 826.5643774661116}, 'last_updated': '2023-12-02T11:47:59.082Z', 'price_change_percentage_24h_in_currency': 3.139428383532477}, {'id': 'bluzelle', 'symbol': 'blz', 'name': 'Bluzelle', 'image': 'https://assets.coingecko.com/coins/images/2848/large/ColorIcon_3x.png?1696503607', 'current_price': 0.252952, 'market_cap': 107836334, 'market_cap_rank': 309, 'fully_diluted_valuation': 126433671, 'total_volume': 6814616, 'high_24h': 0.264117, 'low_24h': 0.248726, 'price_change_24h': 0.00202599, 'price_change_percentage_24h': 0.80741, 'market_cap_change_24h': 748764, 'market_cap_change_percentage_24h': 0.69921, 'circulating_supply': 426454176.7280512, 'total_supply': 500000000, 'max_supply': None, 'ath': 0.783089, 'ath_change_percentage': -67.71413, 'ath_date': '2018-02-10T00:00:00.000Z', 'atl': 0.00654948, 'atl_change_percentage': 3760.26188, 'atl_date': '2020-03-13T02:29:24.576Z', 'roi': {'times': 1.1418457573558602, 'currency': 'usd', 'percentage': 114.18457573558602}, 'last_updated': '2023-12-02T11:47:59.409Z', 'price_change_percentage_24h_in_currency': 0.807406361641267}, {'id': 'storj', 'symbol': 'storj', 'name': 'Storj', 'image': 'https://assets.coingecko.com/coins/images/949/large/storj.png?1696502065', 'current_price': 0.747167, 'market_cap': 107241418, 'market_cap_rank': 310, 'fully_diluted_valuation': 316979026, 'total_volume': 29528384, 'high_24h': 0.750948, 'low_24h': 0.733656, 'price_change_24h': 0.00684844, 'price_change_percentage_24h': 0.92507, 'market_cap_change_24h': 755208, 'market_cap_change_percentage_24h': 0.70921, 'circulating_supply': 143787438.7, 'total_supply': 424999998, 'max_supply': None, 'ath': 3.81, 'ath_change_percentage': -80.41089, 'ath_date': '2021-03-28T01:39:34.946Z', 'atl': 0.05024, 'atl_change_percentage': 1384.16186, 'atl_date': '2020-03-13T02:29:53.872Z', 'roi': {'times': 0.4943338915289154, 'currency': 'usd', 'percentage': 49.43338915289154}, 'last_updated': '2023-12-02T11:47:53.160Z', 'price_change_percentage_24h_in_currency': 0.9250660560750967}, {'id': 'allianceblock-nexera', 'symbol': 'nxra', 'name': 'AllianceBlock Nexera', 'image': 'https://assets.coingecko.com/coins/images/29181/large/nxra.png?1696528139', 'current_price': 0.133913, 'market_cap': 106231489, 'market_cap_rank': 311, 'fully_diluted_valuation': 114117830, 'total_volume': 1175002, 'high_24h': 0.14532, 'low_24h': 0.133949, 'price_change_24h': -0.004539191986700637, 'price_change_percentage_24h': -3.27853, 'market_cap_change_24h': -3069327.338545546, 'market_cap_change_percentage_24h': -2.80815, 'circulating_supply': 791259049.8235, 'total_supply': 850000000, 'max_supply': 850000000, 'ath': 0.151705, 'ath_change_percentage': -11.73959, 'ath_date': '2023-11-24T12:00:27.570Z', 'atl': 0.04233459, 'atl_change_percentage': 216.27843, 'atl_date': '2023-03-10T02:04:48.047Z', 'roi': None, 'last_updated': '2023-12-02T11:47:40.898Z', 'price_change_percentage_24h_in_currency': -3.2785281191433695}, {'id': 'nervos-network', 'symbol': 'ckb', 'name': 'Nervos Network', 'image': 'https://assets.coingecko.com/coins/images/9566/large/Nervos_White.png?1696509646', 'current_price': 0.00318415, 'market_cap': 106197976, 'market_cap_rank': 312, 'fully_diluted_valuation': None, 'total_volume': 2379308, 'high_24h': 0.00319113, 'low_24h': 0.00311687, 'price_change_24h': 2.742e-05, 'price_change_percentage_24h': 0.86857, 'market_cap_change_24h': 953334, 'market_cap_change_percentage_24h': 0.90583, 'circulating_supply': 33340636263.0312, 'total_supply': None, 'max_supply': None, 'ath': 0.04370633, 'ath_change_percentage': -92.71132, 'ath_date': '2021-03-31T17:08:59.155Z', 'atl': 0.00197892, 'atl_change_percentage': 60.97746, 'atl_date': '2022-12-17T14:25:57.243Z', 'roi': {'times': -0.681585218039344, 'currency': 'usd', 'percentage': -68.1585218039344}, 'last_updated': '2023-12-02T11:48:00.714Z', 'price_change_percentage_24h_in_currency': 0.8685682015397579}, {'id': 'celsius-degree-token', 'symbol': 'cel', 'name': 'Celsius Network', 'image': 'https://assets.coingecko.com/coins/images/3263/large/CEL_logo.png?1696503976', 'current_price': 0.249763, 'market_cap': 105635525, 'market_cap_rank': 313, 'fully_diluted_valuation': 172830921, 'total_volume': 949865, 'high_24h': 0.250818, 'low_24h': 0.24145, 'price_change_24h': 0.00133936, 'price_change_percentage_24h': 0.53914, 'market_cap_change_24h': 565459, 'market_cap_change_percentage_24h': 0.53817, 'circulating_supply': 423415980.3475, 'total_supply': 692753441.4971, 'max_supply': None, 'ath': 8.05, 'ath_change_percentage': -96.91579, 'ath_date': '2021-06-04T00:04:12.584Z', 'atl': 0.02620268, 'atl_change_percentage': 847.17876, 'atl_date': '2018-12-07T00:00:00.000Z', 'roi': {'times': -0.167457681212339, 'currency': 'usd', 'percentage': -16.7457681212339}, 'last_updated': '2023-12-02T11:47:57.256Z', 'price_change_percentage_24h_in_currency': 0.5391433364156175}, {'id': 'bancor', 'symbol': 'bnt', 'name': 'Bancor Network', 'image': 'https://assets.coingecko.com/coins/images/736/large/bancor-bnt.png?1696501892', 'current_price': 0.777154, 'market_cap': 105302602, 'market_cap_rank': 314, 'fully_diluted_valuation': 105302602, 'total_volume': 203490, 'high_24h': 0.781003, 'low_24h': 0.748733, 'price_change_24h': 0.0232407, 'price_change_percentage_24h': 3.08268, 'market_cap_change_24h': 2950527, 'market_cap_change_percentage_24h': 2.88272, 'circulating_supply': 135573668.590928, 'total_supply': 135573668.590928, 'max_supply': 135573668.590928, 'ath': 10.72, 'ath_change_percentage': -92.7514, 'ath_date': '2018-01-09T00:00:00.000Z', 'atl': 0.120935, 'atl_change_percentage': 542.26024, 'atl_date': '2020-03-13T02:29:21.245Z', 'roi': None, 'last_updated': '2023-12-02T11:48:00.361Z', 'price_change_percentage_24h_in_currency': 3.0826751347534724}, {'id': 'decimal', 'symbol': 'del', 'name': 'Decimal', 'image': 'https://assets.coingecko.com/coins/images/17133/large/logo_-_2021-07-16T133613.232.png?1696516692', 'current_price': 0.01710832, 'market_cap': 104770285, 'market_cap_rank': 315, 'fully_diluted_valuation': 104772373, 'total_volume': 1797.16, 'high_24h': 0.01779648, 'low_24h': 0.01701229, 'price_change_24h': -0.00041861308719713, 'price_change_percentage_24h': -2.3884, 'market_cap_change_24h': -1286116.5379772633, 'market_cap_change_percentage_24h': -1.21267, 'circulating_supply': 6117592001.68781, 'total_supply': 6117713900.59293, 'max_supply': 92075616000, 'ath': 2.76, 'ath_change_percentage': -99.37909, 'ath_date': '2022-05-11T21:29:08.384Z', 'atl': 0.00701911, 'atl_change_percentage': 143.99994, 'atl_date': '2023-10-23T17:20:28.948Z', 'roi': None, 'last_updated': '2023-12-02T11:47:59.918Z', 'price_change_percentage_24h_in_currency': -2.3883989696979238}, {'id': 'star-atlas', 'symbol': 'atlas', 'name': 'Star Atlas', 'image': 'https://assets.coingecko.com/coins/images/17659/large/Icon_Reverse.png?1696517190', 'current_price': 0.0072717, 'market_cap': 104763805, 'market_cap_rank': 316, 'fully_diluted_valuation': 261741350, 'total_volume': 10685077, 'high_24h': 0.00770886, 'low_24h': 0.00688767, 'price_change_24h': -0.000381380122143555, 'price_change_percentage_24h': -4.98336, 'market_cap_change_24h': -5623041.596590772, 'market_cap_change_percentage_24h': -5.09394, 'circulating_supply': 14409251621.4077, 'total_supply': 36000000000, 'max_supply': 36000000000, 'ath': 0.267549, 'ath_change_percentage': -97.28117, 'ath_date': '2021-09-04T05:59:47.657Z', 'atl': 0.00135334, 'atl_change_percentage': 437.50103, 'atl_date': '2023-07-12T03:10:46.784Z', 'roi': None, 'last_updated': '2023-12-02T11:47:59.675Z', 'price_change_percentage_24h_in_currency': -4.9833572089651845}, {'id': 'constellation-labs', 'symbol': 'dag', 'name': 'Constellation', 'image': 'https://assets.coingecko.com/coins/images/4645/large/Constellation_Network_Logo.png?1696505213', 'current_price': 0.03526282, 'market_cap': 103620992, 'market_cap_rank': 317, 'fully_diluted_valuation': 125174848, 'total_volume': 529874, 'high_24h': 0.0355366, 'low_24h': 0.03439788, 'price_change_24h': 0.00029712, 'price_change_percentage_24h': 0.84974, 'market_cap_change_24h': 655332, 'market_cap_change_percentage_24h': 0.63646, 'circulating_supply': 2938725539.78538, 'total_supply': 3550000000, 'max_supply': None, 'ath': 0.451761, 'ath_change_percentage': -92.19487, 'ath_date': '2021-08-25T23:30:00.311Z', 'atl': 0.00110189, 'atl_change_percentage': 3100.00391, 'atl_date': '2019-03-09T00:00:00.000Z', 'roi': {'times': -0.7482936559252243, 'currency': 'eth', 'percentage': -74.82936559252244}, 'last_updated': '2023-12-02T11:48:00.646Z', 'price_change_percentage_24h_in_currency': 0.8497425718629296}, {'id': 'pendle', 'symbol': 'pendle', 'name': 'Pendle', 'image': 'https://assets.coingecko.com/coins/images/15069/large/Pendle_Logo_Normal-03.png?1696514728', 'current_price': 1.07, 'market_cap': 103588473, 'market_cap_rank': 318, 'fully_diluted_valuation': 276140584, 'total_volume': 8107595, 'high_24h': 1.081, 'low_24h': 1.055, 'price_change_24h': 0.00438344, 'price_change_percentage_24h': 0.41127, 'market_cap_change_24h': 234046, 'market_cap_change_percentage_24h': 0.22645, 'circulating_supply': 96950723.3581583, 'total_supply': 258446028.244635, 'max_supply': 258446028.244635, 'ath': 2.45, 'ath_change_percentage': -56.40158, 'ath_date': '2021-05-05T22:24:39.415Z', 'atl': 0.03377729, 'atl_change_percentage': 3063.79426, 'atl_date': '2022-11-14T20:15:58.336Z', 'roi': None, 'last_updated': '2023-12-02T11:47:49.353Z', 'price_change_percentage_24h_in_currency': 0.4112700499653851}, {'id': 'everipedia', 'symbol': 'iq', 'name': 'IQ', 'image': 'https://assets.coingecko.com/coins/images/5010/large/YAIS3fUh.png?1696505542', 'current_price': 0.00595367, 'market_cap': 103189111, 'market_cap_rank': 319, 'fully_diluted_valuation': 103189111, 'total_volume': 1128982, 'high_24h': 0.00613845, 'low_24h': 0.00590653, 'price_change_24h': -4.9688002019871e-05, 'price_change_percentage_24h': -0.82767, 'market_cap_change_24h': -913490.3108264208, 'market_cap_change_percentage_24h': -0.87749, 'circulating_supply': 17330926355.929, 'total_supply': 17330926355.929, 'max_supply': 21000000000, 'ath': 0.072382, 'ath_change_percentage': -91.77413, 'ath_date': '2018-07-16T07:35:38.970Z', 'atl': 0.00063047, 'atl_change_percentage': 844.37729, 'atl_date': '2020-03-13T02:29:15.457Z', 'roi': None, 'last_updated': '2023-12-02T11:47:58.290Z', 'price_change_percentage_24h_in_currency': -0.8276697040634471}, {'id': 'gods-unchained', 'symbol': 'gods', 'name': 'Gods Unchained', 'image': 'https://assets.coingecko.com/coins/images/17139/large/10631.png?1696516698', 'current_price': 0.398053, 'market_cap': 103170941, 'market_cap_rank': 320, 'fully_diluted_valuation': 198511698, 'total_volume': 4884569, 'high_24h': 0.403029, 'low_24h': 0.341377, 'price_change_24h': 0.053173, 'price_change_percentage_24h': 15.41777, 'market_cap_change_24h': 13395232, 'market_cap_change_percentage_24h': 14.92078, 'circulating_supply': 259861111.0649, 'total_supply': 500000000, 'max_supply': 500000000, 'ath': 8.8, 'ath_change_percentage': -95.48477, 'ath_date': '2021-12-10T21:07:56.477Z', 'atl': 0.093373, 'atl_change_percentage': 325.52316, 'atl_date': '2023-06-10T04:31:12.850Z', 'roi': None, 'last_updated': '2023-12-02T11:48:00.127Z', 'price_change_percentage_24h_in_currency': 15.417770486503485}, {'id': 'sweth', 'symbol': 'sweth', 'name': 'Swell Ethereum', 'image': 'https://assets.coingecko.com/coins/images/30326/large/_lB7zEtS_400x400.jpg?1696529227', 'current_price': 2153.53, 'market_cap': 103150956, 'market_cap_rank': 321, 'fully_diluted_valuation': 103150956, 'total_volume': 591284, 'high_24h': 2153.8, 'low_24h': 2125.98, 'price_change_24h': 9.8, 'price_change_percentage_24h': 0.45719, 'market_cap_change_24h': 573688, 'market_cap_change_percentage_24h': 0.55927, 'circulating_supply': 47912.5480076891, 'total_supply': 47912.5480076891, 'max_supply': None, 'ath': 2180.03, 'ath_change_percentage': -1.21784, 'ath_date': '2023-11-24T16:05:50.630Z', 'atl': 1535.26, 'atl_change_percentage': 40.26845, 'atl_date': '2023-10-12T17:25:37.017Z', 'roi': None, 'last_updated': '2023-12-02T11:47:31.753Z', 'price_change_percentage_24h_in_currency': 0.45719143227161846}, {'id': 'astrafer', 'symbol': 'astrafer', 'name': 'Astrafer', 'image': 'https://assets.coingecko.com/coins/images/26246/large/ATSRA_Token.png?1696525331', 'current_price': 0.659216, 'market_cap': 103091976, 'market_cap_rank': 322, 'fully_diluted_valuation': 584806056, 'total_volume': 103533, 'high_24h': 0.714327, 'low_24h': 0.658176, 'price_change_24h': -0.04379969368338554, 'price_change_percentage_24h': -6.23026, 'market_cap_change_24h': -7235306.975655481, 'market_cap_change_percentage_24h': -6.55804, 'circulating_supply': 156553960.9, 'total_supply': 888077888, 'max_supply': 888077888, 'ath': 4.88, 'ath_change_percentage': -86.47987, 'ath_date': '2022-09-11T19:47:43.631Z', 'atl': 0.331722, 'atl_change_percentage': 98.80556, 'atl_date': '2023-10-14T01:15:25.764Z', 'roi': None, 'last_updated': '2023-12-02T11:47:23.274Z', 'price_change_percentage_24h_in_currency': -6.2302556609034285}, {'id': 'vethor-token', 'symbol': 'vtho', 'name': 'VeThor', 'image': 'https://assets.coingecko.com/coins/images/5230/large/VTHO_Token_Icon.png?1696505735', 'current_price': 0.00147158, 'market_cap': 102758001, 'market_cap_rank': 323, 'fully_diluted_valuation': None, 'total_volume': 4202293, 'high_24h': 0.00158646, 'low_24h': 0.00138882, 'price_change_24h': 7.161e-05, 'price_change_percentage_24h': 5.1151, 'market_cap_change_24h': 4440118, 'market_cap_change_percentage_24h': 4.51608, 'circulating_supply': 69932917630, 'total_supply': None, 'max_supply': None, 'ath': 0.04671227, 'ath_change_percentage': -96.86204, 'ath_date': '2018-08-29T02:40:46.956Z', 'atl': 0.00015238, 'atl_change_percentage': 861.97627, 'atl_date': '2020-03-16T10:14:24.544Z', 'roi': None, 'last_updated': '2023-12-02T11:47:58.694Z', 'price_change_percentage_24h_in_currency': 5.1151007323784965}, {'id': 'nucypher', 'symbol': 'nu', 'name': 'NuCypher', 'image': 'https://assets.coingecko.com/coins/images/3318/large/photo1198982838879365035.jpg?1696504026', 'current_price': 0.077063, 'market_cap': 102416061, 'market_cap_rank': 324, 'fully_diluted_valuation': 231168409, 'total_volume': 40780, 'high_24h': 0.079883, 'low_24h': 0.070705, 'price_change_24h': -0.002763294507255418, 'price_change_percentage_24h': -3.46164, 'market_cap_change_24h': 1048854, 'market_cap_change_percentage_24h': 1.03471, 'circulating_supply': 0, 'total_supply': 3885390081.74825, 'max_supply': 3885390081.74825, 'ath': 2.61, 'ath_change_percentage': -97.04753, 'ath_date': '2021-10-15T08:50:14.799Z', 'atl': 0.01610325, 'atl_change_percentage': 378.43199, 'atl_date': '2023-07-22T14:58:11.418Z', 'roi': None, 'last_updated': '2023-12-02T11:47:31.686Z', 'price_change_percentage_24h_in_currency': -3.4616441990073126}, {'id': 'mass-vehicle-ledger', 'symbol': 'mvl', 'name': 'MVL', 'image': 'https://assets.coingecko.com/coins/images/3476/large/mass-vehicle-ledger.png?1696504164', 'current_price': 0.00422675, 'market_cap': 102008114, 'market_cap_rank': 325, 'fully_diluted_valuation': 117911788, 'total_volume': 4839258, 'high_24h': 0.00431799, 'low_24h': 0.00418031, 'price_change_24h': -9.124055591337e-05, 'price_change_percentage_24h': -2.11303, 'market_cap_change_24h': -724362.4817456305, 'market_cap_change_percentage_24h': -0.7051, 'circulating_supply': 24052958863.1026, 'total_supply': 27802958863, 'max_supply': 30000000000, 'ath': 0.06973, 'ath_change_percentage': -93.91804, 'ath_date': '2021-04-02T23:40:00.738Z', 'atl': 0.0001466, 'atl_change_percentage': 2792.81353, 'atl_date': '2020-03-13T02:04:01.608Z', 'roi': {'times': 0.7611447149785708, 'currency': 'usd', 'percentage': 76.11447149785708}, 'last_updated': '2023-12-02T11:48:01.502Z', 'price_change_percentage_24h_in_currency': -2.1130340941422525}, {'id': 'goldfinch', 'symbol': 'gfi', 'name': 'Goldfinch', 'image': 'https://assets.coingecko.com/coins/images/19081/large/GOLDFINCH.png?1696518531', 'current_price': 1.64, 'market_cap': 101304991, 'market_cap_rank': 326, 'fully_diluted_valuation': 187125697, 'total_volume': 2694767, 'high_24h': 1.84, 'low_24h': 1.62, 'price_change_24h': -0.004547360987461779, 'price_change_percentage_24h': -0.27687, 'market_cap_change_24h': -257035.30715842545, 'market_cap_change_percentage_24h': -0.25308, 'circulating_supply': 61871316.6116085, 'total_supply': 114285714, 'max_supply': 114285714, 'ath': 32.94, 'ath_change_percentage': -95.0266, 'ath_date': '2022-01-11T21:23:15.079Z', 'atl': 0.290236, 'atl_change_percentage': 464.37843, 'atl_date': '2023-06-19T16:10:16.753Z', 'roi': None, 'last_updated': '2023-12-02T11:47:50.183Z', 'price_change_percentage_24h_in_currency': -0.276872585976042}, {'id': 'uquid-coin', 'symbol': 'uqc', 'name': 'Uquid Coin', 'image': 'https://assets.coingecko.com/coins/images/1341/large/uquid-coin.png?1696502403', 'current_price': 10.16, 'market_cap': 101202076, 'market_cap_rank': 327, 'fully_diluted_valuation': 404808303, 'total_volume': 226897, 'high_24h': 11.93, 'low_24h': 10.04, 'price_change_24h': -0.6156653268946712, 'price_change_percentage_24h': -5.71157, 'market_cap_change_24h': -6582328.495643795, 'market_cap_change_percentage_24h': -6.10694, 'circulating_supply': 10000000, 'total_supply': 40000000, 'max_supply': None, 'ath': 41.38, 'ath_change_percentage': -75.5441, 'ath_date': '2023-11-24T05:49:47.363Z', 'atl': 0.02606502, 'atl_change_percentage': 38725.1525, 'atl_date': '2019-07-24T00:00:00.000Z', 'roi': {'times': 5.35225426115715, 'currency': 'usd', 'percentage': 535.225426115715}, 'last_updated': '2023-12-02T11:47:46.856Z', 'price_change_percentage_24h_in_currency': -5.711566779532051}, {'id': 'nym', 'symbol': 'nym', 'name': 'Nym', 'image': 'https://assets.coingecko.com/coins/images/24488/large/NYM_Token.png?1696523668', 'current_price': 0.159293, 'market_cap': 100677343, 'market_cap_rank': 328, 'fully_diluted_valuation': 159116111, 'total_volume': 1149696, 'high_24h': 0.159503, 'low_24h': 0.157494, 'price_change_24h': 0.00113961, 'price_change_percentage_24h': 0.72057, 'market_cap_change_24h': 579625, 'market_cap_change_percentage_24h': 0.57906, 'circulating_supply': 632728781.568878, 'total_supply': 1000000000, 'max_supply': 1000000000, 'ath': 5.76, 'ath_change_percentage': -97.23884, 'ath_date': '2022-04-15T05:09:27.468Z', 'atl': 0.098451, 'atl_change_percentage': 61.64455, 'atl_date': '2023-10-11T10:40:03.696Z', 'roi': None, 'last_updated': '2023-12-02T11:48:01.445Z', 'price_change_percentage_24h_in_currency': 0.720572642320135}, {'id': 'alchemy-pay', 'symbol': 'ach', 'name': 'Alchemy Pay', 'image': 'https://assets.coingecko.com/coins/images/12390/large/ACH_%281%29.png?1696512213', 'current_price': 0.02044155, 'market_cap': 100559846, 'market_cap_rank': 329, 'fully_diluted_valuation': 203410457, 'total_volume': 9898957, 'high_24h': 0.02051945, 'low_24h': 0.02011876, 'price_change_24h': 0.00014498, 'price_change_percentage_24h': 0.7143, 'market_cap_change_24h': 705.95, 'market_cap_change_percentage_24h': 0.0007, 'circulating_supply': 4943691067.145604, 'total_supply': 9999999999.99999, 'max_supply': 9999999999.99999, 'ath': 0.198666, 'ath_change_percentage': -89.71212, 'ath_date': '2021-08-06T16:39:58.934Z', 'atl': 0.00135537, 'atl_change_percentage': 1407.96788, 'atl_date': '2021-07-21T00:39:36.177Z', 'roi': None, 'last_updated': '2023-12-02T11:47:53.016Z', 'price_change_percentage_24h_in_currency': 0.7142982714314824}, {'id': 'tokamak-network', 'symbol': 'ton', 'name': 'Tokamak Network', 'image': 'https://assets.coingecko.com/coins/images/12260/large/D919x5-s_400x400.png?1696512091', 'current_price': 2.31, 'market_cap': 100491210, 'market_cap_rank': 330, 'fully_diluted_valuation': 141023971, 'total_volume': 3677406, 'high_24h': 2.32, 'low_24h': 2.26, 'price_change_24h': 0.02836585, 'price_change_percentage_24h': 1.24499, 'market_cap_change_24h': 1135769, 'market_cap_change_percentage_24h': 1.14314, 'circulating_supply': 43635865.0448282, 'total_supply': 61236231.1438885, 'max_supply': None, 'ath': 30.51, 'ath_change_percentage': -92.452, 'ath_date': '2021-04-02T17:44:40.065Z', 'atl': 0.999246, 'atl_change_percentage': 130.46881, 'atl_date': '2022-12-29T02:31:58.533Z', 'roi': None, 'last_updated': '2023-12-02T11:47:56.553Z', 'price_change_percentage_24h_in_currency': 1.2449934771410744}, {'id': 'smooth-love-potion', 'symbol': 'slp', 'name': 'Smooth Love Potion', 'image': 'https://assets.coingecko.com/coins/images/10366/large/SLP.png?1696510368', 'current_price': 0.00243343, 'market_cap': 100384650, 'market_cap_rank': 331, 'fully_diluted_valuation': None, 'total_volume': 5314806, 'high_24h': 0.00245051, 'low_24h': 0.00237402, 'price_change_24h': 2.739e-05, 'price_change_percentage_24h': 1.13844, 'market_cap_change_24h': 1318195, 'market_cap_change_percentage_24h': 1.33062, 'circulating_supply': 41314238975, 'total_supply': None, 'max_supply': None, 'ath': 0.399727, 'ath_change_percentage': -99.39215, 'ath_date': '2021-07-13T10:04:32.975Z', 'atl': 0.00130772, 'atl_change_percentage': 85.80038, 'atl_date': '2023-09-11T20:02:08.577Z', 'roi': None, 'last_updated': '2023-12-02T11:48:00.508Z', 'price_change_percentage_24h_in_currency': 1.1384364954851065}, {'id': 'chainflip', 'symbol': 'flip', 'name': 'Chainflip', 'image': 'https://assets.coingecko.com/coins/images/25576/large/kdt_AgmT_400x400.png?1696524709', 'current_price': 5.5, 'market_cap': 100067079, 'market_cap_rank': 332, 'fully_diluted_valuation': 494565465, 'total_volume': 7281718, 'high_24h': 5.51, 'low_24h': 5.05, 'price_change_24h': 0.322431, 'price_change_percentage_24h': 6.22442, 'market_cap_change_24h': 5592922, 'market_cap_change_percentage_24h': 5.92005, 'circulating_supply': 18210000, 'total_supply': 90000000, 'max_supply': None, 'ath': 7.23, 'ath_change_percentage': -23.8973, 'ath_date': '2023-11-25T20:25:05.474Z', 'atl': 2.16, 'atl_change_percentage': 154.21466, 'atl_date': '2023-11-23T12:29:50.056Z', 'roi': None, 'last_updated': '2023-12-02T11:47:55.473Z', 'price_change_percentage_24h_in_currency': 6.224416845861446}, {'id': 'medibloc', 'symbol': 'med', 'name': 'Medibloc', 'image': 'https://assets.coingecko.com/coins/images/1374/large/medibloc_basic.png?1696502431', 'current_price': 0.01243324, 'market_cap': 99838851, 'market_cap_rank': 333, 'fully_diluted_valuation': 116125771, 'total_volume': 1163890, 'high_24h': 0.01257472, 'low_24h': 0.01222268, 'price_change_24h': 1.566e-05, 'price_change_percentage_24h': 0.12608, 'market_cap_change_24h': 114825, 'market_cap_change_percentage_24h': 0.11514, 'circulating_supply': 8030122504, 'total_supply': 9340093157, 'max_supply': 10000000000, 'ath': 0.351852, 'ath_change_percentage': -96.44511, 'ath_date': '2021-04-02T04:29:08.791Z', 'atl': 0.00161437, 'atl_change_percentage': 674.78777, 'atl_date': '2020-03-13T02:20:18.722Z', 'roi': {'times': -0.378338092462902, 'currency': 'usd', 'percentage': -37.8338092462902}, 'last_updated': '2023-12-02T11:47:56.877Z', 'price_change_percentage_24h_in_currency': 0.1260755351119669}, {'id': 'nano', 'symbol': 'xno', 'name': 'Nano', 'image': 'https://assets.coingecko.com/coins/images/756/large/nano.png?1696501910', 'current_price': 0.744715, 'market_cap': 99259155, 'market_cap_rank': 334, 'fully_diluted_valuation': 99259155, 'total_volume': 492492, 'high_24h': 0.749519, 'low_24h': 0.735283, 'price_change_24h': 0.00660933, 'price_change_percentage_24h': 0.89545, 'market_cap_change_24h': 865166, 'market_cap_change_percentage_24h': 0.87929, 'circulating_supply': 133248290, 'total_supply': 133248290, 'max_supply': 133248290, 'ath': 33.69, 'ath_change_percentage': -97.78937, 'ath_date': '2018-01-02T00:00:00.000Z', 'atl': 0.026179, 'atl_change_percentage': 2745.18873, 'atl_date': '2017-07-16T00:00:00.000Z', 'roi': None, 'last_updated': '2023-12-02T11:47:51.455Z', 'price_change_percentage_24h_in_currency': 0.8954454826162956}, {'id': 'loom-network', 'symbol': 'loomold', 'name': 'Loom Network (OLD)', 'image': 'https://assets.coingecko.com/coins/images/3387/large/1_K76UVoLq-FOL7l-_Fag-Qw_2x.png?1696504085', 'current_price': 0.118456, 'market_cap': 98793397, 'market_cap_rank': 335, 'fully_diluted_valuation': 118469449, 'total_volume': 328686, 'high_24h': 0.118684, 'low_24h': 0.116417, 'price_change_24h': 0.0015283, 'price_change_percentage_24h': 1.30705, 'market_cap_change_24h': 1397005, 'market_cap_change_percentage_24h': 1.43435, 'circulating_supply': 833914552, 'total_supply': 1000000000, 'max_supply': None, 'ath': 0.772485, 'ath_change_percentage': -84.67407, 'ath_date': '2018-05-04T02:54:44.763Z', 'atl': 0.00786348, 'atl_change_percentage': 1405.57369, 'atl_date': '2020-03-13T02:29:21.252Z', 'roi': {'times': 0.5586295175329394, 'currency': 'usd', 'percentage': 55.86295175329395}, 'last_updated': '2023-12-02T11:47:57.080Z', 'price_change_percentage_24h_in_currency': 1.307049157630287}, {'id': 'fx-coin', 'symbol': 'fx', 'name': 'Function X', 'image': 'https://assets.coingecko.com/coins/images/8186/large/47271330_590071468072434_707260356350705664_n.jpg?1696508396', 'current_price': 0.147233, 'market_cap': 98758856, 'market_cap_rank': 336, 'fully_diluted_valuation': 98760716, 'total_volume': 928792, 'high_24h': 0.150956, 'low_24h': 0.145677, 'price_change_24h': -0.001500651323977975, 'price_change_percentage_24h': -1.00895, 'market_cap_change_24h': -1080667.4491327107, 'market_cap_change_percentage_24h': -1.0824, 'circulating_supply': 671176891.566623, 'total_supply': 671189532.902331, 'max_supply': 1893022625, 'ath': 2.2, 'ath_change_percentage': -93.31608, 'ath_date': '2021-08-30T03:08:34.715Z', 'atl': 0.03475487, 'atl_change_percentage': 323.37326, 'atl_date': '2020-03-13T02:29:11.980Z', 'roi': None, 'last_updated': '2023-12-02T11:47:56.897Z', 'price_change_percentage_24h_in_currency': -1.0089514656188914}, {'id': '0x0-ai-ai-smart-contract', 'symbol': '0x0', 'name': '0x0.ai: AI Smart Contract', 'image': 'https://assets.coingecko.com/coins/images/28880/large/0x0.png?1696527857', 'current_price': 0.11008, 'market_cap': 98193654, 'market_cap_rank': 337, 'fully_diluted_valuation': 98193654, 'total_volume': 733146, 'high_24h': 0.11257, 'low_24h': 0.107461, 'price_change_24h': -0.001101905897887112, 'price_change_percentage_24h': -0.99109, 'market_cap_change_24h': -876469.0885809064, 'market_cap_change_percentage_24h': -0.8847, 'circulating_supply': 891250000, 'total_supply': 891250000, 'max_supply': 1000000000, 'ath': 0.140315, 'ath_change_percentage': -21.557, 'ath_date': '2023-11-20T19:15:30.088Z', 'atl': 0.0002781, 'atl_change_percentage': 39478.29664, 'atl_date': '2023-02-01T14:29:44.928Z', 'roi': None, 'last_updated': '2023-12-02T11:47:23.504Z', 'price_change_percentage_24h_in_currency': -0.9910857070612875}, {'id': 'ardor', 'symbol': 'ardr', 'name': 'Ardor', 'image': 'https://assets.coingecko.com/coins/images/525/large/Ardor_Vertical_1.png?1696501746', 'current_price': 0.09767, 'market_cap': 97442772, 'market_cap_rank': 338, 'fully_diluted_valuation': 97442772, 'total_volume': 1403732, 'high_24h': 0.1009, 'low_24h': 0.096156, 'price_change_24h': 0.00089441, 'price_change_percentage_24h': 0.92421, 'market_cap_change_24h': 252339, 'market_cap_change_percentage_24h': 0.25963, 'circulating_supply': 998466231, 'total_supply': 998466231, 'max_supply': None, 'ath': 2.04, 'ath_change_percentage': -95.22444, 'ath_date': '2018-01-13T00:00:00.000Z', 'atl': 0.008745, 'atl_change_percentage': 1015.98006, 'atl_date': '2016-12-06T00:00:00.000Z', 'roi': None, 'last_updated': '2023-12-02T11:47:56.723Z', 'price_change_percentage_24h_in_currency': 0.924206764177952}, {'id': 'secret', 'symbol': 'scrt', 'name': 'Secret', 'image': 'https://assets.coingecko.com/coins/images/11871/large/secret_logo.png?1696511740', 'current_price': 0.364441, 'market_cap': 97398820, 'market_cap_rank': 339, 'fully_diluted_valuation': 103201342, 'total_volume': 2122019, 'high_24h': 0.36965, 'low_24h': 0.35886, 'price_change_24h': 0.00117373, 'price_change_percentage_24h': 0.3231, 'market_cap_change_24h': 326558, 'market_cap_change_percentage_24h': 0.33641, 'circulating_supply': 267426741.711966, 'total_supply': 283358655.992517, 'max_supply': None, 'ath': 10.38, 'ath_change_percentage': -96.49139, 'ath_date': '2021-10-28T12:44:49.785Z', 'atl': 0.238656, 'atl_change_percentage': 52.67204, 'atl_date': '2023-09-11T19:42:08.999Z', 'roi': None, 'last_updated': '2023-12-02T11:48:00.072Z', 'price_change_percentage_24h_in_currency': 0.32310438001083525}, {'id': 'radiant-capital', 'symbol': 'rdnt', 'name': 'Radiant Capital', 'image': 'https://assets.coingecko.com/coins/images/26536/large/Radiant-Logo-200x200.png?1696525610', 'current_price': 0.255869, 'market_cap': 97310471, 'market_cap_rank': 340, 'fully_diluted_valuation': 255283227, 'total_volume': 16517075, 'high_24h': 0.260722, 'low_24h': 0.253763, 'price_change_24h': -0.001191892626246249, 'price_change_percentage_24h': -0.46366, 'market_cap_change_24h': -304427.33506026864, 'market_cap_change_percentage_24h': -0.31187, 'circulating_supply': 381186308.348, 'total_supply': 1000000000, 'max_supply': 1000000000, 'ath': 0.585268, 'ath_change_percentage': -56.29282, 'ath_date': '2022-09-16T14:56:05.640Z', 'atl': 0.011166, 'atl_change_percentage': 2190.91853, 'atl_date': '2022-10-20T16:54:09.115Z', 'roi': None, 'last_updated': '2023-12-02T11:47:39.373Z', 'price_change_percentage_24h_in_currency': -0.46366197639191403}, {'id': 'numeraire', 'symbol': 'nmr', 'name': 'Numeraire', 'image': 'https://assets.coingecko.com/coins/images/752/large/numeraire.png?1696501906', 'current_price': 15.72, 'market_cap': 96146398, 'market_cap_rank': 341, 'fully_diluted_valuation': 169569452, 'total_volume': 7242908, 'high_24h': 15.77, 'low_24h': 15.26, 'price_change_24h': 0.229267, 'price_change_percentage_24h': 1.48013, 'market_cap_change_24h': -952818.1921943724, 'market_cap_change_percentage_24h': -0.98128, 'circulating_supply': 6124173.64771985, 'total_supply': 10800953.446274, 'max_supply': 11000000, 'ath': 93.15, 'ath_change_percentage': -83.14621, 'ath_date': '2021-05-16T10:29:06.362Z', 'atl': 2.06, 'atl_change_percentage': 660.54321, 'atl_date': '2018-11-27T00:00:00.000Z', 'roi': None, 'last_updated': '2023-12-02T11:47:56.842Z', 'price_change_percentage_24h_in_currency': 1.4801298405557024}, {'id': 'smardex', 'symbol': 'sdex', 'name': 'SmarDex', 'image': 'https://assets.coingecko.com/coins/images/29470/large/SDEX_logo_transparent_outside_240x240.png?1696930070', 'current_price': 0.013359, 'market_cap': 94591208, 'market_cap_rank': 342, 'fully_diluted_valuation': 133429251, 'total_volume': 2098920, 'high_24h': 0.01371517, 'low_24h': 0.01322884, 'price_change_24h': -0.000188555006800026, 'price_change_percentage_24h': -1.3918, 'market_cap_change_24h': -1388514.080167234, 'market_cap_change_percentage_24h': -1.44667, 'circulating_supply': 7088086318.75892, 'total_supply': 9998371574.49188, 'max_supply': 10000000000, 'ath': 0.01544531, 'ath_change_percentage': -13.5019, 'ath_date': '2023-11-20T18:35:03.812Z', 'atl': 0.00169891, 'atl_change_percentage': 686.38269, 'atl_date': '2023-03-20T13:36:34.848Z', 'roi': None, 'last_updated': '2023-12-02T11:47:56.821Z', 'price_change_percentage_24h_in_currency': -1.3918008413375278}, {'id': 'xyo-network', 'symbol': 'xyo', 'name': 'XYO Network', 'image': 'https://assets.coingecko.com/coins/images/4519/large/XYO_Network-logo.png?1696505103', 'current_price': 0.00677585, 'market_cap': 94377078, 'market_cap_rank': 343, 'fully_diluted_valuation': 94377078, 'total_volume': 3827154, 'high_24h': 0.00741493, 'low_24h': 0.00653357, 'price_change_24h': -0.000530192108786623, 'price_change_percentage_24h': -7.2569, 'market_cap_change_24h': -7702590.641678765, 'market_cap_change_percentage_24h': -7.54567, 'circulating_supply': 13931216938.0113, 'total_supply': 13931216938.0113, 'max_supply': 13931216938.0113, 'ath': 0.081391, 'ath_change_percentage': -91.67656, 'ath_date': '2021-11-06T04:44:55.346Z', 'atl': 9.672e-05, 'atl_change_percentage': 6904.11453, 'atl_date': '2020-03-13T02:24:24.303Z', 'roi': {'times': -0.8925112471553371, 'currency': 'eth', 'percentage': -89.2511247155337}, 'last_updated': '2023-12-02T11:47:29.000Z', 'price_change_percentage_24h_in_currency': -7.256902618142709}, {'id': 'ergo', 'symbol': 'erg', 'name': 'Ergo', 'image': 'https://assets.coingecko.com/coins/images/2484/large/Ergo.png?1696503303', 'current_price': 1.31, 'market_cap': 93657781, 'market_cap_rank': 344, 'fully_diluted_valuation': 127671366, 'total_volume': 385826, 'high_24h': 1.33, 'low_24h': 1.28, 'price_change_24h': -0.010468115036702088, 'price_change_percentage_24h': -0.79416, 'market_cap_change_24h': -885142.8279691488, 'market_cap_change_percentage_24h': -0.93623, 'circulating_supply': 71700528, 'total_supply': 97739924, 'max_supply': None, 'ath': 18.72, 'ath_change_percentage': -93.02358, 'ath_date': '2021-09-03T00:00:00.000Z', 'atl': 0.094191, 'atl_change_percentage': 1286.70626, 'atl_date': '2020-03-13T02:24:59.299Z', 'roi': None, 'last_updated': '2023-12-02T11:48:03.107Z', 'price_change_percentage_24h_in_currency': -0.7941596008727668}, {'id': 'ultima', 'symbol': 'ultima', 'name': 'Ultima', 'image': 'https://assets.coingecko.com/coins/images/31844/large/ULTIMA.jpg?1696530658', 'current_price': 6393.75, 'market_cap': 93424309, 'market_cap_rank': 345, 'fully_diluted_valuation': 639906379, 'total_volume': 8639838, 'high_24h': 6920.86, 'low_24h': 6216.94, 'price_change_24h': -315.6899889347678, 'price_change_percentage_24h': -4.70516, 'market_cap_change_24h': -5668500.311250925, 'market_cap_change_percentage_24h': -5.7204, 'circulating_supply': 14599.683922, 'total_supply': 100000, 'max_supply': 100000, 'ath': 20506, 'ath_change_percentage': -68.82021, 'ath_date': '2023-09-27T01:29:45.604Z', 'atl': 5339.55, 'atl_change_percentage': 19.74331, 'atl_date': '2023-11-29T12:43:54.156Z', 'roi': None, 'last_updated': '2023-12-02T11:46:45.373Z', 'price_change_percentage_24h_in_currency': -4.705161359795023}, {'id': 'moviebloc', 'symbol': 'mbl', 'name': 'MovieBloc', 'image': 'https://assets.coingecko.com/coins/images/8460/large/MBL_Logo.png?1696508646', 'current_price': 0.00542804, 'market_cap': 93235883, 'market_cap_rank': 346, 'fully_diluted_valuation': 162918585, 'total_volume': 4335472, 'high_24h': 0.00558819, 'low_24h': 0.00528065, 'price_change_24h': -0.000160148654441866, 'price_change_percentage_24h': -2.86584, 'market_cap_change_24h': -2877088.375676796, 'market_cap_change_percentage_24h': -2.99344, 'circulating_supply': 17168553885, 'total_supply': 30000000000, 'max_supply': 30000000000, 'ath': 0.0450322, 'ath_change_percentage': -87.95276, 'ath_date': '2021-04-02T01:08:31.856Z', 'atl': 0.00042973, 'atl_change_percentage': 1162.44676, 'atl_date': '2019-10-25T08:25:31.503Z', 'roi': None, 'last_updated': '2023-12-02T11:47:59.550Z', 'price_change_percentage_24h_in_currency': -2.865843746743269}, {'id': 'marlin', 'symbol': 'pond', 'name': 'Marlin', 'image': 'https://assets.coingecko.com/coins/images/8903/large/POND_200x200.png?1696509053', 'current_price': 0.01153123, 'market_cap': 93102887, 'market_cap_rank': 347, 'fully_diluted_valuation': 57949197, 'total_volume': 2819012, 'high_24h': 0.01167431, 'low_24h': 0.01138558, 'price_change_24h': -7.9276106321437e-05, 'price_change_percentage_24h': -0.6828, 'market_cap_change_24h': -1117673.675920859, 'market_cap_change_percentage_24h': -1.18623, 'circulating_supply': 8087375977, 'total_supply': 5033753055, 'max_supply': 10000000000, 'ath': 0.323362, 'ath_change_percentage': -96.43364, 'ath_date': '2020-12-21T23:37:33.267Z', 'atl': 0.00653027, 'atl_change_percentage': 76.59719, 'atl_date': '2022-05-12T07:20:26.962Z', 'roi': None, 'last_updated': '2023-12-02T11:47:59.079Z', 'price_change_percentage_24h_in_currency': -0.6827960887498156}, {'id': 'coinex-token', 'symbol': 'cet', 'name': 'CoinEx', 'image': 'https://assets.coingecko.com/coins/images/4817/large/coinex-token.png?1696505367', 'current_price': 0.03172974, 'market_cap': 93058961, 'market_cap_rank': 348, 'fully_diluted_valuation': 6374825, 'total_volume': 74600, 'high_24h': 0.03230826, 'low_24h': 0.0315001, 'price_change_24h': -0.00018362203418814, 'price_change_percentage_24h': -0.57538, 'market_cap_change_24h': -522159.9774930179, 'market_cap_change_percentage_24h': -0.55798, 'circulating_supply': 2935634724.9, 'total_supply': 201100000.613172, 'max_supply': 10000000000, 'ath': 0.150293, 'ath_change_percentage': -78.90799, 'ath_date': '2018-07-03T22:04:23.838Z', 'atl': 0.00410696, 'atl_change_percentage': 671.85457, 'atl_date': '2018-12-15T00:00:00.000Z', 'roi': None, 'last_updated': '2023-12-02T11:47:11.603Z', 'price_change_percentage_24h_in_currency': -0.5753765668720706}, {'id': 'paal-ai', 'symbol': 'paal', 'name': 'PAAL AI', 'image': 'https://assets.coingecko.com/coins/images/30815/large/PaalX.jpg?1696529671', 'current_price': 0.142057, 'market_cap': 93024934, 'market_cap_rank': 349, 'fully_diluted_valuation': 142907419, 'total_volume': 2171361, 'high_24h': 0.155653, 'low_24h': 0.129049, 'price_change_24h': -0.009166697509854884, 'price_change_percentage_24h': -6.06169, 'market_cap_change_24h': -4678708.655678391, 'market_cap_change_percentage_24h': -4.78867, 'circulating_supply': 650945444.22553, 'total_supply': 1000000000, 'max_supply': 1000000000, 'ath': 0.218783, 'ath_change_percentage': -35.06491, 'ath_date': '2023-11-20T15:00:23.005Z', 'atl': 4.587e-05, 'atl_change_percentage': 309603.81415, 'atl_date': '2023-07-24T15:18:13.699Z', 'roi': None, 'last_updated': '2023-12-02T11:47:29.466Z', 'price_change_percentage_24h_in_currency': -6.061693106040932}, {'id': 'open-exchange-token', 'symbol': 'ox', 'name': 'Open Exchange Token', 'image': 'https://assets.coingecko.com/coins/images/30604/large/Logo2.png?1696529473', 'current_price': 0.01690801, 'market_cap': 92627324, 'market_cap_rank': 350, 'fully_diluted_valuation': 92627324, 'total_volume': 1552441, 'high_24h': 0.01778996, 'low_24h': 0.01619169, 'price_change_24h': -0.000398015674219775, 'price_change_percentage_24h': -2.29987, 'market_cap_change_24h': 72998, 'market_cap_change_percentage_24h': 0.07887, 'circulating_supply': 5477392188.29, 'total_supply': 5477392188.29345, 'max_supply': 9860000000, 'ath': 0.081313, 'ath_change_percentage': -79.18958, 'ath_date': '2023-08-09T21:09:50.806Z', 'atl': 0.0049407, 'atl_change_percentage': 242.49585, 'atl_date': '2023-10-13T19:40:46.710Z', 'roi': None, 'last_updated': '2023-12-02T11:47:48.146Z', 'price_change_percentage_24h_in_currency': -2.2998673161955843}, {'id': 'metis-token', 'symbol': 'metis', 'name': 'Metis', 'image': 'https://assets.coingecko.com/coins/images/15595/large/metis.jpeg?1696515230', 'current_price': 21.22, 'market_cap': 92173784, 'market_cap_rank': 351, 'fully_diluted_valuation': 114520766, 'total_volume': 3136369, 'high_24h': 21.32, 'low_24h': 20.34, 'price_change_24h': -0.08951114384434433, 'price_change_percentage_24h': -0.42003, 'market_cap_change_24h': -742541.8494652361, 'market_cap_change_percentage_24h': -0.79915, 'circulating_supply': 4354321.352, 'total_supply': 5410000.51, 'max_supply': 10000000, 'ath': 323.54, 'ath_change_percentage': -93.44411, 'ath_date': '2022-01-16T20:14:31.709Z', 'atl': 3.45, 'atl_change_percentage': 514.54749, 'atl_date': '2021-05-23T17:07:45.384Z', 'roi': None, 'last_updated': '2023-12-02T11:47:49.975Z', 'price_change_percentage_24h_in_currency': -0.42003337708188687}, {'id': 'my-neighbor-alice', 'symbol': 'alice', 'name': 'My Neighbor Alice', 'image': 'https://assets.coingecko.com/coins/images/14375/large/alice_logo.jpg?1696514067', 'current_price': 1.12, 'market_cap': 92094614, 'market_cap_rank': 352, 'fully_diluted_valuation': 111749163, 'total_volume': 10384567, 'high_24h': 1.13, 'low_24h': 1.091, 'price_change_24h': 0.01366528, 'price_change_percentage_24h': 1.23558, 'market_cap_change_24h': 1065971, 'market_cap_change_percentage_24h': 1.17103, 'circulating_supply': 82411905, 'total_supply': 100000000, 'max_supply': 100000000, 'ath': 40.93, 'ath_change_percentage': -97.26886, 'ath_date': '2021-03-15T08:54:21.451Z', 'atl': 0.637547, 'atl_change_percentage': 75.33732, 'atl_date': '2023-10-11T16:55:32.563Z', 'roi': None, 'last_updated': '2023-12-02T11:47:54.010Z', 'price_change_percentage_24h_in_currency': 1.2355782817554748}, {'id': 'kwenta', 'symbol': 'kwenta', 'name': 'Kwenta', 'image': 'https://assets.coingecko.com/coins/images/27409/large/kwenta.png?1696526450', 'current_price': 172.19, 'market_cap': 91089486, 'market_cap_rank': 353, 'fully_diluted_valuation': 136653983, 'total_volume': 173412, 'high_24h': 177.3, 'low_24h': 171.29, 'price_change_24h': -2.90857768490298, 'price_change_percentage_24h': -1.66108, 'market_cap_change_24h': -1853811.5171921551, 'market_cap_change_percentage_24h': -1.99456, 'circulating_supply': 528646.601583079, 'total_supply': 793084.544060185, 'max_supply': None, 'ath': 790.99, 'ath_change_percentage': -78.23672, 'ath_date': '2023-03-14T13:16:00.736Z', 'atl': 53.82, 'atl_change_percentage': 219.8263, 'atl_date': '2023-09-15T11:06:19.417Z', 'roi': None, 'last_updated': '2023-12-02T11:47:03.743Z', 'price_change_percentage_24h_in_currency': -1.661080077577976}, {'id': 'omisego', 'symbol': 'omg', 'name': 'OMG Network', 'image': 'https://assets.coingecko.com/coins/images/776/large/OMG_Network.jpg?1696501928', 'current_price': 0.647516, 'market_cap': 90546616, 'market_cap_rank': 354, 'fully_diluted_valuation': 90546616, 'total_volume': 16828127, 'high_24h': 0.65234, 'low_24h': 0.635528, 'price_change_24h': 0.00342323, 'price_change_percentage_24h': 0.53148, 'market_cap_change_24h': 246898, 'market_cap_change_percentage_24h': 0.27342, 'circulating_supply': 140245398.245133, 'total_supply': 140245398.245133, 'max_supply': 140245398.245133, 'ath': 25.62, 'ath_change_percentage': -97.4805, 'ath_date': '2018-01-13T00:00:00.000Z', 'atl': 0.350917, 'atl_change_percentage': 83.95028, 'atl_date': '2020-03-13T02:30:10.072Z', 'roi': None, 'last_updated': '2023-12-02T11:47:59.406Z', 'price_change_percentage_24h_in_currency': 0.5314814114688072}, {'id': 'the-virtua-kolect', 'symbol': 'tvk', 'name': 'Virtua', 'image': 'https://assets.coingecko.com/coins/images/13330/large/virtua_original.png?1696513099', 'current_price': 0.075334, 'market_cap': 90168561, 'market_cap_rank': 355, 'fully_diluted_valuation': 90630873, 'total_volume': 5567417, 'high_24h': 0.085956, 'low_24h': 0.051171, 'price_change_24h': 0.0241632, 'price_change_percentage_24h': 47.22059, 'market_cap_change_24h': 30391365, 'market_cap_change_percentage_24h': 50.84107, 'circulating_supply': 1193878749.0000648, 'total_supply': 1200000000, 'max_supply': 1200000000, 'ath': 1.21, 'ath_change_percentage': -93.76023, 'ath_date': '2021-03-15T23:24:29.280Z', 'atl': 0.01767338, 'atl_change_percentage': 327.83609, 'atl_date': '2023-09-13T06:16:42.947Z', 'roi': None, 'last_updated': '2023-12-02T11:47:56.699Z', 'price_change_percentage_24h_in_currency': 47.220589681090935}, {'id': 'dogelon-mars', 'symbol': 'elon', 'name': 'Dogelon Mars', 'image': 'https://assets.coingecko.com/coins/images/14962/large/6GxcPRo3_400x400.jpg?1696514622', 'current_price': 1.64105e-07, 'market_cap': 90071994, 'market_cap_rank': 356, 'fully_diluted_valuation': 163871553, 'total_volume': 2543012, 'high_24h': 1.64995e-07, 'low_24h': 1.61459e-07, 'price_change_24h': 8.20009e-10, 'price_change_percentage_24h': 0.5022, 'market_cap_change_24h': 137738, 'market_cap_change_percentage_24h': 0.15315, 'circulating_supply': 549649971723242.3, 'total_supply': 1000000000000000, 'max_supply': 1000000000000000, 'ath': 2.59e-06, 'ath_change_percentage': -93.67627, 'ath_date': '2021-10-30T20:39:32.727Z', 'atl': 1.7563e-08, 'atl_change_percentage': 833.87068, 'atl_date': '2021-04-23T06:09:26.872Z', 'roi': None, 'last_updated': '2023-12-02T11:48:00.100Z', 'price_change_percentage_24h_in_currency': 0.5021953750652659}, {'id': 'humans-ai', 'symbol': 'heart', 'name': 'Humans.ai', 'image': 'https://assets.coingecko.com/coins/images/21273/large/h_logo_1x.png?1696520644', 'current_price': 0.01758218, 'market_cap': 89988069, 'market_cap_rank': 357, 'fully_diluted_valuation': 137072458, 'total_volume': 111213, 'high_24h': 0.01819384, 'low_24h': 0.01711512, 'price_change_24h': -0.000445844312152107, 'price_change_percentage_24h': -2.47306, 'market_cap_change_24h': -2280023.2079707384, 'market_cap_change_percentage_24h': -2.47109, 'circulating_supply': 5120700000, 'total_supply': 7800000000, 'max_supply': 7800000000, 'ath': 0.278557, 'ath_change_percentage': -93.69971, 'ath_date': '2021-12-26T18:32:54.961Z', 'atl': 0.00370636, 'atl_change_percentage': 373.50789, 'atl_date': '2022-12-18T06:41:04.832Z', 'roi': None, 'last_updated': '2023-12-02T11:47:50.399Z', 'price_change_percentage_24h_in_currency': -2.4730630624625474}, {'id': 'kinesis-silver', 'symbol': 'kag', 'name': 'Kinesis Silver', 'image': 'https://assets.coingecko.com/coins/images/29789/large/kag-currency-ticker.png?1696528719', 'current_price': 25.57, 'market_cap': 89593879, 'market_cap_rank': 358, 'fully_diluted_valuation': None, 'total_volume': 80018, 'high_24h': 25.58, 'low_24h': 25.13, 'price_change_24h': 0.169961, 'price_change_percentage_24h': 0.66921, 'market_cap_change_24h': 501550, 'market_cap_change_percentage_24h': 0.56296, 'circulating_supply': 3505879.7146, 'total_supply': 3046325, 'max_supply': None, 'ath': 27.75, 'ath_change_percentage': -7.89841, 'ath_date': '2023-04-16T21:03:32.945Z', 'atl': 20.83, 'atl_change_percentage': 22.72823, 'atl_date': '2023-10-03T02:46:27.845Z', 'roi': None, 'last_updated': '2023-12-02T11:47:56.975Z', 'price_change_percentage_24h_in_currency': 0.6692077553122109}, {'id': 'coredaoorg', 'symbol': 'core', 'name': 'Core', 'image': 'https://assets.coingecko.com/coins/images/28938/large/coredao.png?1696527912', 'current_price': 0.501371, 'market_cap': 89517509, 'market_cap_rank': 359, 'fully_diluted_valuation': 1051450281, 'total_volume': 18864321, 'high_24h': 0.505129, 'low_24h': 0.493207, 'price_change_24h': 0.00355874, 'price_change_percentage_24h': 0.71488, 'market_cap_change_24h': 606239, 'market_cap_change_percentage_24h': 0.68185, 'circulating_supply': 178788071.716499, 'total_supply': 2100000000, 'max_supply': 2100000000, 'ath': 6.14, 'ath_change_percentage': -91.84112, 'ath_date': '2023-02-08T12:55:39.828Z', 'atl': 0.334237, 'atl_change_percentage': 49.96879, 'atl_date': '2023-11-03T01:20:55.441Z', 'roi': None, 'last_updated': '2023-12-02T11:48:01.455Z', 'price_change_percentage_24h_in_currency': 0.7148773166408193}, {'id': 'storm', 'symbol': 'stmx', 'name': 'StormX', 'image': 'https://assets.coingecko.com/coins/images/1369/large/StormX.png?1696502427', 'current_price': 0.00807026, 'market_cap': 89110427, 'market_cap_rank': 360, 'fully_diluted_valuation': 101261849, 'total_volume': 9317867, 'high_24h': 0.00827381, 'low_24h': 0.00787593, 'price_change_24h': 0.0001515, 'price_change_percentage_24h': 1.91324, 'market_cap_change_24h': 1004929, 'market_cap_change_percentage_24h': 1.1406, 'circulating_supply': 11000000000, 'total_supply': 12500000000, 'max_supply': 12500000000, 'ath': 0.165032, 'ath_change_percentage': -95.09282, 'ath_date': '2018-01-05T00:00:00.000Z', 'atl': 0.00057665, 'atl_change_percentage': 1304.3932, 'atl_date': '2020-03-13T02:24:13.443Z', 'roi': {'times': -0.1929740695484365, 'currency': 'usd', 'percentage': -19.29740695484365}, 'last_updated': '2023-12-02T11:48:01.824Z', 'price_change_percentage_24h_in_currency': 1.9132365596194099}, {'id': 'civic', 'symbol': 'cvc', 'name': 'Civic', 'image': 'https://assets.coingecko.com/coins/images/788/large/civic-orange.png?1696501939', 'current_price': 0.110996, 'market_cap': 88968826, 'market_cap_rank': 361, 'fully_diluted_valuation': 110933697, 'total_volume': 1820487, 'high_24h': 0.111426, 'low_24h': 0.108246, 'price_change_24h': 0.00193005, 'price_change_percentage_24h': 1.76962, 'market_cap_change_24h': 1471947, 'market_cap_change_percentage_24h': 1.68229, 'circulating_supply': 802000010, 'total_supply': 1000000000, 'max_supply': None, 'ath': 1.35, 'ath_change_percentage': -91.77503, 'ath_date': '2018-01-03T00:00:00.000Z', 'atl': 0.01102541, 'atl_change_percentage': 906.15276, 'atl_date': '2020-03-13T02:15:34.328Z', 'roi': {'times': 0.109959869619806, 'currency': 'usd', 'percentage': 10.9959869619806}, 'last_updated': '2023-12-02T11:47:53.786Z', 'price_change_percentage_24h_in_currency': 1.769616697110073}, {'id': 'zephyr-protocol', 'symbol': 'zeph', 'name': 'Zephyr Protocol', 'image': 'https://assets.coingecko.com/coins/images/30865/large/ZephyrLogo200x200.png?1696529712', 'current_price': 35.7, 'market_cap': 88824510, 'market_cap_rank': 362, 'fully_diluted_valuation': 88824510, 'total_volume': 3160079, 'high_24h': 40.96, 'low_24h': 33.65, 'price_change_24h': -0.3124356854621695, 'price_change_percentage_24h': -0.86763, 'market_cap_change_24h': 2429478, 'market_cap_change_percentage_24h': 2.81206, 'circulating_supply': 2501069.35499038, 'total_supply': 2501069.35499038, 'max_supply': None, 'ath': 52.31, 'ath_change_percentage': -31.76943, 'ath_date': '2023-11-23T15:50:46.343Z', 'atl': 1.11, 'atl_change_percentage': 3116.9449, 'atl_date': '2023-07-18T18:58:26.273Z', 'roi': None, 'last_updated': '2023-12-02T11:47:45.852Z', 'price_change_percentage_24h_in_currency': -0.8676349890134749}, {'id': 'syscoin', 'symbol': 'sys', 'name': 'Syscoin', 'image': 'https://assets.coingecko.com/coins/images/119/large/Syscoin.png?1696501494', 'current_price': 0.122843, 'market_cap': 88640663, 'market_cap_rank': 363, 'fully_diluted_valuation': 91081287, 'total_volume': 3075700, 'high_24h': 0.124054, 'low_24h': 0.118578, 'price_change_24h': 0.00112748, 'price_change_percentage_24h': 0.92633, 'market_cap_change_24h': 743509, 'market_cap_change_percentage_24h': 0.84589, 'circulating_supply': 721496587.768107, 'total_supply': 741362205.014666, 'max_supply': None, 'ath': 1.3, 'ath_change_percentage': -90.56557, 'ath_date': '2022-01-02T04:08:51.334Z', 'atl': 0.00020971, 'atl_change_percentage': 58482.53634, 'atl_date': '2015-02-22T00:00:00.000Z', 'roi': None, 'last_updated': '2023-12-02T11:47:51.660Z', 'price_change_percentage_24h_in_currency': 0.9263299252210079}, {'id': 'unifi-protocol-dao', 'symbol': 'unfi', 'name': 'Unifi Protocol DAO', 'image': 'https://assets.coingecko.com/coins/images/13152/large/logo-2.png?1696512937', 'current_price': 11.56, 'market_cap': 88193274, 'market_cap_rank': 364, 'fully_diluted_valuation': 115440116, 'total_volume': 9646346, 'high_24h': 11.82, 'low_24h': 11.47, 'price_change_24h': -0.05507256357224222, 'price_change_percentage_24h': -0.47423, 'market_cap_change_24h': 985084, 'market_cap_change_percentage_24h': 1.12958, 'circulating_supply': 7639742.3497, 'total_supply': 10000000, 'max_supply': 10000000, 'ath': 43.62, 'ath_change_percentage': -73.53525, 'ath_date': '2021-03-01T05:53:50.326Z', 'atl': 1.36, 'atl_change_percentage': 750.16668, 'atl_date': '2022-05-12T07:21:33.582Z', 'roi': None, 'last_updated': '2023-12-02T11:47:54.569Z', 'price_change_percentage_24h_in_currency': -0.4742303093323302}, {'id': 'sweatcoin', 'symbol': 'sweat', 'name': 'Sweat Economy', 'image': 'https://assets.coingecko.com/coins/images/25057/large/fhD9Xs16_400x400.jpg?1696524208', 'current_price': 0.01137213, 'market_cap': 87816993, 'market_cap_rank': 365, 'fully_diluted_valuation': 248085636, 'total_volume': 485787, 'high_24h': 0.01141571, 'low_24h': 0.01119589, 'price_change_24h': 8.209e-05, 'price_change_percentage_24h': 0.7271, 'market_cap_change_24h': 550678, 'market_cap_change_percentage_24h': 0.63103, 'circulating_supply': 7729779880.09, 'total_supply': 21836859612.753, 'max_supply': None, 'ath': 0.091476, 'ath_change_percentage': -87.57002, 'ath_date': '2022-09-14T13:11:17.309Z', 'atl': 0.00420231, 'atl_change_percentage': 170.57659, 'atl_date': '2023-06-15T13:14:52.216Z', 'roi': None, 'last_updated': '2023-12-02T11:47:36.549Z', 'price_change_percentage_24h_in_currency': 0.727098753925132}, {'id': 'kinesis-gold', 'symbol': 'kau', 'name': 'Kinesis Gold', 'image': 'https://assets.coingecko.com/coins/images/29788/large/kau-currency-ticker.png?1696528718', 'current_price': 66.47, 'market_cap': 87170405, 'market_cap_rank': 366, 'fully_diluted_valuation': None, 'total_volume': 625067, 'high_24h': 66.75, 'low_24h': 65.37, 'price_change_24h': 0.853456, 'price_change_percentage_24h': 1.30062, 'market_cap_change_24h': 968987, 'market_cap_change_percentage_24h': 1.1241, 'circulating_supply': 1311720.3706, 'total_supply': 1214963, 'max_supply': None, 'ath': 99.98, 'ath_change_percentage': -33.52791, 'ath_date': '2023-04-16T21:00:27.925Z', 'atl': 44.06, 'atl_change_percentage': 50.85049, 'atl_date': '2023-04-21T21:02:50.248Z', 'roi': None, 'last_updated': '2023-12-02T11:47:56.939Z', 'price_change_percentage_24h_in_currency': 1.3006195149526212}, {'id': 'harrypotterobamasonic10in', 'symbol': 'bitcoin', 'name': 'HarryPotterObamaSonic10Inu (ETH)', 'image': 'https://assets.coingecko.com/coins/images/30323/large/hpos10i_logo_casino_night-dexview.png?1696529224', 'current_price': 0.090884, 'market_cap': 87151578, 'market_cap_rank': 367, 'fully_diluted_valuation': 87151578, 'total_volume': 134957, 'high_24h': 0.099845, 'low_24h': 0.085395, 'price_change_24h': -0.004405417894568193, 'price_change_percentage_24h': -4.62321, 'market_cap_change_24h': -7714026.7370732725, 'market_cap_change_percentage_24h': -8.13153, 'circulating_supply': 999798155, 'total_supply': 999798155, 'max_supply': 1000000000, 'ath': 0.196317, 'ath_change_percentage': -53.71576, 'ath_date': '2023-08-20T18:54:54.704Z', 'atl': 0.00066337, 'atl_change_percentage': 13597.40089, 'atl_date': '2023-05-31T23:11:46.784Z', 'roi': None, 'last_updated': '2023-12-02T11:47:36.070Z', 'price_change_percentage_24h_in_currency': -4.6232085119841715}, {'id': 'stader-maticx', 'symbol': 'maticx', 'name': 'Stader MaticX', 'image': 'https://assets.coingecko.com/coins/images/25383/large/maticx.png?1696524516', 'current_price': 0.882757, 'market_cap': 86284784, 'market_cap_rank': 368, 'fully_diluted_valuation': 86284784, 'total_volume': 221628, 'high_24h': 0.894378, 'low_24h': 0.84605, 'price_change_24h': 0.032838, 'price_change_percentage_24h': 3.86366, 'market_cap_change_24h': 2840248, 'market_cap_change_percentage_24h': 3.40376, 'circulating_supply': 97933249.9312176, 'total_supply': 97933249.9312176, 'max_supply': 10000000000, 'ath': 2.07, 'ath_change_percentage': -57.31535, 'ath_date': '2022-12-09T12:04:25.618Z', 'atl': 0.271451, 'atl_change_percentage': 225.12629, 'atl_date': '2022-06-19T14:10:13.733Z', 'roi': None, 'last_updated': '2023-12-02T11:47:18.599Z', 'price_change_percentage_24h_in_currency': 3.863664792231426}, {'id': 'celer-network', 'symbol': 'celr', 'name': 'Celer Network', 'image': 'https://assets.coingecko.com/coins/images/4379/large/Celr.png?1696504978', 'current_price': 0.0152345, 'market_cap': 85808729, 'market_cap_rank': 369, 'fully_diluted_valuation': 151996127, 'total_volume': 4320670, 'high_24h': 0.01532486, 'low_24h': 0.01465016, 'price_change_24h': 0.0004199, 'price_change_percentage_24h': 2.83438, 'market_cap_change_24h': 1911526, 'market_cap_change_percentage_24h': 2.27841, 'circulating_supply': 5645454935.82688, 'total_supply': 10000000000, 'max_supply': 10000000000, 'ath': 0.194843, 'ath_change_percentage': -92.19952, 'ath_date': '2021-09-26T06:49:04.741Z', 'atl': 0.00095575, 'atl_change_percentage': 1490.24703, 'atl_date': '2020-03-13T02:24:17.287Z', 'roi': {'times': 1.2738063568744866, 'currency': 'usd', 'percentage': 127.38063568744866}, 'last_updated': '2023-12-02T11:47:55.439Z', 'price_change_percentage_24h_in_currency': 2.8343801363466588}, {'id': 'wrapped-nxm', 'symbol': 'wnxm', 'name': 'Wrapped NXM', 'image': 'https://assets.coingecko.com/coins/images/11890/large/wNXM.png?1696511757', 'current_price': 43.35, 'market_cap': 85290429, 'market_cap_rank': 370, 'fully_diluted_valuation': 85290429, 'total_volume': 1679564, 'high_24h': 43.48, 'low_24h': 42.3, 'price_change_24h': 0.577672, 'price_change_percentage_24h': 1.35055, 'market_cap_change_24h': -2086720.266873017, 'market_cap_change_percentage_24h': -2.38818, 'circulating_supply': 1967673.00211994, 'total_supply': 1967673.00211994, 'max_supply': 1967673.00211994, 'ath': 130.82, 'ath_change_percentage': -66.87185, 'ath_date': '2021-05-12T18:40:13.935Z', 'atl': 7.78, 'atl_change_percentage': 457.08977, 'atl_date': '2022-12-30T15:13:07.616Z', 'roi': None, 'last_updated': '2023-12-02T11:47:49.078Z', 'price_change_percentage_24h_in_currency': 1.350552395494874}, {'id': 'agoric', 'symbol': 'bld', 'name': 'Agoric', 'image': 'https://assets.coingecko.com/coins/images/24487/large/agoric_bld_logo.png?1696523668', 'current_price': 0.130915, 'market_cap': 84875080, 'market_cap_rank': 371, 'fully_diluted_valuation': 138422954, 'total_volume': 47991, 'high_24h': 0.130892, 'low_24h': 0.110388, 'price_change_24h': 0.00307018, 'price_change_percentage_24h': 2.4015, 'market_cap_change_24h': 4612907, 'market_cap_change_percentage_24h': 5.7473, 'circulating_supply': 649174961.130762, 'total_supply': 1058740869.85921, 'max_supply': None, 'ath': 0.751177, 'ath_change_percentage': -82.57512, 'ath_date': '2022-08-30T10:50:09.443Z', 'atl': 0.07885, 'atl_change_percentage': 66.00187, 'atl_date': '2023-10-21T17:50:25.944Z', 'roi': None, 'last_updated': '2023-12-02T11:47:55.433Z', 'price_change_percentage_24h_in_currency': 2.4014984386120144}, {'id': 'myria', 'symbol': 'myria', 'name': 'Myria', 'image': 'https://assets.coingecko.com/coins/images/29273/large/myria.png?1696528226', 'current_price': 0.00960115, 'market_cap': 84515357, 'market_cap_rank': 372, 'fully_diluted_valuation': 480905077, 'total_volume': 3558358, 'high_24h': 0.01000006, 'low_24h': 0.00910895, 'price_change_24h': -0.000149570820042057, 'price_change_percentage_24h': -1.53395, 'market_cap_change_24h': -1221943.8422531784, 'market_cap_change_percentage_24h': -1.42522, 'circulating_supply': 8787114230.47969, 'total_supply': 50000000000, 'max_supply': 50000000000, 'ath': 0.0119689, 'ath_change_percentage': -19.88755, 'ath_date': '2023-11-29T06:10:02.847Z', 'atl': 0.00117078, 'atl_change_percentage': 718.98806, 'atl_date': '2023-07-20T23:54:14.340Z', 'roi': None, 'last_updated': '2023-12-02T11:47:28.316Z', 'price_change_percentage_24h_in_currency': -1.533945979471411}, {'id': 'aergo', 'symbol': 'aergo', 'name': 'Aergo', 'image': 'https://assets.coingecko.com/coins/images/4490/large/aergo.png?1696505079', 'current_price': 0.188558, 'market_cap': 83714305, 'market_cap_rank': 373, 'fully_diluted_valuation': 94061017, 'total_volume': 4073993, 'high_24h': 0.194237, 'low_24h': 0.181413, 'price_change_24h': 0.00615524, 'price_change_percentage_24h': 3.37454, 'market_cap_change_24h': 2827651, 'market_cap_change_percentage_24h': 3.49582, 'circulating_supply': 444999999.7589212, 'total_supply': 500000000, 'max_supply': 500000000, 'ath': 0.572482, 'ath_change_percentage': -67.1401, 'ath_date': '2021-04-10T02:04:45.195Z', 'atl': 0.01354723, 'atl_change_percentage': 1288.60018, 'atl_date': '2020-03-13T02:29:18.974Z', 'roi': {'times': -0.0572121210557855, 'currency': 'usd', 'percentage': -5.72121210557855}, 'last_updated': '2023-12-02T11:47:58.932Z', 'price_change_percentage_24h_in_currency': 3.3745409198063903}, {'id': 'gelato', 'symbol': 'gel', 'name': 'Gelato', 'image': 'https://assets.coingecko.com/coins/images/15026/large/Gelato_Icon_Logo_1024x1024.png?1696514687', 'current_price': 0.367785, 'market_cap': 83592210, 'market_cap_rank': 374, 'fully_diluted_valuation': 154799541, 'total_volume': 59157, 'high_24h': 0.38091, 'low_24h': 0.353477, 'price_change_24h': 0.01334926, 'price_change_percentage_24h': 3.76634, 'market_cap_change_24h': 3179118, 'market_cap_change_percentage_24h': 3.95348, 'circulating_supply': 227173846.0127236, 'total_supply': 420690000, 'max_supply': 420690000, 'ath': 4.21, 'ath_change_percentage': -91.24949, 'ath_date': '2021-11-30T04:32:06.012Z', 'atl': 0.118108, 'atl_change_percentage': 211.54603, 'atl_date': '2023-01-07T00:40:50.196Z', 'roi': None, 'last_updated': '2023-12-02T11:47:49.686Z', 'price_change_percentage_24h_in_currency': 3.766336433744573}, {'id': 'arkham', 'symbol': 'arkm', 'name': 'Arkham', 'image': 'https://assets.coingecko.com/coins/images/30929/large/Arkham_Logo_CG.png?1696529771', 'current_price': 0.492121, 'market_cap': 83517389, 'market_cap_rank': 375, 'fully_diluted_valuation': 489838056, 'total_volume': 7455149, 'high_24h': 0.490388, 'low_24h': 0.456582, 'price_change_24h': 0.0272878, 'price_change_percentage_24h': 5.87045, 'market_cap_change_24h': 4287630, 'market_cap_change_percentage_24h': 5.41164, 'circulating_supply': 170500000, 'total_supply': 1000000000, 'max_supply': 1000000000, 'ath': 0.797613, 'ath_change_percentage': -38.4512, 'ath_date': '2023-07-18T12:11:16.102Z', 'atl': 0.287824, 'atl_change_percentage': 70.56307, 'atl_date': '2023-10-19T02:00:13.308Z', 'roi': None, 'last_updated': '2023-12-02T11:48:01.038Z', 'price_change_percentage_24h_in_currency': 5.870450647814196}, {'id': 'stader-ethx', 'symbol': 'ethx', 'name': 'Stader ETHx', 'image': 'https://assets.coingecko.com/coins/images/30870/large/staderx.png?1696529717', 'current_price': 2106.19, 'market_cap': 83447644, 'market_cap_rank': 376, 'fully_diluted_valuation': 83447644, 'total_volume': 1941.72, 'high_24h': 2135.62, 'low_24h': 2105.56, 'price_change_24h': -14.581726991820688, 'price_change_percentage_24h': -0.68757, 'market_cap_change_24h': -667635.2335699201, 'market_cap_change_percentage_24h': -0.79371, 'circulating_supply': 39632.0415960431, 'total_supply': 39632.0415960431, 'max_supply': None, 'ath': 2156.49, 'ath_change_percentage': -2.33581, 'ath_date': '2023-11-24T16:10:06.740Z', 'atl': 1537.24, 'atl_change_percentage': 37.00623, 'atl_date': '2023-10-12T17:37:32.660Z', 'roi': None, 'last_updated': '2023-12-02T11:47:59.145Z', 'price_change_percentage_24h_in_currency': -0.687568613502217}, {'id': 'prometeus', 'symbol': 'prom', 'name': 'Prom', 'image': 'https://assets.coingecko.com/coins/images/8825/large/Ticker.png?1696508978', 'current_price': 4.54, 'market_cap': 82844485, 'market_cap_rank': 377, 'fully_diluted_valuation': 87383909, 'total_volume': 1388256, 'high_24h': 4.56, 'low_24h': 4.5, 'price_change_24h': -0.00825161876159708, 'price_change_percentage_24h': -0.18138, 'market_cap_change_24h': -80923.27792929113, 'market_cap_change_percentage_24h': -0.09759, 'circulating_supply': 18250000, 'total_supply': 19250000, 'max_supply': 19250000, 'ath': 105.94, 'ath_change_percentage': -95.71496, 'ath_date': '2021-04-30T01:09:49.503Z', 'atl': 0.088747, 'atl_change_percentage': 5015.02187, 'atl_date': '2019-11-08T13:37:42.508Z', 'roi': {'times': 3.540988805951731, 'currency': 'usd', 'percentage': 354.0988805951731}, 'last_updated': '2023-12-02T11:47:57.606Z', 'price_change_percentage_24h_in_currency': -0.18138453876323887}, {'id': 'superrare', 'symbol': 'rare', 'name': 'SuperRare', 'image': 'https://assets.coingecko.com/coins/images/17753/large/RARE.jpg?1696517279', 'current_price': 0.128417, 'market_cap': 82751199, 'market_cap_rank': 378, 'fully_diluted_valuation': 128628574, 'total_volume': 12143012, 'high_24h': 0.129151, 'low_24h': 0.118287, 'price_change_24h': 0.0042278, 'price_change_percentage_24h': 3.40433, 'market_cap_change_24h': 2804063, 'market_cap_change_percentage_24h': 3.5074, 'circulating_supply': 643334498.673, 'total_supply': 1000000000, 'max_supply': 1000000000, 'ath': 3.64, 'ath_change_percentage': -96.47352, 'ath_date': '2021-10-11T06:31:17.858Z', 'atl': 0.051224, 'atl_change_percentage': 150.68571, 'atl_date': '2023-10-19T06:35:40.919Z', 'roi': None, 'last_updated': '2023-12-02T11:47:59.727Z', 'price_change_percentage_24h_in_currency': 3.4043297007875055}, {'id': 'dodo', 'symbol': 'dodo', 'name': 'DODO', 'image': 'https://assets.coingecko.com/coins/images/12651/large/dodo_logo.png?1696512458', 'current_price': 0.134479, 'market_cap': 82555023, 'market_cap_rank': 379, 'fully_diluted_valuation': 133780563, 'total_volume': 11269494, 'high_24h': 0.134898, 'low_24h': 0.131156, 'price_change_24h': 0.00136357, 'price_change_percentage_24h': 1.02435, 'market_cap_change_24h': 584278, 'market_cap_change_percentage_24h': 0.71279, 'circulating_supply': 614617713.35, 'total_supply': 995989104.366833, 'max_supply': 1000000000, 'ath': 8.38, 'ath_change_percentage': -98.39626, 'ath_date': '2021-02-20T09:19:28.624Z', 'atl': 0.080974, 'atl_change_percentage': 65.91175, 'atl_date': '2023-06-10T14:15:17.108Z', 'roi': None, 'last_updated': '2023-12-02T11:47:58.842Z', 'price_change_percentage_24h_in_currency': 1.0243521728117027}, {'id': 'dent', 'symbol': 'dent', 'name': 'Dent', 'image': 'https://assets.coingecko.com/coins/images/1152/large/gLCEA2G.png?1696502243', 'current_price': 0.00086273, 'market_cap': 82440019, 'market_cap_rank': 380, 'fully_diluted_valuation': 86184781, 'total_volume': 2439923, 'high_24h': 0.0008719, 'low_24h': 0.00084889, 'price_change_24h': 1.294e-05, 'price_change_percentage_24h': 1.52269, 'market_cap_change_24h': 1084367, 'market_cap_change_percentage_24h': 1.33287, 'circulating_supply': 95654960452.73587, 'total_supply': 100000000000, 'max_supply': None, 'ath': 0.1006, 'ath_change_percentage': -99.14347, 'ath_date': '2018-01-09T00:00:00.000Z', 'atl': 7.065e-05, 'atl_change_percentage': 1119.64026, 'atl_date': '2020-03-13T02:29:09.754Z', 'roi': {'times': 0.6422590970790636, 'currency': 'eth', 'percentage': 64.22590970790635}, 'last_updated': '2023-12-02T11:48:01.143Z', 'price_change_percentage_24h_in_currency': 1.522690090672212}, {'id': 'verasity', 'symbol': 'vra', 'name': 'Verasity', 'image': 'https://assets.coingecko.com/coins/images/14025/large/VRA.jpg?1696513752', 'current_price': 0.00802534, 'market_cap': 82181571, 'market_cap_rank': 381, 'fully_diluted_valuation': 803782414, 'total_volume': 27700315, 'high_24h': 0.008224, 'low_24h': 0.007563, 'price_change_24h': 0.00040693, 'price_change_percentage_24h': 5.34138, 'market_cap_change_24h': 4165548, 'market_cap_change_percentage_24h': 5.33935, 'circulating_supply': 10249906818, 'total_supply': 100249906818, 'max_supply': 100249906818, 'ath': 0.086208, 'ath_change_percentage': -90.69929, 'ath_date': '2021-11-01T00:04:34.118Z', 'atl': 0.00199511, 'atl_change_percentage': 301.87844, 'atl_date': '2021-02-23T11:58:52.567Z', 'roi': None, 'last_updated': '2023-12-02T11:47:55.432Z', 'price_change_percentage_24h_in_currency': 5.341377638176846}, {'id': 'origin-ether', 'symbol': 'oeth', 'name': 'Origin Ether', 'image': 'https://assets.coingecko.com/coins/images/29733/large/OETH.png?1696528663', 'current_price': 2093.44, 'market_cap': 81809636, 'market_cap_rank': 382, 'fully_diluted_valuation': 81809636, 'total_volume': 467685, 'high_24h': 2103.78, 'low_24h': 2070.55, 'price_change_24h': 7.27, 'price_change_percentage_24h': 0.34849, 'market_cap_change_24h': 161782, 'market_cap_change_percentage_24h': 0.19815, 'circulating_supply': 39085, 'total_supply': 39085, 'max_supply': 39085, 'ath': 2129.29, 'ath_change_percentage': -1.69391, 'ath_date': '2023-11-10T05:07:41.925Z', 'atl': 1523.84, 'atl_change_percentage': 37.36473, 'atl_date': '2023-10-12T17:34:25.450Z', 'roi': None, 'last_updated': '2023-12-02T11:47:58.321Z', 'price_change_percentage_24h_in_currency': 0.34849288687771085}, {'id': 'space-id', 'symbol': 'id', 'name': 'SPACE ID', 'image': 'https://assets.coingecko.com/coins/images/29468/large/sid_token_logo_%28green2%29.png?1696528413', 'current_price': 0.2851, 'market_cap': 81670989, 'market_cap_rank': 383, 'fully_diluted_valuation': 571125798, 'total_volume': 1176228818, 'high_24h': 0.287253, 'low_24h': 0.270977, 'price_change_24h': 0.0113175, 'price_change_percentage_24h': 4.13376, 'market_cap_change_24h': 3004831, 'market_cap_change_percentage_24h': 3.81973, 'circulating_supply': 286000000, 'total_supply': 2000000000, 'max_supply': 2000000000, 'ath': 1.034, 'ath_change_percentage': -72.42415, 'ath_date': '2023-04-17T19:41:12.226Z', 'atl': 0.171112, 'atl_change_percentage': 66.57495, 'atl_date': '2023-10-19T07:20:37.898Z', 'roi': None, 'last_updated': '2023-12-02T11:47:55.603Z', 'price_change_percentage_24h_in_currency': 4.133759329704474}, {'id': 'synapse-2', 'symbol': 'syn', 'name': 'Synapse', 'image': 'https://assets.coingecko.com/coins/images/18024/large/synapse_social_icon.png?1696517540', 'current_price': 0.429397, 'market_cap': 81594620, 'market_cap_rank': 384, 'fully_diluted_valuation': 79358706, 'total_volume': 6229389, 'high_24h': 0.447719, 'low_24h': 0.428433, 'price_change_24h': -0.009927064892261197, 'price_change_percentage_24h': -2.25962, 'market_cap_change_24h': -1985946.0063875765, 'market_cap_change_percentage_24h': -2.37609, 'circulating_supply': 190117588.881215, 'total_supply': 184907850, 'max_supply': 250000000, 'ath': 4.92, 'ath_change_percentage': -91.26985, 'ath_date': '2021-10-24T00:24:41.805Z', 'atl': 0.268266, 'atl_change_percentage': 59.96223, 'atl_date': '2023-10-09T17:35:08.081Z', 'roi': None, 'last_updated': '2023-12-02T11:47:59.972Z', 'price_change_percentage_24h_in_currency': -2.2596227357310745}, {'id': 'hunt-token', 'symbol': 'hunt', 'name': 'Hunt', 'image': 'https://assets.coingecko.com/coins/images/7989/large/HUNT.png?1696508215', 'current_price': 0.408156, 'market_cap': 81299760, 'market_cap_rank': 385, 'fully_diluted_valuation': 81299760, 'total_volume': 2758369, 'high_24h': 0.409958, 'low_24h': 0.400007, 'price_change_24h': 0.00341663, 'price_change_percentage_24h': 0.84416, 'market_cap_change_24h': 814998, 'market_cap_change_percentage_24h': 1.01261, 'circulating_supply': 198912688, 'total_supply': 198912688, 'max_supply': 198912688, 'ath': 1.46, 'ath_change_percentage': -72.04709, 'ath_date': '2021-11-28T00:34:47.091Z', 'atl': 0.00039817, 'atl_change_percentage': 102551.64556, 'atl_date': '2020-04-25T10:36:47.549Z', 'roi': {'times': 19.40777720335745, 'currency': 'usd', 'percentage': 1940.777720335745}, 'last_updated': '2023-12-02T11:47:55.578Z', 'price_change_percentage_24h_in_currency': 0.8441565923700899}, {'id': 'alpha-finance', 'symbol': 'alpha', 'name': 'Stella', 'image': 'https://assets.coingecko.com/coins/images/12738/large/Stella200x200-06.png?1696512537', 'current_price': 0.096197, 'market_cap': 81206680, 'market_cap_rank': 386, 'fully_diluted_valuation': 95988983, 'total_volume': 2944697, 'high_24h': 0.097039, 'low_24h': 0.09463, 'price_change_24h': -0.000409131974419996, 'price_change_percentage_24h': -0.42351, 'market_cap_change_24h': -431785.75189079344, 'market_cap_change_percentage_24h': -0.5289, 'circulating_supply': 846000000, 'total_supply': 1000000000, 'max_supply': 1000000000, 'ath': 2.93, 'ath_change_percentage': -96.71778, 'ath_date': '2021-02-05T16:37:55.153Z', 'atl': 0.02635756, 'atl_change_percentage': 264.48145, 'atl_date': '2020-11-03T04:33:55.723Z', 'roi': None, 'last_updated': '2023-12-02T11:47:54.294Z', 'price_change_percentage_24h_in_currency': -0.42350557996965355}, {'id': 'metadium', 'symbol': 'meta', 'name': 'Metadium', 'image': 'https://assets.coingecko.com/coins/images/5247/large/META_Logo_black.png?1696505751', 'current_price': 0.04753585, 'market_cap': 80961631, 'market_cap_rank': 387, 'fully_diluted_valuation': 95047214, 'total_volume': 5042543, 'high_24h': 0.04819028, 'low_24h': 0.04649212, 'price_change_24h': 0.00020463, 'price_change_percentage_24h': 0.43233, 'market_cap_change_24h': 69764, 'market_cap_change_percentage_24h': 0.08624, 'circulating_supply': 1703608720, 'total_supply': 2000000000, 'max_supply': 2000000000, 'ath': 0.452667, 'ath_change_percentage': -89.50141, 'ath_date': '2021-04-01T01:24:04.623Z', 'atl': 0.00295026, 'atl_change_percentage': 1510.82832, 'atl_date': '2020-03-13T02:24:18.338Z', 'roi': {'times': -0.808297621015004, 'currency': 'eth', 'percentage': -80.8297621015004}, 'last_updated': '2023-12-02T11:47:53.025Z', 'price_change_percentage_24h_in_currency': 0.43233344018884756}, {'id': 'hifi-finance', 'symbol': 'hifi', 'name': 'Hifi Finance', 'image': 'https://assets.coingecko.com/coins/images/28712/large/hft.png?1696527693', 'current_price': 0.74613, 'market_cap': 80593655, 'market_cap_rank': 388, 'fully_diluted_valuation': 89876187, 'total_volume': 5368334, 'high_24h': 0.746557, 'low_24h': 0.720535, 'price_change_24h': 0.02041288, 'price_change_percentage_24h': 2.81279, 'market_cap_change_24h': 2107108, 'market_cap_change_percentage_24h': 2.68467, 'circulating_supply': 108089249.223167, 'total_supply': 120538639.693978, 'max_supply': None, 'ath': 2.63, 'ath_change_percentage': -71.59565, 'ath_date': '2023-09-16T16:00:16.674Z', 'atl': 0.251847, 'atl_change_percentage': 196.19046, 'atl_date': '2023-06-15T09:19:33.390Z', 'roi': None, 'last_updated': '2023-12-02T11:47:58.181Z', 'price_change_percentage_24h_in_currency': 2.812789216855707}, {'id': 'vitadao', 'symbol': 'vita', 'name': 'VitaDAO', 'image': 'https://assets.coingecko.com/coins/images/16580/large/QmRjwywiAfpzSfQTuWM3zCTghSHN7G6ohQaar7Ht6WANUp.png?1696516140', 'current_price': 3.37, 'market_cap': 80380460, 'market_cap_rank': 389, 'fully_diluted_valuation': 86800028, 'total_volume': 531523, 'high_24h': 3.4, 'low_24h': 3.21, 'price_change_24h': 0.086977, 'price_change_percentage_24h': 2.6462, 'market_cap_change_24h': 1934970, 'market_cap_change_percentage_24h': 2.46664, 'circulating_supply': 23817382.035323124, 'total_supply': 25719552, 'max_supply': 64298880, 'ath': 4.34, 'ath_change_percentage': -22.25665, 'ath_date': '2021-12-25T21:44:55.764Z', 'atl': 0, 'atl_change_percentage': 1.1522895931153398e+29, 'atl_date': '2021-12-13T10:32:39.011Z', 'roi': None, 'last_updated': '2023-12-02T11:47:40.658Z', 'price_change_percentage_24h_in_currency': 2.6462017132319366}, {'id': 'radicle', 'symbol': 'rad', 'name': 'Radworks', 'image': 'https://assets.coingecko.com/coins/images/14013/large/radicle.png?1696513741', 'current_price': 1.61, 'market_cap': 80162868, 'market_cap_rank': 390, 'fully_diluted_valuation': 160873291, 'total_volume': 4511353, 'high_24h': 1.62, 'low_24h': 1.57, 'price_change_24h': 0.03746071, 'price_change_percentage_24h': 2.38132, 'market_cap_change_24h': 1708251, 'market_cap_change_percentage_24h': 2.17737, 'circulating_supply': 49829110.566345654, 'total_supply': 99998580, 'max_supply': 100000000, 'ath': 27.61, 'ath_change_percentage': -94.17092, 'ath_date': '2021-04-15T23:53:08.210Z', 'atl': 1.2, 'atl_change_percentage': 33.57652, 'atl_date': '2023-08-17T21:46:20.594Z', 'roi': None, 'last_updated': '2023-12-02T11:47:59.235Z', 'price_change_percentage_24h_in_currency': 2.3813187738928776}, {'id': 'auction', 'symbol': 'auction', 'name': 'Bounce', 'image': 'https://assets.coingecko.com/coins/images/13860/large/1_KtgpRIJzuwfHe0Rl0avP_g.jpeg?1696513606', 'current_price': 12.29, 'market_cap': 80106800, 'market_cap_rank': 391, 'fully_diluted_valuation': 94163984, 'total_volume': 11274359, 'high_24h': 12.78, 'low_24h': 12.1, 'price_change_24h': -0.27198454141907114, 'price_change_percentage_24h': -2.16429, 'market_cap_change_24h': -3003964.2449116856, 'market_cap_change_percentage_24h': -3.61441, 'circulating_supply': 6500020.1204956, 'total_supply': 7640647.1204956, 'max_supply': 10000000, 'ath': 70.44, 'ath_change_percentage': -82.49975, 'ath_date': '2021-04-12T04:15:39.424Z', 'atl': 3.47, 'atl_change_percentage': 255.32486, 'atl_date': '2023-06-15T13:00:07.095Z', 'roi': None, 'last_updated': '2023-12-02T11:47:58.154Z', 'price_change_percentage_24h_in_currency': -2.164286472430392}, {'id': 'chromaway', 'symbol': 'chr', 'name': 'Chromia', 'image': 'https://assets.coingecko.com/coins/images/5000/large/Chromia.png?1696505533', 'current_price': 0.137027, 'market_cap': 79792080, 'market_cap_rank': 392, 'fully_diluted_valuation': 79792080, 'total_volume': 6059671, 'high_24h': 0.140723, 'low_24h': 0.134478, 'price_change_24h': -0.000783622943958284, 'price_change_percentage_24h': -0.56862, 'market_cap_change_24h': -526820.586641103, 'market_cap_change_percentage_24h': -0.65591, 'circulating_supply': 582296409.423021, 'total_supply': 582296409.423021, 'max_supply': 1000000000, 'ath': 1.49, 'ath_change_percentage': -90.80643, 'ath_date': '2021-11-20T09:59:59.379Z', 'atl': 0.00874003, 'atl_change_percentage': 1467.92054, 'atl_date': '2020-03-13T02:25:03.256Z', 'roi': {'times': 1.740547331950186, 'currency': 'usd', 'percentage': 174.0547331950186}, 'last_updated': '2023-12-02T11:47:54.399Z', 'price_change_percentage_24h_in_currency': -0.5686215203632151}, {'id': 'badger-dao', 'symbol': 'badger', 'name': 'Badger', 'image': 'https://assets.coingecko.com/coins/images/13287/large/badger_dao_logo.jpg?1696513059', 'current_price': 3.99, 'market_cap': 79589090, 'market_cap_rank': 393, 'fully_diluted_valuation': 83859243, 'total_volume': 26745424, 'high_24h': 4.23, 'low_24h': 3.63, 'price_change_24h': 0.299269, 'price_change_percentage_24h': 8.10601, 'market_cap_change_24h': 5749449, 'market_cap_change_percentage_24h': 7.7864, 'circulating_supply': 19930669.912362073, 'total_supply': 21000000, 'max_supply': 21000000, 'ath': 89.08, 'ath_change_percentage': -95.52164, 'ath_date': '2021-02-09T01:03:21.398Z', 'atl': 1.83, 'atl_change_percentage': 117.56154, 'atl_date': '2023-06-10T04:30:39.245Z', 'roi': None, 'last_updated': '2023-12-02T11:47:59.172Z', 'price_change_percentage_24h_in_currency': 8.106010701482932}, {'id': 'tenset', 'symbol': '10set', 'name': 'Tenset', 'image': 'https://assets.coingecko.com/coins/images/14629/large/PNG_Tenset_Sign-back_RGB.png?1696514307', 'current_price': 0.472004, 'market_cap': 79281228, 'market_cap_rank': 394, 'fully_diluted_valuation': 79281233, 'total_volume': 457748, 'high_24h': 0.477785, 'low_24h': 0.453274, 'price_change_24h': -0.000105866028601354, 'price_change_percentage_24h': -0.02242, 'market_cap_change_24h': 109271, 'market_cap_change_percentage_24h': 0.13802, 'circulating_supply': 167306761.1, 'total_supply': 167306771.1, 'max_supply': 167306771.1, 'ath': 6.48, 'ath_change_percentage': -92.7198, 'ath_date': '2021-05-30T05:40:19.103Z', 'atl': 0.152935, 'atl_change_percentage': 208.32894, 'atl_date': '2023-10-09T23:29:50.467Z', 'roi': None, 'last_updated': '2023-12-02T11:47:43.245Z', 'price_change_percentage_24h_in_currency': -0.02242402292481993}, {'id': 'hxro', 'symbol': 'hxro', 'name': 'HXRO', 'image': 'https://assets.coingecko.com/coins/images/7805/large/X_3D_Black_%2810%29.png?1696508044', 'current_price': 0.129113, 'market_cap': 78662640, 'market_cap_rank': 395, 'fully_diluted_valuation': 128873662, 'total_volume': 3201.45, 'high_24h': 0.134053, 'low_24h': 0.126808, 'price_change_24h': -0.004231783770315023, 'price_change_percentage_24h': -3.17357, 'market_cap_change_24h': -2935189.1988635063, 'market_cap_change_percentage_24h': -3.59714, 'circulating_supply': 610385692.0535563, 'total_supply': 1000000000, 'max_supply': None, 'ath': 0.800981, 'ath_change_percentage': -83.91052, 'ath_date': '2021-06-05T00:59:41.210Z', 'atl': 0.00914678, 'atl_change_percentage': 1308.95164, 'atl_date': '2019-11-10T15:12:15.992Z', 'roi': None, 'last_updated': '2023-12-02T11:47:46.958Z', 'price_change_percentage_24h_in_currency': -3.1735682151897358}, {'id': 'quark-chain', 'symbol': 'qkc', 'name': 'QuarkChain', 'image': 'https://assets.coingecko.com/coins/images/3849/large/quarkchain.png?1696504513', 'current_price': 0.01129148, 'market_cap': 78247612, 'market_cap_rank': 396, 'fully_diluted_valuation': 112981685, 'total_volume': 1632599, 'high_24h': 0.01146755, 'low_24h': 0.01104633, 'price_change_24h': 9.847e-05, 'price_change_percentage_24h': 0.87975, 'market_cap_change_24h': 1245764, 'market_cap_change_percentage_24h': 1.61784, 'circulating_supply': 6925689937, 'total_supply': 10000000000, 'max_supply': None, 'ath': 0.338765, 'ath_change_percentage': -96.66509, 'ath_date': '2018-06-05T02:58:00.874Z', 'atl': 0.00137714, 'atl_change_percentage': 720.35761, 'atl_date': '2020-03-13T02:29:16.944Z', 'roi': {'times': -0.4268283897573117, 'currency': 'usd', 'percentage': -42.682838975731165}, 'last_updated': '2023-12-02T11:47:59.531Z', 'price_change_percentage_24h_in_currency': 0.8797505645522407}, {'id': 'nerve-finance', 'symbol': 'nrv', 'name': 'Nerve Finance', 'image': 'https://assets.coingecko.com/coins/images/14233/large/nerve_finance_logo.png?1696513947', 'current_price': 0.00335617, 'market_cap': 77747624, 'market_cap_rank': 397, 'fully_diluted_valuation': 156256967, 'total_volume': 35814, 'high_24h': 0.00336929, 'low_24h': 0.00326245, 'price_change_24h': 6.711e-05, 'price_change_percentage_24h': 2.04053, 'market_cap_change_24h': -438368.18498294055, 'market_cap_change_percentage_24h': -0.56067, 'circulating_supply': 0, 'total_supply': 141348127.217981, 'max_supply': 141348127.217981, 'ath': 6.65, 'ath_change_percentage': -99.94953, 'ath_date': '2021-05-03T09:18:55.106Z', 'atl': 0.00256517, 'atl_change_percentage': 30.90641, 'atl_date': '2023-11-02T22:59:58.749Z', 'roi': None, 'last_updated': '2023-12-02T11:47:29.613Z', 'price_change_percentage_24h_in_currency': 2.0405255242812266}, {'id': 'maidsafecoin', 'symbol': 'emaid', 'name': 'MaidSafeCoin', 'image': 'https://assets.coingecko.com/coins/images/80/large/maidsafecoin.png?1696501470', 'current_price': 0.174853, 'market_cap': 76302113, 'market_cap_rank': 398, 'fully_diluted_valuation': None, 'total_volume': 97280, 'high_24h': 0.204498, 'low_24h': 0.160717, 'price_change_24h': -0.01485249852272466, 'price_change_percentage_24h': -7.82922, 'market_cap_change_24h': -1855493.4307305813, 'market_cap_change_percentage_24h': -2.37404, 'circulating_supply': 0, 'total_supply': 2304971, 'max_supply': None, 'ath': 1.37, 'ath_change_percentage': -87.29191, 'ath_date': '2021-04-12T14:04:59.247Z', 'atl': 0.00503241, 'atl_change_percentage': 3369.80197, 'atl_date': '2022-12-09T03:15:34.654Z', 'roi': {'times': 4.828448792496527, 'currency': 'usd', 'percentage': 482.84487924965265}, 'last_updated': '2023-12-02T11:47:29.998Z', 'price_change_percentage_24h_in_currency': -7.8292207281410064}, {'id': 'aurory', 'symbol': 'aury', 'name': 'Aurory', 'image': 'https://assets.coingecko.com/coins/images/19324/large/Ico_Blanc.png?1696518766', 'current_price': 1.63, 'market_cap': 75678460, 'market_cap_rank': 399, 'fully_diluted_valuation': 162164127, 'total_volume': 703885, 'high_24h': 1.78, 'low_24h': 1.59, 'price_change_24h': 0.02181242, 'price_change_percentage_24h': 1.35673, 'market_cap_change_24h': 1653909, 'market_cap_change_percentage_24h': 2.23427, 'circulating_supply': 46667818, 'total_supply': 100000000, 'max_supply': 100000000, 'ath': 23.29, 'ath_change_percentage': -93.02889, 'ath_date': '2021-11-08T16:04:04.494Z', 'atl': 0.310679, 'atl_change_percentage': 422.55207, 'atl_date': '2022-11-18T22:18:37.175Z', 'roi': None, 'last_updated': '2023-12-02T11:47:02.907Z', 'price_change_percentage_24h_in_currency': 1.3567324165730568}, {'id': 'rss3', 'symbol': 'rss3', 'name': 'RSS3', 'image': 'https://assets.coingecko.com/coins/images/23575/large/RSS3.png?1696522783', 'current_price': 0.133798, 'market_cap': 74845629, 'market_cap_rank': 400, 'fully_diluted_valuation': 133921949, 'total_volume': 3427605, 'high_24h': 0.13687, 'low_24h': 0.125694, 'price_change_24h': 0.0031623, 'price_change_percentage_24h': 2.4207, 'market_cap_change_24h': 3164540, 'market_cap_change_percentage_24h': 4.41475, 'circulating_supply': 558874999.2221874, 'total_supply': 1000000000, 'max_supply': None, 'ath': 0.687355, 'ath_change_percentage': -80.53182, 'ath_date': '2022-02-15T09:35:01.597Z', 'atl': 0.076611, 'atl_change_percentage': 74.66844, 'atl_date': '2023-10-26T12:10:50.044Z', 'roi': None, 'last_updated': '2023-12-02T11:47:50.555Z', 'price_change_percentage_24h_in_currency': 2.420701764412455}, {'id': 'oraichain-token', 'symbol': 'orai', 'name': 'Oraichain', 'image': 'https://assets.coingecko.com/coins/images/12931/large/orai.png?1696512718', 'current_price': 5.08, 'market_cap': 74729485, 'market_cap_rank': 401, 'fully_diluted_valuation': 86732445, 'total_volume': 4231043, 'high_24h': 5.13, 'low_24h': 4.35, 'price_change_24h': 0.647686, 'price_change_percentage_24h': 14.62204, 'market_cap_change_24h': 9294930, 'market_cap_change_percentage_24h': 14.20493, 'circulating_supply': 14773213.4080171, 'total_supply': 17146069.288569, 'max_supply': 19779272, 'ath': 105.76, 'ath_change_percentage': -95.22715, 'ath_date': '2021-02-19T23:29:50.620Z', 'atl': 0.904237, 'atl_change_percentage': 458.25012, 'atl_date': '2022-11-22T08:41:45.561Z', 'roi': None, 'last_updated': '2023-12-02T11:47:37.173Z', 'price_change_percentage_24h_in_currency': 14.62203790831473}, {'id': 'access-protocol', 'symbol': 'acs', 'name': 'Access Protocol', 'image': 'https://assets.coingecko.com/coins/images/28747/large/dR4FovX4_400x400.jpg?1696527727', 'current_price': 0.00243978, 'market_cap': 74609620, 'market_cap_rank': 402, 'fully_diluted_valuation': 211847986, 'total_volume': 1414698, 'high_24h': 0.00266588, 'low_24h': 0.00243668, 'price_change_24h': -0.00011724052834025, 'price_change_percentage_24h': -4.58504, 'market_cap_change_24h': -4276862.896579742, 'market_cap_change_percentage_24h': -5.42154, 'circulating_supply': 30606774149.6618, 'total_supply': 86905461567.8302, 'max_supply': None, 'ath': 0.02687893, 'ath_change_percentage': -90.92289, 'ath_date': '2023-02-16T01:23:46.316Z', 'atl': 0.0017139, 'atl_change_percentage': 42.35534, 'atl_date': '2023-10-12T16:55:08.065Z', 'roi': None, 'last_updated': '2023-12-02T11:48:00.819Z', 'price_change_percentage_24h_in_currency': -4.585044265742112}, {'id': 'lyra-finance', 'symbol': 'lyra', 'name': 'Lyra Finance', 'image': 'https://assets.coingecko.com/coins/images/21490/large/Add-a-heading-26.png?1696520850', 'current_price': 0.128256, 'market_cap': 74084194, 'market_cap_rank': 403, 'fully_diluted_valuation': 128257937, 'total_volume': 133013, 'high_24h': 0.128258, 'low_24h': 0.120375, 'price_change_24h': 0.00534394, 'price_change_percentage_24h': 4.34775, 'market_cap_change_24h': 3125432, 'market_cap_change_percentage_24h': 4.40457, 'circulating_supply': 577618787.151546, 'total_supply': 1000000000, 'max_supply': 1000000000, 'ath': 0.677963, 'ath_change_percentage': -81.07475, 'ath_date': '2021-12-18T05:18:54.016Z', 'atl': 0.03389914, 'atl_change_percentage': 278.49407, 'atl_date': '2022-06-18T20:52:17.800Z', 'roi': None, 'last_updated': '2023-12-02T11:47:29.823Z', 'price_change_percentage_24h_in_currency': 4.347754635420653}, {'id': 'murasaki', 'symbol': 'mura', 'name': 'Murasaki', 'image': 'https://assets.coingecko.com/coins/images/28570/large/mura.png?1696527558', 'current_price': 1.29, 'market_cap': 73907276, 'market_cap_rank': 404, 'fully_diluted_valuation': 1287583208, 'total_volume': 8303.91, 'high_24h': 1.3, 'low_24h': 1.22, 'price_change_24h': 0.056538, 'price_change_percentage_24h': 4.59467, 'market_cap_change_24h': 3272516, 'market_cap_change_percentage_24h': 4.63301, 'circulating_supply': 57400000, 'total_supply': 1000000000, 'max_supply': 1000000000, 'ath': 3.38, 'ath_change_percentage': -61.88693, 'ath_date': '2023-07-30T07:06:26.402Z', 'atl': 0.234193, 'atl_change_percentage': 449.45548, 'atl_date': '2023-03-21T20:58:36.232Z', 'roi': None, 'last_updated': '2023-12-02T11:47:45.149Z', 'price_change_percentage_24h_in_currency': 4.5946691860043725}, {'id': 'spell-token', 'symbol': 'spell', 'name': 'Spell', 'image': 'https://assets.coingecko.com/coins/images/15861/large/abracadabra-3.png?1696515477', 'current_price': 0.00057834, 'market_cap': 73837704, 'market_cap_rank': 405, 'fully_diluted_valuation': 113173617, 'total_volume': 7275100, 'high_24h': 0.00058204, 'low_24h': 0.00057445, 'price_change_24h': -5.08271138915e-07, 'price_change_percentage_24h': -0.08781, 'market_cap_change_24h': -177253.45940880477, 'market_cap_change_percentage_24h': -0.23948, 'circulating_supply': 127881707057.178, 'total_supply': 196008739620, 'max_supply': 210000000000, 'ath': 0.03506357, 'ath_change_percentage': -98.35255, 'ath_date': '2021-11-02T08:44:42.429Z', 'atl': 0.00029812, 'atl_change_percentage': 93.76354, 'atl_date': '2021-08-05T13:00:27.077Z', 'roi': None, 'last_updated': '2023-12-02T11:47:59.774Z', 'price_change_percentage_24h_in_currency': -0.08780715167988952}, {'id': 'dynex', 'symbol': 'dnx', 'name': 'Dynex', 'image': 'https://assets.coingecko.com/coins/images/27776/large/Transparent_Logo.png?1696526797', 'current_price': 0.946547, 'market_cap': 73817121, 'market_cap_rank': 406, 'fully_diluted_valuation': 73817469, 'total_volume': 1793755, 'high_24h': 0.978382, 'low_24h': 0.902408, 'price_change_24h': -0.026153537850160506, 'price_change_percentage_24h': -2.68875, 'market_cap_change_24h': -2293784.4430108517, 'market_cap_change_percentage_24h': -3.01374, 'circulating_supply': 77883921.7836388, 'total_supply': 77884289.321584, 'max_supply': 110000000, 'ath': 1.39, 'ath_change_percentage': -32.06054, 'ath_date': '2023-11-20T10:39:45.172Z', 'atl': 0.00416084, 'atl_change_percentage': 22641.14555, 'atl_date': '2022-10-19T08:57:45.443Z', 'roi': None, 'last_updated': '2023-12-02T11:47:45.447Z', 'price_change_percentage_24h_in_currency': -2.6887547744857283}, {'id': 'qanplatform', 'symbol': 'qanx', 'name': 'QANplatform', 'image': 'https://assets.coingecko.com/coins/images/15977/large/qanx.png?1696515591', 'current_price': 0.03252573, 'market_cap': 73684124, 'market_cap_rank': 407, 'fully_diluted_valuation': 108330847, 'total_volume': 466312, 'high_24h': 0.03560355, 'low_24h': 0.03194472, 'price_change_24h': -0.001040302391900463, 'price_change_percentage_24h': -3.09927, 'market_cap_change_24h': -2469920.975987792, 'market_cap_change_percentage_24h': -3.24332, 'circulating_supply': 2267255628.84, 'total_supply': 3333333000, 'max_supply': 3333333000, 'ath': 0.203412, 'ath_change_percentage': -84.00969, 'ath_date': '2021-11-27T19:36:50.871Z', 'atl': 0.00011724, 'atl_change_percentage': 27644.26648, 'atl_date': '2023-01-13T15:01:38.815Z', 'roi': None, 'last_updated': '2023-12-02T11:47:43.298Z', 'price_change_percentage_24h_in_currency': -3.0992710010943605}, {'id': 'games-for-a-living', 'symbol': 'gfal', 'name': 'Games for a Living', 'image': 'https://assets.coingecko.com/coins/images/29430/large/token.png?1696528378', 'current_price': 0.04677202, 'market_cap': 73532120, 'market_cap_rank': 408, 'fully_diluted_valuation': 466100820, 'total_volume': 835790, 'high_24h': 0.04727851, 'low_24h': 0.04483864, 'price_change_24h': 0.00031628, 'price_change_percentage_24h': 0.68081, 'market_cap_change_24h': 597474, 'market_cap_change_percentage_24h': 0.81919, 'circulating_supply': 1577601167.8273811, 'total_supply': 10000000000, 'max_supply': 10000000000, 'ath': 0.04804499, 'ath_change_percentage': -2.67207, 'ath_date': '2023-11-29T03:45:08.802Z', 'atl': 0.00451028, 'atl_change_percentage': 936.7691, 'atl_date': '2023-04-13T14:31:28.185Z', 'roi': None, 'last_updated': '2023-12-02T11:47:56.983Z', 'price_change_percentage_24h_in_currency': 0.6808103958478261}, {'id': 'maverick-protocol', 'symbol': 'mav', 'name': 'Maverick Protocol', 'image': 'https://assets.coingecko.com/coins/images/30850/large/MAV_Logo.png?1696529701', 'current_price': 0.295784, 'market_cap': 73512708, 'market_cap_rank': 409, 'fully_diluted_valuation': 588101661, 'total_volume': 7346047, 'high_24h': 0.29556, 'low_24h': 0.287808, 'price_change_24h': 0.0049379, 'price_change_percentage_24h': 1.69777, 'market_cap_change_24h': 755790, 'market_cap_change_percentage_24h': 1.03879, 'circulating_supply': 250000000, 'total_supply': 2000000000, 'max_supply': 2000000000, 'ath': 0.58501, 'ath_change_percentage': -49.67529, 'ath_date': '2023-06-28T14:24:36.141Z', 'atl': 0.190512, 'atl_change_percentage': 54.53347, 'atl_date': '2023-08-29T10:39:52.488Z', 'roi': None, 'last_updated': '2023-12-02T11:48:01.577Z', 'price_change_percentage_24h_in_currency': 1.6977732219131625}, {'id': 'bifrost', 'symbol': 'bfc', 'name': 'Bifrost', 'image': 'https://assets.coingecko.com/coins/images/4639/large/BFC_Symbol.png?1696505208', 'current_price': 0.052451, 'market_cap': 73158229, 'market_cap_rank': 410, 'fully_diluted_valuation': 125142295, 'total_volume': 627503, 'high_24h': 0.053226, 'low_24h': 0.05127, 'price_change_24h': 0.00024428, 'price_change_percentage_24h': 0.4679, 'market_cap_change_24h': 281953, 'market_cap_change_percentage_24h': 0.38689, 'circulating_supply': 1384675070.98273, 'total_supply': 2368584074, 'max_supply': 2368584074, 'ath': 0.778815, 'ath_change_percentage': -93.21608, 'ath_date': '2021-08-19T00:15:06.996Z', 'atl': 0.01634183, 'atl_change_percentage': 223.30669, 'atl_date': '2021-01-03T05:20:35.561Z', 'roi': None, 'last_updated': '2023-12-02T11:47:57.785Z', 'price_change_percentage_24h_in_currency': 0.46790034981285056}, {'id': 'alethea-artificial-liquid-intelligence-token', 'symbol': 'ali', 'name': 'Artificial Liquid Intelligence', 'image': 'https://assets.coingecko.com/coins/images/22062/large/Logo_Circle_720_%281%29.png?1696521405', 'current_price': 0.020428, 'market_cap': 73157038, 'market_cap_rank': 411, 'fully_diluted_valuation': 203884340, 'total_volume': 1145497, 'high_24h': 0.02173599, 'low_24h': 0.0194729, 'price_change_24h': -0.001266877836125061, 'price_change_percentage_24h': -5.83952, 'market_cap_change_24h': -4280384.548302904, 'market_cap_change_percentage_24h': -5.52754, 'circulating_supply': 3588163659.855413, 'total_supply': 10000000000, 'max_supply': 10000000000, 'ath': 0.201312, 'ath_change_percentage': -89.84685, 'ath_date': '2022-04-02T01:23:27.379Z', 'atl': 0.00565078, 'atl_change_percentage': 261.71124, 'atl_date': '2022-11-13T21:26:06.429Z', 'roi': None, 'last_updated': '2023-12-02T11:47:34.752Z', 'price_change_percentage_24h_in_currency': -5.839524274332537}, {'id': 'metars-genesis', 'symbol': 'mrs', 'name': 'Metars Genesis', 'image': 'https://assets.coingecko.com/coins/images/26625/large/PRmUU8O1_400x400.jpeg?1696525698', 'current_price': 1.16, 'market_cap': 73055002, 'market_cap_rank': 412, 'fully_diluted_valuation': 1162370763, 'total_volume': 69476, 'high_24h': 1.17, 'low_24h': 1.15, 'price_change_24h': 0.00969256, 'price_change_percentage_24h': 0.84079, 'market_cap_change_24h': 201765, 'market_cap_change_percentage_24h': 0.27695, 'circulating_supply': 62850000, 'total_supply': 1000000000, 'max_supply': None, 'ath': 4.3, 'ath_change_percentage': -72.96299, 'ath_date': '2022-08-06T23:23:06.656Z', 'atl': 0.584931, 'atl_change_percentage': 98.73921, 'atl_date': '2022-09-16T23:23:54.565Z', 'roi': None, 'last_updated': '2023-12-02T11:45:02.738Z', 'price_change_percentage_24h_in_currency': 0.8407878333556227}, {'id': 'nkn', 'symbol': 'nkn', 'name': 'NKN', 'image': 'https://assets.coingecko.com/coins/images/3375/large/nkn.png?1696504074', 'current_price': 0.111671, 'market_cap': 72481704, 'market_cap_rank': 413, 'fully_diluted_valuation': 111510314, 'total_volume': 3674804, 'high_24h': 0.112076, 'low_24h': 0.109512, 'price_change_24h': 0.00014337, 'price_change_percentage_24h': 0.12855, 'market_cap_change_24h': -94271.64333684742, 'market_cap_change_percentage_24h': -0.12989, 'circulating_supply': 650000000, 'total_supply': 1000000000, 'max_supply': 1000000000, 'ath': 1.44, 'ath_change_percentage': -92.23718, 'ath_date': '2021-04-09T21:54:46.868Z', 'atl': 0.00667819, 'atl_change_percentage': 1569.13547, 'atl_date': '2020-03-13T02:22:29.583Z', 'roi': {'times': -0.37960297148555167, 'currency': 'usd', 'percentage': -37.96029714855516}, 'last_updated': '2023-12-02T11:47:56.523Z', 'price_change_percentage_24h_in_currency': 0.1285471519147886}, {'id': 'cortex', 'symbol': 'ctxc', 'name': 'Cortex', 'image': 'https://assets.coingecko.com/coins/images/3861/large/2638.png?1696504523', 'current_price': 0.334042, 'market_cap': 72424534, 'market_cap_rank': 414, 'fully_diluted_valuation': 100101498, 'total_volume': 12947054, 'high_24h': 0.352328, 'low_24h': 0.327758, 'price_change_24h': -0.01657107754273157, 'price_change_percentage_24h': -4.72632, 'market_cap_change_24h': -4766839.8962880075, 'market_cap_change_percentage_24h': -6.17535, 'circulating_supply': 216903136.46875, 'total_supply': 299792458, 'max_supply': None, 'ath': 2.39, 'ath_change_percentage': -86.03503, 'ath_date': '2018-04-30T00:29:47.162Z', 'atl': 0.03088935, 'atl_change_percentage': 981.33738, 'atl_date': '2020-03-13T02:29:44.476Z', 'roi': None, 'last_updated': '2023-12-02T11:48:00.222Z', 'price_change_percentage_24h_in_currency': -4.726320157272358}, {'id': 'certik', 'symbol': 'ctk', 'name': 'Shentu', 'image': 'https://assets.coingecko.com/coins/images/12944/large/shentu_2.jpg?1696512733', 'current_price': 0.566046, 'market_cap': 72243889, 'market_cap_rank': 415, 'fully_diluted_valuation': 72244082, 'total_volume': 1359808, 'high_24h': 0.572362, 'low_24h': 0.550989, 'price_change_24h': 0.0064056, 'price_change_percentage_24h': 1.14459, 'market_cap_change_24h': 428864, 'market_cap_change_percentage_24h': 0.59718, 'circulating_supply': 127812655, 'total_supply': 127812995, 'max_supply': None, 'ath': 3.94, 'ath_change_percentage': -85.64229, 'ath_date': '2021-04-06T18:10:20.345Z', 'atl': 0.395735, 'atl_change_percentage': 42.8354, 'atl_date': '2023-10-19T02:50:18.014Z', 'roi': None, 'last_updated': '2023-12-02T11:47:51.125Z', 'price_change_percentage_24h_in_currency': 1.144591951289424}, {'id': 'coti', 'symbol': 'coti', 'name': 'COTI', 'image': 'https://assets.coingecko.com/coins/images/2962/large/Coti.png?1696503705', 'current_price': 0.056643, 'market_cap': 72111942, 'market_cap_rank': 416, 'fully_diluted_valuation': 112901148, 'total_volume': 3027651, 'high_24h': 0.057057, 'low_24h': 0.05547, 'price_change_24h': 0.00100205, 'price_change_percentage_24h': 1.80093, 'market_cap_change_24h': 979433, 'market_cap_change_percentage_24h': 1.37691, 'circulating_supply': 1277435048.3, 'total_supply': 2000000000, 'max_supply': 2000000000, 'ath': 0.668634, 'ath_change_percentage': -91.55733, 'ath_date': '2021-09-29T11:39:21.397Z', 'atl': 0.00556342, 'atl_change_percentage': 914.67445, 'atl_date': '2019-11-07T10:29:26.372Z', 'roi': {'times': -0.12857604268817954, 'currency': 'usd', 'percentage': -12.857604268817953}, 'last_updated': '2023-12-02T11:47:53.310Z', 'price_change_percentage_24h_in_currency': 1.8009333759083024}, {'id': 'vega-protocol', 'symbol': 'vega', 'name': 'Vega Protocol', 'image': 'https://assets.coingecko.com/coins/images/15870/large/vega.PNG?1696515485', 'current_price': 1.21, 'market_cap': 71632544, 'market_cap_rank': 417, 'fully_diluted_valuation': 78763360, 'total_volume': 211613, 'high_24h': 1.22, 'low_24h': 1.18, 'price_change_24h': 0.01932552, 'price_change_percentage_24h': 1.62188, 'market_cap_change_24h': 640358, 'market_cap_change_percentage_24h': 0.90201, 'circulating_supply': 59114993.7045962, 'total_supply': 64999723, 'max_supply': 64999723, 'ath': 23.93, 'ath_change_percentage': -94.95075, 'ath_date': '2021-09-03T13:02:36.189Z', 'atl': 0.592756, 'atl_change_percentage': 103.87864, 'atl_date': '2023-08-24T20:25:25.607Z', 'roi': None, 'last_updated': '2023-12-02T11:47:55.430Z', 'price_change_percentage_24h_in_currency': 1.6218795220127424}, {'id': 'steem-dollars', 'symbol': 'sbd', 'name': 'Steem Dollars', 'image': 'https://assets.coingecko.com/coins/images/652/large/steem_dollars.png?1696501846', 'current_price': 5.65, 'market_cap': 71397110, 'market_cap_rank': 418, 'fully_diluted_valuation': None, 'total_volume': 113897555, 'high_24h': 5.86, 'low_24h': 4.87, 'price_change_24h': 0.743251, 'price_change_percentage_24h': 15.13833, 'market_cap_change_24h': 9207568, 'market_cap_change_percentage_24h': 14.80565, 'circulating_supply': 12638624.039, 'total_supply': None, 'max_supply': None, 'ath': 19.02, 'ath_change_percentage': -70.29867, 'ath_date': '2021-05-20T01:55:02.101Z', 'atl': 0.23394, 'atl_change_percentage': 2314.76922, 'atl_date': '2020-10-18T20:36:48.604Z', 'roi': None, 'last_updated': '2023-12-02T11:47:56.804Z', 'price_change_percentage_24h_in_currency': 15.138326583772665}, {'id': 'unibot', 'symbol': 'unibot', 'name': 'Unibot', 'image': 'https://assets.coingecko.com/coins/images/30462/large/logonoline_%281%29.png?1696529349', 'current_price': 71.98, 'market_cap': 71265673, 'market_cap_rank': 419, 'fully_diluted_valuation': 71265673, 'total_volume': 2949424, 'high_24h': 80.91, 'low_24h': 66.55, 'price_change_24h': -7.833917432042497, 'price_change_percentage_24h': -9.81569, 'market_cap_change_24h': -8447533.032591537, 'market_cap_change_percentage_24h': -10.59741, 'circulating_supply': 1000000, 'total_supply': 1000000, 'max_supply': 1000000, 'ath': 236.98, 'ath_change_percentage': -69.73022, 'ath_date': '2023-08-16T13:34:42.408Z', 'atl': 2.46, 'atl_change_percentage': 2810.91928, 'atl_date': '2023-05-22T09:19:33.417Z', 'roi': None, 'last_updated': '2023-12-02T11:47:29.367Z', 'price_change_percentage_24h_in_currency': -9.815694559972238}, {'id': 'world-mobile-token', 'symbol': 'wmt', 'name': 'World Mobile Token', 'image': 'https://assets.coingecko.com/coins/images/17333/large/Colored_Token.png?1696516885', 'current_price': 0.14296, 'market_cap': 71151229, 'market_cap_rank': 420, 'fully_diluted_valuation': 285675293, 'total_volume': 1371591, 'high_24h': 0.14628, 'low_24h': 0.133898, 'price_change_24h': 0.00590756, 'price_change_percentage_24h': 4.31044, 'market_cap_change_24h': 2995448, 'market_cap_change_percentage_24h': 4.395, 'circulating_supply': 498126588.464982, 'total_supply': 2000000000, 'max_supply': 2000000000, 'ath': 0.979732, 'ath_change_percentage': -85.40739, 'ath_date': '2022-02-17T07:00:01.257Z', 'atl': 0.098034, 'atl_change_percentage': 45.83577, 'atl_date': '2023-06-20T14:46:22.600Z', 'roi': None, 'last_updated': '2023-12-02T11:47:49.856Z', 'price_change_percentage_24h_in_currency': 4.310437077488145}, {'id': 'dusk-network', 'symbol': 'dusk', 'name': 'Dusk', 'image': 'https://assets.coingecko.com/coins/images/5217/large/image_widget_biddfvxd454b1.png?1696505726', 'current_price': 0.166436, 'market_cap': 71117435, 'market_cap_rank': 421, 'fully_diluted_valuation': 83156032, 'total_volume': 5118258, 'high_24h': 0.168442, 'low_24h': 0.162685, 'price_change_24h': 0.00076941, 'price_change_percentage_24h': 0.46443, 'market_cap_change_24h': 130672, 'market_cap_change_percentage_24h': 0.18408, 'circulating_supply': 427614409.316325, 'total_supply': 500000000, 'max_supply': 1000000000, 'ath': 1.09, 'ath_change_percentage': -84.74077, 'ath_date': '2021-12-29T21:34:22.823Z', 'atl': 0.01113274, 'atl_change_percentage': 1393.90095, 'atl_date': '2020-03-13T02:24:16.885Z', 'roi': {'times': 3.1197114981712524, 'currency': 'usd', 'percentage': 311.97114981712525}, 'last_updated': '2023-12-02T11:47:49.638Z', 'price_change_percentage_24h_in_currency': 0.4644310485158085}, {'id': 'cyberconnect', 'symbol': 'cyber', 'name': 'CyberConnect', 'image': 'https://assets.coingecko.com/coins/images/31274/large/cyberconnect.png?1696530098', 'current_price': 6.42, 'market_cap': 70820078, 'market_cap_rank': 422, 'fully_diluted_valuation': 641602443, 'total_volume': 14192564, 'high_24h': 6.42, 'low_24h': 6.11, 'price_change_24h': 0.24561, 'price_change_percentage_24h': 3.98076, 'market_cap_change_24h': 2522420, 'market_cap_change_percentage_24h': 3.69327, 'circulating_supply': 11038000, 'total_supply': 100000000, 'max_supply': 100000000, 'ath': 15.79, 'ath_change_percentage': -59.36139, 'ath_date': '2023-09-01T22:25:07.435Z', 'atl': 3.54, 'atl_change_percentage': 81.33558, 'atl_date': '2023-08-26T01:10:37.972Z', 'roi': None, 'last_updated': '2023-12-02T11:47:35.762Z', 'price_change_percentage_24h_in_currency': 3.9807579381610654}, {'id': 'dock', 'symbol': 'dock', 'name': 'Dock', 'image': 'https://assets.coingecko.com/coins/images/3978/large/dock-icon-dark-large.png?1696504619', 'current_price': 0.01898904, 'market_cap': 70448413, 'market_cap_rank': 423, 'fully_diluted_valuation': None, 'total_volume': 2577156, 'high_24h': 0.02026908, 'low_24h': 0.01867889, 'price_change_24h': 0.00020731, 'price_change_percentage_24h': 1.10381, 'market_cap_change_24h': -2344574.834913254, 'market_cap_change_percentage_24h': -3.22088, 'circulating_supply': 0, 'total_supply': 1000000000, 'max_supply': None, 'ath': 0.241848, 'ath_change_percentage': -92.15695, 'ath_date': '2018-05-04T05:29:09.155Z', 'atl': 0.00259319, 'atl_change_percentage': 631.46301, 'atl_date': '2020-03-13T02:24:35.312Z', 'roi': {'times': -0.8902467711965691, 'currency': 'eth', 'percentage': -89.02467711965691}, 'last_updated': '2023-12-02T11:47:13.163Z', 'price_change_percentage_24h_in_currency': 1.103809253020844}, {'id': 'pha', 'symbol': 'pha', 'name': 'Phala', 'image': 'https://assets.coingecko.com/coins/images/12451/large/phala.png?1696512270', 'current_price': 0.111637, 'market_cap': 70433232, 'market_cap_rank': 424, 'fully_diluted_valuation': 111646050, 'total_volume': 6081658, 'high_24h': 0.112308, 'low_24h': 0.110134, 'price_change_24h': 0.00123582, 'price_change_percentage_24h': 1.11938, 'market_cap_change_24h': 702650, 'market_cap_change_percentage_24h': 1.00766, 'circulating_supply': 630861836.866358, 'total_supply': 1000000000, 'max_supply': 1000000000, 'ath': 1.39, 'ath_change_percentage': -91.97649, 'ath_date': '2021-05-15T04:20:32.741Z', 'atl': 0.064594, 'atl_change_percentage': 72.74065, 'atl_date': '2020-09-12T12:15:05.468Z', 'roi': None, 'last_updated': '2023-12-02T11:48:00.417Z', 'price_change_percentage_24h_in_currency': 1.1193817574805591}, {'id': 'cobak-token', 'symbol': 'cbk', 'name': 'Cobak', 'image': 'https://assets.coingecko.com/coins/images/13459/large/cbk-128-128.png?1696513222', 'current_price': 0.882531, 'market_cap': 70407198, 'market_cap_rank': 425, 'fully_diluted_valuation': 88344520, 'total_volume': 6722931, 'high_24h': 0.908108, 'low_24h': 0.867148, 'price_change_24h': 0.00692466, 'price_change_percentage_24h': 0.79084, 'market_cap_change_24h': 670415, 'market_cap_change_percentage_24h': 0.96135, 'circulating_supply': 79696169, 'total_supply': 100000000, 'max_supply': 100000000, 'ath': 15.74, 'ath_change_percentage': -94.38644, 'ath_date': '2021-04-02T12:59:22.254Z', 'atl': 0.433554, 'atl_change_percentage': 103.76814, 'atl_date': '2022-12-30T07:59:59.513Z', 'roi': None, 'last_updated': '2023-12-02T11:47:59.774Z', 'price_change_percentage_24h_in_currency': 0.7908413074357314}, {'id': 'ultra', 'symbol': 'uos', 'name': 'Ultra', 'image': 'https://assets.coingecko.com/coins/images/4480/large/Ultra.png?1696505069', 'current_price': 0.195268, 'market_cap': 69943428, 'market_cap_rank': 426, 'fully_diluted_valuation': 195247955, 'total_volume': 1070465, 'high_24h': 0.196516, 'low_24h': 0.191955, 'price_change_24h': 0.00043594, 'price_change_percentage_24h': 0.22375, 'market_cap_change_24h': -63367.69119600952, 'market_cap_change_percentage_24h': -0.09052, 'circulating_supply': 358228733.949, 'total_supply': 1000000000, 'max_supply': 1000000000, 'ath': 2.49, 'ath_change_percentage': -92.14354, 'ath_date': '2021-11-25T07:59:48.825Z', 'atl': 0.02137354, 'atl_change_percentage': 813.73503, 'atl_date': '2019-09-02T00:00:00.000Z', 'roi': {'times': 2.90535461489619, 'currency': 'usd', 'percentage': 290.535461489619}, 'last_updated': '2023-12-02T11:47:35.041Z', 'price_change_percentage_24h_in_currency': 0.22375432109336077}, {'id': 'sharering', 'symbol': 'shr', 'name': 'Share', 'image': 'https://assets.coingecko.com/coins/images/3609/large/74586729_2443914875881351_2785018663453851648_n.png?1696504289', 'current_price': 0.00160447, 'market_cap': 69453171, 'market_cap_rank': 427, 'fully_diluted_valuation': None, 'total_volume': 128725, 'high_24h': 0.00162994, 'low_24h': 0.00157355, 'price_change_24h': -2.234942595929e-05, 'price_change_percentage_24h': -1.37381, 'market_cap_change_24h': -462452.01236376166, 'market_cap_change_percentage_24h': -0.66144, 'circulating_supply': 0, 'total_supply': 4396000000, 'max_supply': None, 'ath': 0.098334, 'ath_change_percentage': -98.36927, 'ath_date': '2021-03-31T21:37:17.160Z', 'atl': 8.787e-05, 'atl_change_percentage': 1725.02071, 'atl_date': '2020-02-28T05:20:11.672Z', 'roi': {'times': -0.9197764685909517, 'currency': 'usd', 'percentage': -91.97764685909517}, 'last_updated': '2023-12-02T11:47:47.072Z', 'price_change_percentage_24h_in_currency': -1.3738105761857928}, {'id': 'flex-coin', 'symbol': 'flex', 'name': 'FLEX Coin', 'image': 'https://assets.coingecko.com/coins/images/9108/large/coinflex_logo.png?1696509233', 'current_price': 0.698774, 'market_cap': 68906297, 'market_cap_rank': 428, 'fully_diluted_valuation': 68955761, 'total_volume': 43668, 'high_24h': 0.750491, 'low_24h': 0.215408, 'price_change_24h': 0.465827, 'price_change_percentage_24h': 199.97106, 'market_cap_change_24h': 45922521, 'market_cap_change_percentage_24h': 199.80408, 'circulating_supply': 98664938.6988896, 'total_supply': 98735764.894, 'max_supply': 98735764.894, 'ath': 12.32, 'ath_change_percentage': -94.33179, 'ath_date': '2023-08-07T01:49:53.752Z', 'atl': 0.00047299, 'atl_change_percentage': 147556.48426, 'atl_date': '2020-08-04T11:18:39.614Z', 'roi': None, 'last_updated': '2023-12-02T11:47:23.863Z', 'price_change_percentage_24h_in_currency': 199.97106151602975}, {'id': 'songbird', 'symbol': 'sgb', 'name': 'Songbird', 'image': 'https://assets.coingecko.com/coins/images/18663/large/SGB_512x512.png?1696518133', 'current_price': 0.00474155, 'market_cap': 68724798, 'market_cap_rank': 429, 'fully_diluted_valuation': 84034566, 'total_volume': 405547, 'high_24h': 0.00491486, 'low_24h': 0.00456946, 'price_change_24h': 0.00013588, 'price_change_percentage_24h': 2.95034, 'market_cap_change_24h': 1370205, 'market_cap_change_percentage_24h': 2.03432, 'circulating_supply': 14497952307.5099, 'total_supply': 17727649498.4365, 'max_supply': None, 'ath': 0.71334, 'ath_change_percentage': -99.33521, 'ath_date': '2021-09-30T06:32:35.621Z', 'atl': 0.00371776, 'atl_change_percentage': 27.55557, 'atl_date': '2023-10-13T10:55:52.860Z', 'roi': None, 'last_updated': '2023-12-02T11:47:59.710Z', 'price_change_percentage_24h_in_currency': 2.9503369682035383}, {'id': 'chainx', 'symbol': 'pcx', 'name': 'ChainX', 'image': 'https://assets.coingecko.com/coins/images/9133/large/chainx.png?1696509256', 'current_price': 0.253191, 'market_cap': 68530128, 'market_cap_rank': 430, 'fully_diluted_valuation': None, 'total_volume': 460801, 'high_24h': 0.261342, 'low_24h': 0.236795, 'price_change_24h': -0.003710393357133024, 'price_change_percentage_24h': -1.44429, 'market_cap_change_24h': -4578599.375680059, 'market_cap_change_percentage_24h': -6.26273, 'circulating_supply': 0, 'total_supply': 21000000, 'max_supply': None, 'ath': 17.54, 'ath_change_percentage': -98.55829, 'ath_date': '2021-03-29T19:44:08.082Z', 'atl': 0.079754, 'atl_change_percentage': 217.06382, 'atl_date': '2023-08-18T14:45:00.747Z', 'roi': None, 'last_updated': '2023-12-02T11:47:58.726Z', 'price_change_percentage_24h_in_currency': -1.4442878858471275}, {'id': 'trac', 'symbol': 'trac', 'name': 'TRAC (Ordinals)', 'image': 'https://assets.coingecko.com/coins/images/30288/large/trac.jpg?1696529193', 'current_price': 3.24, 'market_cap': 67879211, 'market_cap_rank': 431, 'fully_diluted_valuation': 67879211, 'total_volume': 459668, 'high_24h': 3.37, 'low_24h': 2.73, 'price_change_24h': 0.327575, 'price_change_percentage_24h': 11.23033, 'market_cap_change_24h': 6466260, 'market_cap_change_percentage_24h': 10.52915, 'circulating_supply': 21000000, 'total_supply': 21000000, 'max_supply': 21000000, 'ath': 3.71, 'ath_change_percentage': -12.75063, 'ath_date': '2023-11-16T09:21:30.914Z', 'atl': 0.03995583, 'atl_change_percentage': 8004.99284, 'atl_date': '2023-06-20T19:46:31.075Z', 'roi': None, 'last_updated': '2023-12-02T11:47:17.090Z', 'price_change_percentage_24h_in_currency': 11.230328093770263}, {'id': 'hello-labs', 'symbol': 'hello', 'name': 'HELLO', 'image': 'https://assets.coingecko.com/coins/images/27891/large/uFXN2S1N_400x400.jpeg?1696526908', 'current_price': 0.127075, 'market_cap': 67431116, 'market_cap_rank': 432, 'fully_diluted_valuation': 126915998, 'total_volume': 4885026, 'high_24h': 0.135309, 'low_24h': 0.126498, 'price_change_24h': -0.007578348234448779, 'price_change_percentage_24h': -5.62804, 'market_cap_change_24h': -4424217.031705871, 'market_cap_change_percentage_24h': -6.15712, 'circulating_supply': 531305095.33808607, 'total_supply': 1000000000, 'max_supply': 1000000000, 'ath': 0.148074, 'ath_change_percentage': -14.23279, 'ath_date': '2023-11-07T14:20:10.895Z', 'atl': 0.00434878, 'atl_change_percentage': 2820.33722, 'atl_date': '2022-12-23T14:35:15.250Z', 'roi': None, 'last_updated': '2023-12-02T11:47:53.362Z', 'price_change_percentage_24h_in_currency': -5.628037408998023}, {'id': 'gitcoin', 'symbol': 'gtc', 'name': 'Gitcoin', 'image': 'https://assets.coingecko.com/coins/images/15810/large/gitcoin.png?1696515429', 'current_price': 1.11, 'market_cap': 67386762, 'market_cap_rank': 433, 'fully_diluted_valuation': 110718089, 'total_volume': 11258352, 'high_24h': 1.14, 'low_24h': 1.084, 'price_change_24h': 0.00482291, 'price_change_percentage_24h': 0.43649, 'market_cap_change_24h': 155168, 'market_cap_change_percentage_24h': 0.2308, 'circulating_supply': 60863371.560695864, 'total_supply': 100000000, 'max_supply': 100000000, 'ath': 89.62, 'ath_change_percentage': -98.77125, 'ath_date': '2021-05-25T15:33:23.602Z', 'atl': 0.793567, 'atl_change_percentage': 38.77361, 'atl_date': '2023-08-17T21:46:24.012Z', 'roi': None, 'last_updated': '2023-12-02T11:48:01.820Z', 'price_change_percentage_24h_in_currency': 0.4364874053593855}, {'id': 'wink', 'symbol': 'win', 'name': 'WINkLink', 'image': 'https://assets.coingecko.com/coins/images/9129/large/WinK.png?1696509252', 'current_price': 7.005e-05, 'market_cap': 67359945, 'market_cap_rank': 434, 'fully_diluted_valuation': 69969819, 'total_volume': 5709369, 'high_24h': 7.061e-05, 'low_24h': 6.914e-05, 'price_change_24h': 5.18212e-07, 'price_change_percentage_24h': 0.74525, 'market_cap_change_24h': 441569, 'market_cap_change_percentage_24h': 0.65986, 'circulating_supply': 961737300000, 'total_supply': 999000000000, 'max_supply': None, 'ath': 0.00289424, 'ath_change_percentage': -97.58002, 'ath_date': '2021-04-05T20:24:01.448Z', 'atl': 4.185e-05, 'atl_change_percentage': 67.37823, 'atl_date': '2020-03-13T02:23:00.686Z', 'roi': {'times': -0.41670573953771234, 'currency': 'usd', 'percentage': -41.67057395377123}, 'last_updated': '2023-12-02T11:48:01.265Z', 'price_change_percentage_24h_in_currency': 0.745248341681194}, {'id': 'e-radix', 'symbol': 'exrd', 'name': 'e-Radix', 'image': 'https://assets.coingecko.com/coins/images/13145/large/exrd_logo.png?1696512931', 'current_price': 0.054937, 'market_cap': 66910202, 'market_cap_rank': 435, 'fully_diluted_valuation': 66910202, 'total_volume': 552551, 'high_24h': 0.05628, 'low_24h': 0.052968, 'price_change_24h': 0.00158122, 'price_change_percentage_24h': 2.96353, 'market_cap_change_24h': 1453830, 'market_cap_change_percentage_24h': 2.22107, 'circulating_supply': 1225232894.57487, 'total_supply': 1225232894.57487, 'max_supply': 24000000000, 'ath': 0.660211, 'ath_change_percentage': -91.72824, 'ath_date': '2021-11-14T16:24:07.330Z', 'atl': 0.03134183, 'atl_change_percentage': 74.24323, 'atl_date': '2022-11-30T00:16:57.409Z', 'roi': None, 'last_updated': '2023-12-02T11:47:35.238Z', 'price_change_percentage_24h_in_currency': 2.963534550277803}, {'id': 'creditcoin-2', 'symbol': 'ctc', 'name': 'Creditcoin', 'image': 'https://assets.coingecko.com/coins/images/10569/large/ctc.png?1696510552', 'current_price': 0.217313, 'market_cap': 66359673, 'market_cap_rank': 436, 'fully_diluted_valuation': 130239256, 'total_volume': 24945013, 'high_24h': 0.225551, 'low_24h': 0.210214, 'price_change_24h': 0.00563577, 'price_change_percentage_24h': 2.66243, 'market_cap_change_24h': 1697408, 'market_cap_change_percentage_24h': 2.62504, 'circulating_supply': 305712767, 'total_supply': 599999997, 'max_supply': None, 'ath': 8.67, 'ath_change_percentage': -97.49503, 'ath_date': '2021-03-14T03:54:22.148Z', 'atl': 0.128298, 'atl_change_percentage': 69.18823, 'atl_date': '2023-10-19T04:10:52.176Z', 'roi': None, 'last_updated': '2023-12-02T11:48:01.040Z', 'price_change_percentage_24h_in_currency': 2.662428129570585}, {'id': 'thorswap', 'symbol': 'thor', 'name': 'THORSwap', 'image': 'https://assets.coingecko.com/coins/images/19292/large/THORSwap_Logo-removebg-preview.png?1696518735', 'current_price': 0.436094, 'market_cap': 66133328, 'market_cap_rank': 437, 'fully_diluted_valuation': 193575010, 'total_volume': 552922, 'high_24h': 0.436024, 'low_24h': 0.390099, 'price_change_24h': 0.03433906, 'price_change_percentage_24h': 8.54726, 'market_cap_change_24h': 5166506, 'market_cap_change_percentage_24h': 8.47429, 'circulating_supply': 151722739, 'total_supply': 444098788, 'max_supply': 444098788, 'ath': 3.05, 'ath_change_percentage': -85.71568, 'ath_date': '2021-11-06T09:21:45.214Z', 'atl': 0.067045, 'atl_change_percentage': 550.3057, 'atl_date': '2023-06-14T22:50:31.628Z', 'roi': None, 'last_updated': '2023-12-02T11:47:13.827Z', 'price_change_percentage_24h_in_currency': 8.54726036712727}, {'id': 'veno-finance', 'symbol': 'vno', 'name': 'Veno Finance', 'image': 'https://assets.coingecko.com/coins/images/28799/large/Veno_Token_dark.png?1696527777', 'current_price': 0.160803, 'market_cap': 65934019, 'market_cap_rank': 438, 'fully_diluted_valuation': 295091437, 'total_volume': 49587, 'high_24h': 0.163008, 'low_24h': 0.158749, 'price_change_24h': -0.000939020513323646, 'price_change_percentage_24h': -0.58057, 'market_cap_change_24h': -111114.16458944231, 'market_cap_change_percentage_24h': -0.16824, 'circulating_supply': 409937756.6959, 'total_supply': 1834699650.17802, 'max_supply': 2000000000, 'ath': 0.521713, 'ath_change_percentage': -69.17757, 'ath_date': '2023-02-08T12:54:49.038Z', 'atl': 0.089967, 'atl_change_percentage': 78.73652, 'atl_date': '2023-09-23T09:20:59.586Z', 'roi': None, 'last_updated': '2023-12-02T11:47:17.727Z', 'price_change_percentage_24h_in_currency': -0.580565463605271}, {'id': 'origin-protocol', 'symbol': 'ogn', 'name': 'Origin Protocol', 'image': 'https://assets.coingecko.com/coins/images/3296/large/op.jpg?1696504006', 'current_price': 0.130736, 'market_cap': 65585509, 'market_cap_rank': 439, 'fully_diluted_valuation': 130459165, 'total_volume': 7266705, 'high_24h': 0.131312, 'low_24h': 0.129115, 'price_change_24h': -0.000381652413146139, 'price_change_percentage_24h': -0.29108, 'market_cap_change_24h': -306772.5137764141, 'market_cap_change_percentage_24h': -0.46557, 'circulating_supply': 502728259, 'total_supply': 1000000000, 'max_supply': 1000000000, 'ath': 3.35, 'ath_change_percentage': -96.10827, 'ath_date': '2021-04-08T08:34:23.319Z', 'atl': 0.062786, 'atl_change_percentage': 107.78515, 'atl_date': '2023-06-10T06:51:40.879Z', 'roi': {'times': -0.041525316157905424, 'currency': 'usd', 'percentage': -4.152531615790543}, 'last_updated': '2023-12-02T11:48:01.461Z', 'price_change_percentage_24h_in_currency': -0.29107641934804096}, {'id': 'adventure-gold', 'symbol': 'agld', 'name': 'Adventure Gold', 'image': 'https://assets.coingecko.com/coins/images/18125/large/lpgblc4h_400x400.jpg?1696517628', 'current_price': 0.847155, 'market_cap': 65421528, 'market_cap_rank': 440, 'fully_diluted_valuation': 65421528, 'total_volume': 15347707, 'high_24h': 0.853659, 'low_24h': 0.838319, 'price_change_24h': 0.0026843, 'price_change_percentage_24h': 0.31787, 'market_cap_change_24h': 282516, 'market_cap_change_percentage_24h': 0.43371, 'circulating_supply': 77280001, 'total_supply': 77280001, 'max_supply': 80000000, 'ath': 7.7, 'ath_change_percentage': -89.00732, 'ath_date': '2021-09-03T11:41:40.240Z', 'atl': 0.208231, 'atl_change_percentage': 306.61133, 'atl_date': '2022-11-09T23:40:23.330Z', 'roi': None, 'last_updated': '2023-12-02T11:47:59.835Z', 'price_change_percentage_24h_in_currency': 0.3178676119513835}, {'id': 'request-network', 'symbol': 'req', 'name': 'Request', 'image': 'https://assets.coingecko.com/coins/images/1031/large/Request_icon_green.png?1696502140', 'current_price': 0.084893, 'market_cap': 65221416, 'market_cap_rank': 441, 'fully_diluted_valuation': 84809365, 'total_volume': 1233107, 'high_24h': 0.085411, 'low_24h': 0.083896, 'price_change_24h': -0.000312584510689481, 'price_change_percentage_24h': -0.36686, 'market_cap_change_24h': -111610.79663168639, 'market_cap_change_percentage_24h': -0.17083, 'circulating_supply': 768806703.7293698, 'total_supply': 999702434.185527, 'max_supply': 1000000000, 'ath': 1.059, 'ath_change_percentage': -91.98472, 'ath_date': '2018-01-06T00:00:00.000Z', 'atl': 0.00454707, 'atl_change_percentage': 1767.19665, 'atl_date': '2020-03-13T02:24:34.541Z', 'roi': {'times': 0.4148786729601445, 'currency': 'usd', 'percentage': 41.48786729601445}, 'last_updated': '2023-12-02T11:47:53.254Z', 'price_change_percentage_24h_in_currency': -0.3668603863330708}, {'id': 'vertex-protocol', 'symbol': 'vrtx', 'name': 'Vertex Protocol', 'image': 'https://assets.coingecko.com/coins/images/27927/large/vrtx.png?1696526947', 'current_price': 0.445239, 'market_cap': 64932959, 'market_cap_rank': 442, 'fully_diluted_valuation': 444516608, 'total_volume': 3416667, 'high_24h': 0.44495, 'low_24h': 0.379469, 'price_change_24h': 0.0368616, 'price_change_percentage_24h': 9.02635, 'market_cap_change_24h': 4765159, 'market_cap_change_percentage_24h': 7.91978, 'circulating_supply': 146075439.5388, 'total_supply': 1000000000, 'max_supply': 1000000000, 'ath': 0.520089, 'ath_change_percentage': -14.41347, 'ath_date': '2023-11-28T10:04:12.565Z', 'atl': 0.228784, 'atl_change_percentage': 94.56162, 'atl_date': '2023-11-22T00:20:01.558Z', 'roi': None, 'last_updated': '2023-12-02T11:48:01.761Z', 'price_change_percentage_24h_in_currency': 9.026353143972859}, {'id': 'victoria-vr', 'symbol': 'vr', 'name': 'Victoria VR', 'image': 'https://assets.coingecko.com/coins/images/21178/large/vr.png?1696520554', 'current_price': 0.01182091, 'market_cap': 64405165, 'market_cap_rank': 443, 'fully_diluted_valuation': 198499747, 'total_volume': 597895, 'high_24h': 0.01233339, 'low_24h': 0.01125552, 'price_change_24h': 0.00040144, 'price_change_percentage_24h': 3.51543, 'market_cap_change_24h': 6753813, 'market_cap_change_percentage_24h': 11.71493, 'circulating_supply': 5450922700, 'total_supply': 16800000000, 'max_supply': None, 'ath': 0.615957, 'ath_change_percentage': -98.08054, 'ath_date': '2021-12-10T18:45:35.946Z', 'atl': 0.00472369, 'atl_change_percentage': 150.2928, 'atl_date': '2023-01-03T15:02:01.730Z', 'roi': None, 'last_updated': '2023-12-02T11:47:32.742Z', 'price_change_percentage_24h_in_currency': 3.5154293824458462}, {'id': 'clore-ai', 'symbol': 'clore', 'name': 'Clore.ai', 'image': 'https://assets.coingecko.com/coins/images/30959/large/CLORE_Logo_200x200_PNG.png?1696529798', 'current_price': 0.262918, 'market_cap': 64294857, 'market_cap_rank': 444, 'fully_diluted_valuation': 65215414, 'total_volume': 11310055, 'high_24h': 0.265784, 'low_24h': 0.192008, 'price_change_24h': 0.061756, 'price_change_percentage_24h': 30.69991, 'market_cap_change_24h': 15293213, 'market_cap_change_percentage_24h': 31.20959, 'circulating_supply': 246320407.038099, 'total_supply': 249847157.943772, 'max_supply': 1300000000, 'ath': 0.267361, 'ath_change_percentage': -1.66173, 'ath_date': '2023-11-29T06:01:26.515Z', 'atl': 0.00593882, 'atl_change_percentage': 4327.11283, 'atl_date': '2023-07-16T03:42:47.189Z', 'roi': None, 'last_updated': '2023-12-02T11:47:15.038Z', 'price_change_percentage_24h_in_currency': 30.69991392179666}, {'id': 'constitutiondao', 'symbol': 'people', 'name': 'ConstitutionDAO', 'image': 'https://assets.coingecko.com/coins/images/20612/large/GN_UVm3d_400x400.jpg?1696520017', 'current_price': 0.01269267, 'market_cap': 64282670, 'market_cap_rank': 445, 'fully_diluted_valuation': 64282670, 'total_volume': 4709674, 'high_24h': 0.01281502, 'low_24h': 0.01226528, 'price_change_24h': 0.00028337, 'price_change_percentage_24h': 2.28355, 'market_cap_change_24h': 1351808, 'market_cap_change_percentage_24h': 2.14809, 'circulating_supply': 5067118813.83142, 'total_supply': 5067118813.83142, 'max_supply': 5067118813.83142, 'ath': 0.185022, 'ath_change_percentage': -93.14078, 'ath_date': '2021-12-23T05:59:19.861Z', 'atl': 0.0009194, 'atl_change_percentage': 1280.36565, 'atl_date': '2021-11-21T11:33:21.508Z', 'roi': None, 'last_updated': '2023-12-02T11:48:01.310Z', 'price_change_percentage_24h_in_currency': 2.28354520026333}, {'id': 'keep-network', 'symbol': 'keep', 'name': 'Keep Network', 'image': 'https://assets.coingecko.com/coins/images/3373/large/IuNzUb5b_400x400.jpg?1696504072', 'current_price': 0.116617, 'market_cap': 64077947, 'market_cap_rank': 446, 'fully_diluted_valuation': 116565484, 'total_volume': 139390, 'high_24h': 0.117391, 'low_24h': 0.114822, 'price_change_24h': 0.00062689, 'price_change_percentage_24h': 0.54047, 'market_cap_change_24h': 545567, 'market_cap_change_percentage_24h': 0.85872, 'circulating_supply': 549716300.2685891, 'total_supply': 1000000000, 'max_supply': 1000000000, 'ath': 6.1, 'ath_change_percentage': -98.09797, 'ath_date': '2020-05-15T00:00:00.000Z', 'atl': 0.064431, 'atl_change_percentage': 80.07912, 'atl_date': '2023-02-28T19:02:38.676Z', 'roi': None, 'last_updated': '2023-12-02T11:47:46.144Z', 'price_change_percentage_24h_in_currency': 0.5404654397725425}, {'id': 'airtor-protocol', 'symbol': 'ator', 'name': 'AirTor Protocol', 'image': 'https://assets.coingecko.com/coins/images/29690/large/AirTor.png?1696528623', 'current_price': 0.876967, 'market_cap': 63901497, 'market_cap_rank': 447, 'fully_diluted_valuation': 87211807, 'total_volume': 3272539, 'high_24h': 0.968633, 'low_24h': 0.85357, 'price_change_24h': -0.07228487100351744, 'price_change_percentage_24h': -7.61493, 'market_cap_change_24h': -5816623.061310269, 'market_cap_change_percentage_24h': -8.34306, 'circulating_supply': 73271611.92861138, 'total_supply': 100000000, 'max_supply': 100000000, 'ath': 2.19, 'ath_change_percentage': -59.91746, 'ath_date': '2023-11-16T11:45:30.478Z', 'atl': 0.102292, 'atl_change_percentage': 757.34868, 'atl_date': '2023-04-24T13:31:47.968Z', 'roi': None, 'last_updated': '2023-12-02T11:47:34.363Z', 'price_change_percentage_24h_in_currency': -7.614928797283414}, {'id': 'euler', 'symbol': 'eul', 'name': 'Euler', 'image': 'https://assets.coingecko.com/coins/images/26149/large/YCvKDfl8_400x400.jpeg?1696525238', 'current_price': 3.41, 'market_cap': 63828194, 'market_cap_rank': 448, 'fully_diluted_valuation': 92854210, 'total_volume': 394316, 'high_24h': 3.49, 'low_24h': 3.29, 'price_change_24h': 0.065799, 'price_change_percentage_24h': 1.96543, 'market_cap_change_24h': 1239958, 'market_cap_change_percentage_24h': 1.98114, 'circulating_supply': 18685530.67, 'total_supply': 27182818.28459, 'max_supply': 27182818, 'ath': 12.78, 'ath_change_percentage': -73.2861, 'ath_date': '2022-09-11T15:09:41.440Z', 'atl': 1.44, 'atl_change_percentage': 137.71794, 'atl_date': '2023-06-15T20:45:08.852Z', 'roi': None, 'last_updated': '2023-12-02T11:48:01.273Z', 'price_change_percentage_24h_in_currency': 1.9654279889158563}, {'id': 'mobox', 'symbol': 'mbox', 'name': 'Mobox', 'image': 'https://assets.coingecko.com/coins/images/14751/large/mobox.PNG?1696514420', 'current_price': 0.279029, 'market_cap': 63404853, 'market_cap_rank': 449, 'fully_diluted_valuation': 110220977, 'total_volume': 6554139, 'high_24h': 0.280621, 'low_24h': 0.27122, 'price_change_24h': 0.00317452, 'price_change_percentage_24h': 1.1508, 'market_cap_change_24h': 750548, 'market_cap_change_percentage_24h': 1.19792, 'circulating_supply': 226731202, 'total_supply': 394142298.688497, 'max_supply': 1000000000, 'ath': 15.44, 'ath_change_percentage': -98.19105, 'ath_date': '2021-12-01T05:07:30.486Z', 'atl': 0.201969, 'atl_change_percentage': 38.3215, 'atl_date': '2023-10-19T07:25:41.642Z', 'roi': None, 'last_updated': '2023-12-02T11:47:49.381Z', 'price_change_percentage_24h_in_currency': 1.150796485894646}, {'id': 'radio-caca', 'symbol': 'raca', 'name': 'Radio Caca', 'image': 'https://assets.coingecko.com/coins/images/17841/large/ez44_BSs_400x400.jpg?1696517365', 'current_price': 0.00018225, 'market_cap': 63231154, 'market_cap_rank': 450, 'fully_diluted_valuation': 77019590, 'total_volume': 6225960, 'high_24h': 0.00018278, 'low_24h': 0.00017822, 'price_change_24h': 1.07e-06, 'price_change_percentage_24h': 0.59222, 'market_cap_change_24h': 377420, 'market_cap_change_percentage_24h': 0.60047, 'circulating_supply': 347451566604.303, 'total_supply': 423218233270.971, 'max_supply': 500000000000, 'ath': 0.01191986, 'ath_change_percentage': -98.47133, 'ath_date': '2021-11-14T09:16:57.279Z', 'atl': 8.346e-05, 'atl_change_percentage': 118.33841, 'atl_date': '2023-09-11T10:30:12.705Z', 'roi': None, 'last_updated': '2023-12-02T11:47:59.371Z', 'price_change_percentage_24h_in_currency': 0.5922192606244436}, {'id': 'looksrare', 'symbol': 'looks', 'name': 'LooksRare', 'image': 'https://assets.coingecko.com/coins/images/22173/large/circle-black-256.png?1696521517', 'current_price': 0.116055, 'market_cap': 63016180, 'market_cap_rank': 451, 'fully_diluted_valuation': 115658579, 'total_volume': 7366872, 'high_24h': 0.125041, 'low_24h': 0.115502, 'price_change_24h': -0.004577467111824705, 'price_change_percentage_24h': -3.79455, 'market_cap_change_24h': -2956817.2475307807, 'market_cap_change_percentage_24h': -4.48186, 'circulating_supply': 544846570, 'total_supply': 1000000000, 'max_supply': 1000000000, 'ath': 7.1, 'ath_change_percentage': -98.3663, 'ath_date': '2022-01-20T19:30:02.255Z', 'atl': 0.0420877, 'atl_change_percentage': 175.67642, 'atl_date': '2023-08-17T21:49:56.818Z', 'roi': None, 'last_updated': '2023-12-02T11:47:55.334Z', 'price_change_percentage_24h_in_currency': -3.7945531852209697}, {'id': 'oasys', 'symbol': 'oas', 'name': 'Oasys', 'image': 'https://assets.coingecko.com/coins/images/27909/large/OAS.png?1696526929', 'current_price': 0.059066, 'market_cap': 62801310, 'market_cap_rank': 452, 'fully_diluted_valuation': 590505008, 'total_volume': 642314, 'high_24h': 0.060306, 'low_24h': 0.058411, 'price_change_24h': 0.00029371, 'price_change_percentage_24h': 0.49974, 'market_cap_change_24h': 267527, 'market_cap_change_percentage_24h': 0.42781, 'circulating_supply': 1063518671, 'total_supply': 10000000000, 'max_supply': 10000000000, 'ath': 0.13011, 'ath_change_percentage': -54.60497, 'ath_date': '2023-02-17T23:46:15.971Z', 'atl': 0.03923455, 'atl_change_percentage': 50.53922, 'atl_date': '2023-10-20T03:26:32.300Z', 'roi': None, 'last_updated': '2023-12-02T11:47:47.496Z', 'price_change_percentage_24h_in_currency': 0.49974335022048644}, {'id': 'gmt-token', 'symbol': 'gmt', 'name': 'Gomining Token', 'image': 'https://assets.coingecko.com/coins/images/15662/large/gmt.png?1696515292', 'current_price': 0.145548, 'market_cap': 62746572, 'market_cap_rank': 453, 'fully_diluted_valuation': 62746572, 'total_volume': 1441513, 'high_24h': 0.147727, 'low_24h': 0.136518, 'price_change_24h': 0.00154047, 'price_change_percentage_24h': 1.06972, 'market_cap_change_24h': 669199, 'market_cap_change_percentage_24h': 1.07801, 'circulating_supply': 430997807.686374, 'total_supply': 430997807.686374, 'max_supply': 436915240, 'ath': 0.52718, 'ath_change_percentage': -72.39086, 'ath_date': '2021-10-16T12:30:04.077Z', 'atl': 0.069487, 'atl_change_percentage': 109.46407, 'atl_date': '2022-11-10T00:18:31.110Z', 'roi': None, 'last_updated': '2023-12-02T11:47:57.646Z', 'price_change_percentage_24h_in_currency': 1.0697178694814582}, {'id': 'marblex', 'symbol': 'mbx', 'name': 'Marblex', 'image': 'https://assets.coingecko.com/coins/images/24423/large/AgYzKzLt_400x400.jpg?1696523604', 'current_price': 0.617151, 'market_cap': 62447603, 'market_cap_rank': 454, 'fully_diluted_valuation': 199926349, 'total_volume': 1464619, 'high_24h': 0.639123, 'low_24h': 0.61155, 'price_change_24h': 9.137e-05, 'price_change_percentage_24h': 0.01481, 'market_cap_change_24h': 849067, 'market_cap_change_percentage_24h': 1.37839, 'circulating_supply': 100909600.459243, 'total_supply': 323062651, 'max_supply': 1000000000, 'ath': 20.74, 'ath_change_percentage': -97.01386, 'ath_date': '2022-06-30T23:43:10.298Z', 'atl': 0.590058, 'atl_change_percentage': 4.9461, 'atl_date': '2023-10-13T03:20:06.397Z', 'roi': None, 'last_updated': '2023-12-02T11:47:55.145Z', 'price_change_percentage_24h_in_currency': 0.014806638215049284}, {'id': 'gamefi', 'symbol': 'gafi', 'name': 'GameFi.org', 'image': 'https://assets.coingecko.com/coins/images/18292/large/gamefi.PNG?1696517784', 'current_price': 5.71, 'market_cap': 62431614, 'market_cap_rank': 455, 'fully_diluted_valuation': 85304481, 'total_volume': 570697, 'high_24h': 5.72, 'low_24h': 5.46, 'price_change_24h': 0.243027, 'price_change_percentage_24h': 4.44898, 'market_cap_change_24h': 2641850, 'market_cap_change_percentage_24h': 4.41856, 'circulating_supply': 10945062.8598, 'total_supply': 14954970, 'max_supply': 14954970, 'ath': 352.17, 'ath_change_percentage': -98.37967, 'ath_date': '2021-11-21T05:19:36.624Z', 'atl': 2.4e-17, 'atl_change_percentage': 23349243074376690000, 'atl_date': '2021-09-11T11:30:41.311Z', 'roi': None, 'last_updated': '2023-12-02T11:48:02.540Z', 'price_change_percentage_24h_in_currency': 4.44897694099486}, {'id': 'taraxa', 'symbol': 'tara', 'name': 'Taraxa', 'image': 'https://assets.coingecko.com/coins/images/4372/large/CPuCDZX.jpg?1696504972', 'current_price': 0.01743842, 'market_cap': 62036936, 'market_cap_rank': 456, 'fully_diluted_valuation': 180014042, 'total_volume': 1172699, 'high_24h': 0.01848817, 'low_24h': 0.01713856, 'price_change_24h': -0.000109196070711283, 'price_change_percentage_24h': -0.62228, 'market_cap_change_24h': -741727.7220458984, 'market_cap_change_percentage_24h': -1.1815, 'circulating_supply': 3558979353, 'total_supply': 10327174354, 'max_supply': None, 'ath': 0.07045, 'ath_change_percentage': -75.25737, 'ath_date': '2021-03-22T05:38:18.728Z', 'atl': 0.00059894, 'atl_change_percentage': 2810.33909, 'atl_date': '2022-12-24T15:30:42.481Z', 'roi': None, 'last_updated': '2023-12-02T11:47:49.454Z', 'price_change_percentage_24h_in_currency': -0.6222844606621205}, {'id': 'sx-network', 'symbol': 'sx', 'name': 'SX Network', 'image': 'https://assets.coingecko.com/coins/images/13779/large/sx.png?1696513520', 'current_price': 0.173885, 'market_cap': 61957468, 'market_cap_rank': 457, 'fully_diluted_valuation': 163740139, 'total_volume': 68963, 'high_24h': 0.176193, 'low_24h': 0.160936, 'price_change_24h': -6.4179740713377e-05, 'price_change_percentage_24h': -0.0369, 'market_cap_change_24h': -2059460.7853858098, 'market_cap_change_percentage_24h': -3.21706, 'circulating_supply': 378389001.014, 'total_supply': 1000000000, 'max_supply': 1000000000, 'ath': 0.988804, 'ath_change_percentage': -83.44023, 'ath_date': '2021-05-10T16:13:59.746Z', 'atl': 0.094994, 'atl_change_percentage': 72.37274, 'atl_date': '2023-06-01T12:10:39.705Z', 'roi': None, 'last_updated': '2023-12-02T11:48:01.908Z', 'price_change_percentage_24h_in_currency': -0.03689564531627355}, {'id': 'linear', 'symbol': 'lina', 'name': 'Linear', 'image': 'https://assets.coingecko.com/coins/images/12509/large/1649227343-linalogo200px.png?1696512324', 'current_price': 0.01052854, 'market_cap': 61675553, 'market_cap_rank': 458, 'fully_diluted_valuation': 105098275, 'total_volume': 4531942, 'high_24h': 0.01062449, 'low_24h': 0.01033575, 'price_change_24h': -9.0605639307895e-05, 'price_change_percentage_24h': -0.85323, 'market_cap_change_24h': -705995.9773933887, 'market_cap_change_percentage_24h': -1.13174, 'circulating_supply': 5868369661.22152, 'total_supply': 10000000000, 'max_supply': 10000000000, 'ath': 0.298899, 'ath_change_percentage': -96.48081, 'ath_date': '2021-03-18T11:19:58.139Z', 'atl': 0.00471791, 'atl_change_percentage': 122.95542, 'atl_date': '2022-12-30T07:40:18.516Z', 'roi': None, 'last_updated': '2023-12-02T11:47:59.102Z', 'price_change_percentage_24h_in_currency': -0.8532291000201251}, {'id': 'tbtc', 'symbol': 'tbtc', 'name': 'tBTC', 'image': 'https://assets.coingecko.com/coins/images/11224/large/0x18084fba666a33d37592fa2633fd49a74dd93a88.png?1696511155', 'current_price': 38641, 'market_cap': 61456808, 'market_cap_rank': 459, 'fully_diluted_valuation': 61456808, 'total_volume': 2670446, 'high_24h': 38790, 'low_24h': 38004, 'price_change_24h': 246.2, 'price_change_percentage_24h': 0.64125, 'market_cap_change_24h': 222471, 'market_cap_change_percentage_24h': 0.36331, 'circulating_supply': 1591.1219515, 'total_supply': 1591.1219515, 'max_supply': None, 'ath': 146117, 'ath_change_percentage': -73.56521, 'ath_date': '2022-05-09T17:35:11.974Z', 'atl': 3754.11, 'atl_change_percentage': 928.89028, 'atl_date': '2022-12-28T14:59:43.317Z', 'roi': None, 'last_updated': '2023-12-02T11:47:58.236Z', 'price_change_percentage_24h_in_currency': 0.6412505728756368}, {'id': 'truefi', 'symbol': 'tru', 'name': 'TrueFi', 'image': 'https://assets.coingecko.com/coins/images/13180/large/truefi_glyph_color.png?1696512963', 'current_price': 0.057556, 'market_cap': 61394790, 'market_cap_rank': 460, 'fully_diluted_valuation': 68917077, 'total_volume': 3954711, 'high_24h': 0.059302, 'low_24h': 0.056739, 'price_change_24h': -0.001195992610972571, 'price_change_percentage_24h': -2.03565, 'market_cap_change_24h': -1119968.555799298, 'market_cap_change_percentage_24h': -1.79153, 'circulating_supply': 1071203485.0731, 'total_supply': 1202450773.15516, 'max_supply': 1202450773.15516, 'ath': 1.017, 'ath_change_percentage': -94.36219, 'ath_date': '2021-08-12T11:49:51.464Z', 'atl': 0.02638331, 'atl_change_percentage': 117.2665, 'atl_date': '2022-12-23T23:00:11.869Z', 'roi': None, 'last_updated': '2023-12-02T11:47:58.528Z', 'price_change_percentage_24h_in_currency': -2.035647139046471}, {'id': 'marinade', 'symbol': 'mnde', 'name': 'Marinade', 'image': 'https://assets.coingecko.com/coins/images/18867/large/MNDE.png?1696518327', 'current_price': 0.25416, 'market_cap': 61113283, 'market_cap_rank': 461, 'fully_diluted_valuation': 253813003, 'total_volume': 701652, 'high_24h': 0.265606, 'low_24h': 0.252491, 'price_change_24h': -0.011178704885205617, 'price_change_percentage_24h': -4.21299, 'market_cap_change_24h': -2662662.8739582524, 'market_cap_change_percentage_24h': -4.17503, 'circulating_supply': 240780743, 'total_supply': 1000000000, 'max_supply': 1000000000, 'ath': 2.54, 'ath_change_percentage': -89.9997, 'ath_date': '2021-10-08T16:57:39.985Z', 'atl': 0.00198339, 'atl_change_percentage': 12687.53169, 'atl_date': '2022-10-17T21:37:34.656Z', 'roi': None, 'last_updated': '2023-12-02T11:47:26.651Z', 'price_change_percentage_24h_in_currency': -4.21299121214551}, {'id': 'tokenlon', 'symbol': 'lon', 'name': 'Tokenlon', 'image': 'https://assets.coingecko.com/coins/images/13454/large/lon_logo.png?1696513217', 'current_price': 0.599438, 'market_cap': 61100183, 'market_cap_rank': 462, 'fully_diluted_valuation': 78707316, 'total_volume': 168997, 'high_24h': 0.609933, 'low_24h': 0.585023, 'price_change_24h': -6.5782909851486e-05, 'price_change_percentage_24h': -0.01097, 'market_cap_change_24h': 262427, 'market_cap_change_percentage_24h': 0.43136, 'circulating_supply': 102149401.286394, 'total_supply': 131585614.500845, 'max_supply': 200000000, 'ath': 9.81, 'ath_change_percentage': -93.89857, 'ath_date': '2021-01-30T22:28:20.948Z', 'atl': 0.371875, 'atl_change_percentage': 60.91316, 'atl_date': '2023-06-12T02:31:54.713Z', 'roi': None, 'last_updated': '2023-12-02T11:47:51.734Z', 'price_change_percentage_24h_in_currency': -0.010972895929405235}, {'id': 'republic-protocol', 'symbol': 'ren', 'name': 'Ren', 'image': 'https://assets.coingecko.com/coins/images/3139/large/REN.png?1696503862', 'current_price': 0.060785, 'market_cap': 60554655, 'market_cap_rank': 463, 'fully_diluted_valuation': 60554655, 'total_volume': 18292160, 'high_24h': 0.062712, 'low_24h': 0.059542, 'price_change_24h': 0.00014522, 'price_change_percentage_24h': 0.23948, 'market_cap_change_24h': -82382.85067991167, 'market_cap_change_percentage_24h': -0.13586, 'circulating_supply': 1000000000, 'total_supply': 1000000000, 'max_supply': 1000000000, 'ath': 1.8, 'ath_change_percentage': -96.63558, 'ath_date': '2021-02-20T00:17:32.664Z', 'atl': 0.01548, 'atl_change_percentage': 291.17932, 'atl_date': '2019-02-25T00:00:00.000Z', 'roi': {'times': -0.5024377436488828, 'currency': 'eth', 'percentage': -50.24377436488829}, 'last_updated': '2023-12-02T11:47:54.983Z', 'price_change_percentage_24h_in_currency': 0.23947660784116145}, {'id': 'dora-factory-2', 'symbol': 'dora', 'name': 'Dora Factory', 'image': 'https://assets.coingecko.com/coins/images/31552/large/DORA.jpg?1696530364', 'current_price': 0.060378, 'market_cap': 60295690, 'market_cap_rank': 464, 'fully_diluted_valuation': 60295690, 'total_volume': 597812, 'high_24h': 0.0631, 'low_24h': 0.057655, 'price_change_24h': -0.002645592715249376, 'price_change_percentage_24h': -4.19781, 'market_cap_change_24h': -2735483.5145015568, 'market_cap_change_percentage_24h': -4.33989, 'circulating_supply': 1000000000, 'total_supply': 1000000000, 'max_supply': 1000000000, 'ath': 3.14, 'ath_change_percentage': -98.07573, 'ath_date': '2023-09-05T23:03:32.872Z', 'atl': 0.01389692, 'atl_change_percentage': 334.37312, 'atl_date': '2023-10-09T13:26:01.996Z', 'roi': None, 'last_updated': '2023-12-02T11:47:49.551Z', 'price_change_percentage_24h_in_currency': -4.197806147787702}, {'id': 'nexacoin', 'symbol': 'nexa', 'name': 'Nexa', 'image': 'https://assets.coingecko.com/coins/images/28729/large/200x200.png?1696527709', 'current_price': 1.433e-05, 'market_cap': 60134807, 'market_cap_rank': 465, 'fully_diluted_valuation': 60138249, 'total_volume': 1615775, 'high_24h': 1.533e-05, 'low_24h': 1.406e-05, 'price_change_24h': -9.54246901601e-07, 'price_change_percentage_24h': -6.24342, 'market_cap_change_24h': -3939016.74945084, 'market_cap_change_percentage_24h': -6.14762, 'circulating_supply': 4193010000000, 'total_supply': 4193250000000, 'max_supply': 21000000000000, 'ath': 4.18e-05, 'ath_change_percentage': -65.72695, 'ath_date': '2023-04-02T17:45:20.485Z', 'atl': 3.71e-06, 'atl_change_percentage': 286.32265, 'atl_date': '2023-10-19T06:34:24.891Z', 'roi': None, 'last_updated': '2023-12-02T11:47:45.579Z', 'price_change_percentage_24h_in_currency': -6.243421250637575}, {'id': 'alexgo', 'symbol': 'alex', 'name': 'ALEX Lab', 'image': 'https://assets.coingecko.com/coins/images/25837/large/ALEX_Token.png?1696524922', 'current_price': 0.093748, 'market_cap': 59762830, 'market_cap_rank': 466, 'fully_diluted_valuation': 59763327, 'total_volume': 5733107, 'high_24h': 0.097918, 'low_24h': 0.075397, 'price_change_24h': 0.01630088, 'price_change_percentage_24h': 21.04768, 'market_cap_change_24h': 10140362, 'market_cap_change_percentage_24h': 20.43502, 'circulating_supply': 639738740.134916, 'total_supply': 639744060.189601, 'max_supply': 1000000000, 'ath': 0.181775, 'ath_change_percentage': -48.43485, 'ath_date': '2023-05-08T15:11:17.719Z', 'atl': 0.01109555, 'atl_change_percentage': 744.77389, 'atl_date': '2022-12-31T19:14:21.272Z', 'roi': None, 'last_updated': '2023-12-02T11:47:15.557Z', 'price_change_percentage_24h_in_currency': 21.04768223737493}, {'id': 'solend', 'symbol': 'slnd', 'name': 'Solend', 'image': 'https://assets.coingecko.com/coins/images/19573/large/i6AMOwun_400x400.jpg?1696519005', 'current_price': 1.58, 'market_cap': 59498289, 'market_cap_rank': 467, 'fully_diluted_valuation': 158230796, 'total_volume': 117575, 'high_24h': 1.59, 'low_24h': 1.38, 'price_change_24h': 0.154147, 'price_change_percentage_24h': 10.78758, 'market_cap_change_24h': 5661255, 'market_cap_change_percentage_24h': 10.51554, 'circulating_supply': 37602217.769611, 'total_supply': 100000000, 'max_supply': 100000000, 'ath': 16.65, 'ath_change_percentage': -90.4857, 'ath_date': '2021-11-07T18:55:10.412Z', 'atl': 0.272877, 'atl_change_percentage': 480.5283, 'atl_date': '2023-01-02T06:14:37.552Z', 'roi': None, 'last_updated': '2023-12-02T11:47:02.698Z', 'price_change_percentage_24h_in_currency': 10.787580850628153}, {'id': 'somesing', 'symbol': 'ssx', 'name': 'SOMESING Exchange', 'image': 'https://assets.coingecko.com/coins/images/10089/large/ico_ss_4x.png?1696510118', 'current_price': 0.02051986, 'market_cap': 59302841, 'market_cap_rank': 468, 'fully_diluted_valuation': 102885762, 'total_volume': 2476679, 'high_24h': 0.02186828, 'low_24h': 0.02012863, 'price_change_24h': -0.001348419865863499, 'price_change_percentage_24h': -6.1661, 'market_cap_change_24h': 565426, 'market_cap_change_percentage_24h': 0.96263, 'circulating_supply': 2881975104, 'total_supply': 5000000000, 'max_supply': 6000000000, 'ath': 0.285814, 'ath_change_percentage': -92.79962, 'ath_date': '2021-04-03T00:24:31.154Z', 'atl': 0.00097216, 'atl_change_percentage': 2016.91277, 'atl_date': '2020-06-23T08:09:13.158Z', 'roi': None, 'last_updated': '2023-12-02T11:47:56.981Z', 'price_change_percentage_24h_in_currency': -6.16609929188326}, {'id': 'hermez-network-token', 'symbol': 'hez', 'name': 'Hermez Network', 'image': 'https://assets.coingecko.com/coins/images/12826/large/hermez_logo.png?1696512617', 'current_price': 3.59, 'market_cap': 59276148, 'market_cap_rank': 469, 'fully_diluted_valuation': 44521310, 'total_volume': 23525, 'high_24h': 3.75, 'low_24h': 3.44, 'price_change_24h': 0.00672984, 'price_change_percentage_24h': 0.1878, 'market_cap_change_24h': -1085819.420136407, 'market_cap_change_percentage_24h': -1.79885, 'circulating_supply': 16706072.3885572, 'total_supply': 12547647.9039376, 'max_supply': 12547647.9039376, 'ath': 10.3, 'ath_change_percentage': -65.557, 'ath_date': '2021-12-26T21:51:13.032Z', 'atl': 1.81, 'atl_change_percentage': 96.1218, 'atl_date': '2020-10-16T09:35:16.795Z', 'roi': None, 'last_updated': '2023-12-02T11:47:48.122Z', 'price_change_percentage_24h_in_currency': 0.1877956460775942}, {'id': 'moonriver', 'symbol': 'movr', 'name': 'Moonriver', 'image': 'https://assets.coingecko.com/coins/images/17984/large/9285.png?1696517502', 'current_price': 6.87, 'market_cap': 58941855, 'market_cap_rank': 470, 'fully_diluted_valuation': 76016380, 'total_volume': 4717961, 'high_24h': 6.9, 'low_24h': 6.55, 'price_change_24h': 0.193103, 'price_change_percentage_24h': 2.89128, 'market_cap_change_24h': 1512865, 'market_cap_change_percentage_24h': 2.63432, 'circulating_supply': 8587278, 'total_supply': 11074877, 'max_supply': None, 'ath': 494.26, 'ath_change_percentage': -98.61119, 'ath_date': '2021-09-11T11:40:35.912Z', 'atl': 3.62, 'atl_change_percentage': 89.70375, 'atl_date': '2023-10-19T21:25:26.120Z', 'roi': None, 'last_updated': '2023-12-02T11:47:59.827Z', 'price_change_percentage_24h_in_currency': 2.8912769217160643}, {'id': 'alien-worlds', 'symbol': 'tlm', 'name': 'Alien Worlds', 'image': 'https://assets.coingecko.com/coins/images/14676/large/kY-C4o7RThfWrDQsLCAG4q4clZhBDDfJQVhWUEKxXAzyQYMj4Jmq1zmFwpRqxhAJFPOa0AsW_PTSshoPuMnXNwq3rU7Imp15QimXTjlXMx0nC088mt1rIwRs75GnLLugWjSllxgzvQ9YrP4tBgclK4_rb17hjnusGj_c0u2fx0AvVokjSNB-v2poTj0xT9BZRCbzRE3-lF1.jpg?1696514350', 'current_price': 0.01562074, 'market_cap': 58859035, 'market_cap_rank': 471, 'fully_diluted_valuation': 96798411, 'total_volume': 12508959, 'high_24h': 0.01580499, 'low_24h': 0.01474322, 'price_change_24h': 0.00061942, 'price_change_percentage_24h': 4.12913, 'market_cap_change_24h': 2138919, 'market_cap_change_percentage_24h': 3.77101, 'circulating_supply': 3770795505.7703, 'total_supply': 6201376137.7587, 'max_supply': 10000000000, 'ath': 0.739714, 'ath_change_percentage': -97.88972, 'ath_date': '2021-05-03T00:00:00.000Z', 'atl': 0.0092156, 'atl_change_percentage': 69.38682, 'atl_date': '2023-09-02T18:51:33.267Z', 'roi': None, 'last_updated': '2023-12-02T11:48:01.417Z', 'price_change_percentage_24h_in_currency': 4.129125052960362}, {'id': 'sun-token', 'symbol': 'sun', 'name': 'Sun Token', 'image': 'https://assets.coingecko.com/coins/images/12424/large/RSFOmQ.png?1696512245', 'current_price': 0.00604998, 'market_cap': 58712170, 'market_cap_rank': 472, 'fully_diluted_valuation': 120009152, 'total_volume': 22856817, 'high_24h': 0.00606973, 'low_24h': 0.00595759, 'price_change_24h': 5.387e-05, 'price_change_percentage_24h': 0.89846, 'market_cap_change_24h': 230323, 'market_cap_change_percentage_24h': 0.39384, 'circulating_supply': 9736049472, 'total_supply': 19900730000, 'max_supply': None, 'ath': 66.45, 'ath_change_percentage': -99.99091, 'ath_date': '2020-09-11T03:18:35.837Z', 'atl': 0.00462303, 'atl_change_percentage': 30.6689, 'atl_date': '2022-11-14T04:45:13.210Z', 'roi': None, 'last_updated': '2023-12-02T11:47:58.492Z', 'price_change_percentage_24h_in_currency': 0.8984629365824766}, {'id': 'hashflow', 'symbol': 'hft', 'name': 'Hashflow', 'image': 'https://assets.coingecko.com/coins/images/26136/large/hashflow-icon-cmc.png?1696525224', 'current_price': 0.335666, 'market_cap': 58516472, 'market_cap_rank': 473, 'fully_diluted_valuation': 333942555, 'total_volume': 14068863, 'high_24h': 0.338036, 'low_24h': 0.327013, 'price_change_24h': 0.00424732, 'price_change_percentage_24h': 1.28156, 'market_cap_change_24h': 244960, 'market_cap_change_percentage_24h': 0.42038, 'circulating_supply': 175229156, 'total_supply': 1000000000, 'max_supply': 1000000000, 'ath': 3.61, 'ath_change_percentage': -90.70738, 'ath_date': '2022-11-07T13:04:41.540Z', 'atl': 0.199986, 'atl_change_percentage': 67.81446, 'atl_date': '2022-11-07T12:54:58.666Z', 'roi': None, 'last_updated': '2023-12-02T11:47:53.588Z', 'price_change_percentage_24h_in_currency': 1.2815580551006627}, {'id': 'carry', 'symbol': 'cre', 'name': 'Carry', 'image': 'https://assets.coingecko.com/coins/images/3994/large/Carry.png?1696504635', 'current_price': 0.00582459, 'market_cap': 58252984, 'market_cap_rank': 474, 'fully_diluted_valuation': 58252984, 'total_volume': 3895584, 'high_24h': 0.00588785, 'low_24h': 0.00573184, 'price_change_24h': -4.0603498070971e-05, 'price_change_percentage_24h': -0.69228, 'market_cap_change_24h': -472430.75371286273, 'market_cap_change_percentage_24h': -0.80447, 'circulating_supply': 10000000000, 'total_supply': 10000000000, 'max_supply': 10000000000, 'ath': 0.084369, 'ath_change_percentage': -93.08609, 'ath_date': '2019-05-17T09:53:37.754Z', 'atl': 0.00083473, 'atl_change_percentage': 598.80875, 'atl_date': '2020-03-13T02:17:31.348Z', 'roi': {'times': -0.8198211002617518, 'currency': 'eth', 'percentage': -81.98211002617519}, 'last_updated': '2023-12-02T11:47:54.953Z', 'price_change_percentage_24h_in_currency': -0.692278676354789}, {'id': 'mainframe', 'symbol': 'mft', 'name': 'Mainframe', 'image': 'https://assets.coingecko.com/coins/images/3293/large/Mainframe_Token_Logo.png?1696504003', 'current_price': 0.00613653, 'market_cap': 57600882, 'market_cap_rank': 475, 'fully_diluted_valuation': 61365322, 'total_volume': 0, 'high_24h': 0.00657907, 'low_24h': 0.00610771, 'price_change_24h': -0.000442540611241376, 'price_change_percentage_24h': -6.72649, 'market_cap_change_24h': -4153930.7244529575, 'market_cap_change_percentage_24h': -6.72649, 'circulating_supply': 9386552598.643353, 'total_supply': 10000000000, 'max_supply': 10000000000, 'ath': 0.060271, 'ath_change_percentage': -89.81843, 'ath_date': '2023-05-30T15:22:02.815Z', 'atl': 0.00039058, 'atl_change_percentage': 1471.13066, 'atl_date': '2020-03-13T02:24:16.179Z', 'roi': None, 'last_updated': '2023-12-02T11:47:33.820Z', 'price_change_percentage_24h_in_currency': -6.726489020847794}, {'id': 'verge', 'symbol': 'xvg', 'name': 'Verge', 'image': 'https://assets.coingecko.com/coins/images/203/large/Verge_Coin_%28native%29_icon_200x200.jpg?1699220755', 'current_price': 0.00347697, 'market_cap': 57390559, 'market_cap_rank': 476, 'fully_diluted_valuation': 57505357, 'total_volume': 1309474, 'high_24h': 0.00348573, 'low_24h': 0.00344012, 'price_change_24h': -5.471942117982e-06, 'price_change_percentage_24h': -0.15713, 'market_cap_change_24h': -151756.2277309671, 'market_cap_change_percentage_24h': -0.26373, 'circulating_supply': 16521951237.8232, 'total_supply': 16555000000, 'max_supply': None, 'ath': 0.261874, 'ath_change_percentage': -98.67394, 'ath_date': '2017-12-24T00:00:00.000Z', 'atl': 2.23e-06, 'atl_change_percentage': 155302.89576, 'atl_date': '2015-02-06T00:00:00.000Z', 'roi': None, 'last_updated': '2023-12-02T11:47:56.687Z', 'price_change_percentage_24h_in_currency': -0.15712951680183065}, {'id': 'crown-by-third-time-games', 'symbol': 'crown', 'name': 'Crown by Third Time Games', 'image': 'https://assets.coingecko.com/coins/images/30452/large/crown_200_transparent.png?1696529338', 'current_price': 0.719643, 'market_cap': 56549890, 'market_cap_rank': 477, 'fully_diluted_valuation': 179742926, 'total_volume': 434123, 'high_24h': 0.726209, 'low_24h': 0.678125, 'price_change_24h': 0.03815421, 'price_change_percentage_24h': 5.59866, 'market_cap_change_24h': 2893831, 'market_cap_change_percentage_24h': 5.3933, 'circulating_supply': 78653846.33, 'total_supply': 250000000, 'max_supply': 250000000, 'ath': 0.866516, 'ath_change_percentage': -16.94988, 'ath_date': '2023-08-19T11:15:39.954Z', 'atl': 0.02587638, 'atl_change_percentage': 2681.07946, 'atl_date': '2023-06-30T10:40:19.922Z', 'roi': None, 'last_updated': '2023-12-02T11:45:02.187Z', 'price_change_percentage_24h_in_currency': 5.598657541945289}, {'id': 'strike', 'symbol': 'strk', 'name': 'Strike', 'image': 'https://assets.coingecko.com/coins/images/14607/large/Jw-36llq_400x400.jpg?1696514286', 'current_price': 14.06, 'market_cap': 56344594, 'market_cap_rank': 478, 'fully_diluted_valuation': 92045101, 'total_volume': 1571509, 'high_24h': 14.13, 'low_24h': 13.66, 'price_change_24h': 0.246097, 'price_change_percentage_24h': 1.78145, 'market_cap_change_24h': 1022752, 'market_cap_change_percentage_24h': 1.84873, 'circulating_supply': 4003946.698595902, 'total_supply': 6540888, 'max_supply': 6540888, 'ath': 105.33, 'ath_change_percentage': -86.64011, 'ath_date': '2021-04-12T06:33:34.972Z', 'atl': 8.52, 'atl_change_percentage': 65.15926, 'atl_date': '2022-12-30T12:45:05.665Z', 'roi': None, 'last_updated': '2023-12-02T11:47:58.326Z', 'price_change_percentage_24h_in_currency': 1.781449764428628}, {'id': 'euro-coin', 'symbol': 'eurc', 'name': 'EURC', 'image': 'https://assets.coingecko.com/coins/images/26045/large/euro.png?1696525125', 'current_price': 1.086, 'market_cap': 55922310, 'market_cap_rank': 479, 'fully_diluted_valuation': 55922310, 'total_volume': 2243236, 'high_24h': 1.092, 'low_24h': 1.083, 'price_change_24h': -0.004308065839516928, 'price_change_percentage_24h': -0.39497, 'market_cap_change_24h': -163052.41810266674, 'market_cap_change_percentage_24h': -0.29072, 'circulating_supply': 51487677.86, 'total_supply': 51487677.86, 'max_supply': None, 'ath': 1.35, 'ath_change_percentage': -19.64996, 'ath_date': '2023-03-14T09:50:50.729Z', 'atl': 0.052848, 'atl_change_percentage': 1955.58847, 'atl_date': '2022-12-09T03:16:34.877Z', 'roi': None, 'last_updated': '2023-12-02T11:47:59.127Z', 'price_change_percentage_24h_in_currency': -0.39496925704359065}, {'id': 'shardus', 'symbol': 'ult', 'name': 'Shardus', 'image': 'https://assets.coingecko.com/coins/images/8383/large/final_logo_photoshop.png?1696508575', 'current_price': 0.126949, 'market_cap': 55801192, 'market_cap_rank': 480, 'fully_diluted_valuation': 126948774, 'total_volume': 238.21, 'high_24h': 0.127, 'low_24h': 0.126367, 'price_change_24h': 0.00053005, 'price_change_percentage_24h': 0.41928, 'market_cap_change_24h': 163894, 'market_cap_change_percentage_24h': 0.29458, 'circulating_supply': 439556760.33010703, 'total_supply': 1000000000, 'max_supply': None, 'ath': 2.19, 'ath_change_percentage': -94.21282, 'ath_date': '2021-05-03T23:24:40.764Z', 'atl': 0.02304276, 'atl_change_percentage': 450.92693, 'atl_date': '2020-02-03T01:57:18.293Z', 'roi': None, 'last_updated': '2023-12-01T14:35:56.724Z', 'price_change_percentage_24h_in_currency': 0.4192804173717057}, {'id': 'wazirx', 'symbol': 'wrx', 'name': 'WazirX', 'image': 'https://assets.coingecko.com/coins/images/10547/large/WazirX.png?1696510532', 'current_price': 0.121759, 'market_cap': 55632658, 'market_cap_rank': 481, 'fully_diluted_valuation': 121863271, 'total_volume': 764932, 'high_24h': 0.122683, 'low_24h': 0.117869, 'price_change_24h': 0.00329294, 'price_change_percentage_24h': 2.77965, 'market_cap_change_24h': 1588163, 'market_cap_change_percentage_24h': 2.93862, 'circulating_supply': 456517027.3318671, 'total_supply': 1000000000, 'max_supply': None, 'ath': 5.88, 'ath_change_percentage': -97.92703, 'ath_date': '2021-04-05T06:58:37.399Z', 'atl': 0.04757088, 'atl_change_percentage': 156.17201, 'atl_date': '2020-02-05T07:19:43.950Z', 'roi': {'times': 5.087951678629075, 'currency': 'usd', 'percentage': 508.7951678629075}, 'last_updated': '2023-12-02T11:47:31.058Z', 'price_change_percentage_24h_in_currency': 2.779650500300895}, {'id': 'ampleforth', 'symbol': 'ampl', 'name': 'Ampleforth', 'image': 'https://assets.coingecko.com/coins/images/4708/large/Ampleforth.png?1696505273', 'current_price': 1.21, 'market_cap': 55466938, 'market_cap_rank': 482, 'fully_diluted_valuation': 67450526, 'total_volume': 302657, 'high_24h': 1.22, 'low_24h': 1.19, 'price_change_24h': 0.01726837, 'price_change_percentage_24h': 1.44459, 'market_cap_change_24h': 733444, 'market_cap_change_percentage_24h': 1.34003, 'circulating_supply': 45763014.48709486, 'total_supply': 55650077.1498322, 'max_supply': None, 'ath': 4.07, 'ath_change_percentage': -70.19515, 'ath_date': '2020-07-12T20:49:38.893Z', 'atl': 0.155869, 'atl_change_percentage': 677.59009, 'atl_date': '2019-10-31T23:34:28.705Z', 'roi': None, 'last_updated': '2023-12-02T11:47:53.287Z', 'price_change_percentage_24h_in_currency': 1.4445946016070674}, {'id': 'guildfi', 'symbol': 'gf', 'name': 'GuildFi', 'image': 'https://assets.coingecko.com/coins/images/20933/large/guildfi-logo-200.png?1696520322', 'current_price': 0.110078, 'market_cap': 54994476, 'market_cap_rank': 483, 'fully_diluted_valuation': 110015821, 'total_volume': 1525281, 'high_24h': 0.111481, 'low_24h': 0.105903, 'price_change_24h': 0.00183543, 'price_change_percentage_24h': 1.69566, 'market_cap_change_24h': 3488964, 'market_cap_change_percentage_24h': 6.77396, 'circulating_supply': 499877881.50035, 'total_supply': 1000000000, 'max_supply': 1000000000, 'ath': 4.06, 'ath_change_percentage': -97.28784, 'ath_date': '2021-12-04T15:04:25.133Z', 'atl': 0.03961789, 'atl_change_percentage': 177.85928, 'atl_date': '2023-10-16T11:15:07.803Z', 'roi': None, 'last_updated': '2023-12-02T11:47:49.664Z', 'price_change_percentage_24h_in_currency': 1.6956633416062488}, {'id': 'lcx', 'symbol': 'lcx', 'name': 'LCX', 'image': 'https://assets.coingecko.com/coins/images/9985/large/zRPSu_0o_400x400.jpg?1696510023', 'current_price': 0.070812, 'market_cap': 54855933, 'market_cap_rank': 484, 'fully_diluted_valuation': 67239931, 'total_volume': 32226, 'high_24h': 0.071578, 'low_24h': 0.067898, 'price_change_24h': 0.0001146, 'price_change_percentage_24h': 0.1621, 'market_cap_change_24h': 310948, 'market_cap_change_percentage_24h': 0.57008, 'circulating_supply': 775032563.659999, 'total_supply': 950000000, 'max_supply': None, 'ath': 0.563966, 'ath_change_percentage': -87.44951, 'ath_date': '2021-11-03T20:35:37.124Z', 'atl': 7.085e-05, 'atl_change_percentage': 99799.28406, 'atl_date': '2019-11-26T14:14:11.897Z', 'roi': None, 'last_updated': '2023-12-02T11:47:58.250Z', 'price_change_percentage_24h_in_currency': 0.16209515694281704}, {'id': 'polygon-ecosystem-token', 'symbol': 'pol', 'name': 'Polygon Ecosystem Token', 'image': 'https://assets.coingecko.com/coins/images/32440/large/polygon.png?1698233684', 'current_price': 0.807629, 'market_cap': 54122501, 'market_cap_rank': 485, 'fully_diluted_valuation': 8062727600, 'total_volume': 199848, 'high_24h': 0.813743, 'low_24h': 0.778571, 'price_change_24h': 0.02730458, 'price_change_percentage_24h': 3.49913, 'market_cap_change_24h': 1666395, 'market_cap_change_percentage_24h': 3.17674, 'circulating_supply': 67279033.23021707, 'total_supply': 10022680230.7153, 'max_supply': None, 'ath': 0.977771, 'ath_change_percentage': -17.40101, 'ath_date': '2023-11-14T09:21:03.169Z', 'atl': 0.604272, 'atl_change_percentage': 33.65323, 'atl_date': '2023-10-27T18:29:48.465Z', 'roi': None, 'last_updated': '2023-12-02T11:47:35.767Z', 'price_change_percentage_24h_in_currency': 3.4991313210250103}, {'id': 'solo-coin', 'symbol': 'solo', 'name': 'Sologenic', 'image': 'https://assets.coingecko.com/coins/images/10771/large/solo.png?1696510734', 'current_price': 0.134841, 'market_cap': 53856881, 'market_cap_rank': 486, 'fully_diluted_valuation': 53856881, 'total_volume': 1615740, 'high_24h': 0.137629, 'low_24h': 0.130875, 'price_change_24h': 0.00394769, 'price_change_percentage_24h': 3.01595, 'market_cap_change_24h': 1788822, 'market_cap_change_percentage_24h': 3.43555, 'circulating_supply': 399198717, 'total_supply': 399198717, 'max_supply': 400000000, 'ath': 6.55, 'ath_change_percentage': -97.94476, 'ath_date': '2021-12-02T22:46:01.114Z', 'atl': 0.061723, 'atl_change_percentage': 118.13407, 'atl_date': '2021-10-28T22:57:25.877Z', 'roi': None, 'last_updated': '2023-12-02T11:47:50.343Z', 'price_change_percentage_24h_in_currency': 3.0159496202362113}, {'id': 'route', 'symbol': 'route', 'name': 'Router Protocol', 'image': 'https://assets.coingecko.com/coins/images/13709/large/route_token_200x200-19.png?1696513454', 'current_price': 3.88, 'market_cap': 53840486, 'market_cap_rank': 487, 'fully_diluted_valuation': 78231266, 'total_volume': 1224695, 'high_24h': 4.11, 'low_24h': 3.83, 'price_change_24h': 0.01995947, 'price_change_percentage_24h': 0.5171, 'market_cap_change_24h': 669818, 'market_cap_change_percentage_24h': 1.25975, 'circulating_supply': 13764441.9842, 'total_supply': 20000000, 'max_supply': None, 'ath': 19.08, 'ath_change_percentage': -79.64831, 'ath_date': '2021-05-16T15:44:05.672Z', 'atl': 0.947866, 'atl_change_percentage': 309.66388, 'atl_date': '2022-05-12T07:30:03.074Z', 'roi': None, 'last_updated': '2023-12-02T11:47:50.571Z', 'price_change_percentage_24h_in_currency': 0.5170994067085131}, {'id': 'bficoin', 'symbol': 'bfic', 'name': 'Bficoin', 'image': 'https://assets.coingecko.com/coins/images/14884/large/Asset_1.png?1696514548', 'current_price': 28.5, 'market_cap': 53833657, 'market_cap_rank': 488, 'fully_diluted_valuation': 598223281, 'total_volume': 934625, 'high_24h': 28.39, 'low_24h': 22.99, 'price_change_24h': 5.4, 'price_change_percentage_24h': 23.38782, 'market_cap_change_24h': 10035020, 'market_cap_change_percentage_24h': 22.91172, 'circulating_supply': 1889774, 'total_supply': 21000000, 'max_supply': 21000000, 'ath': 50.26, 'ath_change_percentage': -43.31733, 'ath_date': '2021-04-28T17:59:34.368Z', 'atl': 0.493617, 'atl_change_percentage': 5671.09039, 'atl_date': '2021-12-05T16:02:40.576Z', 'roi': None, 'last_updated': '2023-12-02T11:48:00.622Z', 'price_change_percentage_24h_in_currency': 23.387817940762307}, {'id': 'boba-network', 'symbol': 'boba', 'name': 'Boba Network', 'image': 'https://assets.coingecko.com/coins/images/20285/large/Boba-200x200---white.png?1696519690', 'current_price': 0.151779, 'market_cap': 53652954, 'market_cap_rank': 489, 'fully_diluted_valuation': 75858899, 'total_volume': 1679349, 'high_24h': 0.151753, 'low_24h': 0.146956, 'price_change_24h': 0.00307154, 'price_change_percentage_24h': 2.06549, 'market_cap_change_24h': 1189742, 'market_cap_change_percentage_24h': 2.26776, 'circulating_supply': 353636519.084703, 'total_supply': 500000000, 'max_supply': 500000000, 'ath': 7.93, 'ath_change_percentage': -98.08508, 'ath_date': '2021-11-25T20:48:25.017Z', 'atl': 0.103024, 'atl_change_percentage': 47.30532, 'atl_date': '2023-10-12T22:10:59.735Z', 'roi': None, 'last_updated': '2023-12-02T11:48:00.248Z', 'price_change_percentage_24h_in_currency': 2.065485647654631}, {'id': 'firmachain', 'symbol': 'fct', 'name': 'Firmachain', 'image': 'https://assets.coingecko.com/coins/images/9892/large/6mHcLurm_400x400.jpg?1696509941', 'current_price': 0.068166, 'market_cap': 53632676, 'market_cap_rank': 490, 'fully_diluted_valuation': 54546922, 'total_volume': 1607673, 'high_24h': 0.068879, 'low_24h': 0.067043, 'price_change_24h': 0.00048353, 'price_change_percentage_24h': 0.71441, 'market_cap_change_24h': 399705, 'market_cap_change_percentage_24h': 0.75086, 'circulating_supply': 785871854.317398, 'total_supply': 799268169.866061, 'max_supply': None, 'ath': 0.44136, 'ath_change_percentage': -84.53785, 'ath_date': '2021-04-02T10:28:21.478Z', 'atl': 0.0120214, 'atl_change_percentage': 467.68592, 'atl_date': '2020-03-13T02:39:47.971Z', 'roi': None, 'last_updated': '2023-12-02T11:48:01.034Z', 'price_change_percentage_24h_in_currency': 0.7144076193262879}, {'id': 'tectum', 'symbol': 'tet', 'name': 'Tectum', 'image': 'https://assets.coingecko.com/coins/images/29575/large/Icon_TET.png?1696528514', 'current_price': 10.68, 'market_cap': 53607150, 'market_cap_rank': 491, 'fully_diluted_valuation': 106757335, 'total_volume': 1055591, 'high_24h': 11.17, 'low_24h': 10.47, 'price_change_24h': -0.2772138073547694, 'price_change_percentage_24h': -2.52894, 'market_cap_change_24h': -1235788.6113940626, 'market_cap_change_percentage_24h': -2.25332, 'circulating_supply': 5021402.07815669, 'total_supply': 10000000, 'max_supply': 10000000, 'ath': 16.98, 'ath_change_percentage': -37.09476, 'ath_date': '2023-07-23T10:35:57.017Z', 'atl': 3.05, 'atl_change_percentage': 249.7878, 'atl_date': '2023-10-10T02:50:53.429Z', 'roi': None, 'last_updated': '2023-12-02T11:47:36.882Z', 'price_change_percentage_24h_in_currency': -2.52894301275844}, {'id': 'fidu', 'symbol': 'fidu', 'name': 'Fidu', 'image': 'https://assets.coingecko.com/coins/images/25944/large/GFI-asset-icon.png?1696525023', 'current_price': 0.816894, 'market_cap': 53500153, 'market_cap_rank': 492, 'fully_diluted_valuation': 53500153, 'total_volume': 2400.86, 'high_24h': 0.817674, 'low_24h': 0.81508, 'price_change_24h': 0.0011131, 'price_change_percentage_24h': 0.13645, 'market_cap_change_24h': 77269, 'market_cap_change_percentage_24h': 0.14464, 'circulating_supply': 65492172.2885268, 'total_supply': 65492172.2885268, 'max_supply': None, 'ath': 1.11, 'ath_change_percentage': -26.64603, 'ath_date': '2022-11-08T04:22:06.310Z', 'atl': 0.556299, 'atl_change_percentage': 46.84437, 'atl_date': '2023-08-08T23:54:00.305Z', 'roi': None, 'last_updated': '2023-12-02T11:30:35.309Z', 'price_change_percentage_24h_in_currency': 0.13644556671109537}, {'id': 'cornucopias', 'symbol': 'copi', 'name': 'Cornucopias', 'image': 'https://assets.coingecko.com/coins/images/21452/large/g56WwJDA_400x400.jpg?1696520814', 'current_price': 0.065137, 'market_cap': 53471260, 'market_cap_rank': 493, 'fully_diluted_valuation': 249852553, 'total_volume': 2474368, 'high_24h': 0.073024, 'low_24h': 0.04875027, 'price_change_24h': 0.01591624, 'price_change_percentage_24h': 32.33663, 'market_cap_change_24h': 13049732, 'market_cap_change_percentage_24h': 32.28411, 'circulating_supply': 821803243, 'total_supply': 3840000000, 'max_supply': 3840000000, 'ath': 0.07685, 'ath_change_percentage': -15.23735, 'ath_date': '2022-01-05T03:27:33.218Z', 'atl': 0.01021501, 'atl_change_percentage': 537.68676, 'atl_date': '2022-09-16T11:16:17.309Z', 'roi': None, 'last_updated': '2023-12-02T11:47:53.157Z', 'price_change_percentage_24h_in_currency': 32.336634738445476}, {'id': 'dextools', 'symbol': 'dext', 'name': 'DexTools', 'image': 'https://assets.coingecko.com/coins/images/11603/large/dext.png?1696511498', 'current_price': 0.596471, 'market_cap': 53306427, 'market_cap_rank': 494, 'fully_diluted_valuation': 78460499, 'total_volume': 194310, 'high_24h': 0.596668, 'low_24h': 0.575126, 'price_change_24h': 0.02098894, 'price_change_percentage_24h': 3.6472, 'market_cap_change_24h': 1839288, 'market_cap_change_percentage_24h': 3.57371, 'circulating_supply': 89376532.40209083, 'total_supply': 131551255, 'max_supply': 131551255, 'ath': 0.940315, 'ath_change_percentage': -36.56226, 'ath_date': '2021-03-09T10:39:27.180Z', 'atl': 1.117e-05, 'atl_change_percentage': 5341872.12935, 'atl_date': '2020-06-19T22:59:18.232Z', 'roi': None, 'last_updated': '2023-12-02T11:47:35.036Z', 'price_change_percentage_24h_in_currency': 3.6471951777375793}, {'id': 'cocos-bcx', 'symbol': 'combo', 'name': 'COMBO', 'image': 'https://assets.coingecko.com/coins/images/4932/large/COMBO.jpg?1696505472', 'current_price': 0.749944, 'market_cap': 53260681, 'market_cap_rank': 495, 'fully_diluted_valuation': 74960409, 'total_volume': 8324122, 'high_24h': 0.759921, 'low_24h': 0.661446, 'price_change_24h': 0.082971, 'price_change_percentage_24h': 12.43995, 'market_cap_change_24h': 5860385, 'market_cap_change_percentage_24h': 12.3636, 'circulating_supply': 71051748, 'total_supply': 100000000, 'max_supply': 100000000, 'ath': 5.44, 'ath_change_percentage': -86.23158, 'ath_date': '2021-11-20T18:43:23.013Z', 'atl': 0.00018783, 'atl_change_percentage': 398981.88505, 'atl_date': '2020-03-13T02:22:35.503Z', 'roi': None, 'last_updated': '2023-12-02T11:47:31.317Z', 'price_change_percentage_24h_in_currency': 12.439947052372053}, {'id': 'ankreth', 'symbol': 'ankreth', 'name': 'Ankr Staked ETH', 'image': 'https://assets.coingecko.com/coins/images/13403/large/aETHc.png?1696513165', 'current_price': 2386.61, 'market_cap': 53028982, 'market_cap_rank': 496, 'fully_diluted_valuation': 53028982, 'total_volume': 2308.83, 'high_24h': 2396.45, 'low_24h': 2344.02, 'price_change_24h': 8.69, 'price_change_percentage_24h': 0.36534, 'market_cap_change_24h': 148969, 'market_cap_change_percentage_24h': 0.28171, 'circulating_supply': 22227.3940533755, 'total_supply': 22227.3940533755, 'max_supply': None, 'ath': 4733.13, 'ath_change_percentage': -49.5936, 'ath_date': '2021-11-26T04:33:49.980Z', 'atl': 534.32, 'atl_change_percentage': 346.51485, 'atl_date': '2020-12-24T06:45:06.825Z', 'roi': None, 'last_updated': '2023-12-02T11:47:57.987Z', 'price_change_percentage_24h_in_currency': 0.3653415670101958}, {'id': 'bazaars', 'symbol': 'bzr', 'name': 'Bazaars', 'image': 'https://assets.coingecko.com/coins/images/26392/large/bazaars_logo-color-black-icon.png?1696525469', 'current_price': 4.54, 'market_cap': 52935583, 'market_cap_rank': 497, 'fully_diluted_valuation': 2519515931, 'total_volume': 1442070, 'high_24h': 4.58, 'low_24h': 4.53, 'price_change_24h': -0.021290681507276865, 'price_change_percentage_24h': -0.46714, 'market_cap_change_24h': -279536.2069280818, 'market_cap_change_percentage_24h': -0.52529, 'circulating_supply': 11672344.1423, 'total_supply': 555555555, 'max_supply': 555555555, 'ath': 4.82, 'ath_change_percentage': -5.97196, 'ath_date': '2023-08-19T15:35:24.434Z', 'atl': 0.599169, 'atl_change_percentage': 657.06272, 'atl_date': '2023-07-12T17:40:51.991Z', 'roi': None, 'last_updated': '2023-12-02T11:47:08.217Z', 'price_change_percentage_24h_in_currency': -0.46714371211866473}, {'id': 'aurora-near', 'symbol': 'aurora', 'name': 'Aurora', 'image': 'https://assets.coingecko.com/coins/images/20582/large/aurora.jpeg?1696519989', 'current_price': 0.136137, 'market_cap': 52695045, 'market_cap_rank': 498, 'fully_diluted_valuation': 136175705, 'total_volume': 1106348, 'high_24h': 0.146606, 'low_24h': 0.134475, 'price_change_24h': -0.006138615332008713, 'price_change_percentage_24h': -4.31459, 'market_cap_change_24h': -2244106.553268075, 'market_cap_change_percentage_24h': -4.08471, 'circulating_supply': 386963630, 'total_supply': 1000000000, 'max_supply': 1000000000, 'ath': 35.4, 'ath_change_percentage': -99.61501, 'ath_date': '2022-01-16T22:13:43.382Z', 'atl': 0.04736812, 'atl_change_percentage': 187.70751, 'atl_date': '2023-10-19T15:59:56.174Z', 'roi': None, 'last_updated': '2023-12-02T11:47:59.738Z', 'price_change_percentage_24h_in_currency': -4.314594134855556}, {'id': 'coinweb', 'symbol': 'cweb', 'name': 'Coinweb', 'image': 'https://assets.coingecko.com/coins/images/21607/large/Logo_200x200.png?1696520967', 'current_price': 0.0132702, 'market_cap': 52625674, 'market_cap_rank': 499, 'fully_diluted_valuation': 101320497, 'total_volume': 165409, 'high_24h': 0.01336455, 'low_24h': 0.0131625, 'price_change_24h': 9.682e-05, 'price_change_percentage_24h': 0.73497, 'market_cap_change_24h': 404408, 'market_cap_change_percentage_24h': 0.77441, 'circulating_supply': 3965503514, 'total_supply': 7634805530.77841, 'max_supply': 7680000000, 'ath': 0.661693, 'ath_change_percentage': -97.99405, 'ath_date': '2021-12-30T10:05:04.543Z', 'atl': 0.01039959, 'atl_change_percentage': 27.63186, 'atl_date': '2022-12-26T22:06:36.422Z', 'roi': None, 'last_updated': '2023-12-02T11:47:57.952Z', 'price_change_percentage_24h_in_currency': 0.734972988714736}, {'id': 'uwu-lend', 'symbol': 'uwu', 'name': 'UwU Lend', 'image': 'https://assets.coingecko.com/coins/images/27408/large/uwu_logo_no-bg_1024.png?1696526449', 'current_price': 9.38, 'market_cap': 52426512, 'market_cap_rank': 500, 'fully_diluted_valuation': 149154615, 'total_volume': 12322.91, 'high_24h': 9.39, 'low_24h': 9.26, 'price_change_24h': 0.00661492, 'price_change_percentage_24h': 0.07058, 'market_cap_change_24h': -294792.53456641734, 'market_cap_change_percentage_24h': -0.55915, 'circulating_supply': 5623856.80968205, 'total_supply': 16000000, 'max_supply': 16000000, 'ath': 380.72, 'ath_change_percentage': -97.53644, 'ath_date': '2022-10-01T09:51:24.562Z', 'atl': 5.53, 'atl_change_percentage': 69.54365, 'atl_date': '2023-03-29T00:34:40.284Z', 'roi': None, 'last_updated': '2023-12-02T11:47:33.022Z', 'price_change_percentage_24h_in_currency': 0.07057772014832268}]\n"
     ]
    }
   ],
   "source": [
    "# Download names to make it more friendly\n",
    "json_file_path_1 = '../data/all_coins_by_mc_1.json'\n",
    "json_file_path_2 = '../data/all_coins_by_mc_2.json'\n",
    "\n",
    "# Open the JSON file and load its contents\n",
    "with open(json_file_path_1, 'r') as file:\n",
    "    data = json.load(file)\n",
    "\n",
    "with open(json_file_path_2, 'r') as file:\n",
    "    data = data + json.load(file)\n",
    "# Now, 'data' contains the contents of the JSON file as a Python object (dictionary, list, etc.)\n",
    "print(data)"
   ]
  },
  {
   "cell_type": "code",
   "execution_count": 828,
   "id": "c8d90977582eda9b",
   "metadata": {
    "ExecuteTime": {
     "end_time": "2023-12-30T20:55:03.294348Z",
     "start_time": "2023-12-30T20:55:03.247384Z"
    },
    "collapsed": false
   },
   "outputs": [
    {
     "data": {
      "text/plain": [
       "['Bitcoin',\n",
       " 'Ethereum',\n",
       " 'Tether',\n",
       " 'BNB',\n",
       " 'XRP',\n",
       " 'Solana',\n",
       " 'USDC',\n",
       " 'Lido Staked Ether',\n",
       " 'Cardano',\n",
       " 'Dogecoin',\n",
       " 'TRON',\n",
       " 'Chainlink',\n",
       " 'Toncoin',\n",
       " 'Avalanche',\n",
       " 'Polygon',\n",
       " 'Polkadot',\n",
       " 'Wrapped Bitcoin',\n",
       " 'Dai',\n",
       " 'Litecoin',\n",
       " 'Shiba Inu',\n",
       " 'Uniswap',\n",
       " 'Bitcoin Cash',\n",
       " 'LEO Token',\n",
       " 'OKB',\n",
       " 'Stellar',\n",
       " 'Monero',\n",
       " 'Kaspa',\n",
       " 'TrueUSD',\n",
       " 'Cosmos Hub',\n",
       " 'Ethereum Classic',\n",
       " 'Cronos',\n",
       " 'Filecoin',\n",
       " 'Internet Computer',\n",
       " 'Lido DAO',\n",
       " 'THORChain',\n",
       " 'Hedera',\n",
       " 'Aptos',\n",
       " 'NEAR Protocol',\n",
       " 'Immutable',\n",
       " 'Mantle',\n",
       " 'BUSD',\n",
       " 'Bittensor',\n",
       " 'VeChain',\n",
       " 'Optimism',\n",
       " 'Injective',\n",
       " 'Aave',\n",
       " 'Quant',\n",
       " 'Maker',\n",
       " 'The Graph',\n",
       " 'Arbitrum',\n",
       " 'Render',\n",
       " 'Rocket Pool ETH',\n",
       " 'Celestia',\n",
       " 'MultiversX',\n",
       " 'Synthetix Network',\n",
       " 'Algorand',\n",
       " 'Stacks',\n",
       " 'Theta Network',\n",
       " 'Flow',\n",
       " 'First Digital USD',\n",
       " 'Bitcoin SV',\n",
       " 'Fantom',\n",
       " 'The Sandbox',\n",
       " 'Axie Infinity',\n",
       " 'IOTA',\n",
       " 'Decentraland',\n",
       " 'WEMIX',\n",
       " 'Terra Luna Classic',\n",
       " 'NEO',\n",
       " 'WhiteBIT Coin',\n",
       " 'EOS',\n",
       " 'KuCoin',\n",
       " 'Kava',\n",
       " 'Tezos',\n",
       " 'Mina Protocol',\n",
       " 'GALA',\n",
       " 'Bitget Token',\n",
       " 'USDD',\n",
       " 'Illuvium',\n",
       " 'XDC Network',\n",
       " 'Frax',\n",
       " 'Pyth Network',\n",
       " 'Sui',\n",
       " 'Frax Ether',\n",
       " 'Klaytn',\n",
       " 'Tokenize Xchange',\n",
       " 'Cheelee',\n",
       " 'dYdX',\n",
       " 'ApeCoin',\n",
       " 'Frax Share',\n",
       " 'Gate',\n",
       " 'eCash',\n",
       " 'Blur',\n",
       " 'Fetch.ai',\n",
       " 'Radix',\n",
       " 'Arweave',\n",
       " 'Conflux',\n",
       " 'Rocket Pool',\n",
       " 'PancakeSwap',\n",
       " 'Rollbit Coin',\n",
       " 'Curve DAO',\n",
       " 'Gas',\n",
       " 'Beam',\n",
       " 'Gnosis',\n",
       " 'Chiliz',\n",
       " 'Tether Gold',\n",
       " 'ORDI',\n",
       " 'Trust Wallet',\n",
       " 'cETH',\n",
       " 'Pepe',\n",
       " 'TerraClassicUSD',\n",
       " 'Terra',\n",
       " 'GMX',\n",
       " 'PAX Gold',\n",
       " 'Staked Frax Ether',\n",
       " 'cWBTC',\n",
       " 'Sei',\n",
       " 'BitTorrent',\n",
       " 'Huobi',\n",
       " 'Pax Dollar',\n",
       " 'Zcash',\n",
       " 'Osmosis',\n",
       " 'Coinbase Wrapped Staked ETH',\n",
       " 'NEXO',\n",
       " 'Helium',\n",
       " 'Oasis Network',\n",
       " 'Kujira',\n",
       " 'Flare',\n",
       " 'WOO Network',\n",
       " 'Casper Network',\n",
       " 'SingularityNET',\n",
       " 'Akash Network',\n",
       " 'Marinade staked SOL',\n",
       " 'Zilliqa',\n",
       " 'Astar',\n",
       " 'STEPN',\n",
       " 'Huobi BTC',\n",
       " '1inch',\n",
       " 'aelf',\n",
       " 'Dash',\n",
       " 'Axelar',\n",
       " 'Compound',\n",
       " '0x Protocol',\n",
       " 'Basic Attention',\n",
       " 'FLOKI',\n",
       " 'NEM',\n",
       " 'Qtum',\n",
       " 'APENFT',\n",
       " 'Aleph Zero',\n",
       " 'Ronin',\n",
       " 'Theta Fuel',\n",
       " 'Convex Finance',\n",
       " 'MX',\n",
       " 'Enjin Coin',\n",
       " 'Siacoin',\n",
       " 'EthereumPoW',\n",
       " 'Celo',\n",
       " 'yearn.finance',\n",
       " 'Mask Network',\n",
       " 'SafePal',\n",
       " 'Worldcoin',\n",
       " 'Bitcoin Gold',\n",
       " 'Holo',\n",
       " 'JUST',\n",
       " 'Ocean Protocol',\n",
       " 'Loopring',\n",
       " 'Lido Staked SOL',\n",
       " 'Beldex',\n",
       " 'Ribbon Finance',\n",
       " 'Ethereum Name Service',\n",
       " 'Bonk',\n",
       " 'Nexus Mutual',\n",
       " 'Ankr Network',\n",
       " 'JasmyCoin',\n",
       " 'Memecoin',\n",
       " 'Centrifuge',\n",
       " 'Wrapped Centrifuge',\n",
       " 'OKT Chain',\n",
       " 'ICON',\n",
       " 'Fasttoken',\n",
       " 'Echelon Prime',\n",
       " 'Sushi',\n",
       " 'Chia',\n",
       " 'Golem',\n",
       " 'IoTeX',\n",
       " 'Kusama',\n",
       " 'Escoin',\n",
       " 'Decred',\n",
       " 'Audius',\n",
       " 'Ravencoin',\n",
       " 'Moonbeam',\n",
       " 'SKALE',\n",
       " 'CANTO',\n",
       " 'Waves',\n",
       " 'Magic',\n",
       " 'Aragon',\n",
       " 'WAX',\n",
       " 'LUKSO',\n",
       " 'SXP',\n",
       " 'OriginTrail',\n",
       " 'DeFiChain',\n",
       " 'Balancer',\n",
       " 'Ontology',\n",
       " 'Tellor Tributes',\n",
       " 'tomiNet',\n",
       " 'FINSCHIA',\n",
       " 'Band Protocol',\n",
       " 'DeXe',\n",
       " 'ARK',\n",
       " 'Olympus',\n",
       " 'Biconomy',\n",
       " 'CorgiAI',\n",
       " 'Liquity USD',\n",
       " 'SwissBorg',\n",
       " 'Livepeer',\n",
       " 'Autonolas',\n",
       " 'Polymesh',\n",
       " 'DAO Maker',\n",
       " 'Flux',\n",
       " 'AIOZ Network',\n",
       " 'Bone ShibaSwap',\n",
       " 'Baby Doge Coin',\n",
       " 'Telcoin',\n",
       " 'IOST',\n",
       " 'SSV Network',\n",
       " 'Lisk',\n",
       " 'Polymath',\n",
       " 'Pocket Network',\n",
       " 'Harmony',\n",
       " 'Status',\n",
       " 'ECOMI',\n",
       " 'Stratis',\n",
       " 'SuperVerse',\n",
       " 'Alchemix USD',\n",
       " 'BENQI Liquid Staked AVAX',\n",
       " 'Prisma mkUSD',\n",
       " 'Maple',\n",
       " 'cDAI',\n",
       " 'PayPal USD',\n",
       " 'Vulcan Forged',\n",
       " 'Kadena',\n",
       " 'Wrapped Beacon ETH',\n",
       " 'API3',\n",
       " 'Gemini Dollar',\n",
       " 'Ontology Gas',\n",
       " 'JOE',\n",
       " 'sETH2',\n",
       " 'Horizen',\n",
       " 'Open Campus',\n",
       " 'Star Atlas DAO',\n",
       " 'Galxe',\n",
       " 'cUSDC',\n",
       " 'Orca',\n",
       " 'UMA',\n",
       " 'Loom Network (NEW)',\n",
       " 'Reserve Rights',\n",
       " 'Bitcoin Avalanche Bridged (BTC.b)',\n",
       " 'Orbs',\n",
       " 'BORA',\n",
       " 'crvUSD',\n",
       " 'Tribe',\n",
       " 'Amp',\n",
       " 'inSure DeFi',\n",
       " 'Liquity',\n",
       " 'Energy Web',\n",
       " 'VVS Finance',\n",
       " 'Blox',\n",
       " 'BTSE Token',\n",
       " 'STASIS EURO',\n",
       " 'Hive',\n",
       " 'Nakamoto Games',\n",
       " 'Bitkub Coin',\n",
       " 'Seedify.fund',\n",
       " 'Pundi X',\n",
       " 'Coin98',\n",
       " 'DigiByte',\n",
       " 'Sidus',\n",
       " 'Stride',\n",
       " 'dKargo',\n",
       " 'Shadow Token',\n",
       " 'Wilder World',\n",
       " 'STP',\n",
       " 'Gains Network',\n",
       " 'Covalent',\n",
       " 'Hooked Protocol',\n",
       " 'GameAI',\n",
       " 'Merit Circle',\n",
       " 'Stargate Finance',\n",
       " 'Cartesi',\n",
       " 'PlayDapp',\n",
       " 'Power Ledger',\n",
       " 'Decentralized Social',\n",
       " 'Steem',\n",
       " 'Krypton DAO',\n",
       " 'eUSD',\n",
       " 'iExec RLC',\n",
       " 'RSK Infrastructure Framework',\n",
       " 'Bitgert',\n",
       " 'MiL.k Alliance',\n",
       " 'Yield Guild Games',\n",
       " 'Venus',\n",
       " 'LUKSO [OLD]',\n",
       " 'Kyber Network Crystal',\n",
       " 'Verus Coin',\n",
       " 'Viction',\n",
       " 'Raydium',\n",
       " 'Short-term T-Bill Token',\n",
       " 'Metal DAO',\n",
       " 'Bluzelle',\n",
       " 'Storj',\n",
       " 'AllianceBlock Nexera',\n",
       " 'Nervos Network',\n",
       " 'Celsius Network',\n",
       " 'Bancor Network',\n",
       " 'Decimal',\n",
       " 'Star Atlas',\n",
       " 'Constellation',\n",
       " 'Pendle',\n",
       " 'IQ',\n",
       " 'Gods Unchained',\n",
       " 'Swell Ethereum',\n",
       " 'Astrafer',\n",
       " 'VeThor',\n",
       " 'NuCypher',\n",
       " 'MVL',\n",
       " 'Goldfinch',\n",
       " 'Uquid Coin',\n",
       " 'Nym',\n",
       " 'Alchemy Pay',\n",
       " 'Tokamak Network',\n",
       " 'Smooth Love Potion',\n",
       " 'Chainflip',\n",
       " 'Medibloc',\n",
       " 'Nano',\n",
       " 'Loom Network (OLD)',\n",
       " 'Function X',\n",
       " '0x0.ai: AI Smart Contract',\n",
       " 'Ardor',\n",
       " 'Secret',\n",
       " 'Radiant Capital',\n",
       " 'Numeraire',\n",
       " 'SmarDex',\n",
       " 'XYO Network',\n",
       " 'Ergo',\n",
       " 'Ultima',\n",
       " 'MovieBloc',\n",
       " 'Marlin',\n",
       " 'CoinEx',\n",
       " 'PAAL AI',\n",
       " 'Open Exchange Token',\n",
       " 'Metis',\n",
       " 'My Neighbor Alice',\n",
       " 'Kwenta',\n",
       " 'OMG Network',\n",
       " 'Virtua',\n",
       " 'Dogelon Mars',\n",
       " 'Humans.ai',\n",
       " 'Kinesis Silver',\n",
       " 'Core',\n",
       " 'StormX',\n",
       " 'Civic',\n",
       " 'Zephyr Protocol',\n",
       " 'Syscoin',\n",
       " 'Unifi Protocol DAO',\n",
       " 'Sweat Economy',\n",
       " 'Kinesis Gold',\n",
       " 'HarryPotterObamaSonic10Inu (ETH)',\n",
       " 'Stader MaticX',\n",
       " 'Celer Network',\n",
       " 'Wrapped NXM',\n",
       " 'Agoric',\n",
       " 'Myria',\n",
       " 'Aergo',\n",
       " 'Gelato',\n",
       " 'Arkham',\n",
       " 'Stader ETHx',\n",
       " 'Prom',\n",
       " 'SuperRare',\n",
       " 'DODO',\n",
       " 'Dent',\n",
       " 'Verasity',\n",
       " 'Origin Ether',\n",
       " 'SPACE ID',\n",
       " 'Synapse',\n",
       " 'Hunt',\n",
       " 'Stella',\n",
       " 'Metadium',\n",
       " 'Hifi Finance',\n",
       " 'VitaDAO',\n",
       " 'Radworks',\n",
       " 'Bounce',\n",
       " 'Chromia',\n",
       " 'Badger',\n",
       " 'Tenset',\n",
       " 'HXRO',\n",
       " 'QuarkChain',\n",
       " 'Nerve Finance',\n",
       " 'MaidSafeCoin',\n",
       " 'Aurory',\n",
       " 'RSS3',\n",
       " 'Oraichain',\n",
       " 'Access Protocol',\n",
       " 'Lyra Finance',\n",
       " 'Murasaki',\n",
       " 'Spell',\n",
       " 'Dynex',\n",
       " 'QANplatform',\n",
       " 'Games for a Living',\n",
       " 'Maverick Protocol',\n",
       " 'Bifrost',\n",
       " 'Artificial Liquid Intelligence',\n",
       " 'Metars Genesis',\n",
       " 'NKN',\n",
       " 'Cortex',\n",
       " 'Shentu',\n",
       " 'COTI',\n",
       " 'Vega Protocol',\n",
       " 'Steem Dollars',\n",
       " 'Unibot',\n",
       " 'World Mobile Token',\n",
       " 'Dusk',\n",
       " 'CyberConnect',\n",
       " 'Dock',\n",
       " 'Phala',\n",
       " 'Cobak',\n",
       " 'Ultra',\n",
       " 'Share',\n",
       " 'FLEX Coin',\n",
       " 'Songbird',\n",
       " 'ChainX',\n",
       " 'TRAC (Ordinals)',\n",
       " 'HELLO',\n",
       " 'Gitcoin',\n",
       " 'WINkLink',\n",
       " 'e-Radix',\n",
       " 'Creditcoin',\n",
       " 'THORSwap',\n",
       " 'Veno Finance',\n",
       " 'Origin Protocol',\n",
       " 'Adventure Gold',\n",
       " 'Request',\n",
       " 'Vertex Protocol',\n",
       " 'Victoria VR',\n",
       " 'Clore.ai',\n",
       " 'ConstitutionDAO',\n",
       " 'Keep Network',\n",
       " 'AirTor Protocol',\n",
       " 'Euler',\n",
       " 'Mobox',\n",
       " 'Radio Caca',\n",
       " 'LooksRare',\n",
       " 'Oasys',\n",
       " 'Gomining Token',\n",
       " 'Marblex',\n",
       " 'GameFi.org',\n",
       " 'Taraxa',\n",
       " 'SX Network',\n",
       " 'Linear',\n",
       " 'tBTC',\n",
       " 'TrueFi',\n",
       " 'Marinade',\n",
       " 'Tokenlon',\n",
       " 'Ren',\n",
       " 'Dora Factory',\n",
       " 'Nexa',\n",
       " 'ALEX Lab',\n",
       " 'Solend',\n",
       " 'SOMESING Exchange',\n",
       " 'Hermez Network',\n",
       " 'Moonriver',\n",
       " 'Alien Worlds',\n",
       " 'Sun Token',\n",
       " 'Hashflow',\n",
       " 'Carry',\n",
       " 'Mainframe',\n",
       " 'Verge',\n",
       " 'Crown by Third Time Games',\n",
       " 'Strike',\n",
       " 'EURC',\n",
       " 'Shardus',\n",
       " 'WazirX',\n",
       " 'Ampleforth',\n",
       " 'GuildFi',\n",
       " 'LCX',\n",
       " 'Polygon Ecosystem Token',\n",
       " 'Sologenic',\n",
       " 'Router Protocol',\n",
       " 'Bficoin',\n",
       " 'Boba Network',\n",
       " 'Firmachain',\n",
       " 'Tectum',\n",
       " 'Fidu',\n",
       " 'Cornucopias',\n",
       " 'DexTools',\n",
       " 'COMBO',\n",
       " 'Ankr Staked ETH',\n",
       " 'Bazaars',\n",
       " 'Aurora',\n",
       " 'Coinweb',\n",
       " 'UwU Lend']"
      ]
     },
     "execution_count": 828,
     "metadata": {},
     "output_type": "execute_result"
    }
   ],
   "source": [
    "names_list = [stock[\"name\"] for stock in data]\n",
    "names_list"
   ]
  },
  {
   "cell_type": "code",
   "execution_count": 829,
   "id": "ab398b5bbcc7498f",
   "metadata": {
    "ExecuteTime": {
     "end_time": "2023-12-30T20:55:09.738571Z",
     "start_time": "2023-12-30T20:55:06.968350Z"
    },
    "collapsed": false
   },
   "outputs": [],
   "source": [
    "data = pd.read_csv(\"../data/prices.csv\", parse_dates=['date'])\n",
    "data.rename(columns={data.columns[0]: 'date'}, inplace=True)\n",
    "data.set_index(\"date\", inplace=True)"
   ]
  },
  {
   "cell_type": "code",
   "execution_count": 830,
   "id": "4cac622cfa343b01",
   "metadata": {
    "ExecuteTime": {
     "end_time": "2023-12-30T20:55:10.188775Z",
     "start_time": "2023-12-30T20:55:10.078794Z"
    },
    "collapsed": false
   },
   "outputs": [
    {
     "data": {
      "text/html": [
       "<div>\n",
       "<style scoped>\n",
       "    .dataframe tbody tr th:only-of-type {\n",
       "        vertical-align: middle;\n",
       "    }\n",
       "\n",
       "    .dataframe tbody tr th {\n",
       "        vertical-align: top;\n",
       "    }\n",
       "\n",
       "    .dataframe thead th {\n",
       "        text-align: right;\n",
       "    }\n",
       "</style>\n",
       "<table border=\"1\" class=\"dataframe\">\n",
       "  <thead>\n",
       "    <tr style=\"text-align: right;\">\n",
       "      <th></th>\n",
       "      <th>Bitcoin</th>\n",
       "      <th>Ethereum</th>\n",
       "      <th>Tether</th>\n",
       "      <th>BNB</th>\n",
       "      <th>XRP</th>\n",
       "      <th>Solana</th>\n",
       "      <th>USDC</th>\n",
       "      <th>Lido Staked Ether</th>\n",
       "      <th>Cardano</th>\n",
       "      <th>Dogecoin</th>\n",
       "      <th>...</th>\n",
       "      <th>Tectum</th>\n",
       "      <th>Fidu</th>\n",
       "      <th>Cornucopias</th>\n",
       "      <th>DexTools</th>\n",
       "      <th>COMBO</th>\n",
       "      <th>Ankr Staked ETH</th>\n",
       "      <th>Bazaars</th>\n",
       "      <th>Aurora</th>\n",
       "      <th>Coinweb</th>\n",
       "      <th>UwU Lend</th>\n",
       "    </tr>\n",
       "    <tr>\n",
       "      <th>date</th>\n",
       "      <th></th>\n",
       "      <th></th>\n",
       "      <th></th>\n",
       "      <th></th>\n",
       "      <th></th>\n",
       "      <th></th>\n",
       "      <th></th>\n",
       "      <th></th>\n",
       "      <th></th>\n",
       "      <th></th>\n",
       "      <th></th>\n",
       "      <th></th>\n",
       "      <th></th>\n",
       "      <th></th>\n",
       "      <th></th>\n",
       "      <th></th>\n",
       "      <th></th>\n",
       "      <th></th>\n",
       "      <th></th>\n",
       "      <th></th>\n",
       "      <th></th>\n",
       "    </tr>\n",
       "  </thead>\n",
       "  <tbody>\n",
       "    <tr>\n",
       "      <th>2020-01-01 23:00:00</th>\n",
       "      <td>7192.034849</td>\n",
       "      <td>130.236507</td>\n",
       "      <td>0.999814</td>\n",
       "      <td>13.666737</td>\n",
       "      <td>0.192640</td>\n",
       "      <td>NaN</td>\n",
       "      <td>1.001706</td>\n",
       "      <td>NaN</td>\n",
       "      <td>0.033452</td>\n",
       "      <td>0.002028</td>\n",
       "      <td>...</td>\n",
       "      <td>NaN</td>\n",
       "      <td>NaN</td>\n",
       "      <td>NaN</td>\n",
       "      <td>NaN</td>\n",
       "      <td>0.000575</td>\n",
       "      <td>NaN</td>\n",
       "      <td>NaN</td>\n",
       "      <td>NaN</td>\n",
       "      <td>NaN</td>\n",
       "      <td>NaN</td>\n",
       "    </tr>\n",
       "    <tr>\n",
       "      <th>2020-01-02 00:00:00</th>\n",
       "      <td>7194.407631</td>\n",
       "      <td>130.542567</td>\n",
       "      <td>0.999831</td>\n",
       "      <td>13.680347</td>\n",
       "      <td>0.192556</td>\n",
       "      <td>NaN</td>\n",
       "      <td>1.002543</td>\n",
       "      <td>NaN</td>\n",
       "      <td>0.033332</td>\n",
       "      <td>0.002027</td>\n",
       "      <td>...</td>\n",
       "      <td>NaN</td>\n",
       "      <td>NaN</td>\n",
       "      <td>NaN</td>\n",
       "      <td>NaN</td>\n",
       "      <td>0.000569</td>\n",
       "      <td>NaN</td>\n",
       "      <td>NaN</td>\n",
       "      <td>NaN</td>\n",
       "      <td>NaN</td>\n",
       "      <td>NaN</td>\n",
       "    </tr>\n",
       "    <tr>\n",
       "      <th>2020-01-02 01:00:00</th>\n",
       "      <td>7201.231756</td>\n",
       "      <td>130.441856</td>\n",
       "      <td>0.999295</td>\n",
       "      <td>13.704961</td>\n",
       "      <td>0.192184</td>\n",
       "      <td>NaN</td>\n",
       "      <td>1.003172</td>\n",
       "      <td>NaN</td>\n",
       "      <td>0.033380</td>\n",
       "      <td>0.002031</td>\n",
       "      <td>...</td>\n",
       "      <td>NaN</td>\n",
       "      <td>NaN</td>\n",
       "      <td>NaN</td>\n",
       "      <td>NaN</td>\n",
       "      <td>0.000568</td>\n",
       "      <td>NaN</td>\n",
       "      <td>NaN</td>\n",
       "      <td>NaN</td>\n",
       "      <td>NaN</td>\n",
       "      <td>NaN</td>\n",
       "    </tr>\n",
       "    <tr>\n",
       "      <th>2020-01-02 02:00:00</th>\n",
       "      <td>7172.868535</td>\n",
       "      <td>129.893532</td>\n",
       "      <td>0.997187</td>\n",
       "      <td>13.619371</td>\n",
       "      <td>0.192112</td>\n",
       "      <td>NaN</td>\n",
       "      <td>1.001664</td>\n",
       "      <td>NaN</td>\n",
       "      <td>0.033322</td>\n",
       "      <td>0.002018</td>\n",
       "      <td>...</td>\n",
       "      <td>NaN</td>\n",
       "      <td>NaN</td>\n",
       "      <td>NaN</td>\n",
       "      <td>NaN</td>\n",
       "      <td>0.000583</td>\n",
       "      <td>NaN</td>\n",
       "      <td>NaN</td>\n",
       "      <td>NaN</td>\n",
       "      <td>NaN</td>\n",
       "      <td>NaN</td>\n",
       "    </tr>\n",
       "    <tr>\n",
       "      <th>2020-01-02 03:00:00</th>\n",
       "      <td>7158.036110</td>\n",
       "      <td>129.566225</td>\n",
       "      <td>0.999005</td>\n",
       "      <td>13.565571</td>\n",
       "      <td>0.191303</td>\n",
       "      <td>NaN</td>\n",
       "      <td>1.002306</td>\n",
       "      <td>NaN</td>\n",
       "      <td>0.033136</td>\n",
       "      <td>0.002022</td>\n",
       "      <td>...</td>\n",
       "      <td>NaN</td>\n",
       "      <td>NaN</td>\n",
       "      <td>NaN</td>\n",
       "      <td>NaN</td>\n",
       "      <td>0.000580</td>\n",
       "      <td>NaN</td>\n",
       "      <td>NaN</td>\n",
       "      <td>NaN</td>\n",
       "      <td>NaN</td>\n",
       "      <td>NaN</td>\n",
       "    </tr>\n",
       "    <tr>\n",
       "      <th>...</th>\n",
       "      <td>...</td>\n",
       "      <td>...</td>\n",
       "      <td>...</td>\n",
       "      <td>...</td>\n",
       "      <td>...</td>\n",
       "      <td>...</td>\n",
       "      <td>...</td>\n",
       "      <td>...</td>\n",
       "      <td>...</td>\n",
       "      <td>...</td>\n",
       "      <td>...</td>\n",
       "      <td>...</td>\n",
       "      <td>...</td>\n",
       "      <td>...</td>\n",
       "      <td>...</td>\n",
       "      <td>...</td>\n",
       "      <td>...</td>\n",
       "      <td>...</td>\n",
       "      <td>...</td>\n",
       "      <td>...</td>\n",
       "      <td>...</td>\n",
       "    </tr>\n",
       "    <tr>\n",
       "      <th>2023-03-16 18:00:00</th>\n",
       "      <td>24860.079103</td>\n",
       "      <td>1663.796088</td>\n",
       "      <td>1.006385</td>\n",
       "      <td>331.220203</td>\n",
       "      <td>0.366382</td>\n",
       "      <td>19.540765</td>\n",
       "      <td>1.005124</td>\n",
       "      <td>1657.547915</td>\n",
       "      <td>0.325908</td>\n",
       "      <td>0.070863</td>\n",
       "      <td>...</td>\n",
       "      <td>NaN</td>\n",
       "      <td>1.002038</td>\n",
       "      <td>0.033543</td>\n",
       "      <td>0.282995</td>\n",
       "      <td>1.457285</td>\n",
       "      <td>1808.776580</td>\n",
       "      <td>0.995846</td>\n",
       "      <td>0.208070</td>\n",
       "      <td>0.015042</td>\n",
       "      <td>8.156536</td>\n",
       "    </tr>\n",
       "    <tr>\n",
       "      <th>2023-03-16 19:00:00</th>\n",
       "      <td>24947.832388</td>\n",
       "      <td>1666.721166</td>\n",
       "      <td>1.006512</td>\n",
       "      <td>332.009557</td>\n",
       "      <td>0.367803</td>\n",
       "      <td>19.689141</td>\n",
       "      <td>1.006831</td>\n",
       "      <td>1660.360045</td>\n",
       "      <td>0.325725</td>\n",
       "      <td>0.071001</td>\n",
       "      <td>...</td>\n",
       "      <td>NaN</td>\n",
       "      <td>1.004539</td>\n",
       "      <td>0.033973</td>\n",
       "      <td>0.284396</td>\n",
       "      <td>1.448915</td>\n",
       "      <td>1811.793388</td>\n",
       "      <td>1.001170</td>\n",
       "      <td>0.206429</td>\n",
       "      <td>0.015063</td>\n",
       "      <td>8.161331</td>\n",
       "    </tr>\n",
       "    <tr>\n",
       "      <th>2023-03-16 20:00:00</th>\n",
       "      <td>25059.750597</td>\n",
       "      <td>1685.138105</td>\n",
       "      <td>1.005599</td>\n",
       "      <td>331.210287</td>\n",
       "      <td>0.368256</td>\n",
       "      <td>19.863669</td>\n",
       "      <td>1.002247</td>\n",
       "      <td>1676.995045</td>\n",
       "      <td>0.327618</td>\n",
       "      <td>0.071411</td>\n",
       "      <td>...</td>\n",
       "      <td>NaN</td>\n",
       "      <td>1.001609</td>\n",
       "      <td>0.033969</td>\n",
       "      <td>0.283888</td>\n",
       "      <td>1.466088</td>\n",
       "      <td>1829.774892</td>\n",
       "      <td>1.005815</td>\n",
       "      <td>0.209833</td>\n",
       "      <td>0.015063</td>\n",
       "      <td>8.241946</td>\n",
       "    </tr>\n",
       "    <tr>\n",
       "      <th>2023-03-16 21:00:00</th>\n",
       "      <td>24851.302353</td>\n",
       "      <td>1666.216935</td>\n",
       "      <td>1.006050</td>\n",
       "      <td>328.758145</td>\n",
       "      <td>0.365671</td>\n",
       "      <td>19.460336</td>\n",
       "      <td>1.001085</td>\n",
       "      <td>1660.246858</td>\n",
       "      <td>0.322445</td>\n",
       "      <td>0.070438</td>\n",
       "      <td>...</td>\n",
       "      <td>NaN</td>\n",
       "      <td>1.001690</td>\n",
       "      <td>0.033328</td>\n",
       "      <td>0.283777</td>\n",
       "      <td>1.447723</td>\n",
       "      <td>1808.814333</td>\n",
       "      <td>0.999198</td>\n",
       "      <td>0.208340</td>\n",
       "      <td>0.015099</td>\n",
       "      <td>8.149366</td>\n",
       "    </tr>\n",
       "    <tr>\n",
       "      <th>2023-03-16 22:00:00</th>\n",
       "      <td>25103.511184</td>\n",
       "      <td>1679.820306</td>\n",
       "      <td>1.008859</td>\n",
       "      <td>334.271019</td>\n",
       "      <td>0.367924</td>\n",
       "      <td>19.729948</td>\n",
       "      <td>1.004871</td>\n",
       "      <td>1677.075059</td>\n",
       "      <td>0.325808</td>\n",
       "      <td>0.071179</td>\n",
       "      <td>...</td>\n",
       "      <td>NaN</td>\n",
       "      <td>1.000116</td>\n",
       "      <td>0.033770</td>\n",
       "      <td>0.285571</td>\n",
       "      <td>1.465684</td>\n",
       "      <td>1828.340173</td>\n",
       "      <td>1.005192</td>\n",
       "      <td>0.208021</td>\n",
       "      <td>0.015080</td>\n",
       "      <td>8.240245</td>\n",
       "    </tr>\n",
       "  </tbody>\n",
       "</table>\n",
       "<p>21853 rows × 500 columns</p>\n",
       "</div>"
      ],
      "text/plain": [
       "                          Bitcoin     Ethereum    Tether         BNB  \\\n",
       "date                                                                   \n",
       "2020-01-01 23:00:00   7192.034849   130.236507  0.999814   13.666737   \n",
       "2020-01-02 00:00:00   7194.407631   130.542567  0.999831   13.680347   \n",
       "2020-01-02 01:00:00   7201.231756   130.441856  0.999295   13.704961   \n",
       "2020-01-02 02:00:00   7172.868535   129.893532  0.997187   13.619371   \n",
       "2020-01-02 03:00:00   7158.036110   129.566225  0.999005   13.565571   \n",
       "...                           ...          ...       ...         ...   \n",
       "2023-03-16 18:00:00  24860.079103  1663.796088  1.006385  331.220203   \n",
       "2023-03-16 19:00:00  24947.832388  1666.721166  1.006512  332.009557   \n",
       "2023-03-16 20:00:00  25059.750597  1685.138105  1.005599  331.210287   \n",
       "2023-03-16 21:00:00  24851.302353  1666.216935  1.006050  328.758145   \n",
       "2023-03-16 22:00:00  25103.511184  1679.820306  1.008859  334.271019   \n",
       "\n",
       "                          XRP     Solana      USDC  Lido Staked Ether  \\\n",
       "date                                                                    \n",
       "2020-01-01 23:00:00  0.192640        NaN  1.001706                NaN   \n",
       "2020-01-02 00:00:00  0.192556        NaN  1.002543                NaN   \n",
       "2020-01-02 01:00:00  0.192184        NaN  1.003172                NaN   \n",
       "2020-01-02 02:00:00  0.192112        NaN  1.001664                NaN   \n",
       "2020-01-02 03:00:00  0.191303        NaN  1.002306                NaN   \n",
       "...                       ...        ...       ...                ...   \n",
       "2023-03-16 18:00:00  0.366382  19.540765  1.005124        1657.547915   \n",
       "2023-03-16 19:00:00  0.367803  19.689141  1.006831        1660.360045   \n",
       "2023-03-16 20:00:00  0.368256  19.863669  1.002247        1676.995045   \n",
       "2023-03-16 21:00:00  0.365671  19.460336  1.001085        1660.246858   \n",
       "2023-03-16 22:00:00  0.367924  19.729948  1.004871        1677.075059   \n",
       "\n",
       "                      Cardano  Dogecoin  ...  Tectum      Fidu  Cornucopias  \\\n",
       "date                                     ...                                  \n",
       "2020-01-01 23:00:00  0.033452  0.002028  ...     NaN       NaN          NaN   \n",
       "2020-01-02 00:00:00  0.033332  0.002027  ...     NaN       NaN          NaN   \n",
       "2020-01-02 01:00:00  0.033380  0.002031  ...     NaN       NaN          NaN   \n",
       "2020-01-02 02:00:00  0.033322  0.002018  ...     NaN       NaN          NaN   \n",
       "2020-01-02 03:00:00  0.033136  0.002022  ...     NaN       NaN          NaN   \n",
       "...                       ...       ...  ...     ...       ...          ...   \n",
       "2023-03-16 18:00:00  0.325908  0.070863  ...     NaN  1.002038     0.033543   \n",
       "2023-03-16 19:00:00  0.325725  0.071001  ...     NaN  1.004539     0.033973   \n",
       "2023-03-16 20:00:00  0.327618  0.071411  ...     NaN  1.001609     0.033969   \n",
       "2023-03-16 21:00:00  0.322445  0.070438  ...     NaN  1.001690     0.033328   \n",
       "2023-03-16 22:00:00  0.325808  0.071179  ...     NaN  1.000116     0.033770   \n",
       "\n",
       "                     DexTools     COMBO  Ankr Staked ETH   Bazaars    Aurora  \\\n",
       "date                                                                           \n",
       "2020-01-01 23:00:00       NaN  0.000575              NaN       NaN       NaN   \n",
       "2020-01-02 00:00:00       NaN  0.000569              NaN       NaN       NaN   \n",
       "2020-01-02 01:00:00       NaN  0.000568              NaN       NaN       NaN   \n",
       "2020-01-02 02:00:00       NaN  0.000583              NaN       NaN       NaN   \n",
       "2020-01-02 03:00:00       NaN  0.000580              NaN       NaN       NaN   \n",
       "...                       ...       ...              ...       ...       ...   \n",
       "2023-03-16 18:00:00  0.282995  1.457285      1808.776580  0.995846  0.208070   \n",
       "2023-03-16 19:00:00  0.284396  1.448915      1811.793388  1.001170  0.206429   \n",
       "2023-03-16 20:00:00  0.283888  1.466088      1829.774892  1.005815  0.209833   \n",
       "2023-03-16 21:00:00  0.283777  1.447723      1808.814333  0.999198  0.208340   \n",
       "2023-03-16 22:00:00  0.285571  1.465684      1828.340173  1.005192  0.208021   \n",
       "\n",
       "                      Coinweb  UwU Lend  \n",
       "date                                     \n",
       "2020-01-01 23:00:00       NaN       NaN  \n",
       "2020-01-02 00:00:00       NaN       NaN  \n",
       "2020-01-02 01:00:00       NaN       NaN  \n",
       "2020-01-02 02:00:00       NaN       NaN  \n",
       "2020-01-02 03:00:00       NaN       NaN  \n",
       "...                       ...       ...  \n",
       "2023-03-16 18:00:00  0.015042  8.156536  \n",
       "2023-03-16 19:00:00  0.015063  8.161331  \n",
       "2023-03-16 20:00:00  0.015063  8.241946  \n",
       "2023-03-16 21:00:00  0.015099  8.149366  \n",
       "2023-03-16 22:00:00  0.015080  8.240245  \n",
       "\n",
       "[21853 rows x 500 columns]"
      ]
     },
     "execution_count": 830,
     "metadata": {},
     "output_type": "execute_result"
    }
   ],
   "source": [
    "data.columns = names_list\n",
    "data"
   ]
  },
  {
   "cell_type": "code",
   "execution_count": 831,
   "id": "f5c7c29c11df8724",
   "metadata": {
    "ExecuteTime": {
     "end_time": "2023-12-30T20:55:16.400469Z",
     "start_time": "2023-12-30T20:55:16.183215Z"
    },
    "collapsed": false
   },
   "outputs": [
    {
     "data": {
      "text/plain": [
       "Index(['Tether', 'USDC', 'Dai', 'TrueUSD', 'BUSD', 'USDD', 'Frax',\n",
       "       'Tether Gold', 'PAX Gold', 'Pax Dollar', 'Flare', 'Liquity USD',\n",
       "       'Alchemix USD', 'cDAI', 'Gemini Dollar', 'cUSDC', 'STASIS EURO',\n",
       "       'Short-term T-Bill Token', 'Hifi Finance', 'EURC', 'Fidu', 'Bazaars'],\n",
       "      dtype='object')"
      ]
     },
     "execution_count": 831,
     "metadata": {},
     "output_type": "execute_result"
    }
   ],
   "source": [
    "stables_list = ['Tether', 'USDC', 'Dai', 'TrueUSD', 'BUSD', 'USDD', 'Frax',\n",
    " 'Tether Gold', 'PAX Gold', 'Pax Dollar', 'Flare', 'Liquity USD',\n",
    " 'Alchemix USD', 'cDAI', 'Gemini Dollar', 'cUSDC', 'STASIS EURO',\n",
    " 'Short-term T-Bill Token', 'Hifi Finance', 'EURC', 'Fidu', 'Bazaars']\n",
    "\n",
    "data.T.index[(((data.mean(axis=0) / data.std(axis=0)) > 10))]"
   ]
  },
  {
   "cell_type": "code",
   "execution_count": 832,
   "id": "f9423506849cb26",
   "metadata": {
    "ExecuteTime": {
     "end_time": "2023-12-30T20:55:17.628520Z",
     "start_time": "2023-12-30T20:55:17.602114Z"
    },
    "collapsed": false
   },
   "outputs": [],
   "source": [
    "#data.to_csv(\"../data/prices_clean.csv\")"
   ]
  },
  {
   "cell_type": "code",
   "execution_count": 833,
   "id": "17a265f10cf5647a",
   "metadata": {
    "ExecuteTime": {
     "end_time": "2023-12-30T20:55:31.414333Z",
     "start_time": "2023-12-30T20:55:31.306589Z"
    },
    "collapsed": false
   },
   "outputs": [],
   "source": [
    "#scaler = StandardScaler()\n",
    "\n",
    "# Normalize each column in the dataframe\n",
    "#data = pd.DataFrame(scaler.fit_transform(data), columns=data.columns, index=data.index)\n"
   ]
  },
  {
   "cell_type": "code",
   "execution_count": 834,
   "id": "95cb4a66a790e51a",
   "metadata": {
    "ExecuteTime": {
     "end_time": "2023-12-30T20:55:33.757134Z",
     "start_time": "2023-12-30T20:55:33.621108Z"
    },
    "collapsed": false
   },
   "outputs": [],
   "source": [
    "data.drop('Bone ShibaSwap', axis=1, inplace=True)\n",
    "#data.drop(stables_list, axis=1, inplace=True)\n",
    "daily_prices = data.groupby(data.index.date).first()\n",
    "#daily_returns_pct = daily_prices.pct_change()\n",
    "daily_log_returns = np.log(daily_returns_pct + 1)"
   ]
  },
  {
   "cell_type": "code",
   "execution_count": 835,
   "id": "dcfb05e239816a79",
   "metadata": {
    "ExecuteTime": {
     "end_time": "2023-12-30T20:55:35.384230Z",
     "start_time": "2023-12-30T20:55:34.833429Z"
    },
    "collapsed": false
   },
   "outputs": [
    {
     "data": {
      "text/html": [
       "<div>\n",
       "<style scoped>\n",
       "    .dataframe tbody tr th:only-of-type {\n",
       "        vertical-align: middle;\n",
       "    }\n",
       "\n",
       "    .dataframe tbody tr th {\n",
       "        vertical-align: top;\n",
       "    }\n",
       "\n",
       "    .dataframe thead th {\n",
       "        text-align: right;\n",
       "    }\n",
       "</style>\n",
       "<table border=\"1\" class=\"dataframe\">\n",
       "  <thead>\n",
       "    <tr style=\"text-align: right;\">\n",
       "      <th></th>\n",
       "      <th>Bitcoin</th>\n",
       "      <th>Ethereum</th>\n",
       "      <th>Tether</th>\n",
       "      <th>BNB</th>\n",
       "      <th>XRP</th>\n",
       "      <th>Solana</th>\n",
       "      <th>USDC</th>\n",
       "      <th>Lido Staked Ether</th>\n",
       "      <th>Cardano</th>\n",
       "      <th>Dogecoin</th>\n",
       "      <th>...</th>\n",
       "      <th>Tectum</th>\n",
       "      <th>Fidu</th>\n",
       "      <th>Cornucopias</th>\n",
       "      <th>DexTools</th>\n",
       "      <th>COMBO</th>\n",
       "      <th>Ankr Staked ETH</th>\n",
       "      <th>Bazaars</th>\n",
       "      <th>Aurora</th>\n",
       "      <th>Coinweb</th>\n",
       "      <th>UwU Lend</th>\n",
       "    </tr>\n",
       "    <tr>\n",
       "      <th>date</th>\n",
       "      <th></th>\n",
       "      <th></th>\n",
       "      <th></th>\n",
       "      <th></th>\n",
       "      <th></th>\n",
       "      <th></th>\n",
       "      <th></th>\n",
       "      <th></th>\n",
       "      <th></th>\n",
       "      <th></th>\n",
       "      <th></th>\n",
       "      <th></th>\n",
       "      <th></th>\n",
       "      <th></th>\n",
       "      <th></th>\n",
       "      <th></th>\n",
       "      <th></th>\n",
       "      <th></th>\n",
       "      <th></th>\n",
       "      <th></th>\n",
       "      <th></th>\n",
       "    </tr>\n",
       "  </thead>\n",
       "  <tbody>\n",
       "    <tr>\n",
       "      <th>2020-01-01 23:00:00</th>\n",
       "      <td>NaN</td>\n",
       "      <td>NaN</td>\n",
       "      <td>NaN</td>\n",
       "      <td>NaN</td>\n",
       "      <td>NaN</td>\n",
       "      <td>NaN</td>\n",
       "      <td>NaN</td>\n",
       "      <td>NaN</td>\n",
       "      <td>NaN</td>\n",
       "      <td>NaN</td>\n",
       "      <td>...</td>\n",
       "      <td>NaN</td>\n",
       "      <td>NaN</td>\n",
       "      <td>NaN</td>\n",
       "      <td>NaN</td>\n",
       "      <td>NaN</td>\n",
       "      <td>NaN</td>\n",
       "      <td>NaN</td>\n",
       "      <td>NaN</td>\n",
       "      <td>NaN</td>\n",
       "      <td>NaN</td>\n",
       "    </tr>\n",
       "    <tr>\n",
       "      <th>2020-01-02 00:00:00</th>\n",
       "      <td>0.000330</td>\n",
       "      <td>0.002347</td>\n",
       "      <td>0.000017</td>\n",
       "      <td>0.000995</td>\n",
       "      <td>-0.000438</td>\n",
       "      <td>NaN</td>\n",
       "      <td>0.000836</td>\n",
       "      <td>NaN</td>\n",
       "      <td>-0.003580</td>\n",
       "      <td>-0.000504</td>\n",
       "      <td>...</td>\n",
       "      <td>NaN</td>\n",
       "      <td>NaN</td>\n",
       "      <td>NaN</td>\n",
       "      <td>NaN</td>\n",
       "      <td>-0.010936</td>\n",
       "      <td>NaN</td>\n",
       "      <td>NaN</td>\n",
       "      <td>NaN</td>\n",
       "      <td>NaN</td>\n",
       "      <td>NaN</td>\n",
       "    </tr>\n",
       "    <tr>\n",
       "      <th>2020-01-02 01:00:00</th>\n",
       "      <td>0.000948</td>\n",
       "      <td>-0.000772</td>\n",
       "      <td>-0.000537</td>\n",
       "      <td>0.001798</td>\n",
       "      <td>-0.001930</td>\n",
       "      <td>NaN</td>\n",
       "      <td>0.000627</td>\n",
       "      <td>NaN</td>\n",
       "      <td>0.001426</td>\n",
       "      <td>0.001631</td>\n",
       "      <td>...</td>\n",
       "      <td>NaN</td>\n",
       "      <td>NaN</td>\n",
       "      <td>NaN</td>\n",
       "      <td>NaN</td>\n",
       "      <td>-0.001216</td>\n",
       "      <td>NaN</td>\n",
       "      <td>NaN</td>\n",
       "      <td>NaN</td>\n",
       "      <td>NaN</td>\n",
       "      <td>NaN</td>\n",
       "    </tr>\n",
       "    <tr>\n",
       "      <th>2020-01-02 02:00:00</th>\n",
       "      <td>-0.003946</td>\n",
       "      <td>-0.004212</td>\n",
       "      <td>-0.002111</td>\n",
       "      <td>-0.006265</td>\n",
       "      <td>-0.000376</td>\n",
       "      <td>NaN</td>\n",
       "      <td>-0.001504</td>\n",
       "      <td>NaN</td>\n",
       "      <td>-0.001732</td>\n",
       "      <td>-0.006427</td>\n",
       "      <td>...</td>\n",
       "      <td>NaN</td>\n",
       "      <td>NaN</td>\n",
       "      <td>NaN</td>\n",
       "      <td>NaN</td>\n",
       "      <td>0.026720</td>\n",
       "      <td>NaN</td>\n",
       "      <td>NaN</td>\n",
       "      <td>NaN</td>\n",
       "      <td>NaN</td>\n",
       "      <td>NaN</td>\n",
       "    </tr>\n",
       "    <tr>\n",
       "      <th>2020-01-02 03:00:00</th>\n",
       "      <td>-0.002070</td>\n",
       "      <td>-0.002523</td>\n",
       "      <td>0.001821</td>\n",
       "      <td>-0.003958</td>\n",
       "      <td>-0.004222</td>\n",
       "      <td>NaN</td>\n",
       "      <td>0.000641</td>\n",
       "      <td>NaN</td>\n",
       "      <td>-0.005601</td>\n",
       "      <td>0.001893</td>\n",
       "      <td>...</td>\n",
       "      <td>NaN</td>\n",
       "      <td>NaN</td>\n",
       "      <td>NaN</td>\n",
       "      <td>NaN</td>\n",
       "      <td>-0.005938</td>\n",
       "      <td>NaN</td>\n",
       "      <td>NaN</td>\n",
       "      <td>NaN</td>\n",
       "      <td>NaN</td>\n",
       "      <td>NaN</td>\n",
       "    </tr>\n",
       "    <tr>\n",
       "      <th>...</th>\n",
       "      <td>...</td>\n",
       "      <td>...</td>\n",
       "      <td>...</td>\n",
       "      <td>...</td>\n",
       "      <td>...</td>\n",
       "      <td>...</td>\n",
       "      <td>...</td>\n",
       "      <td>...</td>\n",
       "      <td>...</td>\n",
       "      <td>...</td>\n",
       "      <td>...</td>\n",
       "      <td>...</td>\n",
       "      <td>...</td>\n",
       "      <td>...</td>\n",
       "      <td>...</td>\n",
       "      <td>...</td>\n",
       "      <td>...</td>\n",
       "      <td>...</td>\n",
       "      <td>...</td>\n",
       "      <td>...</td>\n",
       "      <td>...</td>\n",
       "    </tr>\n",
       "    <tr>\n",
       "      <th>2023-03-16 18:00:00</th>\n",
       "      <td>-0.003727</td>\n",
       "      <td>-0.002267</td>\n",
       "      <td>-0.000232</td>\n",
       "      <td>0.003893</td>\n",
       "      <td>-0.000675</td>\n",
       "      <td>-0.004774</td>\n",
       "      <td>0.000286</td>\n",
       "      <td>-0.003287</td>\n",
       "      <td>-0.008404</td>\n",
       "      <td>-0.006541</td>\n",
       "      <td>...</td>\n",
       "      <td>NaN</td>\n",
       "      <td>0.002319</td>\n",
       "      <td>-0.001305</td>\n",
       "      <td>0.005613</td>\n",
       "      <td>-0.007430</td>\n",
       "      <td>-0.000187</td>\n",
       "      <td>-0.005992</td>\n",
       "      <td>-0.009286</td>\n",
       "      <td>-0.000512</td>\n",
       "      <td>-0.002000</td>\n",
       "    </tr>\n",
       "    <tr>\n",
       "      <th>2023-03-16 19:00:00</th>\n",
       "      <td>0.003524</td>\n",
       "      <td>0.001757</td>\n",
       "      <td>0.000127</td>\n",
       "      <td>0.002380</td>\n",
       "      <td>0.003869</td>\n",
       "      <td>0.007564</td>\n",
       "      <td>0.001697</td>\n",
       "      <td>0.001695</td>\n",
       "      <td>-0.000562</td>\n",
       "      <td>0.001951</td>\n",
       "      <td>...</td>\n",
       "      <td>NaN</td>\n",
       "      <td>0.002493</td>\n",
       "      <td>0.012728</td>\n",
       "      <td>0.004940</td>\n",
       "      <td>-0.005760</td>\n",
       "      <td>0.001666</td>\n",
       "      <td>0.005332</td>\n",
       "      <td>-0.007918</td>\n",
       "      <td>0.001374</td>\n",
       "      <td>0.000588</td>\n",
       "    </tr>\n",
       "    <tr>\n",
       "      <th>2023-03-16 20:00:00</th>\n",
       "      <td>0.004476</td>\n",
       "      <td>0.010989</td>\n",
       "      <td>-0.000908</td>\n",
       "      <td>-0.002410</td>\n",
       "      <td>0.001231</td>\n",
       "      <td>0.008825</td>\n",
       "      <td>-0.004563</td>\n",
       "      <td>0.009969</td>\n",
       "      <td>0.005796</td>\n",
       "      <td>0.005752</td>\n",
       "      <td>...</td>\n",
       "      <td>NaN</td>\n",
       "      <td>-0.002921</td>\n",
       "      <td>-0.000115</td>\n",
       "      <td>-0.001788</td>\n",
       "      <td>0.011783</td>\n",
       "      <td>0.009876</td>\n",
       "      <td>0.004629</td>\n",
       "      <td>0.016356</td>\n",
       "      <td>0.000019</td>\n",
       "      <td>0.009829</td>\n",
       "    </tr>\n",
       "    <tr>\n",
       "      <th>2023-03-16 21:00:00</th>\n",
       "      <td>-0.008353</td>\n",
       "      <td>-0.011292</td>\n",
       "      <td>0.000449</td>\n",
       "      <td>-0.007431</td>\n",
       "      <td>-0.007043</td>\n",
       "      <td>-0.020514</td>\n",
       "      <td>-0.001160</td>\n",
       "      <td>-0.010037</td>\n",
       "      <td>-0.015916</td>\n",
       "      <td>-0.013717</td>\n",
       "      <td>...</td>\n",
       "      <td>NaN</td>\n",
       "      <td>0.000081</td>\n",
       "      <td>-0.019042</td>\n",
       "      <td>-0.000393</td>\n",
       "      <td>-0.012606</td>\n",
       "      <td>-0.011521</td>\n",
       "      <td>-0.006600</td>\n",
       "      <td>-0.007140</td>\n",
       "      <td>0.002338</td>\n",
       "      <td>-0.011296</td>\n",
       "    </tr>\n",
       "    <tr>\n",
       "      <th>2023-03-16 22:00:00</th>\n",
       "      <td>0.010098</td>\n",
       "      <td>0.008131</td>\n",
       "      <td>0.002788</td>\n",
       "      <td>0.016630</td>\n",
       "      <td>0.006141</td>\n",
       "      <td>0.013759</td>\n",
       "      <td>0.003774</td>\n",
       "      <td>0.010085</td>\n",
       "      <td>0.010374</td>\n",
       "      <td>0.010470</td>\n",
       "      <td>...</td>\n",
       "      <td>NaN</td>\n",
       "      <td>-0.001573</td>\n",
       "      <td>0.013161</td>\n",
       "      <td>0.006303</td>\n",
       "      <td>0.012330</td>\n",
       "      <td>0.010737</td>\n",
       "      <td>0.005981</td>\n",
       "      <td>-0.001531</td>\n",
       "      <td>-0.001231</td>\n",
       "      <td>0.011090</td>\n",
       "    </tr>\n",
       "  </tbody>\n",
       "</table>\n",
       "<p>21853 rows × 499 columns</p>\n",
       "</div>"
      ],
      "text/plain": [
       "                      Bitcoin  Ethereum    Tether       BNB       XRP  \\\n",
       "date                                                                    \n",
       "2020-01-01 23:00:00       NaN       NaN       NaN       NaN       NaN   \n",
       "2020-01-02 00:00:00  0.000330  0.002347  0.000017  0.000995 -0.000438   \n",
       "2020-01-02 01:00:00  0.000948 -0.000772 -0.000537  0.001798 -0.001930   \n",
       "2020-01-02 02:00:00 -0.003946 -0.004212 -0.002111 -0.006265 -0.000376   \n",
       "2020-01-02 03:00:00 -0.002070 -0.002523  0.001821 -0.003958 -0.004222   \n",
       "...                       ...       ...       ...       ...       ...   \n",
       "2023-03-16 18:00:00 -0.003727 -0.002267 -0.000232  0.003893 -0.000675   \n",
       "2023-03-16 19:00:00  0.003524  0.001757  0.000127  0.002380  0.003869   \n",
       "2023-03-16 20:00:00  0.004476  0.010989 -0.000908 -0.002410  0.001231   \n",
       "2023-03-16 21:00:00 -0.008353 -0.011292  0.000449 -0.007431 -0.007043   \n",
       "2023-03-16 22:00:00  0.010098  0.008131  0.002788  0.016630  0.006141   \n",
       "\n",
       "                       Solana      USDC  Lido Staked Ether   Cardano  \\\n",
       "date                                                                   \n",
       "2020-01-01 23:00:00       NaN       NaN                NaN       NaN   \n",
       "2020-01-02 00:00:00       NaN  0.000836                NaN -0.003580   \n",
       "2020-01-02 01:00:00       NaN  0.000627                NaN  0.001426   \n",
       "2020-01-02 02:00:00       NaN -0.001504                NaN -0.001732   \n",
       "2020-01-02 03:00:00       NaN  0.000641                NaN -0.005601   \n",
       "...                       ...       ...                ...       ...   \n",
       "2023-03-16 18:00:00 -0.004774  0.000286          -0.003287 -0.008404   \n",
       "2023-03-16 19:00:00  0.007564  0.001697           0.001695 -0.000562   \n",
       "2023-03-16 20:00:00  0.008825 -0.004563           0.009969  0.005796   \n",
       "2023-03-16 21:00:00 -0.020514 -0.001160          -0.010037 -0.015916   \n",
       "2023-03-16 22:00:00  0.013759  0.003774           0.010085  0.010374   \n",
       "\n",
       "                     Dogecoin  ...  Tectum      Fidu  Cornucopias  DexTools  \\\n",
       "date                           ...                                            \n",
       "2020-01-01 23:00:00       NaN  ...     NaN       NaN          NaN       NaN   \n",
       "2020-01-02 00:00:00 -0.000504  ...     NaN       NaN          NaN       NaN   \n",
       "2020-01-02 01:00:00  0.001631  ...     NaN       NaN          NaN       NaN   \n",
       "2020-01-02 02:00:00 -0.006427  ...     NaN       NaN          NaN       NaN   \n",
       "2020-01-02 03:00:00  0.001893  ...     NaN       NaN          NaN       NaN   \n",
       "...                       ...  ...     ...       ...          ...       ...   \n",
       "2023-03-16 18:00:00 -0.006541  ...     NaN  0.002319    -0.001305  0.005613   \n",
       "2023-03-16 19:00:00  0.001951  ...     NaN  0.002493     0.012728  0.004940   \n",
       "2023-03-16 20:00:00  0.005752  ...     NaN -0.002921    -0.000115 -0.001788   \n",
       "2023-03-16 21:00:00 -0.013717  ...     NaN  0.000081    -0.019042 -0.000393   \n",
       "2023-03-16 22:00:00  0.010470  ...     NaN -0.001573     0.013161  0.006303   \n",
       "\n",
       "                        COMBO  Ankr Staked ETH   Bazaars    Aurora   Coinweb  \\\n",
       "date                                                                           \n",
       "2020-01-01 23:00:00       NaN              NaN       NaN       NaN       NaN   \n",
       "2020-01-02 00:00:00 -0.010936              NaN       NaN       NaN       NaN   \n",
       "2020-01-02 01:00:00 -0.001216              NaN       NaN       NaN       NaN   \n",
       "2020-01-02 02:00:00  0.026720              NaN       NaN       NaN       NaN   \n",
       "2020-01-02 03:00:00 -0.005938              NaN       NaN       NaN       NaN   \n",
       "...                       ...              ...       ...       ...       ...   \n",
       "2023-03-16 18:00:00 -0.007430        -0.000187 -0.005992 -0.009286 -0.000512   \n",
       "2023-03-16 19:00:00 -0.005760         0.001666  0.005332 -0.007918  0.001374   \n",
       "2023-03-16 20:00:00  0.011783         0.009876  0.004629  0.016356  0.000019   \n",
       "2023-03-16 21:00:00 -0.012606        -0.011521 -0.006600 -0.007140  0.002338   \n",
       "2023-03-16 22:00:00  0.012330         0.010737  0.005981 -0.001531 -0.001231   \n",
       "\n",
       "                     UwU Lend  \n",
       "date                           \n",
       "2020-01-01 23:00:00       NaN  \n",
       "2020-01-02 00:00:00       NaN  \n",
       "2020-01-02 01:00:00       NaN  \n",
       "2020-01-02 02:00:00       NaN  \n",
       "2020-01-02 03:00:00       NaN  \n",
       "...                       ...  \n",
       "2023-03-16 18:00:00 -0.002000  \n",
       "2023-03-16 19:00:00  0.000588  \n",
       "2023-03-16 20:00:00  0.009829  \n",
       "2023-03-16 21:00:00 -0.011296  \n",
       "2023-03-16 22:00:00  0.011090  \n",
       "\n",
       "[21853 rows x 499 columns]"
      ]
     },
     "execution_count": 835,
     "metadata": {},
     "output_type": "execute_result"
    }
   ],
   "source": [
    "hourly_returns_pct = data.pct_change()\n",
    "#hourly_log_returns = hourly_returns_pct\n",
    "hourly_log_returns = np.log(hourly_returns_pct + 1)\n",
    "hourly_log_returns"
   ]
  },
  {
   "cell_type": "code",
   "execution_count": 836,
   "id": "37c9f367c45d1d22",
   "metadata": {
    "ExecuteTime": {
     "end_time": "2023-12-30T20:55:37.794839Z",
     "start_time": "2023-12-30T20:55:37.431222Z"
    },
    "collapsed": false
   },
   "outputs": [
    {
     "name": "stderr",
     "output_type": "stream",
     "text": [
      "/Users/robinjaccard/opt/anaconda3/lib/python3.10/site-packages/sklearn/utils/extmath.py:1047: RuntimeWarning:\n",
      "\n",
      "invalid value encountered in divide\n",
      "\n",
      "/Users/robinjaccard/opt/anaconda3/lib/python3.10/site-packages/sklearn/utils/extmath.py:1052: RuntimeWarning:\n",
      "\n",
      "invalid value encountered in divide\n",
      "\n",
      "/Users/robinjaccard/opt/anaconda3/lib/python3.10/site-packages/sklearn/utils/extmath.py:1072: RuntimeWarning:\n",
      "\n",
      "invalid value encountered in divide\n",
      "\n"
     ]
    }
   ],
   "source": [
    "scaler = StandardScaler()\n",
    "\n",
    "# Normalize each column in the dataframe\n",
    "daily_log_returns = pd.DataFrame(scaler.fit_transform(daily_log_returns), columns=daily_log_returns.columns, index=daily_log_returns.index)\n",
    "hourly_log_returns = pd.DataFrame(scaler.fit_transform(hourly_log_returns), columns=hourly_log_returns.columns, index=hourly_log_returns.index)"
   ]
  },
  {
   "cell_type": "code",
   "execution_count": 837,
   "id": "19385cf2ba276729",
   "metadata": {
    "ExecuteTime": {
     "end_time": "2023-12-30T20:55:38.710439Z",
     "start_time": "2023-12-30T20:55:38.655295Z"
    },
    "collapsed": false
   },
   "outputs": [],
   "source": [
    "# Just take bull run of 2021\n",
    "#returns = returns[:18000].copy()"
   ]
  },
  {
   "cell_type": "code",
   "execution_count": 838,
   "id": "79d354325ebdf670",
   "metadata": {
    "ExecuteTime": {
     "end_time": "2023-12-30T20:55:39.595420Z",
     "start_time": "2023-12-30T20:55:39.448595Z"
    },
    "collapsed": false
   },
   "outputs": [],
   "source": [
    "hourly_log_returns.dropna(axis=1, how='all', inplace=True)\n",
    "hourly_log_returns.dropna(axis=0, how='all', inplace=True)\n",
    "hourly_log_returns.dropna(axis=1, thresh=15000, inplace=True)\n",
    "\n",
    "daily_log_returns.dropna(axis=1, how='all', inplace=True)\n",
    "daily_log_returns.dropna(axis=0, how='all', inplace=True)\n",
    "daily_log_returns.dropna(axis=1, thresh=daily_log_returns.shape[0] * 3/4, inplace=True)\n",
    "#data.drop('short-term-t-bill-token', axis=1, inplace=True)\n",
    "#data.drop('mainframe', axis=1, inplace=True)\n",
    "#returns.drop('Kujira', axis=1, inplace=True)"
   ]
  },
  {
   "cell_type": "code",
   "execution_count": 839,
   "id": "7f58c09be319b048",
   "metadata": {
    "ExecuteTime": {
     "end_time": "2023-12-30T20:55:40.248591Z",
     "start_time": "2023-12-30T20:55:40.052126Z"
    },
    "collapsed": false
   },
   "outputs": [
    {
     "data": {
      "text/plain": [
       "Bitcoin       0\n",
       "Ethereum      0\n",
       "Tether        0\n",
       "BNB           0\n",
       "XRP           0\n",
       "             ..\n",
       "LCX           0\n",
       "Sologenic     0\n",
       "Firmachain    0\n",
       "DexTools      0\n",
       "COMBO         0\n",
       "Length: 240, dtype: int64"
      ]
     },
     "execution_count": 839,
     "metadata": {},
     "output_type": "execute_result"
    }
   ],
   "source": [
    "daily_log_returns.corr().isna().sum()"
   ]
  },
  {
   "cell_type": "code",
   "execution_count": 840,
   "id": "61dd8128dd4969bd",
   "metadata": {
    "ExecuteTime": {
     "end_time": "2023-12-30T20:55:45.596698Z",
     "start_time": "2023-12-30T20:55:40.500246Z"
    },
    "collapsed": false
   },
   "outputs": [
    {
     "data": {
      "text/plain": [
       "Bitcoin            0\n",
       "Ethereum           0\n",
       "Tether             0\n",
       "BNB                0\n",
       "XRP                0\n",
       "                  ..\n",
       "Sologenic          0\n",
       "Firmachain         0\n",
       "DexTools           0\n",
       "COMBO              0\n",
       "Ankr Staked ETH    0\n",
       "Length: 268, dtype: int64"
      ]
     },
     "execution_count": 840,
     "metadata": {},
     "output_type": "execute_result"
    }
   ],
   "source": [
    "hourly_log_returns.corr().isna().sum()"
   ]
  },
  {
   "cell_type": "code",
   "execution_count": 841,
   "id": "e75fb428a46418e4",
   "metadata": {
    "ExecuteTime": {
     "end_time": "2023-12-30T20:55:45.613331Z",
     "start_time": "2023-12-30T20:55:45.601244Z"
    },
    "collapsed": false
   },
   "outputs": [],
   "source": [
    "def compute_C_minus_C0(lambdas, v, lambda_plus, removeMarketMode=False):\n",
    "    N=len(lambdas)\n",
    "    C_clean=np.zeros((N, N))\n",
    "\n",
    "    order = np.argsort(lambdas)\n",
    "    lambdas,v = lambdas[order],v[:,order]\n",
    "\n",
    "    v_m=np.matrix(v)\n",
    "\n",
    "    # note that the eivenvalues are sorted\n",
    "    for i in range(1*removeMarketMode,N):\n",
    "        if lambdas[i]>lambda_plus:\n",
    "            C_clean=C_clean+lambdas[i] * np.dot(v_m[:,i],v_m[:,i].T)\n",
    "    return C_clean\n",
    "\n",
    "\n",
    "def LouvainCorrelationClustering(R):   # R is a matrix of return\n",
    "    N=R.shape[1]\n",
    "    T=R.shape[0]\n",
    "\n",
    "    q=N*1./T\n",
    "    lambda_plus=(1.+np.sqrt(q))**2\n",
    "    print(1)\n",
    "    C=R.corr()\n",
    "    lambdas, v = LA.eigh(C)\n",
    "    print(2)\n",
    "    C_s=compute_C_minus_C0(lambdas,v,lambda_plus)\n",
    "    #print(C_s)\n",
    "    mygraph= nx.from_numpy_array(np.abs(C_s))\n",
    "    print(3)\n",
    "    partition = community.community_louvain.best_partition(mygraph, resolution=1.05, random_state=3)\n",
    "    print(4)\n",
    "    #DF=pd.DataFrame.from_dict(partition, orient=\"index\")\n",
    "    return partition, mygraph"
   ]
  },
  {
   "cell_type": "markdown",
   "id": "16fab82f368cf79c",
   "metadata": {
    "collapsed": false
   },
   "source": [
    "## Partition by crypto"
   ]
  },
  {
   "cell_type": "code",
   "execution_count": 842,
   "id": "365bcaab5b2e002e",
   "metadata": {
    "ExecuteTime": {
     "end_time": "2023-12-30T20:55:45.649380Z",
     "start_time": "2023-12-30T20:55:45.608187Z"
    },
    "collapsed": false
   },
   "outputs": [],
   "source": [
    "df_to_use = hourly_log_returns.iloc[:, :]"
   ]
  },
  {
   "cell_type": "code",
   "execution_count": 844,
   "id": "17e823b2c7fc0071",
   "metadata": {
    "ExecuteTime": {
     "end_time": "2023-12-30T20:55:51.473845Z",
     "start_time": "2023-12-30T20:55:46.631077Z"
    },
    "collapsed": false
   },
   "outputs": [
    {
     "name": "stdout",
     "output_type": "stream",
     "text": [
      "1\n",
      "2\n",
      "3\n",
      "4\n"
     ]
    }
   ],
   "source": [
    "partition, mygraph = LouvainCorrelationClustering(df_to_use)"
   ]
  },
  {
   "cell_type": "code",
   "execution_count": 845,
   "id": "59f87aa4fca3f594",
   "metadata": {
    "ExecuteTime": {
     "end_time": "2023-12-30T20:55:51.490264Z",
     "start_time": "2023-12-30T20:55:51.477235Z"
    },
    "collapsed": false
   },
   "outputs": [],
   "source": [
    "all_names = list(df_to_use.columns)"
   ]
  },
  {
   "cell_type": "code",
   "execution_count": 846,
   "id": "d40fa207a6db44",
   "metadata": {
    "ExecuteTime": {
     "end_time": "2023-12-30T20:55:51.494576Z",
     "start_time": "2023-12-30T20:55:51.485488Z"
    },
    "collapsed": false
   },
   "outputs": [],
   "source": [
    "dict_clusters = {}\n",
    "for i,name in enumerate(all_names):\n",
    "    dict_clusters[name] = partition[i]"
   ]
  },
  {
   "cell_type": "code",
   "execution_count": 847,
   "id": "5242fb5102538c9f",
   "metadata": {
    "ExecuteTime": {
     "end_time": "2023-12-30T20:55:51.520904Z",
     "start_time": "2023-12-30T20:55:51.500837Z"
    },
    "collapsed": false
   },
   "outputs": [
    {
     "data": {
      "text/plain": [
       "{'Bitcoin': 0,\n",
       " 'Ethereum': 0,\n",
       " 'Tether': 5,\n",
       " 'BNB': 2,\n",
       " 'XRP': 2,\n",
       " 'Solana': 6,\n",
       " 'USDC': 5,\n",
       " 'Lido Staked Ether': 0,\n",
       " 'Cardano': 2,\n",
       " 'Dogecoin': 2,\n",
       " 'TRON': 2,\n",
       " 'Chainlink': 2,\n",
       " 'Avalanche': 6,\n",
       " 'Polygon': 4,\n",
       " 'Polkadot': 6,\n",
       " 'Wrapped Bitcoin': 0,\n",
       " 'Dai': 5,\n",
       " 'Litecoin': 2,\n",
       " 'Shiba Inu': 6,\n",
       " 'Uniswap': 6,\n",
       " 'Bitcoin Cash': 2,\n",
       " 'LEO Token': 5,\n",
       " 'OKB': 5,\n",
       " 'Stellar': 2,\n",
       " 'Monero': 2,\n",
       " 'TrueUSD': 5,\n",
       " 'Cosmos Hub': 2,\n",
       " 'Ethereum Classic': 4,\n",
       " 'Cronos': 0,\n",
       " 'Filecoin': 6,\n",
       " 'Lido DAO': 0,\n",
       " 'THORChain': 6,\n",
       " 'Hedera': 2,\n",
       " 'NEAR Protocol': 6,\n",
       " 'BUSD': 5,\n",
       " 'VeChain': 2,\n",
       " 'Injective': 6,\n",
       " 'Aave': 6,\n",
       " 'Quant': 0,\n",
       " 'Maker': 4,\n",
       " 'The Graph': 6,\n",
       " 'Render': 6,\n",
       " 'MultiversX': 6,\n",
       " 'Synthetix Network': 4,\n",
       " 'Algorand': 2,\n",
       " 'Stacks': 8,\n",
       " 'Theta Network': 7,\n",
       " 'Bitcoin SV': 5,\n",
       " 'Fantom': 4,\n",
       " 'The Sandbox': 7,\n",
       " 'Axie Infinity': 6,\n",
       " 'IOTA': 4,\n",
       " 'Decentraland': 7,\n",
       " 'WEMIX': 8,\n",
       " 'Terra Luna Classic': 1,\n",
       " 'NEO': 2,\n",
       " 'EOS': 2,\n",
       " 'KuCoin': 5,\n",
       " 'Kava': 3,\n",
       " 'Tezos': 2,\n",
       " 'GALA': 7,\n",
       " 'Bitget Token': 0,\n",
       " 'XDC Network': 0,\n",
       " 'Frax': 5,\n",
       " 'Klaytn': 6,\n",
       " 'Tokenize Xchange': 0,\n",
       " 'Frax Share': 6,\n",
       " 'Gate': 5,\n",
       " 'Fetch.ai': 2,\n",
       " 'Arweave': 6,\n",
       " 'Conflux': 6,\n",
       " 'Rocket Pool': 0,\n",
       " 'PancakeSwap': 6,\n",
       " 'Curve DAO': 6,\n",
       " 'Gas': 8,\n",
       " 'Gnosis': 0,\n",
       " 'Chiliz': 7,\n",
       " 'Tether Gold': 5,\n",
       " 'Trust Wallet': 6,\n",
       " 'cETH': 0,\n",
       " 'TerraClassicUSD': 1,\n",
       " 'PAX Gold': 5,\n",
       " 'cWBTC': 0,\n",
       " 'Huobi': 5,\n",
       " 'Pax Dollar': 5,\n",
       " 'Zcash': 2,\n",
       " 'NEXO': 0,\n",
       " 'Helium': 6,\n",
       " 'Oasis Network': 6,\n",
       " 'WOO Network': 6,\n",
       " 'SingularityNET': 0,\n",
       " 'Akash Network': 1,\n",
       " 'Zilliqa': 2,\n",
       " 'Huobi BTC': 0,\n",
       " '1inch': 6,\n",
       " 'aelf': 8,\n",
       " 'Dash': 2,\n",
       " 'Compound': 6,\n",
       " '0x Protocol': 2,\n",
       " 'Basic Attention': 2,\n",
       " 'NEM': 4,\n",
       " 'Qtum': 2,\n",
       " 'Theta Fuel': 8,\n",
       " 'MX': 5,\n",
       " 'Enjin Coin': 7,\n",
       " 'Siacoin': 2,\n",
       " 'Celo': 6,\n",
       " 'yearn.finance': 6,\n",
       " 'Bitcoin Gold': 4,\n",
       " 'Holo': 2,\n",
       " 'JUST': 8,\n",
       " 'Ocean Protocol': 2,\n",
       " 'Loopring': 4,\n",
       " 'Beldex': 5,\n",
       " 'Nexus Mutual': 0,\n",
       " 'Ankr Network': 8,\n",
       " 'ICON': 4,\n",
       " 'Sushi': 6,\n",
       " 'Golem': 8,\n",
       " 'IoTeX': 1,\n",
       " 'Kusama': 6,\n",
       " 'Escoin': 6,\n",
       " 'Decred': 0,\n",
       " 'Audius': 6,\n",
       " 'Ravencoin': 4,\n",
       " 'SKALE': 6,\n",
       " 'Waves': 2,\n",
       " 'Aragon': 3,\n",
       " 'WAX': 8,\n",
       " 'SXP': 6,\n",
       " 'OriginTrail': 0,\n",
       " 'DeFiChain': 0,\n",
       " 'Balancer': 6,\n",
       " 'Ontology': 2,\n",
       " 'Tellor Tributes': 6,\n",
       " 'FINSCHIA': 0,\n",
       " 'Band Protocol': 4,\n",
       " 'DeXe': 6,\n",
       " 'ARK': 8,\n",
       " 'SwissBorg': 0,\n",
       " 'Livepeer': 6,\n",
       " 'Flux': 0,\n",
       " 'Telcoin': 0,\n",
       " 'IOST': 8,\n",
       " 'Lisk': 8,\n",
       " 'Polymath': 8,\n",
       " 'Harmony': 4,\n",
       " 'Status': 8,\n",
       " 'ECOMI': 6,\n",
       " 'Stratis': 8,\n",
       " 'cDAI': 5,\n",
       " 'Kadena': 0,\n",
       " 'API3': 6,\n",
       " 'Gemini Dollar': 5,\n",
       " 'Ontology Gas': 8,\n",
       " 'Horizen': 3,\n",
       " 'cUSDC': 5,\n",
       " 'UMA': 6,\n",
       " 'Reserve Rights': 2,\n",
       " 'Orbs': 8,\n",
       " 'BORA': 8,\n",
       " 'Amp': 0,\n",
       " 'inSure DeFi': 0,\n",
       " 'Energy Web': 6,\n",
       " 'Blox': 0,\n",
       " 'BTSE Token': 5,\n",
       " 'STASIS EURO': 5,\n",
       " 'Hive': 8,\n",
       " 'DigiByte': 2,\n",
       " 'dKargo': 8,\n",
       " 'STP': 8,\n",
       " 'Cartesi': 7,\n",
       " 'Power Ledger': 8,\n",
       " 'Steem': 8,\n",
       " 'iExec RLC': 2,\n",
       " 'RSK Infrastructure Framework': 0,\n",
       " 'Venus': 6,\n",
       " 'LUKSO [OLD]': 0,\n",
       " 'Verus Coin': 0,\n",
       " 'Viction': 3,\n",
       " 'Metal DAO': 8,\n",
       " 'Bluzelle': 8,\n",
       " 'Storj': 8,\n",
       " 'Nervos Network': 5,\n",
       " 'Celsius Network': 0,\n",
       " 'Bancor Network': 0,\n",
       " 'Constellation': 0,\n",
       " 'IQ': 8,\n",
       " 'VeThor': 5,\n",
       " 'NuCypher': 6,\n",
       " 'MVL': 8,\n",
       " 'Uquid Coin': 6,\n",
       " 'Alchemy Pay': 8,\n",
       " 'Tokamak Network': 8,\n",
       " 'Smooth Love Potion': 6,\n",
       " 'Medibloc': 8,\n",
       " 'Nano': 4,\n",
       " 'Loom Network (OLD)': 8,\n",
       " 'Function X': 0,\n",
       " 'Ardor': 8,\n",
       " 'Secret': 6,\n",
       " 'Numeraire': 4,\n",
       " 'XYO Network': 0,\n",
       " 'Ergo': 6,\n",
       " 'MovieBloc': 8,\n",
       " 'Marlin': 6,\n",
       " 'CoinEx': 5,\n",
       " 'OMG Network': 2,\n",
       " 'Virtua': 6,\n",
       " 'StormX': 8,\n",
       " 'Civic': 8,\n",
       " 'Syscoin': 7,\n",
       " 'Unifi Protocol DAO': 6,\n",
       " 'Celer Network': 2,\n",
       " 'Wrapped NXM': 6,\n",
       " 'Aergo': 8,\n",
       " 'Prom': 6,\n",
       " 'DODO': 6,\n",
       " 'Dent': 2,\n",
       " 'Hunt': 8,\n",
       " 'Stella': 6,\n",
       " 'Metadium': 8,\n",
       " 'Chromia': 7,\n",
       " 'Badger': 6,\n",
       " 'HXRO': 5,\n",
       " 'QuarkChain': 8,\n",
       " 'MaidSafeCoin': 0,\n",
       " 'Oraichain': 6,\n",
       " 'Bifrost': 8,\n",
       " 'NKN': 8,\n",
       " 'Cortex': 5,\n",
       " 'Shentu': 6,\n",
       " 'COTI': 2,\n",
       " 'Steem Dollars': 8,\n",
       " 'Dusk': 2,\n",
       " 'Dock': 4,\n",
       " 'Phala': 6,\n",
       " 'Cobak': 8,\n",
       " 'Ultra': 0,\n",
       " 'Share': 6,\n",
       " 'FLEX Coin': 5,\n",
       " 'ChainX': 0,\n",
       " 'WINkLink': 5,\n",
       " 'e-Radix': 0,\n",
       " 'Creditcoin': 0,\n",
       " 'Origin Protocol': 7,\n",
       " 'Request': 8,\n",
       " 'Keep Network': 6,\n",
       " 'Linear': 6,\n",
       " 'tBTC': 0,\n",
       " 'TrueFi': 6,\n",
       " 'Tokenlon': 5,\n",
       " 'Ren': 3,\n",
       " 'SOMESING Exchange': 8,\n",
       " 'Hermez Network': 5,\n",
       " 'Sun Token': 8,\n",
       " 'Carry': 8,\n",
       " 'Mainframe': 8,\n",
       " 'Verge': 2,\n",
       " 'Shardus': 6,\n",
       " 'WazirX': 5,\n",
       " 'Ampleforth': 6,\n",
       " 'LCX': 6,\n",
       " 'Sologenic': 0,\n",
       " 'Firmachain': 8,\n",
       " 'DexTools': 6,\n",
       " 'COMBO': 7,\n",
       " 'Ankr Staked ETH': 0}"
      ]
     },
     "execution_count": 847,
     "metadata": {},
     "output_type": "execute_result"
    }
   ],
   "source": [
    "dict_clusters"
   ]
  },
  {
   "cell_type": "code",
   "execution_count": 848,
   "id": "da007c65e30184d2",
   "metadata": {
    "ExecuteTime": {
     "end_time": "2023-12-30T20:55:51.524899Z",
     "start_time": "2023-12-30T20:55:51.513202Z"
    },
    "collapsed": false
   },
   "outputs": [
    {
     "name": "stdout",
     "output_type": "stream",
     "text": [
      "[['Bitcoin', 'Ethereum', 'Lido Staked Ether', 'Wrapped Bitcoin', 'Cronos', 'Lido DAO', 'Quant', 'Bitget Token', 'XDC Network', 'Tokenize Xchange', 'Rocket Pool', 'Gnosis', 'cETH', 'cWBTC', 'NEXO', 'SingularityNET', 'Huobi BTC', 'Nexus Mutual', 'Decred', 'OriginTrail', 'DeFiChain', 'FINSCHIA', 'SwissBorg', 'Flux', 'Telcoin', 'Kadena', 'Amp', 'inSure DeFi', 'Blox', 'RSK Infrastructure Framework', 'LUKSO [OLD]', 'Verus Coin', 'Celsius Network', 'Bancor Network', 'Constellation', 'Function X', 'XYO Network', 'MaidSafeCoin', 'Ultra', 'ChainX', 'e-Radix', 'Creditcoin', 'tBTC', 'Sologenic', 'Ankr Staked ETH'], ['Tether', 'USDC', 'Dai', 'LEO Token', 'OKB', 'TrueUSD', 'BUSD', 'Bitcoin SV', 'KuCoin', 'Frax', 'Gate', 'Tether Gold', 'PAX Gold', 'Huobi', 'Pax Dollar', 'MX', 'Beldex', 'cDAI', 'Gemini Dollar', 'cUSDC', 'BTSE Token', 'STASIS EURO', 'Nervos Network', 'VeThor', 'CoinEx', 'HXRO', 'Cortex', 'FLEX Coin', 'WINkLink', 'Tokenlon', 'Hermez Network', 'WazirX'], ['BNB', 'XRP', 'Cardano', 'Dogecoin', 'TRON', 'Chainlink', 'Litecoin', 'Bitcoin Cash', 'Stellar', 'Monero', 'Cosmos Hub', 'Hedera', 'VeChain', 'Algorand', 'NEO', 'EOS', 'Tezos', 'Fetch.ai', 'Zcash', 'Zilliqa', 'Dash', '0x Protocol', 'Basic Attention', 'Qtum', 'Siacoin', 'Holo', 'Ocean Protocol', 'Waves', 'Ontology', 'Reserve Rights', 'DigiByte', 'iExec RLC', 'OMG Network', 'Celer Network', 'Dent', 'COTI', 'Dusk', 'Verge'], ['Solana', 'Avalanche', 'Polkadot', 'Shiba Inu', 'Uniswap', 'Filecoin', 'THORChain', 'NEAR Protocol', 'Injective', 'Aave', 'The Graph', 'Render', 'MultiversX', 'Axie Infinity', 'Klaytn', 'Frax Share', 'Arweave', 'Conflux', 'PancakeSwap', 'Curve DAO', 'Trust Wallet', 'Helium', 'Oasis Network', 'WOO Network', '1inch', 'Compound', 'Celo', 'yearn.finance', 'Sushi', 'Kusama', 'Escoin', 'Audius', 'SKALE', 'SXP', 'Balancer', 'Tellor Tributes', 'DeXe', 'Livepeer', 'ECOMI', 'API3', 'UMA', 'Energy Web', 'Venus', 'NuCypher', 'Uquid Coin', 'Smooth Love Potion', 'Secret', 'Ergo', 'Marlin', 'Virtua', 'Unifi Protocol DAO', 'Wrapped NXM', 'Prom', 'DODO', 'Stella', 'Badger', 'Oraichain', 'Shentu', 'Phala', 'Share', 'Keep Network', 'Linear', 'TrueFi', 'Shardus', 'Ampleforth', 'LCX', 'DexTools'], ['Polygon', 'Ethereum Classic', 'Maker', 'Synthetix Network', 'Fantom', 'IOTA', 'NEM', 'Bitcoin Gold', 'Loopring', 'ICON', 'Ravencoin', 'Band Protocol', 'Harmony', 'Nano', 'Numeraire', 'Dock'], ['Stacks', 'WEMIX', 'Gas', 'aelf', 'Theta Fuel', 'JUST', 'Ankr Network', 'Golem', 'WAX', 'ARK', 'IOST', 'Lisk', 'Polymath', 'Status', 'Stratis', 'Ontology Gas', 'Orbs', 'BORA', 'Hive', 'dKargo', 'STP', 'Power Ledger', 'Steem', 'Metal DAO', 'Bluzelle', 'Storj', 'IQ', 'MVL', 'Alchemy Pay', 'Tokamak Network', 'Medibloc', 'Loom Network (OLD)', 'Ardor', 'MovieBloc', 'StormX', 'Civic', 'Aergo', 'Hunt', 'Metadium', 'QuarkChain', 'Bifrost', 'NKN', 'Steem Dollars', 'Cobak', 'Request', 'SOMESING Exchange', 'Sun Token', 'Carry', 'Mainframe', 'Firmachain'], ['Theta Network', 'The Sandbox', 'Decentraland', 'GALA', 'Chiliz', 'Enjin Coin', 'Cartesi', 'Syscoin', 'Chromia', 'Origin Protocol', 'COMBO'], ['Terra Luna Classic', 'TerraClassicUSD', 'Akash Network', 'IoTeX'], ['Kava', 'Aragon', 'Horizen', 'Viction', 'Ren']]\n"
     ]
    }
   ],
   "source": [
    "grouped_cryptos = {}\n",
    "\n",
    "for crypto, number in dict_clusters.items():\n",
    "    if number not in grouped_cryptos:\n",
    "        grouped_cryptos[number] = []\n",
    "    grouped_cryptos[number].append(crypto)\n",
    "\n",
    "# Convert the dictionary values to a list for easier usage\n",
    "result_lists = list(grouped_cryptos.values())\n",
    "\n",
    "# Print or use the result_lists as needed\n",
    "print(result_lists)"
   ]
  },
  {
   "cell_type": "code",
   "execution_count": 849,
   "id": "c0aecce03cccdd58",
   "metadata": {
    "ExecuteTime": {
     "end_time": "2023-12-30T20:55:52.111141Z",
     "start_time": "2023-12-30T20:55:51.531945Z"
    },
    "collapsed": false
   },
   "outputs": [
    {
     "name": "stdout",
     "output_type": "stream",
     "text": [
      "Community Group: ['Bitcoin', 'Ethereum', 'Lido Staked Ether', 'Wrapped Bitcoin', 'Cronos', 'Lido DAO', 'Quant', 'Bitget Token', 'XDC Network', 'Tokenize Xchange', 'Rocket Pool', 'Gnosis', 'cETH', 'cWBTC', 'NEXO', 'SingularityNET', 'Huobi BTC', 'Nexus Mutual', 'Decred', 'OriginTrail', 'DeFiChain', 'FINSCHIA', 'SwissBorg', 'Flux', 'Telcoin', 'Kadena', 'Amp', 'inSure DeFi', 'Blox', 'RSK Infrastructure Framework', 'LUKSO [OLD]', 'Verus Coin', 'Celsius Network', 'Bancor Network', 'Constellation', 'Function X', 'XYO Network', 'MaidSafeCoin', 'Ultra', 'ChainX', 'e-Radix', 'Creditcoin', 'tBTC', 'Sologenic', 'Ankr Staked ETH'], Leading Coin (PCA): Ethereum\n",
      "Community Group: ['Tether', 'USDC', 'Dai', 'LEO Token', 'OKB', 'TrueUSD', 'BUSD', 'Bitcoin SV', 'KuCoin', 'Frax', 'Gate', 'Tether Gold', 'PAX Gold', 'Huobi', 'Pax Dollar', 'MX', 'Beldex', 'cDAI', 'Gemini Dollar', 'cUSDC', 'BTSE Token', 'STASIS EURO', 'Nervos Network', 'VeThor', 'CoinEx', 'HXRO', 'Cortex', 'FLEX Coin', 'WINkLink', 'Tokenlon', 'Hermez Network', 'WazirX'], Leading Coin (PCA): Gate\n",
      "Community Group: ['BNB', 'XRP', 'Cardano', 'Dogecoin', 'TRON', 'Chainlink', 'Litecoin', 'Bitcoin Cash', 'Stellar', 'Monero', 'Cosmos Hub', 'Hedera', 'VeChain', 'Algorand', 'NEO', 'EOS', 'Tezos', 'Fetch.ai', 'Zcash', 'Zilliqa', 'Dash', '0x Protocol', 'Basic Attention', 'Qtum', 'Siacoin', 'Holo', 'Ocean Protocol', 'Waves', 'Ontology', 'Reserve Rights', 'DigiByte', 'iExec RLC', 'OMG Network', 'Celer Network', 'Dent', 'COTI', 'Dusk', 'Verge'], Leading Coin (PCA): NEO\n",
      "Community Group: ['Solana', 'Avalanche', 'Polkadot', 'Shiba Inu', 'Uniswap', 'Filecoin', 'THORChain', 'NEAR Protocol', 'Injective', 'Aave', 'The Graph', 'Render', 'MultiversX', 'Axie Infinity', 'Klaytn', 'Frax Share', 'Arweave', 'Conflux', 'PancakeSwap', 'Curve DAO', 'Trust Wallet', 'Helium', 'Oasis Network', 'WOO Network', '1inch', 'Compound', 'Celo', 'yearn.finance', 'Sushi', 'Kusama', 'Escoin', 'Audius', 'SKALE', 'SXP', 'Balancer', 'Tellor Tributes', 'DeXe', 'Livepeer', 'ECOMI', 'API3', 'UMA', 'Energy Web', 'Venus', 'NuCypher', 'Uquid Coin', 'Smooth Love Potion', 'Secret', 'Ergo', 'Marlin', 'Virtua', 'Unifi Protocol DAO', 'Wrapped NXM', 'Prom', 'DODO', 'Stella', 'Badger', 'Oraichain', 'Shentu', 'Phala', 'Share', 'Keep Network', 'Linear', 'TrueFi', 'Shardus', 'Ampleforth', 'LCX', 'DexTools'], Leading Coin (PCA): Aave\n",
      "\n",
      "Community Group: ['Polygon', 'Ethereum Classic', 'Maker', 'Synthetix Network', 'Fantom', 'IOTA', 'NEM', 'Bitcoin Gold', 'Loopring', 'ICON', 'Ravencoin', 'Band Protocol', 'Harmony', 'Nano', 'Numeraire', 'Dock'], Leading Coin (PCA): IOTA\n",
      "Community Group: ['Stacks', 'WEMIX', 'Gas', 'aelf', 'Theta Fuel', 'JUST', 'Ankr Network', 'Golem', 'WAX', 'ARK', 'IOST', 'Lisk', 'Polymath', 'Status', 'Stratis', 'Ontology Gas', 'Orbs', 'BORA', 'Hive', 'dKargo', 'STP', 'Power Ledger', 'Steem', 'Metal DAO', 'Bluzelle', 'Storj', 'IQ', 'MVL', 'Alchemy Pay', 'Tokamak Network', 'Medibloc', 'Loom Network (OLD)', 'Ardor', 'MovieBloc', 'StormX', 'Civic', 'Aergo', 'Hunt', 'Metadium', 'QuarkChain', 'Bifrost', 'NKN', 'Steem Dollars', 'Cobak', 'Request', 'SOMESING Exchange', 'Sun Token', 'Carry', 'Mainframe', 'Firmachain'], Leading Coin (PCA): IOST\n",
      "\n",
      "Community Group: ['Theta Network', 'The Sandbox', 'Decentraland', 'GALA', 'Chiliz', 'Enjin Coin', 'Cartesi', 'Syscoin', 'Chromia', 'Origin Protocol', 'COMBO'], Leading Coin (PCA): Enjin Coin\n",
      "\n",
      "Community Group: ['Terra Luna Classic', 'TerraClassicUSD', 'Akash Network', 'IoTeX'], Leading Coin (PCA): Terra Luna Classic\n",
      "\n",
      "Community Group: ['Kava', 'Aragon', 'Horizen', 'Viction', 'Ren'], Leading Coin (PCA): Horizen\n"
     ]
    }
   ],
   "source": [
    "from sklearn.decomposition import PCA\n",
    "from sklearn.impute import SimpleImputer\n",
    "from sklearn.preprocessing import StandardScaler\n",
    "\n",
    "# Loop through each community\n",
    "for group in result_lists:\n",
    "    # Subset the data for the current group\n",
    "    subset_data = df_to_use[group]\n",
    "\n",
    "    imputer = SimpleImputer(strategy='mean')\n",
    "    subset_data_imputed = pd.DataFrame(imputer.fit_transform(subset_data), columns=subset_data.columns, index=subset_data.index)\n",
    "    \n",
    "    # Standardize/Normalize the data\n",
    "    scaler = StandardScaler()\n",
    "    subset_data_standardized = scaler.fit_transform(subset_data_imputed)\n",
    "\n",
    "    # Apply PCA\n",
    "    pca = PCA()\n",
    "    principal_components = pca.fit_transform(subset_data_standardized)\n",
    "\n",
    "    # Identify the leading coin (biggest contributor in the first principal component)\n",
    "    leading_coin_index = np.argmax(np.abs(pca.components_[0]))\n",
    "    leading_coin = subset_data.columns[leading_coin_index]\n",
    "\n",
    "    # Print\n",
    "    print(f\"Community Group: {group}, Leading Coin (PCA): {leading_coin}\\n\")"
   ]
  },
  {
   "cell_type": "markdown",
   "id": "f6e59f3fb3233372",
   "metadata": {
    "collapsed": false
   },
   "source": [
    "## Partition by time"
   ]
  },
  {
   "cell_type": "code",
   "execution_count": 851,
   "id": "5c2ec6d57d5bf283",
   "metadata": {
    "ExecuteTime": {
     "end_time": "2023-12-30T21:04:08.620074Z",
     "start_time": "2023-12-30T21:04:08.535778Z"
    },
    "collapsed": false
   },
   "outputs": [],
   "source": [
    "time_daily = np.log(daily_returns_pct + 1)\n",
    "df_to_use_time = time_daily.iloc[450:750,:].T.copy()\n",
    "#df_to_use_time.mean(axis=0)"
   ]
  },
  {
   "cell_type": "code",
   "execution_count": 852,
   "id": "b88ec2d1dc290e64",
   "metadata": {
    "ExecuteTime": {
     "end_time": "2023-12-30T21:04:11.821223Z",
     "start_time": "2023-12-30T21:04:11.772876Z"
    },
    "collapsed": false
   },
   "outputs": [],
   "source": [
    "scaler = StandardScaler()\n",
    "\n",
    "# Normalize each column in the dataframe\n",
    "df_to_use_time = pd.DataFrame(scaler.fit_transform(df_to_use_time), columns=df_to_use_time.columns, index=df_to_use_time.index)"
   ]
  },
  {
   "cell_type": "code",
   "execution_count": 853,
   "id": "bf94f98eb87db4f4",
   "metadata": {
    "ExecuteTime": {
     "end_time": "2023-12-30T21:04:13.800458Z",
     "start_time": "2023-12-30T21:04:13.771971Z"
    },
    "collapsed": false
   },
   "outputs": [],
   "source": [
    "df_to_use_time.dropna(axis=1, how='all', inplace=True)\n",
    "df_to_use_time.dropna(axis=0, how='all', inplace=True)\n",
    "df_to_use_time.dropna(axis=1, thresh=df_to_use_time.shape[0] * 3/4, inplace=True)"
   ]
  },
  {
   "cell_type": "code",
   "execution_count": 854,
   "id": "bae47621c9107f8c",
   "metadata": {
    "ExecuteTime": {
     "end_time": "2023-12-30T21:04:24.146394Z",
     "start_time": "2023-12-30T21:04:24.055469Z"
    },
    "collapsed": false
   },
   "outputs": [],
   "source": [
    "df_to_use_time = df_to_use_time.copy()"
   ]
  },
  {
   "cell_type": "code",
   "execution_count": 855,
   "id": "fba65498c35d9fd3",
   "metadata": {
    "ExecuteTime": {
     "end_time": "2023-12-30T21:04:31.911249Z",
     "start_time": "2023-12-30T21:04:30.990040Z"
    },
    "collapsed": false
   },
   "outputs": [
    {
     "name": "stdout",
     "output_type": "stream",
     "text": [
      "1\n",
      "2\n",
      "3\n",
      "4\n"
     ]
    }
   ],
   "source": [
    "partition_time, mygraph = LouvainCorrelationClustering(df_to_use_time)"
   ]
  },
  {
   "cell_type": "code",
   "execution_count": 856,
   "id": "6808ba21587cfe01",
   "metadata": {
    "ExecuteTime": {
     "end_time": "2023-12-30T21:04:31.946011Z",
     "start_time": "2023-12-30T21:04:31.915950Z"
    },
    "collapsed": false
   },
   "outputs": [],
   "source": [
    "all_times = list(df_to_use_time.columns)"
   ]
  },
  {
   "cell_type": "code",
   "execution_count": 857,
   "id": "123042cff440e1e5",
   "metadata": {
    "ExecuteTime": {
     "end_time": "2023-12-30T21:04:32.886705Z",
     "start_time": "2023-12-30T21:04:32.860622Z"
    },
    "collapsed": false
   },
   "outputs": [],
   "source": [
    "dict_clusters_time = {} \n",
    "for i,name in enumerate(all_times):\n",
    "    dict_clusters_time[name] = partition_time[i]"
   ]
  },
  {
   "cell_type": "code",
   "execution_count": 858,
   "id": "76ac7505be971e8d",
   "metadata": {
    "ExecuteTime": {
     "end_time": "2023-12-30T21:04:33.478306Z",
     "start_time": "2023-12-30T21:04:33.434146Z"
    },
    "collapsed": false
   },
   "outputs": [
    {
     "data": {
      "text/plain": [
       "{datetime.date(2021, 4, 2): 0,\n",
       " datetime.date(2021, 4, 3): 0,\n",
       " datetime.date(2021, 4, 4): 0,\n",
       " datetime.date(2021, 4, 5): 0,\n",
       " datetime.date(2021, 4, 6): 0,\n",
       " datetime.date(2021, 4, 7): 0,\n",
       " datetime.date(2021, 4, 8): 0,\n",
       " datetime.date(2021, 4, 9): 0,\n",
       " datetime.date(2021, 4, 10): 1,\n",
       " datetime.date(2021, 4, 11): 0,\n",
       " datetime.date(2021, 4, 12): 1,\n",
       " datetime.date(2021, 4, 13): 3,\n",
       " datetime.date(2021, 4, 14): 0,\n",
       " datetime.date(2021, 4, 15): 0,\n",
       " datetime.date(2021, 4, 16): 1,\n",
       " datetime.date(2021, 4, 17): 1,\n",
       " datetime.date(2021, 4, 18): 1,\n",
       " datetime.date(2021, 4, 19): 0,\n",
       " datetime.date(2021, 4, 20): 1,\n",
       " datetime.date(2021, 4, 21): 1,\n",
       " datetime.date(2021, 4, 22): 1,\n",
       " datetime.date(2021, 4, 23): 0,\n",
       " datetime.date(2021, 4, 24): 3,\n",
       " datetime.date(2021, 4, 25): 4,\n",
       " datetime.date(2021, 4, 26): 3,\n",
       " datetime.date(2021, 4, 27): 0,\n",
       " datetime.date(2021, 4, 28): 5,\n",
       " datetime.date(2021, 4, 29): 1,\n",
       " datetime.date(2021, 4, 30): 8,\n",
       " datetime.date(2021, 5, 1): 1,\n",
       " datetime.date(2021, 5, 2): 4,\n",
       " datetime.date(2021, 5, 3): 1,\n",
       " datetime.date(2021, 5, 4): 1,\n",
       " datetime.date(2021, 5, 5): 1,\n",
       " datetime.date(2021, 5, 6): 4,\n",
       " datetime.date(2021, 5, 7): 2,\n",
       " datetime.date(2021, 5, 8): 1,\n",
       " datetime.date(2021, 5, 9): 1,\n",
       " datetime.date(2021, 5, 10): 3,\n",
       " datetime.date(2021, 5, 11): 1,\n",
       " datetime.date(2021, 5, 12): 4,\n",
       " datetime.date(2021, 5, 13): 4,\n",
       " datetime.date(2021, 5, 14): 8,\n",
       " datetime.date(2021, 5, 15): 5,\n",
       " datetime.date(2021, 5, 16): 1,\n",
       " datetime.date(2021, 5, 17): 3,\n",
       " datetime.date(2021, 5, 18): 8,\n",
       " datetime.date(2021, 5, 19): 8,\n",
       " datetime.date(2021, 5, 20): 5,\n",
       " datetime.date(2021, 5, 21): 0,\n",
       " datetime.date(2021, 5, 22): 5,\n",
       " datetime.date(2021, 5, 23): 5,\n",
       " datetime.date(2021, 5, 24): 5,\n",
       " datetime.date(2021, 5, 25): 5,\n",
       " datetime.date(2021, 5, 26): 2,\n",
       " datetime.date(2021, 5, 27): 5,\n",
       " datetime.date(2021, 5, 28): 5,\n",
       " datetime.date(2021, 5, 29): 2,\n",
       " datetime.date(2021, 5, 30): 5,\n",
       " datetime.date(2021, 5, 31): 2,\n",
       " datetime.date(2021, 6, 1): 5,\n",
       " datetime.date(2021, 6, 2): 5,\n",
       " datetime.date(2021, 6, 3): 5,\n",
       " datetime.date(2021, 6, 4): 8,\n",
       " datetime.date(2021, 6, 5): 5,\n",
       " datetime.date(2021, 6, 6): 5,\n",
       " datetime.date(2021, 6, 7): 2,\n",
       " datetime.date(2021, 6, 8): 5,\n",
       " datetime.date(2021, 6, 9): 2,\n",
       " datetime.date(2021, 6, 10): 2,\n",
       " datetime.date(2021, 6, 11): 2,\n",
       " datetime.date(2021, 6, 12): 2,\n",
       " datetime.date(2021, 6, 13): 0,\n",
       " datetime.date(2021, 6, 14): 2,\n",
       " datetime.date(2021, 6, 15): 2,\n",
       " datetime.date(2021, 6, 16): 1,\n",
       " datetime.date(2021, 6, 17): 2,\n",
       " datetime.date(2021, 6, 18): 0,\n",
       " datetime.date(2021, 6, 19): 5,\n",
       " datetime.date(2021, 6, 20): 4,\n",
       " datetime.date(2021, 6, 21): 0,\n",
       " datetime.date(2021, 6, 22): 0,\n",
       " datetime.date(2021, 6, 23): 0,\n",
       " datetime.date(2021, 6, 24): 5,\n",
       " datetime.date(2021, 6, 25): 0,\n",
       " datetime.date(2021, 6, 26): 5,\n",
       " datetime.date(2021, 6, 27): 3,\n",
       " datetime.date(2021, 6, 28): 3,\n",
       " datetime.date(2021, 6, 29): 0,\n",
       " datetime.date(2021, 6, 30): 6,\n",
       " datetime.date(2021, 7, 1): 6,\n",
       " datetime.date(2021, 7, 2): 6,\n",
       " datetime.date(2021, 7, 3): 6,\n",
       " datetime.date(2021, 7, 4): 3,\n",
       " datetime.date(2021, 7, 5): 6,\n",
       " datetime.date(2021, 7, 6): 6,\n",
       " datetime.date(2021, 7, 7): 6,\n",
       " datetime.date(2021, 7, 8): 7,\n",
       " datetime.date(2021, 7, 9): 0,\n",
       " datetime.date(2021, 7, 10): 6,\n",
       " datetime.date(2021, 7, 11): 8,\n",
       " datetime.date(2021, 7, 12): 8,\n",
       " datetime.date(2021, 7, 13): 5,\n",
       " datetime.date(2021, 7, 14): 3,\n",
       " datetime.date(2021, 7, 15): 3,\n",
       " datetime.date(2021, 7, 16): 6,\n",
       " datetime.date(2021, 7, 17): 0,\n",
       " datetime.date(2021, 7, 18): 0,\n",
       " datetime.date(2021, 7, 19): 3,\n",
       " datetime.date(2021, 7, 20): 3,\n",
       " datetime.date(2021, 7, 21): 6,\n",
       " datetime.date(2021, 7, 22): 5,\n",
       " datetime.date(2021, 7, 23): 3,\n",
       " datetime.date(2021, 7, 24): 3,\n",
       " datetime.date(2021, 7, 25): 3,\n",
       " datetime.date(2021, 7, 26): 6,\n",
       " datetime.date(2021, 7, 27): 3,\n",
       " datetime.date(2021, 7, 28): 3,\n",
       " datetime.date(2021, 7, 29): 3,\n",
       " datetime.date(2021, 7, 30): 3,\n",
       " datetime.date(2021, 7, 31): 3,\n",
       " datetime.date(2021, 8, 1): 4,\n",
       " datetime.date(2021, 8, 2): 0,\n",
       " datetime.date(2021, 8, 3): 4,\n",
       " datetime.date(2021, 8, 4): 6,\n",
       " datetime.date(2021, 8, 5): 5,\n",
       " datetime.date(2021, 8, 6): 3,\n",
       " datetime.date(2021, 8, 7): 3,\n",
       " datetime.date(2021, 8, 8): 3,\n",
       " datetime.date(2021, 8, 9): 5,\n",
       " datetime.date(2021, 8, 10): 5,\n",
       " datetime.date(2021, 8, 11): 3,\n",
       " datetime.date(2021, 8, 12): 4,\n",
       " datetime.date(2021, 8, 13): 4,\n",
       " datetime.date(2021, 8, 14): 5,\n",
       " datetime.date(2021, 8, 15): 3,\n",
       " datetime.date(2021, 8, 16): 4,\n",
       " datetime.date(2021, 8, 17): 8,\n",
       " datetime.date(2021, 8, 18): 0,\n",
       " datetime.date(2021, 8, 19): 2,\n",
       " datetime.date(2021, 8, 20): 5,\n",
       " datetime.date(2021, 8, 21): 2,\n",
       " datetime.date(2021, 8, 22): 3,\n",
       " datetime.date(2021, 8, 23): 8,\n",
       " datetime.date(2021, 8, 24): 0,\n",
       " datetime.date(2021, 8, 25): 5,\n",
       " datetime.date(2021, 8, 26): 5,\n",
       " datetime.date(2021, 8, 27): 6,\n",
       " datetime.date(2021, 8, 28): 4,\n",
       " datetime.date(2021, 8, 29): 6,\n",
       " datetime.date(2021, 8, 30): 6,\n",
       " datetime.date(2021, 8, 31): 2,\n",
       " datetime.date(2021, 9, 1): 6,\n",
       " datetime.date(2021, 9, 2): 3,\n",
       " datetime.date(2021, 9, 3): 6,\n",
       " datetime.date(2021, 9, 4): 3,\n",
       " datetime.date(2021, 9, 5): 0,\n",
       " datetime.date(2021, 9, 6): 4,\n",
       " datetime.date(2021, 9, 7): 4,\n",
       " datetime.date(2021, 9, 8): 5,\n",
       " datetime.date(2021, 9, 9): 3,\n",
       " datetime.date(2021, 9, 10): 3,\n",
       " datetime.date(2021, 9, 11): 0,\n",
       " datetime.date(2021, 9, 12): 2,\n",
       " datetime.date(2021, 9, 13): 6,\n",
       " datetime.date(2021, 9, 14): 8,\n",
       " datetime.date(2021, 9, 15): 3,\n",
       " datetime.date(2021, 9, 16): 5,\n",
       " datetime.date(2021, 9, 17): 6,\n",
       " datetime.date(2021, 9, 18): 5,\n",
       " datetime.date(2021, 9, 19): 3,\n",
       " datetime.date(2021, 9, 20): 3,\n",
       " datetime.date(2021, 9, 21): 5,\n",
       " datetime.date(2021, 9, 22): 0,\n",
       " datetime.date(2021, 9, 23): 5,\n",
       " datetime.date(2021, 9, 24): 5,\n",
       " datetime.date(2021, 9, 25): 0,\n",
       " datetime.date(2021, 9, 26): 3,\n",
       " datetime.date(2021, 9, 27): 0,\n",
       " datetime.date(2021, 9, 28): 6,\n",
       " datetime.date(2021, 9, 29): 3,\n",
       " datetime.date(2021, 9, 30): 6,\n",
       " datetime.date(2021, 10, 1): 0,\n",
       " datetime.date(2021, 10, 2): 5,\n",
       " datetime.date(2021, 10, 3): 8,\n",
       " datetime.date(2021, 10, 4): 6,\n",
       " datetime.date(2021, 10, 5): 1,\n",
       " datetime.date(2021, 10, 6): 0,\n",
       " datetime.date(2021, 10, 7): 1,\n",
       " datetime.date(2021, 10, 8): 7,\n",
       " datetime.date(2021, 10, 9): 0,\n",
       " datetime.date(2021, 10, 10): 7,\n",
       " datetime.date(2021, 10, 11): 1,\n",
       " datetime.date(2021, 10, 12): 1,\n",
       " datetime.date(2021, 10, 13): 0,\n",
       " datetime.date(2021, 10, 14): 4,\n",
       " datetime.date(2021, 10, 15): 7,\n",
       " datetime.date(2021, 10, 16): 4,\n",
       " datetime.date(2021, 10, 17): 4,\n",
       " datetime.date(2021, 10, 18): 4,\n",
       " datetime.date(2021, 10, 19): 4,\n",
       " datetime.date(2021, 10, 20): 3,\n",
       " datetime.date(2021, 10, 21): 3,\n",
       " datetime.date(2021, 10, 22): 3,\n",
       " datetime.date(2021, 10, 23): 7,\n",
       " datetime.date(2021, 10, 24): 1,\n",
       " datetime.date(2021, 10, 25): 7,\n",
       " datetime.date(2021, 10, 26): 7,\n",
       " datetime.date(2021, 10, 27): 3,\n",
       " datetime.date(2021, 10, 28): 6,\n",
       " datetime.date(2021, 10, 29): 6,\n",
       " datetime.date(2021, 10, 30): 4,\n",
       " datetime.date(2021, 10, 31): 4,\n",
       " datetime.date(2021, 11, 1): 4,\n",
       " datetime.date(2021, 11, 2): 7,\n",
       " datetime.date(2021, 11, 3): 7,\n",
       " datetime.date(2021, 11, 4): 4,\n",
       " datetime.date(2021, 11, 5): 4,\n",
       " datetime.date(2021, 11, 6): 4,\n",
       " datetime.date(2021, 11, 7): 4,\n",
       " datetime.date(2021, 11, 8): 3,\n",
       " datetime.date(2021, 11, 9): 4,\n",
       " datetime.date(2021, 11, 10): 8,\n",
       " datetime.date(2021, 11, 11): 1,\n",
       " datetime.date(2021, 11, 12): 5,\n",
       " datetime.date(2021, 11, 13): 7,\n",
       " datetime.date(2021, 11, 14): 7,\n",
       " datetime.date(2021, 11, 15): 8,\n",
       " datetime.date(2021, 11, 16): 0,\n",
       " datetime.date(2021, 11, 17): 5,\n",
       " datetime.date(2021, 11, 18): 8,\n",
       " datetime.date(2021, 11, 19): 0,\n",
       " datetime.date(2021, 11, 20): 5,\n",
       " datetime.date(2021, 11, 21): 0,\n",
       " datetime.date(2021, 11, 22): 4,\n",
       " datetime.date(2021, 11, 23): 4,\n",
       " datetime.date(2021, 11, 24): 5,\n",
       " datetime.date(2021, 11, 25): 1,\n",
       " datetime.date(2021, 11, 26): 7,\n",
       " datetime.date(2021, 11, 27): 2,\n",
       " datetime.date(2021, 11, 28): 7,\n",
       " datetime.date(2021, 11, 29): 7,\n",
       " datetime.date(2021, 11, 30): 4,\n",
       " datetime.date(2021, 12, 1): 8,\n",
       " datetime.date(2021, 12, 2): 7,\n",
       " datetime.date(2021, 12, 3): 8,\n",
       " datetime.date(2021, 12, 4): 1,\n",
       " datetime.date(2021, 12, 5): 8,\n",
       " datetime.date(2021, 12, 6): 0,\n",
       " datetime.date(2021, 12, 7): 4,\n",
       " datetime.date(2021, 12, 8): 7,\n",
       " datetime.date(2021, 12, 9): 4,\n",
       " datetime.date(2021, 12, 10): 5,\n",
       " datetime.date(2021, 12, 11): 5,\n",
       " datetime.date(2021, 12, 12): 8,\n",
       " datetime.date(2021, 12, 13): 6,\n",
       " datetime.date(2021, 12, 14): 5,\n",
       " datetime.date(2021, 12, 15): 4,\n",
       " datetime.date(2021, 12, 16): 7,\n",
       " datetime.date(2021, 12, 17): 7,\n",
       " datetime.date(2021, 12, 18): 2,\n",
       " datetime.date(2021, 12, 19): 5,\n",
       " datetime.date(2021, 12, 20): 8,\n",
       " datetime.date(2021, 12, 21): 7,\n",
       " datetime.date(2021, 12, 22): 7,\n",
       " datetime.date(2021, 12, 23): 7,\n",
       " datetime.date(2021, 12, 24): 5,\n",
       " datetime.date(2021, 12, 25): 7,\n",
       " datetime.date(2021, 12, 26): 5,\n",
       " datetime.date(2021, 12, 27): 4,\n",
       " datetime.date(2021, 12, 28): 4,\n",
       " datetime.date(2021, 12, 29): 5,\n",
       " datetime.date(2021, 12, 30): 0,\n",
       " datetime.date(2021, 12, 31): 7,\n",
       " datetime.date(2022, 1, 1): 7,\n",
       " datetime.date(2022, 1, 2): 5,\n",
       " datetime.date(2022, 1, 3): 0,\n",
       " datetime.date(2022, 1, 4): 4,\n",
       " datetime.date(2022, 1, 5): 1,\n",
       " datetime.date(2022, 1, 6): 5,\n",
       " datetime.date(2022, 1, 7): 2,\n",
       " datetime.date(2022, 1, 8): 5,\n",
       " datetime.date(2022, 1, 9): 5,\n",
       " datetime.date(2022, 1, 10): 6,\n",
       " datetime.date(2022, 1, 11): 5,\n",
       " datetime.date(2022, 1, 12): 5,\n",
       " datetime.date(2022, 1, 13): 5,\n",
       " datetime.date(2022, 1, 14): 5,\n",
       " datetime.date(2022, 1, 15): 7,\n",
       " datetime.date(2022, 1, 16): 5,\n",
       " datetime.date(2022, 1, 17): 7,\n",
       " datetime.date(2022, 1, 18): 5,\n",
       " datetime.date(2022, 1, 19): 7}"
      ]
     },
     "execution_count": 858,
     "metadata": {},
     "output_type": "execute_result"
    }
   ],
   "source": [
    "dict_clusters_time"
   ]
  },
  {
   "cell_type": "code",
   "execution_count": 859,
   "id": "ab9ee501b62eda81",
   "metadata": {
    "ExecuteTime": {
     "end_time": "2023-12-30T21:04:36.694949Z",
     "start_time": "2023-12-30T21:04:36.624040Z"
    },
    "collapsed": false
   },
   "outputs": [
    {
     "name": "stdout",
     "output_type": "stream",
     "text": [
      "43\n",
      "27\n",
      "40\n",
      "36\n",
      "56\n",
      "19\n",
      "19\n",
      "26\n",
      "27\n"
     ]
    }
   ],
   "source": [
    "grouped_time = {}\n",
    "\n",
    "for time, number in dict_clusters_time.items():\n",
    "    if number not in grouped_time:\n",
    "        grouped_time[number] = []\n",
    "    grouped_time[number].append(time)\n",
    "\n",
    "# Convert the dictionary values to a list for easier usage\n",
    "result_time_lists = list(grouped_time.values())\n",
    "\n",
    "# Print or use the result_lists as needed\n",
    "for state in result_time_lists:\n",
    "    print(len(state))"
   ]
  },
  {
   "cell_type": "code",
   "execution_count": 860,
   "id": "263dae997420b7c",
   "metadata": {
    "ExecuteTime": {
     "end_time": "2023-12-30T21:04:40.809716Z",
     "start_time": "2023-12-30T21:04:40.718700Z"
    },
    "collapsed": false
   },
   "outputs": [
    {
     "data": {
      "text/plain": [
       "Index(['Bitcoin', 'Ethereum', 'Tether', 'BNB', 'XRP', 'Solana', 'USDC',\n",
       "       'Lido Staked Ether', 'Cardano', 'Dogecoin',\n",
       "       ...\n",
       "       'Router Protocol', 'Bficoin', 'Boba Network', 'Firmachain',\n",
       "       'Cornucopias', 'DexTools', 'COMBO', 'Ankr Staked ETH', 'Aurora',\n",
       "       'Coinweb'],\n",
       "      dtype='object', length=386)"
      ]
     },
     "execution_count": 860,
     "metadata": {},
     "output_type": "execute_result"
    }
   ],
   "source": [
    "df_to_use_time.index"
   ]
  },
  {
   "cell_type": "code",
   "execution_count": 861,
   "id": "7829fc541bd07f77",
   "metadata": {
    "ExecuteTime": {
     "end_time": "2023-12-30T21:04:42.074509Z",
     "start_time": "2023-12-30T21:04:42.035632Z"
    },
    "collapsed": false
   },
   "outputs": [
    {
     "name": "stdout",
     "output_type": "stream",
     "text": [
      "Bitcoin             -0.004455\n",
      "Ethereum             0.002815\n",
      "Tether              -0.000174\n",
      "BNB                 -0.000243\n",
      "XRP                  0.020751\n",
      "Solana               0.008555\n",
      "USDC                -0.000202\n",
      "Lido Staked Ether    0.000576\n",
      "Cardano             -0.001666\n",
      "Dogecoin             0.007573\n",
      "dtype: float64\n",
      "Bitcoin             -0.003619\n",
      "Ethereum             0.004940\n",
      "Tether               0.000629\n",
      "BNB                  0.003323\n",
      "XRP                 -0.023453\n",
      "Solana              -0.015654\n",
      "USDC                 0.000446\n",
      "Lido Staked Ether    0.002077\n",
      "Cardano             -0.015415\n",
      "Dogecoin             0.067887\n",
      "dtype: float64\n",
      "Bitcoin              0.009513\n",
      "Ethereum             0.014704\n",
      "Tether               0.000425\n",
      "BNB                  0.010991\n",
      "XRP                  0.018108\n",
      "Solana               0.020102\n",
      "USDC                -0.000112\n",
      "Lido Staked Ether    0.012821\n",
      "Cardano              0.012017\n",
      "Dogecoin             0.002237\n",
      "dtype: float64\n",
      "Bitcoin              0.004014\n",
      "Ethereum             0.005516\n",
      "Tether              -0.000445\n",
      "BNB                  0.011646\n",
      "XRP                  0.013664\n",
      "Solana               0.033651\n",
      "USDC                -0.000370\n",
      "Lido Staked Ether    0.006378\n",
      "Cardano              0.010086\n",
      "Dogecoin             0.025250\n",
      "dtype: float64\n",
      "Bitcoin             -0.005714\n",
      "Ethereum            -0.004271\n",
      "Tether              -0.000320\n",
      "BNB                 -0.002712\n",
      "XRP                 -0.009827\n",
      "Solana              -0.004313\n",
      "USDC                -0.000241\n",
      "Lido Staked Ether   -0.002795\n",
      "Cardano             -0.001537\n",
      "Dogecoin             0.001211\n",
      "dtype: float64\n",
      "Bitcoin             -0.008203\n",
      "Ethereum            -0.003388\n",
      "Tether               0.000088\n",
      "BNB                 -0.006370\n",
      "XRP                  0.001135\n",
      "Solana               0.014581\n",
      "USDC                 0.000673\n",
      "Lido Staked Ether   -0.001843\n",
      "Cardano              0.014602\n",
      "Dogecoin            -0.015567\n",
      "dtype: float64\n",
      "Bitcoin              0.001787\n",
      "Ethereum            -0.010709\n",
      "Tether               0.000379\n",
      "BNB                 -0.007180\n",
      "XRP                  0.001272\n",
      "Solana               0.009413\n",
      "USDC                 0.000428\n",
      "Lido Staked Ether   -0.009132\n",
      "Cardano              0.013417\n",
      "Dogecoin            -0.018655\n",
      "dtype: float64\n",
      "Bitcoin             -0.001923\n",
      "Ethereum             0.004348\n",
      "Tether              -0.000171\n",
      "BNB                  0.004842\n",
      "XRP                 -0.003234\n",
      "Solana               0.006262\n",
      "USDC                 0.000319\n",
      "Lido Staked Ether    0.006082\n",
      "Cardano             -0.006540\n",
      "Dogecoin            -0.000787\n",
      "dtype: float64\n",
      "Bitcoin              0.005408\n",
      "Ethereum             0.009409\n",
      "Tether               0.000183\n",
      "BNB                  0.010854\n",
      "XRP                  0.005480\n",
      "Solana               0.020047\n",
      "USDC                -0.000006\n",
      "Lido Staked Ether    0.008902\n",
      "Cardano              0.002686\n",
      "Dogecoin            -0.001443\n",
      "dtype: float64\n"
     ]
    }
   ],
   "source": [
    "crypto_list = list(df_to_use_time.index)\n",
    "for group in result_time_lists:\n",
    "    # Subset the data for the current group\n",
    "    subset_data = daily_returns_pct.T.loc[crypto_list, group]\n",
    "    print(subset_data.iloc[:10,:].mean(axis=1))\n",
    "    #subset_data.plot()"
   ]
  },
  {
   "cell_type": "code",
   "execution_count": 862,
   "id": "2c212a4583bdc1a1",
   "metadata": {
    "ExecuteTime": {
     "end_time": "2023-12-30T21:04:47.344259Z",
     "start_time": "2023-12-30T21:04:47.154223Z"
    },
    "collapsed": false
   },
   "outputs": [
    {
     "data": {
      "application/vnd.plotly.v1+json": {
       "config": {
        "plotlyServerURL": "https://plot.ly"
       },
       "data": [
        {
         "customdata": [
          [
           "Bitcoin"
          ],
          [
           "Ethereum"
          ],
          [
           "Tether"
          ],
          [
           "BNB"
          ],
          [
           "XRP"
          ],
          [
           "Solana"
          ],
          [
           "USDC"
          ],
          [
           "Lido Staked Ether"
          ],
          [
           "Cardano"
          ],
          [
           "Dogecoin"
          ],
          [
           "TRON"
          ],
          [
           "Chainlink"
          ],
          [
           "Toncoin"
          ],
          [
           "Avalanche"
          ],
          [
           "Polygon"
          ],
          [
           "Polkadot"
          ],
          [
           "Wrapped Bitcoin"
          ],
          [
           "Dai"
          ],
          [
           "Litecoin"
          ],
          [
           "Shiba Inu"
          ],
          [
           "Uniswap"
          ],
          [
           "Bitcoin Cash"
          ],
          [
           "LEO Token"
          ],
          [
           "OKB"
          ],
          [
           "Stellar"
          ],
          [
           "Monero"
          ],
          [
           "TrueUSD"
          ],
          [
           "Cosmos Hub"
          ],
          [
           "Ethereum Classic"
          ],
          [
           "Cronos"
          ],
          [
           "Filecoin"
          ],
          [
           "Internet Computer"
          ],
          [
           "Lido DAO"
          ],
          [
           "THORChain"
          ],
          [
           "Hedera"
          ],
          [
           "NEAR Protocol"
          ],
          [
           "Immutable"
          ],
          [
           "BUSD"
          ],
          [
           "VeChain"
          ],
          [
           "Injective"
          ],
          [
           "Aave"
          ],
          [
           "Quant"
          ],
          [
           "Maker"
          ],
          [
           "The Graph"
          ],
          [
           "Render"
          ],
          [
           "Rocket Pool ETH"
          ],
          [
           "MultiversX"
          ],
          [
           "Synthetix Network"
          ],
          [
           "Algorand"
          ],
          [
           "Stacks"
          ],
          [
           "Theta Network"
          ],
          [
           "Flow"
          ],
          [
           "Bitcoin SV"
          ],
          [
           "Fantom"
          ],
          [
           "The Sandbox"
          ],
          [
           "Axie Infinity"
          ],
          [
           "IOTA"
          ],
          [
           "Decentraland"
          ],
          [
           "WEMIX"
          ],
          [
           "Terra Luna Classic"
          ],
          [
           "NEO"
          ],
          [
           "EOS"
          ],
          [
           "KuCoin"
          ],
          [
           "Kava"
          ],
          [
           "Tezos"
          ],
          [
           "Mina Protocol"
          ],
          [
           "GALA"
          ],
          [
           "Bitget Token"
          ],
          [
           "Illuvium"
          ],
          [
           "XDC Network"
          ],
          [
           "Frax"
          ],
          [
           "Klaytn"
          ],
          [
           "Tokenize Xchange"
          ],
          [
           "dYdX"
          ],
          [
           "Frax Share"
          ],
          [
           "Gate"
          ],
          [
           "eCash"
          ],
          [
           "Fetch.ai"
          ],
          [
           "Radix"
          ],
          [
           "Arweave"
          ],
          [
           "Conflux"
          ],
          [
           "Rocket Pool"
          ],
          [
           "PancakeSwap"
          ],
          [
           "Curve DAO"
          ],
          [
           "Gas"
          ],
          [
           "Gnosis"
          ],
          [
           "Chiliz"
          ],
          [
           "Tether Gold"
          ],
          [
           "Trust Wallet"
          ],
          [
           "cETH"
          ],
          [
           "TerraClassicUSD"
          ],
          [
           "GMX"
          ],
          [
           "PAX Gold"
          ],
          [
           "cWBTC"
          ],
          [
           "Huobi"
          ],
          [
           "Pax Dollar"
          ],
          [
           "Zcash"
          ],
          [
           "Osmosis"
          ],
          [
           "NEXO"
          ],
          [
           "Helium"
          ],
          [
           "Oasis Network"
          ],
          [
           "Kujira"
          ],
          [
           "WOO Network"
          ],
          [
           "Casper Network"
          ],
          [
           "SingularityNET"
          ],
          [
           "Akash Network"
          ],
          [
           "Marinade staked SOL"
          ],
          [
           "Zilliqa"
          ],
          [
           "Huobi BTC"
          ],
          [
           "1inch"
          ],
          [
           "aelf"
          ],
          [
           "Dash"
          ],
          [
           "Compound"
          ],
          [
           "0x Protocol"
          ],
          [
           "Basic Attention"
          ],
          [
           "FLOKI"
          ],
          [
           "NEM"
          ],
          [
           "Qtum"
          ],
          [
           "APENFT"
          ],
          [
           "Theta Fuel"
          ],
          [
           "Convex Finance"
          ],
          [
           "MX"
          ],
          [
           "Enjin Coin"
          ],
          [
           "Siacoin"
          ],
          [
           "Celo"
          ],
          [
           "yearn.finance"
          ],
          [
           "Mask Network"
          ],
          [
           "SafePal"
          ],
          [
           "Bitcoin Gold"
          ],
          [
           "Holo"
          ],
          [
           "JUST"
          ],
          [
           "Ocean Protocol"
          ],
          [
           "Loopring"
          ],
          [
           "Lido Staked SOL"
          ],
          [
           "Beldex"
          ],
          [
           "Ribbon Finance"
          ],
          [
           "Ethereum Name Service"
          ],
          [
           "Nexus Mutual"
          ],
          [
           "Ankr Network"
          ],
          [
           "JasmyCoin"
          ],
          [
           "Centrifuge"
          ],
          [
           "Wrapped Centrifuge"
          ],
          [
           "OKT Chain"
          ],
          [
           "ICON"
          ],
          [
           "Sushi"
          ],
          [
           "Chia"
          ],
          [
           "Golem"
          ],
          [
           "IoTeX"
          ],
          [
           "Kusama"
          ],
          [
           "Escoin"
          ],
          [
           "Decred"
          ],
          [
           "Audius"
          ],
          [
           "Ravencoin"
          ],
          [
           "SKALE"
          ],
          [
           "Waves"
          ],
          [
           "Magic"
          ],
          [
           "Aragon"
          ],
          [
           "WAX"
          ],
          [
           "SXP"
          ],
          [
           "OriginTrail"
          ],
          [
           "DeFiChain"
          ],
          [
           "Balancer"
          ],
          [
           "Ontology"
          ],
          [
           "Tellor Tributes"
          ],
          [
           "FINSCHIA"
          ],
          [
           "Band Protocol"
          ],
          [
           "DeXe"
          ],
          [
           "ARK"
          ],
          [
           "Olympus"
          ],
          [
           "Biconomy"
          ],
          [
           "Liquity USD"
          ],
          [
           "SwissBorg"
          ],
          [
           "Livepeer"
          ],
          [
           "DAO Maker"
          ],
          [
           "Flux"
          ],
          [
           "AIOZ Network"
          ],
          [
           "Baby Doge Coin"
          ],
          [
           "Telcoin"
          ],
          [
           "IOST"
          ],
          [
           "SSV Network"
          ],
          [
           "Lisk"
          ],
          [
           "Polymath"
          ],
          [
           "Harmony"
          ],
          [
           "Status"
          ],
          [
           "ECOMI"
          ],
          [
           "Stratis"
          ],
          [
           "SuperVerse"
          ],
          [
           "Alchemix USD"
          ],
          [
           "Maple"
          ],
          [
           "cDAI"
          ],
          [
           "Vulcan Forged"
          ],
          [
           "Kadena"
          ],
          [
           "API3"
          ],
          [
           "Gemini Dollar"
          ],
          [
           "Ontology Gas"
          ],
          [
           "JOE"
          ],
          [
           "sETH2"
          ],
          [
           "Horizen"
          ],
          [
           "Star Atlas DAO"
          ],
          [
           "cUSDC"
          ],
          [
           "Orca"
          ],
          [
           "UMA"
          ],
          [
           "Loom Network (NEW)"
          ],
          [
           "Reserve Rights"
          ],
          [
           "Orbs"
          ],
          [
           "BORA"
          ],
          [
           "Tribe"
          ],
          [
           "Amp"
          ],
          [
           "inSure DeFi"
          ],
          [
           "Liquity"
          ],
          [
           "Energy Web"
          ],
          [
           "VVS Finance"
          ],
          [
           "Blox"
          ],
          [
           "BTSE Token"
          ],
          [
           "STASIS EURO"
          ],
          [
           "Hive"
          ],
          [
           "Nakamoto Games"
          ],
          [
           "Bitkub Coin"
          ],
          [
           "Seedify.fund"
          ],
          [
           "Pundi X"
          ],
          [
           "Coin98"
          ],
          [
           "DigiByte"
          ],
          [
           "Sidus"
          ],
          [
           "dKargo"
          ],
          [
           "Wilder World"
          ],
          [
           "STP"
          ],
          [
           "Gains Network"
          ],
          [
           "Covalent"
          ],
          [
           "Merit Circle"
          ],
          [
           "Cartesi"
          ],
          [
           "PlayDapp"
          ],
          [
           "Power Ledger"
          ],
          [
           "Decentralized Social"
          ],
          [
           "Steem"
          ],
          [
           "iExec RLC"
          ],
          [
           "RSK Infrastructure Framework"
          ],
          [
           "Bitgert"
          ],
          [
           "MiL.k Alliance"
          ],
          [
           "Yield Guild Games"
          ],
          [
           "Venus"
          ],
          [
           "LUKSO [OLD]"
          ],
          [
           "Kyber Network Crystal"
          ],
          [
           "Verus Coin"
          ],
          [
           "Viction"
          ],
          [
           "Raydium"
          ],
          [
           "Metal DAO"
          ],
          [
           "Bluzelle"
          ],
          [
           "Storj"
          ],
          [
           "Nervos Network"
          ],
          [
           "Celsius Network"
          ],
          [
           "Bancor Network"
          ],
          [
           "Decimal"
          ],
          [
           "Star Atlas"
          ],
          [
           "Constellation"
          ],
          [
           "Pendle"
          ],
          [
           "IQ"
          ],
          [
           "Gods Unchained"
          ],
          [
           "VeThor"
          ],
          [
           "NuCypher"
          ],
          [
           "MVL"
          ],
          [
           "Uquid Coin"
          ],
          [
           "Alchemy Pay"
          ],
          [
           "Tokamak Network"
          ],
          [
           "Smooth Love Potion"
          ],
          [
           "Medibloc"
          ],
          [
           "Nano"
          ],
          [
           "Loom Network (OLD)"
          ],
          [
           "Function X"
          ],
          [
           "Ardor"
          ],
          [
           "Secret"
          ],
          [
           "Numeraire"
          ],
          [
           "XYO Network"
          ],
          [
           "Ergo"
          ],
          [
           "MovieBloc"
          ],
          [
           "Marlin"
          ],
          [
           "CoinEx"
          ],
          [
           "Metis"
          ],
          [
           "My Neighbor Alice"
          ],
          [
           "OMG Network"
          ],
          [
           "Virtua"
          ],
          [
           "Dogelon Mars"
          ],
          [
           "Humans.ai"
          ],
          [
           "StormX"
          ],
          [
           "Civic"
          ],
          [
           "Syscoin"
          ],
          [
           "Unifi Protocol DAO"
          ],
          [
           "Celer Network"
          ],
          [
           "Wrapped NXM"
          ],
          [
           "Aergo"
          ],
          [
           "Gelato"
          ],
          [
           "Prom"
          ],
          [
           "SuperRare"
          ],
          [
           "DODO"
          ],
          [
           "Dent"
          ],
          [
           "Verasity"
          ],
          [
           "Synapse"
          ],
          [
           "Hunt"
          ],
          [
           "Stella"
          ],
          [
           "Metadium"
          ],
          [
           "VitaDAO"
          ],
          [
           "Radworks"
          ],
          [
           "Bounce"
          ],
          [
           "Chromia"
          ],
          [
           "Badger"
          ],
          [
           "Tenset"
          ],
          [
           "HXRO"
          ],
          [
           "QuarkChain"
          ],
          [
           "Nerve Finance"
          ],
          [
           "MaidSafeCoin"
          ],
          [
           "Aurory"
          ],
          [
           "Oraichain"
          ],
          [
           "Lyra Finance"
          ],
          [
           "Spell"
          ],
          [
           "QANplatform"
          ],
          [
           "Bifrost"
          ],
          [
           "NKN"
          ],
          [
           "Cortex"
          ],
          [
           "Shentu"
          ],
          [
           "COTI"
          ],
          [
           "Vega Protocol"
          ],
          [
           "Steem Dollars"
          ],
          [
           "World Mobile Token"
          ],
          [
           "Dusk"
          ],
          [
           "Dock"
          ],
          [
           "Phala"
          ],
          [
           "Cobak"
          ],
          [
           "Ultra"
          ],
          [
           "Share"
          ],
          [
           "FLEX Coin"
          ],
          [
           "Songbird"
          ],
          [
           "ChainX"
          ],
          [
           "Gitcoin"
          ],
          [
           "WINkLink"
          ],
          [
           "e-Radix"
          ],
          [
           "Creditcoin"
          ],
          [
           "THORSwap"
          ],
          [
           "Origin Protocol"
          ],
          [
           "Adventure Gold"
          ],
          [
           "Request"
          ],
          [
           "Victoria VR"
          ],
          [
           "ConstitutionDAO"
          ],
          [
           "Keep Network"
          ],
          [
           "Mobox"
          ],
          [
           "Radio Caca"
          ],
          [
           "Gomining Token"
          ],
          [
           "GameFi.org"
          ],
          [
           "Taraxa"
          ],
          [
           "SX Network"
          ],
          [
           "Linear"
          ],
          [
           "tBTC"
          ],
          [
           "TrueFi"
          ],
          [
           "Marinade"
          ],
          [
           "Tokenlon"
          ],
          [
           "Ren"
          ],
          [
           "Solend"
          ],
          [
           "SOMESING Exchange"
          ],
          [
           "Hermez Network"
          ],
          [
           "Moonriver"
          ],
          [
           "Alien Worlds"
          ],
          [
           "Sun Token"
          ],
          [
           "Carry"
          ],
          [
           "Mainframe"
          ],
          [
           "Verge"
          ],
          [
           "Strike"
          ],
          [
           "Shardus"
          ],
          [
           "WazirX"
          ],
          [
           "Ampleforth"
          ],
          [
           "GuildFi"
          ],
          [
           "LCX"
          ],
          [
           "Sologenic"
          ],
          [
           "Router Protocol"
          ],
          [
           "Bficoin"
          ],
          [
           "Boba Network"
          ],
          [
           "Firmachain"
          ],
          [
           "Cornucopias"
          ],
          [
           "DexTools"
          ],
          [
           "COMBO"
          ],
          [
           "Ankr Staked ETH"
          ],
          [
           "Aurora"
          ],
          [
           "Coinweb"
          ]
         ],
         "hovertemplate": "state1=%{x}<br>state2=%{y}<br>index=%{customdata[0]}<extra></extra>",
         "legendgroup": "",
         "marker": {
          "color": "#636efa",
          "symbol": "circle"
         },
         "mode": "markers",
         "name": "",
         "orientation": "v",
         "showlegend": false,
         "type": "scatter",
         "x": [
          -0.004455378444958662,
          0.0028147176511053597,
          -0.0001738566746343981,
          -0.00024308307178329302,
          0.020751030120222246,
          0.008554555710341647,
          -0.00020220683930831598,
          0.0005756683773543023,
          -0.0016655584285987855,
          0.007573418847605754,
          0.009111674097005898,
          -0.001459121123472031,
          0.006152539486761962,
          0.009140563858935823,
          0.004753967935287745,
          -0.007753704883159357,
          -0.0032048824308810175,
          -0.0004263300340422154,
          -0.0015642952442079469,
          0.006752526805136055,
          -0.0053541213946125595,
          0.0030890396539964954,
          0.006822188909813763,
          -0.011908189964194415,
          0.0018577883172004787,
          0.00215058105972672,
          -0.00010080848831131906,
          0.0062438340623105935,
          0.005265238766241499,
          -0.008633118588601893,
          -0.009636345994429085,
          -0.00981478379778102,
          -0.004559081590659753,
          0.0036098280295422417,
          -0.00402648698715161,
          -0.009830842463902255,
          0.0025036090108976707,
          -0.000004557782944273362,
          0.009289944597891658,
          -0.005926249435087474,
          -0.008732812229761529,
          0.013649898396588192,
          -0.002368560968515157,
          -0.004310285141531407,
          -0.022172641380094928,
          -0.003102378132097239,
          0.011545337018493218,
          -0.014188004659671488,
          -0.005951657712942389,
          0.02473392985454462,
          -0.008100970426003972,
          -0.023502437899273122,
          0.004358095802170789,
          -0.02048295816413469,
          -0.017937173781088375,
          0.0005678588259940883,
          0.006751407355152548,
          -0.009529176082053793,
          -0.009170361096808905,
          0.0029946587415608994,
          0.003465566680391725,
          0.0038912091490045297,
          0.03108789836503795,
          -0.0031822327520832734,
          0.0039207771167855615,
          -0.03302594632613772,
          -0.0030309968606939894,
          0,
          0.02088869556247873,
          0.04016140128365711,
          0.0011613039411551963,
          -0.019447569859264813,
          0.000812138786583834,
          -0.03278142188956635,
          0.0017728834146146298,
          -0.0054890903024494815,
          -0.02725681583208638,
          -0.019794166347630527,
          -0.08641482554326066,
          -0.019561574725286926,
          -0.016122728540062616,
          -0.004565404116430234,
          -0.004548807615293111,
          -0.00922917784502652,
          -0.01054653454235734,
          0.007336667233731123,
          -0.01583197833449498,
          0.001118322485080406,
          0.0018730376750470568,
          0.0026065282036983974,
          0.0007447534590296487,
          0.060113007110252,
          0.00024357445113784248,
          -0.005018796993710042,
          -0.016910506640560482,
          -0.000053685015479903877,
          0.006692255235943081,
          -0.012570538349346476,
          0.0018793380838786034,
          0.011627294449094844,
          -0.0026432062317186893,
          -0.059789744899704456,
          0.01222306042166053,
          0.0115582227928728,
          -0.012059658573878416,
          0.009830070104750089,
          2.700156172587717,
          -0.000823535076043832,
          -0.0017550145357749843,
          -0.0037237493560160406,
          -0.003101082832953765,
          0.0012134008211431976,
          0.004895529020231554,
          -0.006714376550739507,
          -0.00007831300681170147,
          -0.0008924285491788142,
          -0.0024965230880875447,
          0.002351259260352636,
          -0.0011610284718915145,
          -0.012856900182011561,
          0.011951905723252925,
          0.0012422644965443708,
          -0.0008538274546734779,
          0.007233667692784247,
          -0.013018929520783963,
          0.010011167573946262,
          -0.020954024175944618,
          -0.020988684556301658,
          0.014884252679795235,
          -0.005077563668837862,
          -0.0012506659888606945,
          -0.0065680785305739535,
          -0.02097992151632466,
          -0.012863659435662051,
          0.006683915538497141,
          0.019204703507128634,
          -0.03284378089797122,
          0.002279251713352309,
          -0.0007833372127324288,
          -0.002469706910416976,
          -0.0039125574038576015,
          0.0027052253781525313,
          -0.017208605733332317,
          -0.009388552717159743,
          -0.002361177120685388,
          -0.03314360767245774,
          -0.003451587621542781,
          -0.009027408038927393,
          -0.016956325734787767,
          0.0008589218051165041,
          -0.00932311532771887,
          -0.028235424913421084,
          0.0020097445735462187,
          -0.021911448088903766,
          0.009391906149116828,
          -0.0015658545450524363,
          -0.01582043205274047,
          -0.00172073063465011,
          0.000438534267254195,
          -0.01516041040994728,
          -0.00013146854494029337,
          0.0014703962850859604,
          -0.0021646076752430687,
          -0.013809392896917655,
          -0.01018958984753305,
          -0.015572062292485646,
          -0.02023305413858698,
          -0.01188917386336351,
          0.016556263307262488,
          -0.02347816234081294,
          -0.00045466116602427135,
          -0.004749843568362696,
          -0.0007223169291317243,
          -0.016660905704495146,
          -0.003928559141449329,
          -0.021193927617544597,
          0.06131472910278236,
          -0.01979743732000195,
          0.000825240987918456,
          -0.08707407222862001,
          -0.005158290143100275,
          -0.01358683933868305,
          -0.0022797783496080605,
          0.00662437502693738,
          0.0024617147919821156,
          0.004219185830993974,
          -0.03133557828827935,
          -0.0029118510275746635,
          0.022059870273383752,
          0.0003595428137895353,
          -0.006313440535385204,
          0.005041926567816406,
          0.004774251213442321,
          -0.001100272378588671,
          0.06339377611284584,
          0.05293355904455571,
          -0.00583218883291154,
          -0.004687475686080367,
          -0.009318116862636401,
          -0.00014666461551088176,
          -0.012825282668810126,
          0.003211748905207804,
          -0.0027379964083189164,
          -0.0112163166431855,
          -0.01302217949408334,
          -0.020789515805097646,
          -0.008691966263759426,
          -0.0062319967436930655,
          -0.0010646898772114944,
          0.17307473753550448,
          0.0020782827556055173,
          -0.10070465469004568,
          -0.008575231717183334,
          0.008836234736662993,
          0.002497746813271921,
          -0.0103849571286728,
          -0.07832523442507093,
          -0.014946881438067142,
          -0.013377539054035565,
          -0.016021313878200213,
          -0.039002376043730275,
          -0.00011362074087492762,
          -0.020258445153466698,
          -0.014038249166336546,
          -0.010452096311165148,
          0.020098897092168576,
          -0.02173361521336714,
          -0.00023220016991847185,
          -0.028054441552180193,
          0.007226902849118065,
          -0.028283865954283238,
          0.02132271234225207,
          0.00826802014993058,
          -0.012796758395128754,
          -0.002076534606881273,
          -0.005915667340844689,
          0.025750359842761607,
          -0.02254297880695389,
          0.0033915972013464388,
          -0.017706589552338125,
          -0.010109323499832868,
          -0.018860862497734714,
          0.00015130917213819774,
          0.0003318806618457928,
          -0.006269443557229537,
          -0.02894156517283563,
          -0.012568316639626584,
          -0.005557507527023695,
          -0.022031125953991745,
          0.005462136401307383,
          -0.005802900946494553,
          0.021074092105089537,
          0.0036935028971750937,
          0.00748548721898949,
          0.01492199741588648,
          -0.014160051293868542,
          0.015678393156770387,
          -0.0004149955393093872,
          -0.0054523688570112284,
          -0.013903432604310194,
          -0.004415229563926487,
          -0.020408993983976782,
          0.005789858663721294,
          -0.027297428742820727,
          0.020021245469267906,
          -0.00758344704073847,
          -0.0068968400064900225,
          0.006677489198955445,
          -0.016303919504089878,
          -0.008887622385791877,
          0.005909881305669168,
          0.03504596353097527,
          -0.003397938754993029,
          -0.004658462696759167,
          -0.012937281361757548,
          -0.008075238149595912,
          -0.009255179098289384,
          -0.022490702141200806,
          -0.006678474808521178,
          -0.03239395040869823,
          0.012687271756070366,
          0.020123282282548338,
          0.004853901470892256,
          0.0296142993776426,
          -0.0013428376154490274,
          -0.00946993814209765,
          -0.009694097418086477,
          -0.005030111687984359,
          -0.012707351710406135,
          0.04586556156506505,
          0.000300791869974611,
          0.006627837381644193,
          -0.016361820075478054,
          -0.007402730023470392,
          0.0017167612576478172,
          0.11712547362962825,
          -0.00975761995603759,
          -0.022716751566246578,
          -0.00009837766590297063,
          -0.013134955627308825,
          0.0014802286698435004,
          -0.010609153888360432,
          -0.016315548634419162,
          -0.0022952570172746264,
          0.027237436573169512,
          0.010561865013679188,
          0.008590458692090451,
          -0.003382588799253822,
          0.003088629207877834,
          -0.013131864940384189,
          -0.002401612969464256,
          0.027216588820951182,
          0.005217349918768753,
          -0.025095756800840075,
          -0.0024579510469113957,
          0.027793451954796874,
          -0.004698144476559577,
          -0.0077348830902107405,
          -0.023374511675960677,
          -0.007745136574913529,
          -0.028636955261947462,
          -0.03476565196325965,
          -0.0009030942223091177,
          0.0002588126520507697,
          -0.014803523960885906,
          -0.02720172598450853,
          -0.010230615073279525,
          -0.011883081444450704,
          0.0035750693027179624,
          -0.0021585474624470024,
          -0.02901382334665036,
          -0.031459370116300615,
          0.029625946752555792,
          -0.009903237708950258,
          -0.0184966255579462,
          -0.037587550351173026,
          -0.021230393445256224,
          -0.006156988462460652,
          -0.005592527630089836,
          -0.07718136052594975,
          -0.0644486012881956,
          -0.027288260476163752,
          0.002397642268358911,
          -0.005188007072864903,
          0.0029096735630461477,
          0.005220815558413276,
          -0.009832028011061629,
          0.017467013998310736,
          -0.02025162688091265,
          -0.00012738405190618776,
          -0.02426924304127626,
          -0.04447581398602189,
          -0.01343252345800502,
          0.00335907134648201,
          -0.05206339050102534,
          -0.014119186529070077,
          -0.0020248784716352646,
          0.023363515781937665,
          -0.032333182851801166,
          -0.014407374291102013,
          -0.011312101414668724,
          -0.005848143665321769,
          -0.004231701672664546,
          -0.001975541154236007,
          -0.011922744667540404,
          0.05199293220908597,
          0.001011156009172451,
          -0.02842322846964877,
          0.007183665968076054,
          -0.00016835832922991876,
          -0.0039525938772621855,
          0.032383455726806405,
          0.7895215927851287,
          -0.015781611718500742,
          0.024528923905260347,
          0.007095967800570244,
          0.01861741553504603,
          0.008024741611059804,
          0.1438302148997296,
          0.020176193141999255
         ],
         "xaxis": "x",
         "y": [
          -0.003618751519396966,
          0.004939943667744923,
          0.0006294717711564563,
          0.00332287686679106,
          -0.02345312011066676,
          -0.015653665608827708,
          0.00044589277450759714,
          0.0020770499777437003,
          -0.01541477693490158,
          0.06788661258685827,
          -0.020924591539609263,
          -0.008964266580370696,
          0.014779857819603904,
          -0.023096637976106574,
          -0.003551273702410205,
          -0.028344180464241718,
          -0.0037835848823670006,
          0.00041075771229487975,
          -0.0042206378412781055,
          0.500200183897452,
          -0.011039688077694542,
          -0.0010377362708049453,
          0.006802779540501512,
          -0.013765283980847531,
          -0.008761555641506371,
          0.010703883697678865,
          0.0008297018412355376,
          -0.007888157237198223,
          0.020915301505942733,
          -0.019492641568662764,
          -0.01100326762211735,
          -0.04263044465226768,
          0.03418414643299523,
          -0.0003584249980754219,
          -0.020085775100963817,
          -0.015237811714609308,
          0.08641787991267993,
          0.0007968683873250383,
          -0.005869489294955734,
          -0.010589492551673059,
          -0.021572104080357854,
          -0.004845796443222065,
          0.020452103910512102,
          -0.023932073445298036,
          -0.008785187464675184,
          -0.024159873463593013,
          -0.008592053743335604,
          -0.026793102477176322,
          -0.017149409438859165,
          -0.004616195086793319,
          -0.016970669763769815,
          -0.012681318234654793,
          -0.003397637828616664,
          0.010868741212496784,
          -0.0009167388500619131,
          0.0032391945868191227,
          -0.017330002933360858,
          0.010909677388487525,
          -0.00019674316011968423,
          -0.016610363017171895,
          -0.013316153567691861,
          -0.02207669904410904,
          -0.016289318655591325,
          -0.012402440274502801,
          -0.021326594965511175,
          0.020468833469461833,
          -0.001770134958907173,
          0,
          -0.009411322578174881,
          -0.01784777196946936,
          -0.0015552333309125932,
          0.0009905283000009651,
          0.0050884241175609985,
          -0.01786019406479648,
          0.009814544015870437,
          0.020313010569339783,
          -0.03080488262936492,
          -0.016089426737817054,
          -0.03244455178877655,
          -0.01792457901686235,
          -0.02030022113864762,
          0.00044139816332957026,
          0.003038541428914679,
          -0.010899747204418013,
          -0.0047212313518812405,
          0.0040409908169422235,
          0.00549553021354837,
          0.001695531270916377,
          0.00480472242828566,
          0.00359872245625076,
          -0.0014183201999525994,
          -0.0073706749095388486,
          0.00256819748409452,
          -0.0023840694515810576,
          -0.0014936150648466955,
          0.00025103679976449617,
          0.004442007065697944,
          -0.01914405309227892,
          -0.0020120525869339488,
          -0.01869684359815349,
          -0.015266874186729607,
          -0.007085342552019536,
          -0.026782794412043138,
          -0.03435158654351444,
          -0.013873345832881833,
          -0.008720808980956975,
          -0.014504073929358288,
          -0.022399996865903594,
          -0.008839966165705716,
          -0.009691898144723151,
          -0.008318891354551475,
          -0.0025318891988289423,
          -0.007327601695434239,
          -0.02231209181338201,
          -0.01018861662860229,
          -0.04194645696383058,
          -0.015644543922088198,
          -0.025787522585943412,
          -0.002108388772274794,
          -0.015432528274941315,
          0.078261276902448,
          0.01782903912956583,
          -0.012857487066446429,
          -0.006508298796757772,
          0.002059603133214557,
          -0.004316393804515662,
          -0.01412998168308907,
          -0.031722619473413254,
          -0.0025791409436912347,
          -0.028933202672744466,
          -0.025754239322034314,
          -0.02295154819165292,
          -0.014023568994910775,
          -0.04180474367411327,
          -0.004851661607908488,
          0.027110396944445725,
          0.1411569585901906,
          0.006160228085779137,
          -0.01148635820544112,
          0.06217934254661088,
          0.01403817450864021,
          0.025744366552631966,
          -0.029997510999702496,
          -0.00711664447105196,
          -0.034020634765453125,
          0.04711113491349872,
          -0.013490521081407074,
          0.042219012656496524,
          -0.025311914224235746,
          0.002855813039190148,
          -0.0003631729783113847,
          -0.036380349627937576,
          -0.012925683953849713,
          -0.02491021302724327,
          0.019214182224506875,
          -0.02624274890568344,
          -0.025349199248891008,
          0.008894951118557455,
          -0.0172925416233523,
          -0.011783042527760272,
          0.004162630464475,
          -0.015032833995128033,
          -0.01965827395051341,
          0.0074482677864629405,
          0.0025503784153294655,
          -0.006148753126470317,
          -0.009324073301639898,
          -0.01396507011096725,
          0.012714863920542531,
          -0.08357316101801865,
          -0.0022783467252032175,
          0.0041959190538921115,
          0.0019524434724497452,
          -0.005666334101811877,
          -0.013782885257553631,
          -0.03133428737561734,
          0.010133975112648842,
          0.028057074102430295,
          -0.02467256937397484,
          0.003955338064116676,
          -0.0007398267338300739,
          -0.004961360447936257,
          -0.009389441640151475,
          -0.016108918977218892,
          -0.030279954204960522,
          0.0061097771806416755,
          -0.029915825369432145,
          -0.00705217975734841,
          0.015736879249040017,
          0.0013126539491595155,
          0.021661215998632372,
          0.019910087295159754,
          -0.0065661931790527974,
          0.0004059647378731118,
          -0.02702795571913152,
          -0.0659590075764433,
          -0.006060229464809096,
          0.008423334607325016,
          -0.011533199056792053,
          0.002111430578623516,
          -0.04840485440606855,
          -0.023421672235696942,
          -0.010340344845142572,
          -0.025006860100984976,
          -0.01824329083545011,
          0.002971484536262318,
          -0.005138248339773927,
          0.0052335639096411325,
          0.030007649227604037,
          -0.05735600939261937,
          -0.013686803829543417,
          -0.005438554785552959,
          0.003507012990793117,
          0.011581797935956007,
          -0.0029349643019028924,
          0.0104468016175133,
          -0.07043972060152248,
          -0.0006327620841739435,
          0.07011372626071638,
          -0.02391511212290897,
          -0.02153553313831559,
          0.00495027872553729,
          0.039862312075134465,
          -0.001823419450372586,
          -0.01742230205312001,
          0.0017669760202879076,
          -0.04785144125578414,
          -0.021024186532779526,
          0.023563896088521885,
          0.046167992094818,
          -0.01225516762926008,
          -0.010892187775193293,
          0.010484147827749942,
          -0.00446080028882059,
          0.031617797663524454,
          -0.013639110187632149,
          -0.009959901457737607,
          -0.019342778137077705,
          -0.018009100360974608,
          0.00690688755023196,
          -0.017075479498809894,
          -0.013375718773090423,
          0.005178253630992689,
          -0.013449402977793175,
          -0.012429114733496336,
          -0.0012573844451978387,
          -0.010606525276126533,
          -0.014040142162888736,
          0.0014023832470149197,
          -0.0037732938375846237,
          -0.01107531744886945,
          -0.003377070585033263,
          -0.024617109279139862,
          0.005953512484665456,
          -0.008303519031277632,
          0.0012038288196222007,
          -0.010751120709306505,
          -0.011842439413957125,
          -0.015863417081939408,
          -0.0013122853305935973,
          0.005383642208012117,
          -0.007254236340847518,
          -0.019727695002683825,
          0.05902524994954192,
          -0.018016422905399464,
          0.007583513182453629,
          -0.013074548604988233,
          0.049715457527323405,
          0.03491880799627325,
          0.008441962775601488,
          -0.003716794257815607,
          -0.04640762679754835,
          0.0018051615027754155,
          -0.012275302533062268,
          -0.01995623201624988,
          0.015469397881949232,
          -0.014308505594722853,
          -0.0038486325049069516,
          -0.021125340565513233,
          -0.023152081522672303,
          0.05153997078713226,
          0.027465520144954736,
          -0.021369991971834625,
          -0.014335817805335101,
          -0.010013229321459073,
          -0.013950083633019092,
          -0.01975112354857574,
          0.004670835186152337,
          -0.004742954812522971,
          0.04350067330315883,
          -0.012383935757288722,
          0.09291190566178174,
          -0.0189809078469982,
          -0.032613018229140006,
          -0.00714073703939984,
          0.011657416544286462,
          0.005830653286834035,
          -0.006944534251278122,
          -0.002308472189003039,
          0.009709945987103643,
          -0.015079041110349045,
          -0.00975193679056494,
          -0.0015853741929698001,
          -0.017764668930306895,
          -0.006536996616870033,
          -0.0007108784530557999,
          -0.014160116614425799,
          0.028240581607554247,
          -0.019954510879027616,
          0.01807163003612941,
          -0.018350557127650997,
          0.1843110890581836,
          0.06201216011985091,
          0.009633611836093847,
          0.002849477408468382,
          0.018302988175868565,
          0.07523747713347863,
          -0.01838400692746201,
          -0.013075684248487509,
          -0.001485278505901497,
          -0.0003221793653883231,
          -0.04002706942289713,
          -0.022204164304458335,
          -0.009451961433091863,
          -0.017184803900200725,
          -0.01437036914763887,
          -0.00018690536563334311,
          0.007588809906445068,
          0.027054758501648277,
          0.002131179892782812,
          -0.005188883793987738,
          -0.023670979063592335,
          -0.026699732204000706,
          -0.006934391726761292,
          -0.011157141709297944,
          -0.03219316444117565,
          -0.010036223773715273,
          -0.034811220374139085,
          -0.006712134742120664,
          0.035790120884469534,
          1.0000983042182836,
          0.0010226541627247425,
          -0.02206166871988806,
          0.01912696089016551,
          -0.005319279245704789,
          0.10469184331278472,
          -0.01668771743584974,
          0.004693460181962545,
          -0.017606963180133238,
          0.004832836730916069,
          -0.01815781953836371,
          -0.0771966618502248,
          -0.0012324091969050665,
          -0.018592036622592543,
          -0.042402833830256975,
          0.0008742837282959445,
          0.003336828583966494,
          -0.058139023385407135,
          -0.032634854974075006,
          -0.012207329387357453,
          0.013047993336630237,
          -0.008240369996839183,
          0.004323585691292998,
          -0.016978111070667757,
          0.1590828418483812,
          -0.024980823685458804,
          -0.008959169703927369,
          -0.02507147529938425,
          -0.0108146177529242,
          -0.014749547369093948,
          -0.01084450976640556,
          -0.021396924076683404,
          0.02281292058030741,
          0.0015796133211817688,
          0.005485504867370983,
          -0.020155513462134393,
          0.01231693282686864,
          0.0010109757929855458,
          0.03662542249793218,
          -0.18295093550536257
         ],
         "yaxis": "y"
        }
       ],
       "layout": {
        "legend": {
         "tracegroupgap": 0
        },
        "margin": {
         "t": 60
        },
        "template": {
         "data": {
          "bar": [
           {
            "error_x": {
             "color": "#f2f5fa"
            },
            "error_y": {
             "color": "#f2f5fa"
            },
            "marker": {
             "line": {
              "color": "rgb(17,17,17)",
              "width": 0.5
             },
             "pattern": {
              "fillmode": "overlay",
              "size": 10,
              "solidity": 0.2
             }
            },
            "type": "bar"
           }
          ],
          "barpolar": [
           {
            "marker": {
             "line": {
              "color": "rgb(17,17,17)",
              "width": 0.5
             },
             "pattern": {
              "fillmode": "overlay",
              "size": 10,
              "solidity": 0.2
             }
            },
            "type": "barpolar"
           }
          ],
          "carpet": [
           {
            "aaxis": {
             "endlinecolor": "#A2B1C6",
             "gridcolor": "#506784",
             "linecolor": "#506784",
             "minorgridcolor": "#506784",
             "startlinecolor": "#A2B1C6"
            },
            "baxis": {
             "endlinecolor": "#A2B1C6",
             "gridcolor": "#506784",
             "linecolor": "#506784",
             "minorgridcolor": "#506784",
             "startlinecolor": "#A2B1C6"
            },
            "type": "carpet"
           }
          ],
          "choropleth": [
           {
            "colorbar": {
             "outlinewidth": 0,
             "ticks": ""
            },
            "type": "choropleth"
           }
          ],
          "contour": [
           {
            "colorbar": {
             "outlinewidth": 0,
             "ticks": ""
            },
            "colorscale": [
             [
              0,
              "#0d0887"
             ],
             [
              0.1111111111111111,
              "#46039f"
             ],
             [
              0.2222222222222222,
              "#7201a8"
             ],
             [
              0.3333333333333333,
              "#9c179e"
             ],
             [
              0.4444444444444444,
              "#bd3786"
             ],
             [
              0.5555555555555556,
              "#d8576b"
             ],
             [
              0.6666666666666666,
              "#ed7953"
             ],
             [
              0.7777777777777778,
              "#fb9f3a"
             ],
             [
              0.8888888888888888,
              "#fdca26"
             ],
             [
              1,
              "#f0f921"
             ]
            ],
            "type": "contour"
           }
          ],
          "contourcarpet": [
           {
            "colorbar": {
             "outlinewidth": 0,
             "ticks": ""
            },
            "type": "contourcarpet"
           }
          ],
          "heatmap": [
           {
            "colorbar": {
             "outlinewidth": 0,
             "ticks": ""
            },
            "colorscale": [
             [
              0,
              "#0d0887"
             ],
             [
              0.1111111111111111,
              "#46039f"
             ],
             [
              0.2222222222222222,
              "#7201a8"
             ],
             [
              0.3333333333333333,
              "#9c179e"
             ],
             [
              0.4444444444444444,
              "#bd3786"
             ],
             [
              0.5555555555555556,
              "#d8576b"
             ],
             [
              0.6666666666666666,
              "#ed7953"
             ],
             [
              0.7777777777777778,
              "#fb9f3a"
             ],
             [
              0.8888888888888888,
              "#fdca26"
             ],
             [
              1,
              "#f0f921"
             ]
            ],
            "type": "heatmap"
           }
          ],
          "heatmapgl": [
           {
            "colorbar": {
             "outlinewidth": 0,
             "ticks": ""
            },
            "colorscale": [
             [
              0,
              "#0d0887"
             ],
             [
              0.1111111111111111,
              "#46039f"
             ],
             [
              0.2222222222222222,
              "#7201a8"
             ],
             [
              0.3333333333333333,
              "#9c179e"
             ],
             [
              0.4444444444444444,
              "#bd3786"
             ],
             [
              0.5555555555555556,
              "#d8576b"
             ],
             [
              0.6666666666666666,
              "#ed7953"
             ],
             [
              0.7777777777777778,
              "#fb9f3a"
             ],
             [
              0.8888888888888888,
              "#fdca26"
             ],
             [
              1,
              "#f0f921"
             ]
            ],
            "type": "heatmapgl"
           }
          ],
          "histogram": [
           {
            "marker": {
             "pattern": {
              "fillmode": "overlay",
              "size": 10,
              "solidity": 0.2
             }
            },
            "type": "histogram"
           }
          ],
          "histogram2d": [
           {
            "colorbar": {
             "outlinewidth": 0,
             "ticks": ""
            },
            "colorscale": [
             [
              0,
              "#0d0887"
             ],
             [
              0.1111111111111111,
              "#46039f"
             ],
             [
              0.2222222222222222,
              "#7201a8"
             ],
             [
              0.3333333333333333,
              "#9c179e"
             ],
             [
              0.4444444444444444,
              "#bd3786"
             ],
             [
              0.5555555555555556,
              "#d8576b"
             ],
             [
              0.6666666666666666,
              "#ed7953"
             ],
             [
              0.7777777777777778,
              "#fb9f3a"
             ],
             [
              0.8888888888888888,
              "#fdca26"
             ],
             [
              1,
              "#f0f921"
             ]
            ],
            "type": "histogram2d"
           }
          ],
          "histogram2dcontour": [
           {
            "colorbar": {
             "outlinewidth": 0,
             "ticks": ""
            },
            "colorscale": [
             [
              0,
              "#0d0887"
             ],
             [
              0.1111111111111111,
              "#46039f"
             ],
             [
              0.2222222222222222,
              "#7201a8"
             ],
             [
              0.3333333333333333,
              "#9c179e"
             ],
             [
              0.4444444444444444,
              "#bd3786"
             ],
             [
              0.5555555555555556,
              "#d8576b"
             ],
             [
              0.6666666666666666,
              "#ed7953"
             ],
             [
              0.7777777777777778,
              "#fb9f3a"
             ],
             [
              0.8888888888888888,
              "#fdca26"
             ],
             [
              1,
              "#f0f921"
             ]
            ],
            "type": "histogram2dcontour"
           }
          ],
          "mesh3d": [
           {
            "colorbar": {
             "outlinewidth": 0,
             "ticks": ""
            },
            "type": "mesh3d"
           }
          ],
          "parcoords": [
           {
            "line": {
             "colorbar": {
              "outlinewidth": 0,
              "ticks": ""
             }
            },
            "type": "parcoords"
           }
          ],
          "pie": [
           {
            "automargin": true,
            "type": "pie"
           }
          ],
          "scatter": [
           {
            "marker": {
             "line": {
              "color": "#283442"
             }
            },
            "type": "scatter"
           }
          ],
          "scatter3d": [
           {
            "line": {
             "colorbar": {
              "outlinewidth": 0,
              "ticks": ""
             }
            },
            "marker": {
             "colorbar": {
              "outlinewidth": 0,
              "ticks": ""
             }
            },
            "type": "scatter3d"
           }
          ],
          "scattercarpet": [
           {
            "marker": {
             "colorbar": {
              "outlinewidth": 0,
              "ticks": ""
             }
            },
            "type": "scattercarpet"
           }
          ],
          "scattergeo": [
           {
            "marker": {
             "colorbar": {
              "outlinewidth": 0,
              "ticks": ""
             }
            },
            "type": "scattergeo"
           }
          ],
          "scattergl": [
           {
            "marker": {
             "line": {
              "color": "#283442"
             }
            },
            "type": "scattergl"
           }
          ],
          "scattermapbox": [
           {
            "marker": {
             "colorbar": {
              "outlinewidth": 0,
              "ticks": ""
             }
            },
            "type": "scattermapbox"
           }
          ],
          "scatterpolar": [
           {
            "marker": {
             "colorbar": {
              "outlinewidth": 0,
              "ticks": ""
             }
            },
            "type": "scatterpolar"
           }
          ],
          "scatterpolargl": [
           {
            "marker": {
             "colorbar": {
              "outlinewidth": 0,
              "ticks": ""
             }
            },
            "type": "scatterpolargl"
           }
          ],
          "scatterternary": [
           {
            "marker": {
             "colorbar": {
              "outlinewidth": 0,
              "ticks": ""
             }
            },
            "type": "scatterternary"
           }
          ],
          "surface": [
           {
            "colorbar": {
             "outlinewidth": 0,
             "ticks": ""
            },
            "colorscale": [
             [
              0,
              "#0d0887"
             ],
             [
              0.1111111111111111,
              "#46039f"
             ],
             [
              0.2222222222222222,
              "#7201a8"
             ],
             [
              0.3333333333333333,
              "#9c179e"
             ],
             [
              0.4444444444444444,
              "#bd3786"
             ],
             [
              0.5555555555555556,
              "#d8576b"
             ],
             [
              0.6666666666666666,
              "#ed7953"
             ],
             [
              0.7777777777777778,
              "#fb9f3a"
             ],
             [
              0.8888888888888888,
              "#fdca26"
             ],
             [
              1,
              "#f0f921"
             ]
            ],
            "type": "surface"
           }
          ],
          "table": [
           {
            "cells": {
             "fill": {
              "color": "#506784"
             },
             "line": {
              "color": "rgb(17,17,17)"
             }
            },
            "header": {
             "fill": {
              "color": "#2a3f5f"
             },
             "line": {
              "color": "rgb(17,17,17)"
             }
            },
            "type": "table"
           }
          ]
         },
         "layout": {
          "annotationdefaults": {
           "arrowcolor": "#f2f5fa",
           "arrowhead": 0,
           "arrowwidth": 1
          },
          "autotypenumbers": "strict",
          "coloraxis": {
           "colorbar": {
            "outlinewidth": 0,
            "ticks": ""
           }
          },
          "colorscale": {
           "diverging": [
            [
             0,
             "#8e0152"
            ],
            [
             0.1,
             "#c51b7d"
            ],
            [
             0.2,
             "#de77ae"
            ],
            [
             0.3,
             "#f1b6da"
            ],
            [
             0.4,
             "#fde0ef"
            ],
            [
             0.5,
             "#f7f7f7"
            ],
            [
             0.6,
             "#e6f5d0"
            ],
            [
             0.7,
             "#b8e186"
            ],
            [
             0.8,
             "#7fbc41"
            ],
            [
             0.9,
             "#4d9221"
            ],
            [
             1,
             "#276419"
            ]
           ],
           "sequential": [
            [
             0,
             "#0d0887"
            ],
            [
             0.1111111111111111,
             "#46039f"
            ],
            [
             0.2222222222222222,
             "#7201a8"
            ],
            [
             0.3333333333333333,
             "#9c179e"
            ],
            [
             0.4444444444444444,
             "#bd3786"
            ],
            [
             0.5555555555555556,
             "#d8576b"
            ],
            [
             0.6666666666666666,
             "#ed7953"
            ],
            [
             0.7777777777777778,
             "#fb9f3a"
            ],
            [
             0.8888888888888888,
             "#fdca26"
            ],
            [
             1,
             "#f0f921"
            ]
           ],
           "sequentialminus": [
            [
             0,
             "#0d0887"
            ],
            [
             0.1111111111111111,
             "#46039f"
            ],
            [
             0.2222222222222222,
             "#7201a8"
            ],
            [
             0.3333333333333333,
             "#9c179e"
            ],
            [
             0.4444444444444444,
             "#bd3786"
            ],
            [
             0.5555555555555556,
             "#d8576b"
            ],
            [
             0.6666666666666666,
             "#ed7953"
            ],
            [
             0.7777777777777778,
             "#fb9f3a"
            ],
            [
             0.8888888888888888,
             "#fdca26"
            ],
            [
             1,
             "#f0f921"
            ]
           ]
          },
          "colorway": [
           "#636efa",
           "#EF553B",
           "#00cc96",
           "#ab63fa",
           "#FFA15A",
           "#19d3f3",
           "#FF6692",
           "#B6E880",
           "#FF97FF",
           "#FECB52"
          ],
          "font": {
           "color": "#f2f5fa"
          },
          "geo": {
           "bgcolor": "rgb(17,17,17)",
           "lakecolor": "rgb(17,17,17)",
           "landcolor": "rgb(17,17,17)",
           "showlakes": true,
           "showland": true,
           "subunitcolor": "#506784"
          },
          "hoverlabel": {
           "align": "left"
          },
          "hovermode": "closest",
          "mapbox": {
           "style": "dark"
          },
          "paper_bgcolor": "rgb(17,17,17)",
          "plot_bgcolor": "rgb(17,17,17)",
          "polar": {
           "angularaxis": {
            "gridcolor": "#506784",
            "linecolor": "#506784",
            "ticks": ""
           },
           "bgcolor": "rgb(17,17,17)",
           "radialaxis": {
            "gridcolor": "#506784",
            "linecolor": "#506784",
            "ticks": ""
           }
          },
          "scene": {
           "xaxis": {
            "backgroundcolor": "rgb(17,17,17)",
            "gridcolor": "#506784",
            "gridwidth": 2,
            "linecolor": "#506784",
            "showbackground": true,
            "ticks": "",
            "zerolinecolor": "#C8D4E3"
           },
           "yaxis": {
            "backgroundcolor": "rgb(17,17,17)",
            "gridcolor": "#506784",
            "gridwidth": 2,
            "linecolor": "#506784",
            "showbackground": true,
            "ticks": "",
            "zerolinecolor": "#C8D4E3"
           },
           "zaxis": {
            "backgroundcolor": "rgb(17,17,17)",
            "gridcolor": "#506784",
            "gridwidth": 2,
            "linecolor": "#506784",
            "showbackground": true,
            "ticks": "",
            "zerolinecolor": "#C8D4E3"
           }
          },
          "shapedefaults": {
           "line": {
            "color": "#f2f5fa"
           }
          },
          "sliderdefaults": {
           "bgcolor": "#C8D4E3",
           "bordercolor": "rgb(17,17,17)",
           "borderwidth": 1,
           "tickwidth": 0
          },
          "ternary": {
           "aaxis": {
            "gridcolor": "#506784",
            "linecolor": "#506784",
            "ticks": ""
           },
           "baxis": {
            "gridcolor": "#506784",
            "linecolor": "#506784",
            "ticks": ""
           },
           "bgcolor": "rgb(17,17,17)",
           "caxis": {
            "gridcolor": "#506784",
            "linecolor": "#506784",
            "ticks": ""
           }
          },
          "title": {
           "x": 0.05
          },
          "updatemenudefaults": {
           "bgcolor": "#506784",
           "borderwidth": 0
          },
          "xaxis": {
           "automargin": true,
           "gridcolor": "#283442",
           "linecolor": "#506784",
           "ticks": "",
           "title": {
            "standoff": 15
           },
           "zerolinecolor": "#283442",
           "zerolinewidth": 2
          },
          "yaxis": {
           "automargin": true,
           "gridcolor": "#283442",
           "linecolor": "#506784",
           "ticks": "",
           "title": {
            "standoff": 15
           },
           "zerolinecolor": "#283442",
           "zerolinewidth": 2
          }
         }
        },
        "xaxis": {
         "anchor": "y",
         "domain": [
          0,
          1
         ],
         "title": {
          "text": "state1"
         }
        },
        "yaxis": {
         "anchor": "x",
         "domain": [
          0,
          1
         ],
         "title": {
          "text": "state2"
         }
        }
       }
      },
      "text/html": [
       "<div>                            <div id=\"010935a2-6df1-4d88-b2e7-de7a8abf000b\" class=\"plotly-graph-div\" style=\"height:525px; width:100%;\"></div>            <script type=\"text/javascript\">                require([\"plotly\"], function(Plotly) {                    window.PLOTLYENV=window.PLOTLYENV || {};                                    if (document.getElementById(\"010935a2-6df1-4d88-b2e7-de7a8abf000b\")) {                    Plotly.newPlot(                        \"010935a2-6df1-4d88-b2e7-de7a8abf000b\",                        [{\"customdata\":[[\"Bitcoin\"],[\"Ethereum\"],[\"Tether\"],[\"BNB\"],[\"XRP\"],[\"Solana\"],[\"USDC\"],[\"Lido Staked Ether\"],[\"Cardano\"],[\"Dogecoin\"],[\"TRON\"],[\"Chainlink\"],[\"Toncoin\"],[\"Avalanche\"],[\"Polygon\"],[\"Polkadot\"],[\"Wrapped Bitcoin\"],[\"Dai\"],[\"Litecoin\"],[\"Shiba Inu\"],[\"Uniswap\"],[\"Bitcoin Cash\"],[\"LEO Token\"],[\"OKB\"],[\"Stellar\"],[\"Monero\"],[\"TrueUSD\"],[\"Cosmos Hub\"],[\"Ethereum Classic\"],[\"Cronos\"],[\"Filecoin\"],[\"Internet Computer\"],[\"Lido DAO\"],[\"THORChain\"],[\"Hedera\"],[\"NEAR Protocol\"],[\"Immutable\"],[\"BUSD\"],[\"VeChain\"],[\"Injective\"],[\"Aave\"],[\"Quant\"],[\"Maker\"],[\"The Graph\"],[\"Render\"],[\"Rocket Pool ETH\"],[\"MultiversX\"],[\"Synthetix Network\"],[\"Algorand\"],[\"Stacks\"],[\"Theta Network\"],[\"Flow\"],[\"Bitcoin SV\"],[\"Fantom\"],[\"The Sandbox\"],[\"Axie Infinity\"],[\"IOTA\"],[\"Decentraland\"],[\"WEMIX\"],[\"Terra Luna Classic\"],[\"NEO\"],[\"EOS\"],[\"KuCoin\"],[\"Kava\"],[\"Tezos\"],[\"Mina Protocol\"],[\"GALA\"],[\"Bitget Token\"],[\"Illuvium\"],[\"XDC Network\"],[\"Frax\"],[\"Klaytn\"],[\"Tokenize Xchange\"],[\"dYdX\"],[\"Frax Share\"],[\"Gate\"],[\"eCash\"],[\"Fetch.ai\"],[\"Radix\"],[\"Arweave\"],[\"Conflux\"],[\"Rocket Pool\"],[\"PancakeSwap\"],[\"Curve DAO\"],[\"Gas\"],[\"Gnosis\"],[\"Chiliz\"],[\"Tether Gold\"],[\"Trust Wallet\"],[\"cETH\"],[\"TerraClassicUSD\"],[\"GMX\"],[\"PAX Gold\"],[\"cWBTC\"],[\"Huobi\"],[\"Pax Dollar\"],[\"Zcash\"],[\"Osmosis\"],[\"NEXO\"],[\"Helium\"],[\"Oasis Network\"],[\"Kujira\"],[\"WOO Network\"],[\"Casper Network\"],[\"SingularityNET\"],[\"Akash Network\"],[\"Marinade staked SOL\"],[\"Zilliqa\"],[\"Huobi BTC\"],[\"1inch\"],[\"aelf\"],[\"Dash\"],[\"Compound\"],[\"0x Protocol\"],[\"Basic Attention\"],[\"FLOKI\"],[\"NEM\"],[\"Qtum\"],[\"APENFT\"],[\"Theta Fuel\"],[\"Convex Finance\"],[\"MX\"],[\"Enjin Coin\"],[\"Siacoin\"],[\"Celo\"],[\"yearn.finance\"],[\"Mask Network\"],[\"SafePal\"],[\"Bitcoin Gold\"],[\"Holo\"],[\"JUST\"],[\"Ocean Protocol\"],[\"Loopring\"],[\"Lido Staked SOL\"],[\"Beldex\"],[\"Ribbon Finance\"],[\"Ethereum Name Service\"],[\"Nexus Mutual\"],[\"Ankr Network\"],[\"JasmyCoin\"],[\"Centrifuge\"],[\"Wrapped Centrifuge\"],[\"OKT Chain\"],[\"ICON\"],[\"Sushi\"],[\"Chia\"],[\"Golem\"],[\"IoTeX\"],[\"Kusama\"],[\"Escoin\"],[\"Decred\"],[\"Audius\"],[\"Ravencoin\"],[\"SKALE\"],[\"Waves\"],[\"Magic\"],[\"Aragon\"],[\"WAX\"],[\"SXP\"],[\"OriginTrail\"],[\"DeFiChain\"],[\"Balancer\"],[\"Ontology\"],[\"Tellor Tributes\"],[\"FINSCHIA\"],[\"Band Protocol\"],[\"DeXe\"],[\"ARK\"],[\"Olympus\"],[\"Biconomy\"],[\"Liquity USD\"],[\"SwissBorg\"],[\"Livepeer\"],[\"DAO Maker\"],[\"Flux\"],[\"AIOZ Network\"],[\"Baby Doge Coin\"],[\"Telcoin\"],[\"IOST\"],[\"SSV Network\"],[\"Lisk\"],[\"Polymath\"],[\"Harmony\"],[\"Status\"],[\"ECOMI\"],[\"Stratis\"],[\"SuperVerse\"],[\"Alchemix USD\"],[\"Maple\"],[\"cDAI\"],[\"Vulcan Forged\"],[\"Kadena\"],[\"API3\"],[\"Gemini Dollar\"],[\"Ontology Gas\"],[\"JOE\"],[\"sETH2\"],[\"Horizen\"],[\"Star Atlas DAO\"],[\"cUSDC\"],[\"Orca\"],[\"UMA\"],[\"Loom Network (NEW)\"],[\"Reserve Rights\"],[\"Orbs\"],[\"BORA\"],[\"Tribe\"],[\"Amp\"],[\"inSure DeFi\"],[\"Liquity\"],[\"Energy Web\"],[\"VVS Finance\"],[\"Blox\"],[\"BTSE Token\"],[\"STASIS EURO\"],[\"Hive\"],[\"Nakamoto Games\"],[\"Bitkub Coin\"],[\"Seedify.fund\"],[\"Pundi X\"],[\"Coin98\"],[\"DigiByte\"],[\"Sidus\"],[\"dKargo\"],[\"Wilder World\"],[\"STP\"],[\"Gains Network\"],[\"Covalent\"],[\"Merit Circle\"],[\"Cartesi\"],[\"PlayDapp\"],[\"Power Ledger\"],[\"Decentralized Social\"],[\"Steem\"],[\"iExec RLC\"],[\"RSK Infrastructure Framework\"],[\"Bitgert\"],[\"MiL.k Alliance\"],[\"Yield Guild Games\"],[\"Venus\"],[\"LUKSO [OLD]\"],[\"Kyber Network Crystal\"],[\"Verus Coin\"],[\"Viction\"],[\"Raydium\"],[\"Metal DAO\"],[\"Bluzelle\"],[\"Storj\"],[\"Nervos Network\"],[\"Celsius Network\"],[\"Bancor Network\"],[\"Decimal\"],[\"Star Atlas\"],[\"Constellation\"],[\"Pendle\"],[\"IQ\"],[\"Gods Unchained\"],[\"VeThor\"],[\"NuCypher\"],[\"MVL\"],[\"Uquid Coin\"],[\"Alchemy Pay\"],[\"Tokamak Network\"],[\"Smooth Love Potion\"],[\"Medibloc\"],[\"Nano\"],[\"Loom Network (OLD)\"],[\"Function X\"],[\"Ardor\"],[\"Secret\"],[\"Numeraire\"],[\"XYO Network\"],[\"Ergo\"],[\"MovieBloc\"],[\"Marlin\"],[\"CoinEx\"],[\"Metis\"],[\"My Neighbor Alice\"],[\"OMG Network\"],[\"Virtua\"],[\"Dogelon Mars\"],[\"Humans.ai\"],[\"StormX\"],[\"Civic\"],[\"Syscoin\"],[\"Unifi Protocol DAO\"],[\"Celer Network\"],[\"Wrapped NXM\"],[\"Aergo\"],[\"Gelato\"],[\"Prom\"],[\"SuperRare\"],[\"DODO\"],[\"Dent\"],[\"Verasity\"],[\"Synapse\"],[\"Hunt\"],[\"Stella\"],[\"Metadium\"],[\"VitaDAO\"],[\"Radworks\"],[\"Bounce\"],[\"Chromia\"],[\"Badger\"],[\"Tenset\"],[\"HXRO\"],[\"QuarkChain\"],[\"Nerve Finance\"],[\"MaidSafeCoin\"],[\"Aurory\"],[\"Oraichain\"],[\"Lyra Finance\"],[\"Spell\"],[\"QANplatform\"],[\"Bifrost\"],[\"NKN\"],[\"Cortex\"],[\"Shentu\"],[\"COTI\"],[\"Vega Protocol\"],[\"Steem Dollars\"],[\"World Mobile Token\"],[\"Dusk\"],[\"Dock\"],[\"Phala\"],[\"Cobak\"],[\"Ultra\"],[\"Share\"],[\"FLEX Coin\"],[\"Songbird\"],[\"ChainX\"],[\"Gitcoin\"],[\"WINkLink\"],[\"e-Radix\"],[\"Creditcoin\"],[\"THORSwap\"],[\"Origin Protocol\"],[\"Adventure Gold\"],[\"Request\"],[\"Victoria VR\"],[\"ConstitutionDAO\"],[\"Keep Network\"],[\"Mobox\"],[\"Radio Caca\"],[\"Gomining Token\"],[\"GameFi.org\"],[\"Taraxa\"],[\"SX Network\"],[\"Linear\"],[\"tBTC\"],[\"TrueFi\"],[\"Marinade\"],[\"Tokenlon\"],[\"Ren\"],[\"Solend\"],[\"SOMESING Exchange\"],[\"Hermez Network\"],[\"Moonriver\"],[\"Alien Worlds\"],[\"Sun Token\"],[\"Carry\"],[\"Mainframe\"],[\"Verge\"],[\"Strike\"],[\"Shardus\"],[\"WazirX\"],[\"Ampleforth\"],[\"GuildFi\"],[\"LCX\"],[\"Sologenic\"],[\"Router Protocol\"],[\"Bficoin\"],[\"Boba Network\"],[\"Firmachain\"],[\"Cornucopias\"],[\"DexTools\"],[\"COMBO\"],[\"Ankr Staked ETH\"],[\"Aurora\"],[\"Coinweb\"]],\"hovertemplate\":\"state1=%{x}<br>state2=%{y}<br>index=%{customdata[0]}<extra></extra>\",\"legendgroup\":\"\",\"marker\":{\"color\":\"#636efa\",\"symbol\":\"circle\"},\"mode\":\"markers\",\"name\":\"\",\"orientation\":\"v\",\"showlegend\":false,\"x\":[-0.004455378444958662,0.0028147176511053597,-0.0001738566746343981,-0.00024308307178329302,0.020751030120222246,0.008554555710341647,-0.00020220683930831598,0.0005756683773543023,-0.0016655584285987855,0.007573418847605754,0.009111674097005898,-0.001459121123472031,0.006152539486761962,0.009140563858935823,0.004753967935287745,-0.007753704883159357,-0.0032048824308810175,-0.0004263300340422154,-0.0015642952442079469,0.006752526805136055,-0.0053541213946125595,0.0030890396539964954,0.006822188909813763,-0.011908189964194415,0.0018577883172004787,0.00215058105972672,-0.00010080848831131906,0.0062438340623105935,0.005265238766241499,-0.008633118588601893,-0.009636345994429085,-0.00981478379778102,-0.004559081590659753,0.0036098280295422417,-0.00402648698715161,-0.009830842463902255,0.0025036090108976707,-4.557782944273362e-06,0.009289944597891658,-0.005926249435087474,-0.008732812229761529,0.013649898396588192,-0.002368560968515157,-0.004310285141531407,-0.022172641380094928,-0.003102378132097239,0.011545337018493218,-0.014188004659671488,-0.005951657712942389,0.02473392985454462,-0.008100970426003972,-0.023502437899273122,0.004358095802170789,-0.02048295816413469,-0.017937173781088375,0.0005678588259940883,0.006751407355152548,-0.009529176082053793,-0.009170361096808905,0.0029946587415608994,0.003465566680391725,0.0038912091490045297,0.03108789836503795,-0.0031822327520832734,0.0039207771167855615,-0.03302594632613772,-0.0030309968606939894,0.0,0.02088869556247873,0.04016140128365711,0.0011613039411551963,-0.019447569859264813,0.000812138786583834,-0.03278142188956635,0.0017728834146146298,-0.0054890903024494815,-0.02725681583208638,-0.019794166347630527,-0.08641482554326066,-0.019561574725286926,-0.016122728540062616,-0.004565404116430234,-0.004548807615293111,-0.00922917784502652,-0.01054653454235734,0.007336667233731123,-0.01583197833449498,0.001118322485080406,0.0018730376750470568,0.0026065282036983974,0.0007447534590296487,0.060113007110252,0.00024357445113784248,-0.005018796993710042,-0.016910506640560482,-5.3685015479903877e-05,0.006692255235943081,-0.012570538349346476,0.0018793380838786034,0.011627294449094844,-0.0026432062317186893,-0.059789744899704456,0.01222306042166053,0.0115582227928728,-0.012059658573878416,0.009830070104750089,2.700156172587717,-0.000823535076043832,-0.0017550145357749843,-0.0037237493560160406,-0.003101082832953765,0.0012134008211431976,0.004895529020231554,-0.006714376550739507,-7.831300681170147e-05,-0.0008924285491788142,-0.0024965230880875447,0.002351259260352636,-0.0011610284718915145,-0.012856900182011561,0.011951905723252925,0.0012422644965443708,-0.0008538274546734779,0.007233667692784247,-0.013018929520783963,0.010011167573946262,-0.020954024175944618,-0.020988684556301658,0.014884252679795235,-0.005077563668837862,-0.0012506659888606945,-0.0065680785305739535,-0.02097992151632466,-0.012863659435662051,0.006683915538497141,0.019204703507128634,-0.03284378089797122,0.002279251713352309,-0.0007833372127324288,-0.002469706910416976,-0.0039125574038576015,0.0027052253781525313,-0.017208605733332317,-0.009388552717159743,-0.002361177120685388,-0.03314360767245774,-0.003451587621542781,-0.009027408038927393,-0.016956325734787767,0.0008589218051165041,-0.00932311532771887,-0.028235424913421084,0.0020097445735462187,-0.021911448088903766,0.009391906149116828,-0.0015658545450524363,-0.01582043205274047,-0.00172073063465011,0.000438534267254195,-0.01516041040994728,-0.00013146854494029337,0.0014703962850859604,-0.0021646076752430687,-0.013809392896917655,-0.01018958984753305,-0.015572062292485646,-0.02023305413858698,-0.01188917386336351,0.016556263307262488,-0.02347816234081294,-0.00045466116602427135,-0.004749843568362696,-0.0007223169291317243,-0.016660905704495146,-0.003928559141449329,-0.021193927617544597,0.06131472910278236,-0.01979743732000195,0.000825240987918456,-0.08707407222862001,-0.005158290143100275,-0.01358683933868305,-0.0022797783496080605,0.00662437502693738,0.0024617147919821156,0.004219185830993974,-0.03133557828827935,-0.0029118510275746635,0.022059870273383752,0.0003595428137895353,-0.006313440535385204,0.005041926567816406,0.004774251213442321,-0.001100272378588671,0.06339377611284584,0.05293355904455571,-0.00583218883291154,-0.004687475686080367,-0.009318116862636401,-0.00014666461551088176,-0.012825282668810126,0.003211748905207804,-0.0027379964083189164,-0.0112163166431855,-0.01302217949408334,-0.020789515805097646,-0.008691966263759426,-0.0062319967436930655,-0.0010646898772114944,0.17307473753550448,0.0020782827556055173,-0.10070465469004568,-0.008575231717183334,0.008836234736662993,0.002497746813271921,-0.0103849571286728,-0.07832523442507093,-0.014946881438067142,-0.013377539054035565,-0.016021313878200213,-0.039002376043730275,-0.00011362074087492762,-0.020258445153466698,-0.014038249166336546,-0.010452096311165148,0.020098897092168576,-0.02173361521336714,-0.00023220016991847185,-0.028054441552180193,0.007226902849118065,-0.028283865954283238,0.02132271234225207,0.00826802014993058,-0.012796758395128754,-0.002076534606881273,-0.005915667340844689,0.025750359842761607,-0.02254297880695389,0.0033915972013464388,-0.017706589552338125,-0.010109323499832868,-0.018860862497734714,0.00015130917213819774,0.0003318806618457928,-0.006269443557229537,-0.02894156517283563,-0.012568316639626584,-0.005557507527023695,-0.022031125953991745,0.005462136401307383,-0.005802900946494553,0.021074092105089537,0.0036935028971750937,0.00748548721898949,0.01492199741588648,-0.014160051293868542,0.015678393156770387,-0.0004149955393093872,-0.0054523688570112284,-0.013903432604310194,-0.004415229563926487,-0.020408993983976782,0.005789858663721294,-0.027297428742820727,0.020021245469267906,-0.00758344704073847,-0.0068968400064900225,0.006677489198955445,-0.016303919504089878,-0.008887622385791877,0.005909881305669168,0.03504596353097527,-0.003397938754993029,-0.004658462696759167,-0.012937281361757548,-0.008075238149595912,-0.009255179098289384,-0.022490702141200806,-0.006678474808521178,-0.03239395040869823,0.012687271756070366,0.020123282282548338,0.004853901470892256,0.0296142993776426,-0.0013428376154490274,-0.00946993814209765,-0.009694097418086477,-0.005030111687984359,-0.012707351710406135,0.04586556156506505,0.000300791869974611,0.006627837381644193,-0.016361820075478054,-0.007402730023470392,0.0017167612576478172,0.11712547362962825,-0.00975761995603759,-0.022716751566246578,-9.837766590297063e-05,-0.013134955627308825,0.0014802286698435004,-0.010609153888360432,-0.016315548634419162,-0.0022952570172746264,0.027237436573169512,0.010561865013679188,0.008590458692090451,-0.003382588799253822,0.003088629207877834,-0.013131864940384189,-0.002401612969464256,0.027216588820951182,0.005217349918768753,-0.025095756800840075,-0.0024579510469113957,0.027793451954796874,-0.004698144476559577,-0.0077348830902107405,-0.023374511675960677,-0.007745136574913529,-0.028636955261947462,-0.03476565196325965,-0.0009030942223091177,0.0002588126520507697,-0.014803523960885906,-0.02720172598450853,-0.010230615073279525,-0.011883081444450704,0.0035750693027179624,-0.0021585474624470024,-0.02901382334665036,-0.031459370116300615,0.029625946752555792,-0.009903237708950258,-0.0184966255579462,-0.037587550351173026,-0.021230393445256224,-0.006156988462460652,-0.005592527630089836,-0.07718136052594975,-0.0644486012881956,-0.027288260476163752,0.002397642268358911,-0.005188007072864903,0.0029096735630461477,0.005220815558413276,-0.009832028011061629,0.017467013998310736,-0.02025162688091265,-0.00012738405190618776,-0.02426924304127626,-0.04447581398602189,-0.01343252345800502,0.00335907134648201,-0.05206339050102534,-0.014119186529070077,-0.0020248784716352646,0.023363515781937665,-0.032333182851801166,-0.014407374291102013,-0.011312101414668724,-0.005848143665321769,-0.004231701672664546,-0.001975541154236007,-0.011922744667540404,0.05199293220908597,0.001011156009172451,-0.02842322846964877,0.007183665968076054,-0.00016835832922991876,-0.0039525938772621855,0.032383455726806405,0.7895215927851287,-0.015781611718500742,0.024528923905260347,0.007095967800570244,0.01861741553504603,0.008024741611059804,0.1438302148997296,0.020176193141999255],\"xaxis\":\"x\",\"y\":[-0.003618751519396966,0.004939943667744923,0.0006294717711564563,0.00332287686679106,-0.02345312011066676,-0.015653665608827708,0.00044589277450759714,0.0020770499777437003,-0.01541477693490158,0.06788661258685827,-0.020924591539609263,-0.008964266580370696,0.014779857819603904,-0.023096637976106574,-0.003551273702410205,-0.028344180464241718,-0.0037835848823670006,0.00041075771229487975,-0.0042206378412781055,0.500200183897452,-0.011039688077694542,-0.0010377362708049453,0.006802779540501512,-0.013765283980847531,-0.008761555641506371,0.010703883697678865,0.0008297018412355376,-0.007888157237198223,0.020915301505942733,-0.019492641568662764,-0.01100326762211735,-0.04263044465226768,0.03418414643299523,-0.0003584249980754219,-0.020085775100963817,-0.015237811714609308,0.08641787991267993,0.0007968683873250383,-0.005869489294955734,-0.010589492551673059,-0.021572104080357854,-0.004845796443222065,0.020452103910512102,-0.023932073445298036,-0.008785187464675184,-0.024159873463593013,-0.008592053743335604,-0.026793102477176322,-0.017149409438859165,-0.004616195086793319,-0.016970669763769815,-0.012681318234654793,-0.003397637828616664,0.010868741212496784,-0.0009167388500619131,0.0032391945868191227,-0.017330002933360858,0.010909677388487525,-0.00019674316011968423,-0.016610363017171895,-0.013316153567691861,-0.02207669904410904,-0.016289318655591325,-0.012402440274502801,-0.021326594965511175,0.020468833469461833,-0.001770134958907173,0.0,-0.009411322578174881,-0.01784777196946936,-0.0015552333309125932,0.0009905283000009651,0.0050884241175609985,-0.01786019406479648,0.009814544015870437,0.020313010569339783,-0.03080488262936492,-0.016089426737817054,-0.03244455178877655,-0.01792457901686235,-0.02030022113864762,0.00044139816332957026,0.003038541428914679,-0.010899747204418013,-0.0047212313518812405,0.0040409908169422235,0.00549553021354837,0.001695531270916377,0.00480472242828566,0.00359872245625076,-0.0014183201999525994,-0.0073706749095388486,0.00256819748409452,-0.0023840694515810576,-0.0014936150648466955,0.00025103679976449617,0.004442007065697944,-0.01914405309227892,-0.0020120525869339488,-0.01869684359815349,-0.015266874186729607,-0.007085342552019536,-0.026782794412043138,-0.03435158654351444,-0.013873345832881833,-0.008720808980956975,-0.014504073929358288,-0.022399996865903594,-0.008839966165705716,-0.009691898144723151,-0.008318891354551475,-0.0025318891988289423,-0.007327601695434239,-0.02231209181338201,-0.01018861662860229,-0.04194645696383058,-0.015644543922088198,-0.025787522585943412,-0.002108388772274794,-0.015432528274941315,0.078261276902448,0.01782903912956583,-0.012857487066446429,-0.006508298796757772,0.002059603133214557,-0.004316393804515662,-0.01412998168308907,-0.031722619473413254,-0.0025791409436912347,-0.028933202672744466,-0.025754239322034314,-0.02295154819165292,-0.014023568994910775,-0.04180474367411327,-0.004851661607908488,0.027110396944445725,0.1411569585901906,0.006160228085779137,-0.01148635820544112,0.06217934254661088,0.01403817450864021,0.025744366552631966,-0.029997510999702496,-0.00711664447105196,-0.034020634765453125,0.04711113491349872,-0.013490521081407074,0.042219012656496524,-0.025311914224235746,0.002855813039190148,-0.0003631729783113847,-0.036380349627937576,-0.012925683953849713,-0.02491021302724327,0.019214182224506875,-0.02624274890568344,-0.025349199248891008,0.008894951118557455,-0.0172925416233523,-0.011783042527760272,0.004162630464475,-0.015032833995128033,-0.01965827395051341,0.0074482677864629405,0.0025503784153294655,-0.006148753126470317,-0.009324073301639898,-0.01396507011096725,0.012714863920542531,-0.08357316101801865,-0.0022783467252032175,0.0041959190538921115,0.0019524434724497452,-0.005666334101811877,-0.013782885257553631,-0.03133428737561734,0.010133975112648842,0.028057074102430295,-0.02467256937397484,0.003955338064116676,-0.0007398267338300739,-0.004961360447936257,-0.009389441640151475,-0.016108918977218892,-0.030279954204960522,0.0061097771806416755,-0.029915825369432145,-0.00705217975734841,0.015736879249040017,0.0013126539491595155,0.021661215998632372,0.019910087295159754,-0.0065661931790527974,0.0004059647378731118,-0.02702795571913152,-0.0659590075764433,-0.006060229464809096,0.008423334607325016,-0.011533199056792053,0.002111430578623516,-0.04840485440606855,-0.023421672235696942,-0.010340344845142572,-0.025006860100984976,-0.01824329083545011,0.002971484536262318,-0.005138248339773927,0.0052335639096411325,0.030007649227604037,-0.05735600939261937,-0.013686803829543417,-0.005438554785552959,0.003507012990793117,0.011581797935956007,-0.0029349643019028924,0.0104468016175133,-0.07043972060152248,-0.0006327620841739435,0.07011372626071638,-0.02391511212290897,-0.02153553313831559,0.00495027872553729,0.039862312075134465,-0.001823419450372586,-0.01742230205312001,0.0017669760202879076,-0.04785144125578414,-0.021024186532779526,0.023563896088521885,0.046167992094818,-0.01225516762926008,-0.010892187775193293,0.010484147827749942,-0.00446080028882059,0.031617797663524454,-0.013639110187632149,-0.009959901457737607,-0.019342778137077705,-0.018009100360974608,0.00690688755023196,-0.017075479498809894,-0.013375718773090423,0.005178253630992689,-0.013449402977793175,-0.012429114733496336,-0.0012573844451978387,-0.010606525276126533,-0.014040142162888736,0.0014023832470149197,-0.0037732938375846237,-0.01107531744886945,-0.003377070585033263,-0.024617109279139862,0.005953512484665456,-0.008303519031277632,0.0012038288196222007,-0.010751120709306505,-0.011842439413957125,-0.015863417081939408,-0.0013122853305935973,0.005383642208012117,-0.007254236340847518,-0.019727695002683825,0.05902524994954192,-0.018016422905399464,0.007583513182453629,-0.013074548604988233,0.049715457527323405,0.03491880799627325,0.008441962775601488,-0.003716794257815607,-0.04640762679754835,0.0018051615027754155,-0.012275302533062268,-0.01995623201624988,0.015469397881949232,-0.014308505594722853,-0.0038486325049069516,-0.021125340565513233,-0.023152081522672303,0.05153997078713226,0.027465520144954736,-0.021369991971834625,-0.014335817805335101,-0.010013229321459073,-0.013950083633019092,-0.01975112354857574,0.004670835186152337,-0.004742954812522971,0.04350067330315883,-0.012383935757288722,0.09291190566178174,-0.0189809078469982,-0.032613018229140006,-0.00714073703939984,0.011657416544286462,0.005830653286834035,-0.006944534251278122,-0.002308472189003039,0.009709945987103643,-0.015079041110349045,-0.00975193679056494,-0.0015853741929698001,-0.017764668930306895,-0.006536996616870033,-0.0007108784530557999,-0.014160116614425799,0.028240581607554247,-0.019954510879027616,0.01807163003612941,-0.018350557127650997,0.1843110890581836,0.06201216011985091,0.009633611836093847,0.002849477408468382,0.018302988175868565,0.07523747713347863,-0.01838400692746201,-0.013075684248487509,-0.001485278505901497,-0.0003221793653883231,-0.04002706942289713,-0.022204164304458335,-0.009451961433091863,-0.017184803900200725,-0.01437036914763887,-0.00018690536563334311,0.007588809906445068,0.027054758501648277,0.002131179892782812,-0.005188883793987738,-0.023670979063592335,-0.026699732204000706,-0.006934391726761292,-0.011157141709297944,-0.03219316444117565,-0.010036223773715273,-0.034811220374139085,-0.006712134742120664,0.035790120884469534,1.0000983042182836,0.0010226541627247425,-0.02206166871988806,0.01912696089016551,-0.005319279245704789,0.10469184331278472,-0.01668771743584974,0.004693460181962545,-0.017606963180133238,0.004832836730916069,-0.01815781953836371,-0.0771966618502248,-0.0012324091969050665,-0.018592036622592543,-0.042402833830256975,0.0008742837282959445,0.003336828583966494,-0.058139023385407135,-0.032634854974075006,-0.012207329387357453,0.013047993336630237,-0.008240369996839183,0.004323585691292998,-0.016978111070667757,0.1590828418483812,-0.024980823685458804,-0.008959169703927369,-0.02507147529938425,-0.0108146177529242,-0.014749547369093948,-0.01084450976640556,-0.021396924076683404,0.02281292058030741,0.0015796133211817688,0.005485504867370983,-0.020155513462134393,0.01231693282686864,0.0010109757929855458,0.03662542249793218,-0.18295093550536257],\"yaxis\":\"y\",\"type\":\"scatter\"}],                        {\"template\":{\"data\":{\"histogram2dcontour\":[{\"type\":\"histogram2dcontour\",\"colorbar\":{\"outlinewidth\":0,\"ticks\":\"\"},\"colorscale\":[[0.0,\"#0d0887\"],[0.1111111111111111,\"#46039f\"],[0.2222222222222222,\"#7201a8\"],[0.3333333333333333,\"#9c179e\"],[0.4444444444444444,\"#bd3786\"],[0.5555555555555556,\"#d8576b\"],[0.6666666666666666,\"#ed7953\"],[0.7777777777777778,\"#fb9f3a\"],[0.8888888888888888,\"#fdca26\"],[1.0,\"#f0f921\"]]}],\"choropleth\":[{\"type\":\"choropleth\",\"colorbar\":{\"outlinewidth\":0,\"ticks\":\"\"}}],\"histogram2d\":[{\"type\":\"histogram2d\",\"colorbar\":{\"outlinewidth\":0,\"ticks\":\"\"},\"colorscale\":[[0.0,\"#0d0887\"],[0.1111111111111111,\"#46039f\"],[0.2222222222222222,\"#7201a8\"],[0.3333333333333333,\"#9c179e\"],[0.4444444444444444,\"#bd3786\"],[0.5555555555555556,\"#d8576b\"],[0.6666666666666666,\"#ed7953\"],[0.7777777777777778,\"#fb9f3a\"],[0.8888888888888888,\"#fdca26\"],[1.0,\"#f0f921\"]]}],\"heatmap\":[{\"type\":\"heatmap\",\"colorbar\":{\"outlinewidth\":0,\"ticks\":\"\"},\"colorscale\":[[0.0,\"#0d0887\"],[0.1111111111111111,\"#46039f\"],[0.2222222222222222,\"#7201a8\"],[0.3333333333333333,\"#9c179e\"],[0.4444444444444444,\"#bd3786\"],[0.5555555555555556,\"#d8576b\"],[0.6666666666666666,\"#ed7953\"],[0.7777777777777778,\"#fb9f3a\"],[0.8888888888888888,\"#fdca26\"],[1.0,\"#f0f921\"]]}],\"heatmapgl\":[{\"type\":\"heatmapgl\",\"colorbar\":{\"outlinewidth\":0,\"ticks\":\"\"},\"colorscale\":[[0.0,\"#0d0887\"],[0.1111111111111111,\"#46039f\"],[0.2222222222222222,\"#7201a8\"],[0.3333333333333333,\"#9c179e\"],[0.4444444444444444,\"#bd3786\"],[0.5555555555555556,\"#d8576b\"],[0.6666666666666666,\"#ed7953\"],[0.7777777777777778,\"#fb9f3a\"],[0.8888888888888888,\"#fdca26\"],[1.0,\"#f0f921\"]]}],\"contourcarpet\":[{\"type\":\"contourcarpet\",\"colorbar\":{\"outlinewidth\":0,\"ticks\":\"\"}}],\"contour\":[{\"type\":\"contour\",\"colorbar\":{\"outlinewidth\":0,\"ticks\":\"\"},\"colorscale\":[[0.0,\"#0d0887\"],[0.1111111111111111,\"#46039f\"],[0.2222222222222222,\"#7201a8\"],[0.3333333333333333,\"#9c179e\"],[0.4444444444444444,\"#bd3786\"],[0.5555555555555556,\"#d8576b\"],[0.6666666666666666,\"#ed7953\"],[0.7777777777777778,\"#fb9f3a\"],[0.8888888888888888,\"#fdca26\"],[1.0,\"#f0f921\"]]}],\"surface\":[{\"type\":\"surface\",\"colorbar\":{\"outlinewidth\":0,\"ticks\":\"\"},\"colorscale\":[[0.0,\"#0d0887\"],[0.1111111111111111,\"#46039f\"],[0.2222222222222222,\"#7201a8\"],[0.3333333333333333,\"#9c179e\"],[0.4444444444444444,\"#bd3786\"],[0.5555555555555556,\"#d8576b\"],[0.6666666666666666,\"#ed7953\"],[0.7777777777777778,\"#fb9f3a\"],[0.8888888888888888,\"#fdca26\"],[1.0,\"#f0f921\"]]}],\"mesh3d\":[{\"type\":\"mesh3d\",\"colorbar\":{\"outlinewidth\":0,\"ticks\":\"\"}}],\"scatter\":[{\"marker\":{\"line\":{\"color\":\"#283442\"}},\"type\":\"scatter\"}],\"parcoords\":[{\"type\":\"parcoords\",\"line\":{\"colorbar\":{\"outlinewidth\":0,\"ticks\":\"\"}}}],\"scatterpolargl\":[{\"type\":\"scatterpolargl\",\"marker\":{\"colorbar\":{\"outlinewidth\":0,\"ticks\":\"\"}}}],\"bar\":[{\"error_x\":{\"color\":\"#f2f5fa\"},\"error_y\":{\"color\":\"#f2f5fa\"},\"marker\":{\"line\":{\"color\":\"rgb(17,17,17)\",\"width\":0.5},\"pattern\":{\"fillmode\":\"overlay\",\"size\":10,\"solidity\":0.2}},\"type\":\"bar\"}],\"scattergeo\":[{\"type\":\"scattergeo\",\"marker\":{\"colorbar\":{\"outlinewidth\":0,\"ticks\":\"\"}}}],\"scatterpolar\":[{\"type\":\"scatterpolar\",\"marker\":{\"colorbar\":{\"outlinewidth\":0,\"ticks\":\"\"}}}],\"histogram\":[{\"marker\":{\"pattern\":{\"fillmode\":\"overlay\",\"size\":10,\"solidity\":0.2}},\"type\":\"histogram\"}],\"scattergl\":[{\"marker\":{\"line\":{\"color\":\"#283442\"}},\"type\":\"scattergl\"}],\"scatter3d\":[{\"type\":\"scatter3d\",\"line\":{\"colorbar\":{\"outlinewidth\":0,\"ticks\":\"\"}},\"marker\":{\"colorbar\":{\"outlinewidth\":0,\"ticks\":\"\"}}}],\"scattermapbox\":[{\"type\":\"scattermapbox\",\"marker\":{\"colorbar\":{\"outlinewidth\":0,\"ticks\":\"\"}}}],\"scatterternary\":[{\"type\":\"scatterternary\",\"marker\":{\"colorbar\":{\"outlinewidth\":0,\"ticks\":\"\"}}}],\"scattercarpet\":[{\"type\":\"scattercarpet\",\"marker\":{\"colorbar\":{\"outlinewidth\":0,\"ticks\":\"\"}}}],\"carpet\":[{\"aaxis\":{\"endlinecolor\":\"#A2B1C6\",\"gridcolor\":\"#506784\",\"linecolor\":\"#506784\",\"minorgridcolor\":\"#506784\",\"startlinecolor\":\"#A2B1C6\"},\"baxis\":{\"endlinecolor\":\"#A2B1C6\",\"gridcolor\":\"#506784\",\"linecolor\":\"#506784\",\"minorgridcolor\":\"#506784\",\"startlinecolor\":\"#A2B1C6\"},\"type\":\"carpet\"}],\"table\":[{\"cells\":{\"fill\":{\"color\":\"#506784\"},\"line\":{\"color\":\"rgb(17,17,17)\"}},\"header\":{\"fill\":{\"color\":\"#2a3f5f\"},\"line\":{\"color\":\"rgb(17,17,17)\"}},\"type\":\"table\"}],\"barpolar\":[{\"marker\":{\"line\":{\"color\":\"rgb(17,17,17)\",\"width\":0.5},\"pattern\":{\"fillmode\":\"overlay\",\"size\":10,\"solidity\":0.2}},\"type\":\"barpolar\"}],\"pie\":[{\"automargin\":true,\"type\":\"pie\"}]},\"layout\":{\"autotypenumbers\":\"strict\",\"colorway\":[\"#636efa\",\"#EF553B\",\"#00cc96\",\"#ab63fa\",\"#FFA15A\",\"#19d3f3\",\"#FF6692\",\"#B6E880\",\"#FF97FF\",\"#FECB52\"],\"font\":{\"color\":\"#f2f5fa\"},\"hovermode\":\"closest\",\"hoverlabel\":{\"align\":\"left\"},\"paper_bgcolor\":\"rgb(17,17,17)\",\"plot_bgcolor\":\"rgb(17,17,17)\",\"polar\":{\"bgcolor\":\"rgb(17,17,17)\",\"angularaxis\":{\"gridcolor\":\"#506784\",\"linecolor\":\"#506784\",\"ticks\":\"\"},\"radialaxis\":{\"gridcolor\":\"#506784\",\"linecolor\":\"#506784\",\"ticks\":\"\"}},\"ternary\":{\"bgcolor\":\"rgb(17,17,17)\",\"aaxis\":{\"gridcolor\":\"#506784\",\"linecolor\":\"#506784\",\"ticks\":\"\"},\"baxis\":{\"gridcolor\":\"#506784\",\"linecolor\":\"#506784\",\"ticks\":\"\"},\"caxis\":{\"gridcolor\":\"#506784\",\"linecolor\":\"#506784\",\"ticks\":\"\"}},\"coloraxis\":{\"colorbar\":{\"outlinewidth\":0,\"ticks\":\"\"}},\"colorscale\":{\"sequential\":[[0.0,\"#0d0887\"],[0.1111111111111111,\"#46039f\"],[0.2222222222222222,\"#7201a8\"],[0.3333333333333333,\"#9c179e\"],[0.4444444444444444,\"#bd3786\"],[0.5555555555555556,\"#d8576b\"],[0.6666666666666666,\"#ed7953\"],[0.7777777777777778,\"#fb9f3a\"],[0.8888888888888888,\"#fdca26\"],[1.0,\"#f0f921\"]],\"sequentialminus\":[[0.0,\"#0d0887\"],[0.1111111111111111,\"#46039f\"],[0.2222222222222222,\"#7201a8\"],[0.3333333333333333,\"#9c179e\"],[0.4444444444444444,\"#bd3786\"],[0.5555555555555556,\"#d8576b\"],[0.6666666666666666,\"#ed7953\"],[0.7777777777777778,\"#fb9f3a\"],[0.8888888888888888,\"#fdca26\"],[1.0,\"#f0f921\"]],\"diverging\":[[0,\"#8e0152\"],[0.1,\"#c51b7d\"],[0.2,\"#de77ae\"],[0.3,\"#f1b6da\"],[0.4,\"#fde0ef\"],[0.5,\"#f7f7f7\"],[0.6,\"#e6f5d0\"],[0.7,\"#b8e186\"],[0.8,\"#7fbc41\"],[0.9,\"#4d9221\"],[1,\"#276419\"]]},\"xaxis\":{\"gridcolor\":\"#283442\",\"linecolor\":\"#506784\",\"ticks\":\"\",\"title\":{\"standoff\":15},\"zerolinecolor\":\"#283442\",\"automargin\":true,\"zerolinewidth\":2},\"yaxis\":{\"gridcolor\":\"#283442\",\"linecolor\":\"#506784\",\"ticks\":\"\",\"title\":{\"standoff\":15},\"zerolinecolor\":\"#283442\",\"automargin\":true,\"zerolinewidth\":2},\"scene\":{\"xaxis\":{\"backgroundcolor\":\"rgb(17,17,17)\",\"gridcolor\":\"#506784\",\"linecolor\":\"#506784\",\"showbackground\":true,\"ticks\":\"\",\"zerolinecolor\":\"#C8D4E3\",\"gridwidth\":2},\"yaxis\":{\"backgroundcolor\":\"rgb(17,17,17)\",\"gridcolor\":\"#506784\",\"linecolor\":\"#506784\",\"showbackground\":true,\"ticks\":\"\",\"zerolinecolor\":\"#C8D4E3\",\"gridwidth\":2},\"zaxis\":{\"backgroundcolor\":\"rgb(17,17,17)\",\"gridcolor\":\"#506784\",\"linecolor\":\"#506784\",\"showbackground\":true,\"ticks\":\"\",\"zerolinecolor\":\"#C8D4E3\",\"gridwidth\":2}},\"shapedefaults\":{\"line\":{\"color\":\"#f2f5fa\"}},\"annotationdefaults\":{\"arrowcolor\":\"#f2f5fa\",\"arrowhead\":0,\"arrowwidth\":1},\"geo\":{\"bgcolor\":\"rgb(17,17,17)\",\"landcolor\":\"rgb(17,17,17)\",\"subunitcolor\":\"#506784\",\"showland\":true,\"showlakes\":true,\"lakecolor\":\"rgb(17,17,17)\"},\"title\":{\"x\":0.05},\"updatemenudefaults\":{\"bgcolor\":\"#506784\",\"borderwidth\":0},\"sliderdefaults\":{\"bgcolor\":\"#C8D4E3\",\"borderwidth\":1,\"bordercolor\":\"rgb(17,17,17)\",\"tickwidth\":0},\"mapbox\":{\"style\":\"dark\"}}},\"xaxis\":{\"anchor\":\"y\",\"domain\":[0.0,1.0],\"title\":{\"text\":\"state1\"}},\"yaxis\":{\"anchor\":\"x\",\"domain\":[0.0,1.0],\"title\":{\"text\":\"state2\"}},\"legend\":{\"tracegroupgap\":0},\"margin\":{\"t\":60}},                        {\"responsive\": true}                    ).then(function(){\n",
       "                            \n",
       "var gd = document.getElementById('010935a2-6df1-4d88-b2e7-de7a8abf000b');\n",
       "var x = new MutationObserver(function (mutations, observer) {{\n",
       "        var display = window.getComputedStyle(gd).display;\n",
       "        if (!display || display === 'none') {{\n",
       "            console.log([gd, 'removed!']);\n",
       "            Plotly.purge(gd);\n",
       "            observer.disconnect();\n",
       "        }}\n",
       "}});\n",
       "\n",
       "// Listen for the removal of the full notebook cells\n",
       "var notebookContainer = gd.closest('#notebook-container');\n",
       "if (notebookContainer) {{\n",
       "    x.observe(notebookContainer, {childList: true});\n",
       "}}\n",
       "\n",
       "// Listen for the clearing of the current output cell\n",
       "var outputEl = gd.closest('.output');\n",
       "if (outputEl) {{\n",
       "    x.observe(outputEl, {childList: true});\n",
       "}}\n",
       "\n",
       "                        })                };                });            </script>        </div>"
      ]
     },
     "metadata": {},
     "output_type": "display_data"
    }
   ],
   "source": [
    "State_1 = 0\n",
    "State_2 = 1\n",
    "\n",
    "merge = pd.DataFrame()\n",
    "merge['state1'] = daily_returns_pct.T.loc[crypto_list, result_time_lists[State_1]].mean(axis=1)\n",
    "merge['state2'] = daily_returns_pct.T.loc[crypto_list, result_time_lists[State_2]].mean(axis=1)\n",
    "merge.reset_index(inplace=True)\n",
    "merge['size'] = 100 / (merge.index + 2)\n",
    "merge.dropna(axis=0, how='any', inplace=True)\n",
    "\n",
    "df = px.data.iris() # iris is a pandas DataFrame\n",
    "fig = px.scatter(merge, x=\"state1\", y=\"state2\", hover_data=['index'])\n",
    "\n",
    "#color_sequence = sns.color_palette(\"husl\", len(result_lists)).as_hex()\n",
    "#mapping = {crypto: color_sequence[dict_clusters[crypto]] for crypto in crypto_list}\n",
    "#colors = [mapping[c] for c in list(merge['index'])]\n",
    "\n",
    "#fig.update_traces(marker=dict(color=colors))\n",
    "fig.show()"
   ]
  },
  {
   "cell_type": "code",
   "execution_count": 863,
   "id": "b679979554ad8d0a",
   "metadata": {
    "ExecuteTime": {
     "end_time": "2023-12-30T21:05:12.282317Z",
     "start_time": "2023-12-30T21:05:12.244518Z"
    },
    "collapsed": false
   },
   "outputs": [],
   "source": [
    "all_times_list = list(dict_clusters_time.values())\n",
    "\n",
    "transitions_count = {}\n",
    "\n",
    "for i in range(len(all_times_list) - 1):\n",
    "    current_state = all_times_list[i]\n",
    "    next_state = all_times_list[i + 1]\n",
    "    transition = (current_state, next_state)\n",
    "\n",
    "    # Update the count in the dictionary\n",
    "    transitions_count[transition] = transitions_count.get(transition, 0) + 1"
   ]
  },
  {
   "cell_type": "code",
   "execution_count": 864,
   "id": "4737c3771bbd497c",
   "metadata": {
    "ExecuteTime": {
     "end_time": "2023-12-30T21:05:13.174728Z",
     "start_time": "2023-12-30T21:05:13.101174Z"
    },
    "collapsed": false
   },
   "outputs": [
    {
     "name": "stdout",
     "output_type": "stream",
     "text": [
      "Transition Matrix:\n",
      "Next State      0  1  2   3   4   5  6  7  8\n",
      "Current State                               \n",
      "0              11  5  3   3   6  10  3  2  0\n",
      "1               5  8  1   3   3   2  0  3  2\n",
      "2               2  2  4   1   0   7  2  1  0\n",
      "3               6  1  0  15   5   3  7  1  2\n",
      "4               2  2  1   3  13   5  2  4  4\n",
      "5               7  3  7   8   3  15  3  5  5\n",
      "6               2  1  1   5   2   5  7  1  2\n",
      "7               2  2  2   1   4   5  0  8  2\n",
      "8               5  3  0   1   0   4  2  2  2\n",
      "\n",
      "Transition Probabilities:\n",
      "Next State            0         1         2         3         4         5  \\\n",
      "Current State                                                               \n",
      "0              0.255814  0.116279  0.069767  0.069767  0.139535  0.232558   \n",
      "1              0.185185  0.296296  0.037037  0.111111  0.111111  0.074074   \n",
      "2              0.105263  0.105263  0.210526  0.052632  0.000000  0.368421   \n",
      "3              0.150000  0.025000  0.000000  0.375000  0.125000  0.075000   \n",
      "4              0.055556  0.055556  0.027778  0.083333  0.361111  0.138889   \n",
      "5              0.125000  0.053571  0.125000  0.142857  0.053571  0.267857   \n",
      "6              0.076923  0.038462  0.038462  0.192308  0.076923  0.192308   \n",
      "7              0.076923  0.076923  0.076923  0.038462  0.153846  0.192308   \n",
      "8              0.263158  0.157895  0.000000  0.052632  0.000000  0.210526   \n",
      "\n",
      "Next State            6         7         8  \n",
      "Current State                                \n",
      "0              0.069767  0.046512  0.000000  \n",
      "1              0.000000  0.111111  0.074074  \n",
      "2              0.105263  0.052632  0.000000  \n",
      "3              0.175000  0.025000  0.050000  \n",
      "4              0.055556  0.111111  0.111111  \n",
      "5              0.053571  0.089286  0.089286  \n",
      "6              0.269231  0.038462  0.076923  \n",
      "7              0.000000  0.307692  0.076923  \n",
      "8              0.105263  0.105263  0.105263  \n"
     ]
    }
   ],
   "source": [
    "# Convert the transitions_count dictionary to a DataFrame\n",
    "df_transitions = pd.DataFrame(list(transitions_count.items()), columns=['Transition', 'Count'])\n",
    "\n",
    "# Extract current and next states into separate columns\n",
    "df_transitions[['Current State', 'Next State']] = pd.DataFrame(df_transitions['Transition'].tolist(), index=df_transitions.index)\n",
    "\n",
    "# Drop the original 'Transition' column\n",
    "df_transitions = df_transitions.drop(columns=['Transition'])\n",
    "\n",
    "# Create a pivot table to get the counts in matrix form\n",
    "transition_matrix = df_transitions.pivot_table(index='Current State', columns='Next State', values='Count', fill_value=0)\n",
    "\n",
    "# Normalize the counts to get probabilities\n",
    "transition_matrix_prob = transition_matrix.div(transition_matrix.sum(axis=1), axis=0)\n",
    "\n",
    "# Display the transition matrix and probabilities\n",
    "print(\"Transition Matrix:\")\n",
    "print(transition_matrix)\n",
    "print(\"\\nTransition Probabilities:\")\n",
    "print(transition_matrix_prob)"
   ]
  },
  {
   "cell_type": "code",
   "execution_count": 865,
   "id": "f736e4353c4c2447",
   "metadata": {
    "ExecuteTime": {
     "end_time": "2023-12-30T21:05:14.881213Z",
     "start_time": "2023-12-30T21:05:14.018552Z"
    },
    "collapsed": false
   },
   "outputs": [
    {
     "data": {
      "image/png": "[encoded data removed]",
      "text/plain": [
       "<Figure size 640x480 with 2 Axes>"
      ]
     },
     "metadata": {},
     "output_type": "display_data"
    }
   ],
   "source": [
    "transition_matrix = transition_matrix_prob\n",
    "\n",
    "#heatmap_figsize=(36,12)\n",
    "ticks = np.arange(0.5, len(transition_matrix), 1)\n",
    "\n",
    "\n",
    "communities_name = range(len(transition_matrix))\n",
    "\n",
    "# Heatmap of the ratio of votes across communities\n",
    "#plt.figure(figsize=heatmap_figsize)\n",
    "sns.heatmap(transition_matrix, cmap=\"Blues\", annot=True, fmt=\".2f\", linewidths=.5, linecolor=\"black\")\n",
    "plt.title(\"Transition probabilities\",size=15, fontweight='bold', y=1.02)\n",
    "plt.xlabel(\"Next State\", size=10, fontweight='bold')\n",
    "plt.ylabel(\"Current State\", size=10, fontweight='bold')\n",
    "plt.xticks(ticks=ticks,labels=communities_name)\n",
    "plt.yticks(ticks=ticks, labels=communities_name, rotation='horizontal')\n",
    "plt.show()"
   ]
  },
  {
   "cell_type": "code",
   "execution_count": 866,
   "id": "509b1057c0963272",
   "metadata": {
    "ExecuteTime": {
     "end_time": "2023-12-30T21:05:18.911100Z",
     "start_time": "2023-12-30T21:05:14.878985Z"
    },
    "collapsed": false
   },
   "outputs": [
    {
     "data": {
      "image/png": "[encoded data removed]",
      "text/plain": [
       "<Figure size 1000x400 with 2 Axes>"
      ]
     },
     "metadata": {},
     "output_type": "display_data"
    }
   ],
   "source": [
    "df = pd.DataFrame(list(dict_clusters_time.items()), columns=['Date', 'Value'])\n",
    "df\n",
    "df_btc = daily_prices.loc[:, ['Bitcoin']].reset_index()\n",
    "# Create figure and plot space\n",
    "fig, ax1 = plt.subplots(figsize=(10, 4))\n",
    "\n",
    "# Add x-axis and y-axis\n",
    "ax1.scatter(df['Date'],\n",
    "           df['Value'],\n",
    "           color='purple',\n",
    "           s=1)\n",
    "\n",
    "# Set title and labels for axes\n",
    "ax1.set(xlabel=\"Date\",\n",
    "       ylabel=\"State\",\n",
    "       title=\"States and bitcoin price\")\n",
    "\n",
    "ax2 = ax1.twinx()\n",
    "ax2.plot(df_btc['index'], df_btc['Bitcoin'], color='orange', label='Bitcoin Price')\n",
    "ax2.set_ylabel(\"Bitcoin Price\", color='orange')\n",
    "\n",
    "plt.show()"
   ]
  },
  {
   "cell_type": "code",
   "execution_count": null,
   "id": "6391f94e6b0430d4",
   "metadata": {
    "collapsed": false
   },
   "outputs": [],
   "source": []
  }
 ],
 "metadata": {
  "kernelspec": {
   "display_name": ".venv",
   "language": "python",
   "name": "python3"
  },
  "language_info": {
   "codemirror_mode": {
    "name": "ipython",
    "version": 2
   },
   "file_extension": ".py",
   "mimetype": "text/x-python",
   "name": "python",
   "nbconvert_exporter": "python",
   "pygments_lexer": "ipython2",
   "version": "3.11.6"
  }
 },
 "nbformat": 4,
 "nbformat_minor": 5
}
