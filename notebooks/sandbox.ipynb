{
 "cells": [
  {
   "cell_type": "code",
   "execution_count": 12,
   "metadata": {},
   "outputs": [],
   "source": [
    "import requests\n",
    "import pandas as pd"
   ]
  },
  {
   "cell_type": "code",
   "execution_count": 7,
   "metadata": {},
   "outputs": [],
   "source": [
    "token = \"bitcoin\"\n",
    "url = f\"https://api.coingecko.com/api/v3/coins/{token}/market_chart\"\n",
    "data = {\"vs_currency\": \"usd\", \"days\": \"max\"}\n",
    "headers = {'Content-type':'application/json'}       "
   ]
  },
  {
   "cell_type": "code",
   "execution_count": 8,
   "metadata": {},
   "outputs": [],
   "source": [
    "response = requests.get(url, headers=headers, params=data)"
   ]
  },
  {
   "cell_type": "code",
   "execution_count": 30,
   "metadata": {},
   "outputs": [],
   "source": [
    "df = pd.DataFrame(index=[pd.to_datetime(x[0], unit='ms') for x in response.json()['prices']], dtype=float)\n",
    "df['prices'] = [x[1] for x in response.json()['prices']]\n",
    "df['volumes'] = [x[1] for x in response.json()['total_volumes']]\n",
    "df['market_caps'] = [x[1] for x in response.json()['market_caps']]"
   ]
  },
  {
   "cell_type": "code",
   "execution_count": 35,
   "metadata": {},
   "outputs": [
    {
     "data": {
      "text/html": [
       "<div>\n",
       "<style scoped>\n",
       "    .dataframe tbody tr th:only-of-type {\n",
       "        vertical-align: middle;\n",
       "    }\n",
       "\n",
       "    .dataframe tbody tr th {\n",
       "        vertical-align: top;\n",
       "    }\n",
       "\n",
       "    .dataframe thead th {\n",
       "        text-align: right;\n",
       "    }\n",
       "</style>\n",
       "<table border=\"1\" class=\"dataframe\">\n",
       "  <thead>\n",
       "    <tr style=\"text-align: right;\">\n",
       "      <th></th>\n",
       "      <th>prices</th>\n",
       "      <th>volumes</th>\n",
       "      <th>market_caps</th>\n",
       "    </tr>\n",
       "  </thead>\n",
       "  <tbody>\n",
       "    <tr>\n",
       "      <th>2013-04-28 00:00:00</th>\n",
       "      <td>135.300000</td>\n",
       "      <td>0.000000e+00</td>\n",
       "      <td>1.500518e+09</td>\n",
       "    </tr>\n",
       "    <tr>\n",
       "      <th>2013-04-29 00:00:00</th>\n",
       "      <td>141.960000</td>\n",
       "      <td>0.000000e+00</td>\n",
       "      <td>1.575032e+09</td>\n",
       "    </tr>\n",
       "    <tr>\n",
       "      <th>2013-04-30 00:00:00</th>\n",
       "      <td>135.300000</td>\n",
       "      <td>0.000000e+00</td>\n",
       "      <td>1.501657e+09</td>\n",
       "    </tr>\n",
       "    <tr>\n",
       "      <th>2013-05-01 00:00:00</th>\n",
       "      <td>117.000000</td>\n",
       "      <td>0.000000e+00</td>\n",
       "      <td>1.298952e+09</td>\n",
       "    </tr>\n",
       "    <tr>\n",
       "      <th>2013-05-02 00:00:00</th>\n",
       "      <td>103.430000</td>\n",
       "      <td>0.000000e+00</td>\n",
       "      <td>1.148668e+09</td>\n",
       "    </tr>\n",
       "    <tr>\n",
       "      <th>...</th>\n",
       "      <td>...</td>\n",
       "      <td>...</td>\n",
       "      <td>...</td>\n",
       "    </tr>\n",
       "    <tr>\n",
       "      <th>2023-11-27 00:00:00</th>\n",
       "      <td>37491.838186</td>\n",
       "      <td>1.022911e+10</td>\n",
       "      <td>7.333768e+11</td>\n",
       "    </tr>\n",
       "    <tr>\n",
       "      <th>2023-11-28 00:00:00</th>\n",
       "      <td>37250.169051</td>\n",
       "      <td>1.797913e+10</td>\n",
       "      <td>7.280402e+11</td>\n",
       "    </tr>\n",
       "    <tr>\n",
       "      <th>2023-11-29 00:00:00</th>\n",
       "      <td>37802.236044</td>\n",
       "      <td>1.971554e+10</td>\n",
       "      <td>7.388169e+11</td>\n",
       "    </tr>\n",
       "    <tr>\n",
       "      <th>2023-11-30 00:00:00</th>\n",
       "      <td>37810.346417</td>\n",
       "      <td>2.096455e+10</td>\n",
       "      <td>7.404945e+11</td>\n",
       "    </tr>\n",
       "    <tr>\n",
       "      <th>2023-11-30 00:39:59</th>\n",
       "      <td>37831.535285</td>\n",
       "      <td>1.595715e+10</td>\n",
       "      <td>7.389314e+11</td>\n",
       "    </tr>\n",
       "  </tbody>\n",
       "</table>\n",
       "<p>3868 rows × 3 columns</p>\n",
       "</div>"
      ],
      "text/plain": [
       "                           prices       volumes   market_caps\n",
       "2013-04-28 00:00:00    135.300000  0.000000e+00  1.500518e+09\n",
       "2013-04-29 00:00:00    141.960000  0.000000e+00  1.575032e+09\n",
       "2013-04-30 00:00:00    135.300000  0.000000e+00  1.501657e+09\n",
       "2013-05-01 00:00:00    117.000000  0.000000e+00  1.298952e+09\n",
       "2013-05-02 00:00:00    103.430000  0.000000e+00  1.148668e+09\n",
       "...                           ...           ...           ...\n",
       "2023-11-27 00:00:00  37491.838186  1.022911e+10  7.333768e+11\n",
       "2023-11-28 00:00:00  37250.169051  1.797913e+10  7.280402e+11\n",
       "2023-11-29 00:00:00  37802.236044  1.971554e+10  7.388169e+11\n",
       "2023-11-30 00:00:00  37810.346417  2.096455e+10  7.404945e+11\n",
       "2023-11-30 00:39:59  37831.535285  1.595715e+10  7.389314e+11\n",
       "\n",
       "[3868 rows x 3 columns]"
      ]
     },
     "execution_count": 35,
     "metadata": {},
     "output_type": "execute_result"
    }
   ],
   "source": [
    "df"
   ]
  },
  {
   "cell_type": "code",
   "execution_count": null,
   "metadata": {},
   "outputs": [],
   "source": []
  }
 ],
 "metadata": {
  "kernelspec": {
   "display_name": "venv",
   "language": "python",
   "name": "python3"
  },
  "language_info": {
   "codemirror_mode": {
    "name": "ipython",
    "version": 3
   },
   "file_extension": ".py",
   "mimetype": "text/x-python",
   "name": "python",
   "nbconvert_exporter": "python",
   "pygments_lexer": "ipython3",
   "version": "3.11.6"
  }
 },
 "nbformat": 4,
 "nbformat_minor": 2
}
