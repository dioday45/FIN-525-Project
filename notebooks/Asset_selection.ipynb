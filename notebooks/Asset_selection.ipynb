{
 "cells": [
  {
   "cell_type": "markdown",
   "id": "40ddf6c3",
   "metadata": {},
   "source": [
    "# Asset finding\n",
    "In this notebook we select the different asset (cryptocurrency ID) that we want to be part of our assessment"
   ]
  },
  {
   "cell_type": "code",
   "execution_count": 9,
   "id": "0ae13f42",
   "metadata": {},
   "outputs": [],
   "source": [
    "import json\n",
    "import csv"
   ]
  },
  {
   "cell_type": "code",
   "execution_count": 10,
   "id": "19799e41",
   "metadata": {},
   "outputs": [
    {
     "name": "stdout",
     "output_type": "stream",
     "text": [
      "Symbols:  ['btc', 'eth', 'usdt', 'bnb', 'xrp', 'sol', 'usdc', 'steth', 'ada', 'doge', 'trx', 'link', 'ton', 'avax', 'matic', 'dot', 'wbtc', 'dai', 'ltc', 'shib', 'uni', 'bch', 'leo', 'okb', 'xlm', 'xmr', 'kas', 'tusd', 'atom', 'etc', 'cro', 'fil', 'icp', 'ldo', 'rune', 'hbar', 'apt', 'near', 'imx', 'mnt', 'busd', 'tao', 'vet', 'op', 'inj', 'aave', 'qnt', 'mkr', 'grt', 'arb', 'rndr', 'reth', 'tia', 'egld', 'snx', 'algo', 'stx', 'theta', 'flow', 'fdusd', 'bsv', 'ftm', 'sand', 'axs', 'iota', 'mana', 'wemix', 'lunc', 'neo', 'wbt', 'eos', 'kcs', 'kava', 'xtz', 'mina', 'gala', 'bgb', 'usdd', 'ilv', 'xdc', 'frax', 'pyth', 'sui', 'frxeth', 'klay', 'tkx', 'cheel', 'ethdydx', 'ape', 'fxs', 'gt', 'xec', 'blur', 'fet', 'xrd', 'ar', 'cfx', 'rpl', 'cake', 'rlb', 'crv', 'gas', 'beam', 'gno', 'chz', 'xaut', 'ordi', 'twt', 'ceth', 'pepe', 'ustc', 'luna', 'gmx', 'paxg', 'sfrxeth', 'cwbtc', 'sei', 'btt', 'ht', 'usdp', 'zec', 'osmo', 'cbeth', 'nexo', 'hnt', 'rose', 'kuji', 'flr', 'woo', 'cspr', 'agix', 'akt', 'msol', 'zil', 'astr', 'gmt', 'hbtc', '1inch', 'elf', 'dash', 'axl', 'comp', 'zrx', 'bat', 'floki', 'xem', 'qtum', 'nft', 'azero', 'ron', 'tfuel', 'cvx', 'mx', 'enj', 'sc', 'ethw', 'celo', 'yfi', 'mask', 'sfp', 'wld', 'btg', 'hot', 'jst', 'ocean', 'lrc', 'stsol', 'bdx', 'rbn', 'ens', 'bonk', 'nxm', 'ankr', 'jasmy', 'meme', 'cfg', 'wcfg', 'okt', 'icx', 'ftn', 'prime', 'sushi', 'xch', 'glm', 'iotx', 'ksm', 'elg', 'dcr', 'audio', 'rvn', 'glmr', 'skl', 'canto', 'waves', 'magic', 'ant', 'waxp', 'lyx', 'sxp', 'trac', 'dfi', 'bal', 'ont', 'trb', 'tomi', 'fnsa', 'band', 'dexe', 'ark', 'ohm', 'bico', 'corgiai', 'lusd', 'borg', 'lpt', 'olas', 'polyx', 'dao', 'flux', 'aioz', 'bone', 'babydoge', 'tel', 'iost', 'ssv', 'lsk', 'poly', 'pokt', 'one', 'snt', 'omi', 'strax', 'super', 'alusd', 'savax', 'mkusd', 'mpl', 'cdai', 'pyusd', 'pyr', 'kda', 'wbeth', 'api3', 'gusd', 'ong', 'joe', 'seth2', 'zen', 'edu', 'polis', 'gal', 'cusdc', 'orca', 'uma', 'loom', 'rsr', 'btc.b', 'orbs', 'bora', 'crvusd', 'tribe', 'amp', 'sure', 'lqty', 'ewt', 'vvs', 'cdt', 'btse', 'eurs', 'hive', 'naka', 'kub', 'sfund', 'pundix', 'c98', 'dgb', 'sidus', 'strd', 'dka', 'shdw', 'wild', 'stpt', 'gns', 'cqt', 'hook', 'gat', 'mc', 'stg', 'ctsi', 'pla', 'powr', 'deso', 'steem', 'krd', 'eusd', 'rlc', 'rif', 'brise', 'mlk', 'ygg', 'xvs', 'lyxe', 'knc', 'vrsc', 'vic', 'ray', 'stbt', 'mtl', 'blz', 'storj', 'nxra', 'ckb', 'cel', 'bnt', 'del', 'atlas', 'dag', 'pendle', 'iq', 'gods', 'sweth', 'astrafer', 'vtho', 'nu', 'mvl', 'gfi', 'uqc', 'nym', 'ach', 'ton', 'slp', 'flip', 'med', 'xno', 'loomold', 'fx', '0x0', 'ardr', 'scrt', 'rdnt', 'nmr', 'sdex', 'xyo', 'erg', 'ultima', 'mbl', 'pond', 'cet', 'paal', 'ox', 'metis', 'alice', 'kwenta', 'omg', 'tvk', 'elon', 'heart', 'kag', 'core', 'stmx', 'cvc', 'zeph', 'sys', 'unfi', 'sweat', 'kau', 'bitcoin', 'maticx', 'celr', 'wnxm', 'bld', 'myria', 'aergo', 'gel', 'arkm', 'ethx', 'prom', 'rare', 'dodo', 'dent', 'vra', 'oeth', 'id', 'syn', 'hunt', 'alpha', 'meta', 'hifi', 'vita', 'rad', 'auction', 'chr', 'badger', '10set', 'hxro', 'qkc', 'nrv', 'emaid', 'aury', 'rss3', 'orai', 'acs', 'lyra', 'mura', 'spell', 'dnx', 'qanx', 'gfal', 'mav', 'bfc', 'ali', 'mrs', 'nkn', 'ctxc', 'ctk', 'coti', 'vega', 'sbd', 'unibot', 'wmt', 'dusk', 'cyber', 'dock', 'pha', 'cbk', 'uos', 'shr', 'flex', 'sgb', 'pcx', 'trac', 'hello', 'gtc', 'win', 'exrd', 'ctc', 'thor', 'vno', 'ogn', 'agld', 'req', 'vrtx', 'vr', 'clore', 'people', 'keep', 'ator', 'eul', 'mbox', 'raca', 'looks', 'oas', 'gmt', 'mbx', 'gafi', 'tara', 'sx', 'lina', 'tbtc', 'tru', 'mnde', 'lon', 'ren', 'dora', 'nexa', 'alex', 'slnd', 'ssx', 'hez', 'movr', 'tlm', 'sun', 'hft', 'cre', 'mft', 'xvg', 'crown', 'strk', 'eurc', 'ult', 'wrx', 'ampl', 'gf', 'lcx', 'pol', 'solo', 'route', 'bfic', 'boba', 'fct', 'tet', 'fidu', 'copi', 'dext', 'combo', 'ankreth', 'bzr', 'aurora', 'cweb', 'uwu']\n",
      "IDs:  ['bitcoin', 'ethereum', 'tether', 'binancecoin', 'ripple', 'solana', 'usd-coin', 'staked-ether', 'cardano', 'dogecoin', 'tron', 'chainlink', 'the-open-network', 'avalanche-2', 'matic-network', 'polkadot', 'wrapped-bitcoin', 'dai', 'litecoin', 'shiba-inu', 'uniswap', 'bitcoin-cash', 'leo-token', 'okb', 'stellar', 'monero', 'kaspa', 'true-usd', 'cosmos', 'ethereum-classic', 'crypto-com-chain', 'filecoin', 'internet-computer', 'lido-dao', 'thorchain', 'hedera-hashgraph', 'aptos', 'near', 'immutable-x', 'mantle', 'binance-usd', 'bittensor', 'vechain', 'optimism', 'injective-protocol', 'aave', 'quant-network', 'maker', 'the-graph', 'arbitrum', 'render-token', 'rocket-pool-eth', 'celestia', 'elrond-erd-2', 'havven', 'algorand', 'blockstack', 'theta-token', 'flow', 'first-digital-usd', 'bitcoin-cash-sv', 'fantom', 'the-sandbox', 'axie-infinity', 'iota', 'decentraland', 'wemix-token', 'terra-luna', 'neo', 'whitebit', 'eos', 'kucoin-shares', 'kava', 'tezos', 'mina-protocol', 'gala', 'bitget-token', 'usdd', 'illuvium', 'xdce-crowd-sale', 'frax', 'pyth-network', 'sui', 'frax-ether', 'klay-token', 'tokenize-xchange', 'cheelee', 'dydx', 'apecoin', 'frax-share', 'gatechain-token', 'ecash', 'blur', 'fetch-ai', 'radix', 'arweave', 'conflux-token', 'rocket-pool', 'pancakeswap-token', 'rollbit-coin', 'curve-dao-token', 'gas', 'beam-2', 'gnosis', 'chiliz', 'tether-gold', 'ordinals', 'trust-wallet-token', 'compound-ether', 'pepe', 'terrausd', 'terra-luna-2', 'gmx', 'pax-gold', 'staked-frax-ether', 'compound-wrapped-btc', 'sei-network', 'bittorrent', 'huobi-token', 'paxos-standard', 'zcash', 'osmosis', 'coinbase-wrapped-staked-eth', 'nexo', 'helium', 'oasis-network', 'kujira', 'flare-networks', 'woo-network', 'casper-network', 'singularitynet', 'akash-network', 'msol', 'zilliqa', 'astar', 'stepn', 'huobi-btc', '1inch', 'aelf', 'dash', 'axelar', 'compound-governance-token', '0x', 'basic-attention-token', 'floki', 'nem', 'qtum', 'apenft', 'aleph-zero', 'ronin', 'theta-fuel', 'convex-finance', 'mx-token', 'enjincoin', 'siacoin', 'ethereum-pow-iou', 'celo', 'yearn-finance', 'mask-network', 'safepal', 'worldcoin-wld', 'bitcoin-gold', 'holotoken', 'just', 'ocean-protocol', 'loopring', 'lido-staked-sol', 'beldex', 'ribbon-finance', 'ethereum-name-service', 'bonk', 'nxm', 'ankr', 'jasmycoin', 'memecoin-2', 'centrifuge', 'wrapped-centrifuge', 'oec-token', 'icon', 'fasttoken', 'echelon-prime', 'sushi', 'chia', 'golem', 'iotex', 'kusama', 'escoin-token', 'decred', 'audius', 'ravencoin', 'moonbeam', 'skale', 'canto', 'waves', 'magic', 'aragon', 'wax', 'lukso-token-2', 'swipe', 'origintrail', 'defichain', 'balancer', 'ontology', 'tellor', 'tominet', 'link', 'band-protocol', 'dexe', 'ark', 'olympus', 'biconomy', 'corgiai', 'liquity-usd', 'swissborg', 'livepeer', 'autonolas', 'polymesh', 'dao-maker', 'zelcash', 'aioz-network', 'bone-shibaswap', 'baby-doge-coin', 'telcoin', 'iostoken', 'ssv-network', 'lisk', 'polymath', 'pocket-network', 'harmony', 'status', 'ecomi', 'stratis', 'superfarm', 'alchemix-usd', 'benqi-liquid-staked-avax', 'prisma-mkusd', 'maple', 'cdai', 'paypal-usd', 'vulcan-forged', 'kadena', 'wrapped-beacon-eth', 'api3', 'gemini-dollar', 'ong', 'joe', 'seth2', 'zencash', 'edu-coin', 'star-atlas-dao', 'project-galaxy', 'compound-usd-coin', 'orca', 'uma', 'loom-network-new', 'reserve-rights-token', 'bitcoin-avalanche-bridged-btc-b', 'orbs', 'bora', 'crvusd', 'tribe-2', 'amp-token', 'insure', 'liquity', 'energy-web-token', 'vvs-finance', 'blox', 'btse-token', 'stasis-eurs', 'hive', 'nakamoto-games', 'bitkub-coin', 'seedify-fund', 'pundi-x-2', 'coin98', 'digibyte', 'sidus', 'stride', 'dkargo', 'genesysgo-shadow', 'wilder-world', 'stp-network', 'gains-network', 'covalent', 'hooked-protocol', 'gameai', 'merit-circle', 'stargate-finance', 'cartesi', 'playdapp', 'power-ledger', 'deso', 'steem', 'krypton-dao', 'eusd-new', 'iexec-rlc', 'rif-token', 'bitrise-token', 'milk-alliance', 'yield-guild-games', 'venus', 'lukso-token', 'kyber-network-crystal', 'verus-coin', 'tomochain', 'raydium', 'short-term-t-bill-token', 'metal', 'bluzelle', 'storj', 'allianceblock-nexera', 'nervos-network', 'celsius-degree-token', 'bancor', 'decimal', 'star-atlas', 'constellation-labs', 'pendle', 'everipedia', 'gods-unchained', 'sweth', 'astrafer', 'vethor-token', 'nucypher', 'mass-vehicle-ledger', 'goldfinch', 'uquid-coin', 'nym', 'alchemy-pay', 'tokamak-network', 'smooth-love-potion', 'chainflip', 'medibloc', 'nano', 'loom-network', 'fx-coin', '0x0-ai-ai-smart-contract', 'ardor', 'secret', 'radiant-capital', 'numeraire', 'smardex', 'xyo-network', 'ergo', 'ultima', 'moviebloc', 'marlin', 'coinex-token', 'paal-ai', 'open-exchange-token', 'metis-token', 'my-neighbor-alice', 'kwenta', 'omisego', 'the-virtua-kolect', 'dogelon-mars', 'humans-ai', 'kinesis-silver', 'coredaoorg', 'storm', 'civic', 'zephyr-protocol', 'syscoin', 'unifi-protocol-dao', 'sweatcoin', 'kinesis-gold', 'harrypotterobamasonic10in', 'stader-maticx', 'celer-network', 'wrapped-nxm', 'agoric', 'myria', 'aergo', 'gelato', 'arkham', 'stader-ethx', 'prometeus', 'superrare', 'dodo', 'dent', 'verasity', 'origin-ether', 'space-id', 'synapse-2', 'hunt-token', 'alpha-finance', 'metadium', 'hifi-finance', 'vitadao', 'radicle', 'auction', 'chromaway', 'badger-dao', 'tenset', 'hxro', 'quark-chain', 'nerve-finance', 'maidsafecoin', 'aurory', 'rss3', 'oraichain-token', 'access-protocol', 'lyra-finance', 'murasaki', 'spell-token', 'dynex', 'qanplatform', 'games-for-a-living', 'maverick-protocol', 'bifrost', 'alethea-artificial-liquid-intelligence-token', 'metars-genesis', 'nkn', 'cortex', 'certik', 'coti', 'vega-protocol', 'steem-dollars', 'unibot', 'world-mobile-token', 'dusk-network', 'cyberconnect', 'dock', 'pha', 'cobak-token', 'ultra', 'sharering', 'flex-coin', 'songbird', 'chainx', 'trac', 'hello-labs', 'gitcoin', 'wink', 'e-radix', 'creditcoin-2', 'thorswap', 'veno-finance', 'origin-protocol', 'adventure-gold', 'request-network', 'vertex-protocol', 'victoria-vr', 'clore-ai', 'constitutiondao', 'keep-network', 'airtor-protocol', 'euler', 'mobox', 'radio-caca', 'looksrare', 'oasys', 'gmt-token', 'marblex', 'gamefi', 'taraxa', 'sx-network', 'linear', 'tbtc', 'truefi', 'marinade', 'tokenlon', 'republic-protocol', 'dora-factory-2', 'nexacoin', 'alexgo', 'solend', 'somesing', 'hermez-network-token', 'moonriver', 'alien-worlds', 'sun-token', 'hashflow', 'carry', 'mainframe', 'verge', 'crown-by-third-time-games', 'strike', 'euro-coin', 'shardus', 'wazirx', 'ampleforth', 'guildfi', 'lcx', 'polygon-ecosystem-token', 'solo-coin', 'route', 'bficoin', 'boba-network', 'firmachain', 'tectum', 'fidu', 'cornucopias', 'dextools', 'cocos-bcx', 'ankreth', 'bazaars', 'aurora-near', 'coinweb', 'uwu-lend']\n"
     ]
    }
   ],
   "source": [
    "# Specify the path to JSON file\n",
    "json_file_path_1 = '../data/raw/all_coins_by_mc_1.json'\n",
    "json_file_path_2 = '../data/raw/all_coins_by_mc_2.json'\n",
    "\n",
    "\n",
    "# Open the JSON file and load its contents\n",
    "with open(json_file_path_1, 'r') as file:\n",
    "    data = json.load(file)\n",
    "\n",
    "with open(json_file_path_2, 'r') as file:\n",
    "    data = data + json.load(file) # 'data' contains the contents of the JSON file\n",
    "    \n",
    "symbols_list = [stock[\"symbol\"] for stock in data]\n",
    "print(\"Symbols: \", symbols_list)\n",
    "\n",
    "id_list = [stock[\"id\"] for stock in data]\n",
    "print(\"IDs: \", id_list)"
   ]
  },
  {
   "cell_type": "code",
   "execution_count": 11,
   "id": "754623dd",
   "metadata": {},
   "outputs": [
    {
     "name": "stdout",
     "output_type": "stream",
     "text": [
      "The list has been saved to ../data/processed/id_coins.csv\n"
     ]
    }
   ],
   "source": [
    "# Specify the path to  CSV file\n",
    "csv_file_path = '../data/processed/id_coins.csv'\n",
    "\n",
    "# Open the CSV file in write mode\n",
    "with open(csv_file_path, 'w', newline='') as file:\n",
    "    # Create a CSV writer object\n",
    "    csv_writer = csv.writer(file)\n",
    "\n",
    "    # Write the list to the CSV file\n",
    "    csv_writer.writerow(id_list)\n",
    "\n",
    "print(f'The list has been saved to {csv_file_path}')"
   ]
  }
 ],
 "metadata": {
  "kernelspec": {
   "display_name": "Python 3 (ipykernel)",
   "language": "python",
   "name": "python3"
  },
  "language_info": {
   "codemirror_mode": {
    "name": "ipython",
    "version": 3
   },
   "file_extension": ".py",
   "mimetype": "text/x-python",
   "name": "python",
   "nbconvert_exporter": "python",
   "pygments_lexer": "ipython3",
   "version": "3.10.0"
  }
 },
 "nbformat": 4,
 "nbformat_minor": 5
}
